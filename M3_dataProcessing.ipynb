{
 "cells": [
  {
   "cell_type": "markdown",
   "metadata": {},
   "source": [
    "# M3. 데이터 처리와 가공\n",
    "- 파이썬 프로그래밍 기본문법 - 자료유형별 처리\n",
    "- 데이터 집계, 정렬\n",
    "- 데이터프레임(테이블) 집계 - 정렬, 추출, 병합, 데이터 정제\n",
    "<br><br>\n",
    "- **목표** : 다양한 데이터를 원하는 형태로 가공하는 방법 이해\n"
   ]
  },
  {
   "cell_type": "code",
   "execution_count": 1,
   "metadata": {},
   "outputs": [],
   "source": [
    "# 기본적으로 필요한 라이브러리 로딩\n",
    "\n",
    "import numpy as np\n",
    "import matplotlib.pyplot as plt\n",
    "import pandas as pd\n",
    "from numpy.polynomial.polynomial import polyfit\n",
    "\n",
    "\n",
    "# 자주 사용할만한 사용자 정의 함수 정의\n",
    "\n",
    "# define random jitter\n",
    "def rjitt(arr):\n",
    "    stdev = .01*(max(arr)-min(arr))\n",
    "    return arr + np.random.randn(len(arr)) * stdev\n",
    "\n",
    "def rjitt5(arr):\n",
    "    stdev = .07*(max(arr)-min(arr))\n",
    "    return arr + np.random.randn(len(arr)) * stdev\n",
    "\n",
    "# custom min max scaler\n",
    "def mnmx_scl(vec):\n",
    "    vec = (vec-vec.min())/(vec.max()-vec.min())\n",
    "    return(vec)\n",
    "\n",
    "\n",
    "import warnings\n",
    "# 경고 메시지 숨기기\n",
    "warnings.filterwarnings('ignore')\n",
    "\n",
    "\n",
    "\n",
    "# 데이터를 불러올 기본 위치 지정\n",
    "\n",
    "# local data path\n",
    "dataPath = 'D:/YONG/myPydata/' # 생성위치는 사용자 지정\n",
    "\n",
    "import matplotlib.font_manager\n",
    "\n",
    "    \n",
    "# matplotlib 에서 한글을 표시하기 위한 설정\n",
    "font_name = matplotlib.font_manager.FontProperties(\n",
    "                fname=\"c:/Windows/Fonts/malgun.ttf\"  # 윈도우즈의 한글 폰트 위치를 지정\n",
    "            ).get_name()\n",
    "matplotlib.rc('font', family=font_name)\n",
    "\n",
    "matplotlib.rcParams['axes.unicode_minus'] = False #  음수를 나타내는 '-' 부호가 정상 표시되도록\n"
   ]
  },
  {
   "cell_type": "code",
   "execution_count": null,
   "metadata": {},
   "outputs": [],
   "source": []
  },
  {
   "cell_type": "markdown",
   "metadata": {},
   "source": [
    "## 파이썬 프로그래밍 기본문법 이해"
   ]
  },
  {
   "cell_type": "markdown",
   "metadata": {},
   "source": [
    "### Variables"
   ]
  },
  {
   "cell_type": "code",
   "execution_count": 2,
   "metadata": {},
   "outputs": [
    {
     "name": "stdout",
     "output_type": "stream",
     "text": [
      "3\n",
      "3.1415926\n",
      "Python\n",
      "Python Python\n",
      "6.2831852\n"
     ]
    }
   ],
   "source": [
    "x = 3              # a whole number                   \n",
    "f = 3.1415926      # a floating point number              \n",
    "name = \"Python\"    # a string\n",
    "\n",
    "print(x)\n",
    "print(f)\n",
    "print(name)\n",
    "\n",
    "combination = name + \" \" + name\n",
    "print(combination)\n",
    "\n",
    "sum = f + f\n",
    "print(sum)"
   ]
  },
  {
   "cell_type": "code",
   "execution_count": 3,
   "metadata": {},
   "outputs": [
    {
     "name": "stdout",
     "output_type": "stream",
     "text": [
      "3 100\n"
     ]
    }
   ],
   "source": [
    "# 대소문자 여부에 따라 다른 변수로 인식\n",
    "\n",
    "x = 3\n",
    "X = 100\n",
    "print(x, X)"
   ]
  },
  {
   "cell_type": "markdown",
   "metadata": {},
   "source": [
    "### Numbers"
   ]
  },
  {
   "cell_type": "code",
   "execution_count": 4,
   "metadata": {},
   "outputs": [
    {
     "data": {
      "text/plain": [
       "4"
      ]
     },
     "execution_count": 4,
     "metadata": {},
     "output_type": "execute_result"
    }
   ],
   "source": [
    "x = 2\n",
    "x + x"
   ]
  },
  {
   "cell_type": "code",
   "execution_count": 5,
   "metadata": {},
   "outputs": [
    {
     "data": {
      "text/plain": [
       "-0.10000000000000009"
      ]
     },
     "execution_count": 5,
     "metadata": {},
     "output_type": "execute_result"
    }
   ],
   "source": [
    "x1 = 2.1\n",
    "x - x1"
   ]
  },
  {
   "cell_type": "code",
   "execution_count": 6,
   "metadata": {},
   "outputs": [
    {
     "data": {
      "text/plain": [
       "(int, float, str)"
      ]
     },
     "execution_count": 6,
     "metadata": {},
     "output_type": "execute_result"
    }
   ],
   "source": [
    "# 데이터 타입 체크\n",
    "\n",
    "type(x), type(x1), type('니트셔츠')"
   ]
  },
  {
   "cell_type": "code",
   "execution_count": 7,
   "metadata": {},
   "outputs": [
    {
     "data": {
      "text/plain": [
       "(8, 1.0717734625362931)"
      ]
     },
     "execution_count": 7,
     "metadata": {},
     "output_type": "execute_result"
    }
   ],
   "source": [
    "# 거듭제곱\n",
    "\n",
    "x**3 , x**0.1"
   ]
  },
  {
   "cell_type": "code",
   "execution_count": null,
   "metadata": {},
   "outputs": [],
   "source": []
  },
  {
   "cell_type": "markdown",
   "metadata": {},
   "source": [
    "### Strings"
   ]
  },
  {
   "cell_type": "code",
   "execution_count": 8,
   "metadata": {},
   "outputs": [
    {
     "name": "stdout",
     "output_type": "stream",
     "text": [
      "빈티지 regular fit 치노\n"
     ]
    }
   ],
   "source": [
    "x = \"빈티지 regular fit 치노\"\n",
    "print(x)"
   ]
  },
  {
   "cell_type": "code",
   "execution_count": 9,
   "metadata": {},
   "outputs": [
    {
     "name": "stdout",
     "output_type": "stream",
     "text": [
      "빈\n",
      "티\n"
     ]
    }
   ],
   "source": [
    "# index (순서번호) 0에서 부터 시작\n",
    "\n",
    "print(x[0])\n",
    "print(x[1])\n"
   ]
  },
  {
   "cell_type": "code",
   "execution_count": 10,
   "metadata": {},
   "outputs": [
    {
     "name": "stdout",
     "output_type": "stream",
     "text": [
      "빈티지\n",
      "빈티지\n"
     ]
    }
   ],
   "source": [
    "s = x[0:3]\n",
    "print(s)\n",
    "s = x[:3]\n",
    "print(s)"
   ]
  },
  {
   "cell_type": "code",
   "execution_count": 11,
   "metadata": {},
   "outputs": [
    {
     "name": "stdout",
     "output_type": "stream",
     "text": [
      "egula\n",
      "r fit 치노\n"
     ]
    }
   ],
   "source": [
    "s = x[5:10]\n",
    "print(s)\n",
    "s = x[10:]\n",
    "print(s)"
   ]
  },
  {
   "cell_type": "code",
   "execution_count": 12,
   "metadata": {},
   "outputs": [
    {
     "name": "stdout",
     "output_type": "stream",
     "text": [
      "빈티지 regular fit 치노\n",
      "어젠 산 것은 7 제품인데, 어때?\n",
      "어젠 산 것은 빈티지 regular fit 치노인데, 어때?\n",
      "빈  ~  노\n",
      "빈티지\n"
     ]
    }
   ],
   "source": [
    "x = \"빈티지 regular fit 치노\"\n",
    "print(x)\n",
    "\n",
    "# Combine numbers and text\n",
    "s = \"어젠 산 것은 %d 제품인데, 어때?\" %7\n",
    "print(s)\n",
    "\n",
    "# alternative method of combining numbers and text\n",
    "s = \"어젠 산 것은 \" + x + \"인데, 어때?\"\n",
    "print(s)\n",
    "\n",
    "# print character by index\n",
    "print(x[0], ' ~ ', x[len(x)-1])\n",
    "\n",
    "# print piece of string\n",
    "print(x[0:3])"
   ]
  },
  {
   "cell_type": "code",
   "execution_count": 13,
   "metadata": {},
   "outputs": [
    {
     "name": "stdout",
     "output_type": "stream",
     "text": [
      "빈티지 레귤라 fit 치노\n"
     ]
    }
   ],
   "source": [
    "x = \"빈티지 regular fit 치노\"\n",
    "x = x.replace(\"regular\",\"레귤라\")\n",
    "print(x)"
   ]
  },
  {
   "cell_type": "code",
   "execution_count": 14,
   "metadata": {},
   "outputs": [
    {
     "name": "stdout",
     "output_type": "stream",
     "text": [
      "빈티지 레귤라 핏 - regular 치노\n"
     ]
    }
   ],
   "source": [
    "# 숫자를 지정하면 전체가 아닌 지정한 갯수만큼만 바꿈\n",
    "# default는 1 하나만 바꿈\n",
    "\n",
    "x = \"빈티지 regular fit - regular 치노\"\n",
    "x = x.replace(\"regular\",\"레귤라\",1)\n",
    "x = x.replace(\"fit\",\"핏\")\n",
    "print(x)"
   ]
  },
  {
   "cell_type": "code",
   "execution_count": 15,
   "metadata": {},
   "outputs": [
    {
     "name": "stdout",
     "output_type": "stream",
     "text": [
      "Taydey A-Line Pleated Vintage Skirts for Women Small Yellow Flower 3X-Large\n"
     ]
    }
   ],
   "source": [
    "# define strings                                                         \n",
    "itemName = \"Taydey A-Line Pleated Vintage Skirts for Women\"\n",
    "itemColor = \"Small Yellow Flower\"\n",
    "itemSize = \"3X-Large\"\n",
    "\n",
    "# define our sequence                                                    \n",
    "sequence = (itemName,itemColor, itemSize)\n",
    "\n",
    "# join into new string                                                   \n",
    "name = \" \".join(sequence)\n",
    "print(name)"
   ]
  },
  {
   "cell_type": "markdown",
   "metadata": {},
   "source": [
    "**Taydey A-Line Pleated Vintage Skirts for Women** ... ?\n",
    "\n",
    "https://www.amazon.com/Taydey-Pleated-Vintage-Skirts-Yellow/dp/B07Z4W4JX3/ref=sr_1_1_sspa?crid=H2ZBM1366L1O&keywords=skirt&qid=1649496921&sprefix=skir%2Caps%2C260&sr=8-1-spons&psc=1&spLa=ZW5jcnlwdGVkUXVhbGlmaWVyPUFQOEZNM0NXSlREQ0wmZW5jcnlwdGVkSWQ9QTAyOTUwMDgyTE8wWlI0MFU0TVZGJmVuY3J5cHRlZEFkSWQ9QTAyODcxODgzRk8yVkQzN01SNUpTJndpZGdldE5hbWU9c3BfYXRmJmFjdGlvbj1jbGlja1JlZGlyZWN0JmRvTm90TG9nQ2xpY2s9dHJ1ZQ== "
   ]
  },
  {
   "cell_type": "code",
   "execution_count": null,
   "metadata": {},
   "outputs": [],
   "source": []
  },
  {
   "attachments": {
    "image.png": {
     "image/png": "[encoded data removed]"
    }
   },
   "cell_type": "markdown",
   "metadata": {},
   "source": [
    "#### 참고: camel casing \n",
    "- 첫단어는 소문자로 시작하고 다음 단어들은 대문자로 시작하는 방식\n",
    "- 머리만 작다 (=camel)\n",
    "- 변수명에서 붙여쓰기를 해도 읽기 편하도록\n",
    "\n",
    "![image.png](attachment:image.png)"
   ]
  },
  {
   "cell_type": "code",
   "execution_count": 16,
   "metadata": {},
   "outputs": [
    {
     "name": "stdout",
     "output_type": "stream",
     "text": [
      "How are you doing ?\n"
     ]
    }
   ],
   "source": [
    "words = [\"How\",\"are\",\"you\",\"doing\",\"?\"]\n",
    "sentence = ' '.join(words)\n",
    "print(sentence)"
   ]
  },
  {
   "cell_type": "code",
   "execution_count": null,
   "metadata": {},
   "outputs": [],
   "source": []
  },
  {
   "cell_type": "code",
   "execution_count": 17,
   "metadata": {},
   "outputs": [],
   "source": [
    "name = \" \".join(sequence)"
   ]
  },
  {
   "cell_type": "code",
   "execution_count": 18,
   "metadata": {},
   "outputs": [
    {
     "name": "stdout",
     "output_type": "stream",
     "text": [
      "['Taydey', 'A-Line', 'Pleated', 'Vintage', 'Skirts', 'for', 'Women', 'Small', 'Yellow', 'Flower', '3X-Large']\n"
     ]
    }
   ],
   "source": [
    "name\n",
    "words = name.split()\n",
    "print(words)\n"
   ]
  },
  {
   "cell_type": "code",
   "execution_count": 19,
   "metadata": {},
   "outputs": [
    {
     "name": "stdout",
     "output_type": "stream",
     "text": [
      "11\n",
      "75\n"
     ]
    }
   ],
   "source": [
    "print(len(words)) # 단어수\n",
    "print(len(name))  # 글자수"
   ]
  },
  {
   "cell_type": "code",
   "execution_count": 20,
   "metadata": {},
   "outputs": [
    {
     "name": "stdout",
     "output_type": "stream",
     "text": [
      "['E', 'a', 's', 'y']\n"
     ]
    }
   ],
   "source": [
    "word = \"Easy\"\n",
    "x = list(word)\n",
    "print(x)"
   ]
  },
  {
   "cell_type": "markdown",
   "metadata": {},
   "source": [
    "### Random"
   ]
  },
  {
   "cell_type": "code",
   "execution_count": 21,
   "metadata": {},
   "outputs": [
    {
     "name": "stdout",
     "output_type": "stream",
     "text": [
      "0.40669226164261163\n",
      "1\n",
      "5.283177117109718\n"
     ]
    }
   ],
   "source": [
    "import random\n",
    "\n",
    "# Create a random floating point number and print it.\n",
    "print(random.random())\n",
    "\n",
    "# pick a random whole number between 0 and 10.\n",
    "print(random.randrange(0,10))\n",
    "\n",
    "# pick a random floating point number between 0 and 10.\n",
    "print(random.uniform(0,10))"
   ]
  },
  {
   "cell_type": "code",
   "execution_count": null,
   "metadata": {},
   "outputs": [],
   "source": []
  },
  {
   "cell_type": "markdown",
   "metadata": {},
   "source": [
    "### Keyboard Input"
   ]
  },
  {
   "cell_type": "code",
   "execution_count": 22,
   "metadata": {},
   "outputs": [
    {
     "name": "stdout",
     "output_type": "stream",
     "text": [
      "000\n"
     ]
    },
    {
     "data": {
      "text/plain": [
       "'000'"
      ]
     },
     "execution_count": 22,
     "metadata": {},
     "output_type": "execute_result"
    }
   ],
   "source": [
    "# 지시사항 없이 바로 입력 받기\n",
    "\n",
    "input()\n",
    "# 입력받은 결과는 문자 형식 (형식에 제한 없기 때문)"
   ]
  },
  {
   "cell_type": "code",
   "execution_count": 23,
   "metadata": {},
   "outputs": [
    {
     "name": "stdout",
     "output_type": "stream",
     "text": [
      "What is your name? ㅛ\n",
      " >> Hello ㅛ\n",
      "What is your job? 취침\n",
      " >> Your job is 취침\n",
      "Give me a number? 2*3\n",
      " >> You said: 2*3\n"
     ]
    }
   ],
   "source": [
    "name = input('What is your name? ')\n",
    "print(' >> Hello ' + name)\n",
    "\n",
    "job = input('What is your job? ')\n",
    "print(' >> Your job is ' + job)\n",
    "\n",
    "num = input('Give me a number? ')\n",
    "print(' >> You said: ' + str(num))"
   ]
  },
  {
   "cell_type": "code",
   "execution_count": 24,
   "metadata": {},
   "outputs": [
    {
     "name": "stdout",
     "output_type": "stream",
     "text": [
      "색상이 검정인지 확인 완료\n"
     ]
    }
   ],
   "source": [
    "# if 조건문 사용\n",
    "\n",
    "color = 'grey'\n",
    "\n",
    "# 두 값이 같은지를 비교하는 연산자 operator로 == 사용\n",
    "if color=='black':\n",
    "    print('color')\n",
    "\n",
    "print('색상이 검정인지 확인 완료')    \n"
   ]
  },
  {
   "cell_type": "code",
   "execution_count": 25,
   "metadata": {},
   "outputs": [
    {
     "name": "stdout",
     "output_type": "stream",
     "text": [
      "color is not darkgrey\n"
     ]
    }
   ],
   "source": [
    "color = 'grey'\n",
    "\n",
    "if color=='darkgrey':\n",
    "    print('color')\n",
    "else:\n",
    "    print('color is not darkgrey')\n"
   ]
  },
  {
   "cell_type": "code",
   "execution_count": 26,
   "metadata": {},
   "outputs": [
    {
     "data": {
      "image/png": "[encoded data removed]",
      "text/plain": [
       "<Figure size 432x288 with 1 Axes>"
      ]
     },
     "metadata": {
      "needs_background": "light"
     },
     "output_type": "display_data"
    },
    {
     "data": {
      "image/png": "[encoded data removed]",
      "text/plain": [
       "<Figure size 432x288 with 1 Axes>"
      ]
     },
     "metadata": {
      "needs_background": "light"
     },
     "output_type": "display_data"
    }
   ],
   "source": [
    "# 반복문 loop 안에서 조건문 if 사용\n",
    "\n",
    "# 반복문이 사용할 색상리스트 지정\n",
    "colorList = ['red', 'green', 'blue']\n",
    "\n",
    "# 색상리스트 요소들 각각에 대해 실행\n",
    "for x in colorList:\n",
    "    # 지정한 색상이 아니면 실행\n",
    "    if x!='green':\n",
    "        plt.bar([1,2], [10,9], color=x)\n",
    "        plt.title(x)\n",
    "        plt.show()"
   ]
  },
  {
   "cell_type": "code",
   "execution_count": null,
   "metadata": {},
   "outputs": [],
   "source": []
  },
  {
   "cell_type": "markdown",
   "metadata": {},
   "source": [
    "## 데이터프레임 형태의 데이터 가공"
   ]
  },
  {
   "cell_type": "markdown",
   "metadata": {},
   "source": [
    "### 데이터 불러오기 - 판매데이터"
   ]
  },
  {
   "cell_type": "code",
   "execution_count": 27,
   "metadata": {},
   "outputs": [],
   "source": [
    "# 판매내역 테이블 불러오기\n",
    "sales = pd.read_csv(dataPath + 'brk_salesmast01.csv', encoding='euc-kr')\n",
    "sales = sales.drop(sales.columns[0], axis=1)\n",
    "\n",
    "# 상품 테이블 불러오기\n",
    "itemmast = pd.read_csv(dataPath + 'brk_itemmast01.csv', encoding='euc-kr')\n",
    "itemmast = itemmast.drop(itemmast.columns[0], axis=1)\n",
    "\n",
    "# 고객 테이블 불러오기\n",
    "custmast = pd.read_csv(dataPath + 'brk_custmast01.csv', encoding='euc-kr')\n",
    "custmast = custmast.drop(custmast.columns[0], axis=1)\n",
    "\n"
   ]
  },
  {
   "attachments": {
    "image.png": {
     "image/png": "[encoded data removed]"
    }
   },
   "cell_type": "markdown",
   "metadata": {},
   "source": [
    "![image.png](attachment:image.png)"
   ]
  },
  {
   "attachments": {
    "image.png": {
     "image/png": "[encoded data removed]"
    }
   },
   "cell_type": "markdown",
   "metadata": {},
   "source": [
    "![image.png](attachment:image.png)"
   ]
  },
  {
   "cell_type": "code",
   "execution_count": 28,
   "metadata": {},
   "outputs": [
    {
     "name": "stdout",
     "output_type": "stream",
     "text": [
      "(958, 11)\n"
     ]
    },
    {
     "data": {
      "text/html": [
       "<div>\n",
       "<style scoped>\n",
       "    .dataframe tbody tr th:only-of-type {\n",
       "        vertical-align: middle;\n",
       "    }\n",
       "\n",
       "    .dataframe tbody tr th {\n",
       "        vertical-align: top;\n",
       "    }\n",
       "\n",
       "    .dataframe thead th {\n",
       "        text-align: right;\n",
       "    }\n",
       "</style>\n",
       "<table border=\"1\" class=\"dataframe\">\n",
       "  <thead>\n",
       "    <tr style=\"text-align: right;\">\n",
       "      <th></th>\n",
       "      <th>item_id</th>\n",
       "      <th>brand_nm</th>\n",
       "      <th>unit_prc</th>\n",
       "      <th>itemyr</th>\n",
       "      <th>season</th>\n",
       "      <th>scat</th>\n",
       "      <th>ranseq</th>\n",
       "      <th>lcat</th>\n",
       "      <th>size</th>\n",
       "      <th>color</th>\n",
       "      <th>item_id_detcode</th>\n",
       "    </tr>\n",
       "  </thead>\n",
       "  <tbody>\n",
       "    <tr>\n",
       "      <th>860</th>\n",
       "      <td>SH1007604</td>\n",
       "      <td>Shoote</td>\n",
       "      <td>130000</td>\n",
       "      <td>2020</td>\n",
       "      <td>SS</td>\n",
       "      <td>바지</td>\n",
       "      <td>98</td>\n",
       "      <td>여성캐주얼</td>\n",
       "      <td>77</td>\n",
       "      <td>grey</td>\n",
       "      <td>104</td>\n",
       "    </tr>\n",
       "    <tr>\n",
       "      <th>286</th>\n",
       "      <td>ES2001901</td>\n",
       "      <td>Esteeme</td>\n",
       "      <td>100000</td>\n",
       "      <td>2019</td>\n",
       "      <td>SS</td>\n",
       "      <td>바지</td>\n",
       "      <td>74</td>\n",
       "      <td>여성캐주얼</td>\n",
       "      <td>66</td>\n",
       "      <td>grey</td>\n",
       "      <td>101</td>\n",
       "    </tr>\n",
       "    <tr>\n",
       "      <th>744</th>\n",
       "      <td>ES2004507</td>\n",
       "      <td>Esteeme</td>\n",
       "      <td>90000</td>\n",
       "      <td>2020</td>\n",
       "      <td>SS</td>\n",
       "      <td>셔츠</td>\n",
       "      <td>61</td>\n",
       "      <td>여성캐주얼</td>\n",
       "      <td>100</td>\n",
       "      <td>white</td>\n",
       "      <td>107</td>\n",
       "    </tr>\n",
       "    <tr>\n",
       "      <th>6</th>\n",
       "      <td>ES2000601</td>\n",
       "      <td>Esteeme</td>\n",
       "      <td>90000</td>\n",
       "      <td>2018</td>\n",
       "      <td>FW</td>\n",
       "      <td>바지</td>\n",
       "      <td>60</td>\n",
       "      <td>여성캐주얼</td>\n",
       "      <td>66</td>\n",
       "      <td>grey</td>\n",
       "      <td>101</td>\n",
       "    </tr>\n",
       "    <tr>\n",
       "      <th>581</th>\n",
       "      <td>SH1005206</td>\n",
       "      <td>Shoote</td>\n",
       "      <td>100000</td>\n",
       "      <td>2019</td>\n",
       "      <td>SS</td>\n",
       "      <td>치마</td>\n",
       "      <td>77</td>\n",
       "      <td>여성캐주얼</td>\n",
       "      <td>88</td>\n",
       "      <td>black</td>\n",
       "      <td>106</td>\n",
       "    </tr>\n",
       "  </tbody>\n",
       "</table>\n",
       "</div>"
      ],
      "text/plain": [
       "       item_id brand_nm  unit_prc  itemyr season scat  ranseq   lcat  size  \\\n",
       "860  SH1007604   Shoote    130000    2020     SS   바지      98  여성캐주얼    77   \n",
       "286  ES2001901  Esteeme    100000    2019     SS   바지      74  여성캐주얼    66   \n",
       "744  ES2004507  Esteeme     90000    2020     SS   셔츠      61  여성캐주얼   100   \n",
       "6    ES2000601  Esteeme     90000    2018     FW   바지      60  여성캐주얼    66   \n",
       "581  SH1005206   Shoote    100000    2019     SS   치마      77  여성캐주얼    88   \n",
       "\n",
       "     color  item_id_detcode  \n",
       "860   grey              104  \n",
       "286   grey              101  \n",
       "744  white              107  \n",
       "6     grey              101  \n",
       "581  black              106  "
      ]
     },
     "execution_count": 28,
     "metadata": {},
     "output_type": "execute_result"
    }
   ],
   "source": [
    "# 상품 테이블 보기\n",
    "\n",
    "print(itemmast.shape)\n",
    "itemmast.sample(5) # 무작위로 테이블(dataframe)의 5개 행만 뽑아서 화면 출력"
   ]
  },
  {
   "cell_type": "code",
   "execution_count": 29,
   "metadata": {},
   "outputs": [
    {
     "name": "stdout",
     "output_type": "stream",
     "text": [
      "(41936, 19)\n"
     ]
    },
    {
     "data": {
      "text/html": [
       "<div>\n",
       "<style scoped>\n",
       "    .dataframe tbody tr th:only-of-type {\n",
       "        vertical-align: middle;\n",
       "    }\n",
       "\n",
       "    .dataframe tbody tr th {\n",
       "        vertical-align: top;\n",
       "    }\n",
       "\n",
       "    .dataframe thead th {\n",
       "        text-align: right;\n",
       "    }\n",
       "</style>\n",
       "<table border=\"1\" class=\"dataframe\">\n",
       "  <thead>\n",
       "    <tr style=\"text-align: right;\">\n",
       "      <th></th>\n",
       "      <th>ord_id</th>\n",
       "      <th>ord_dtid</th>\n",
       "      <th>store</th>\n",
       "      <th>item_id</th>\n",
       "      <th>qty</th>\n",
       "      <th>brand_nm</th>\n",
       "      <th>unit_prc</th>\n",
       "      <th>itemyr</th>\n",
       "      <th>season</th>\n",
       "      <th>scat</th>\n",
       "      <th>ranseq</th>\n",
       "      <th>lcat</th>\n",
       "      <th>size</th>\n",
       "      <th>color</th>\n",
       "      <th>item_id_detcode</th>\n",
       "      <th>amt</th>\n",
       "      <th>cust_id</th>\n",
       "      <th>datea</th>\n",
       "      <th>date</th>\n",
       "    </tr>\n",
       "  </thead>\n",
       "  <tbody>\n",
       "    <tr>\n",
       "      <th>39977</th>\n",
       "      <td>300560316</td>\n",
       "      <td>1</td>\n",
       "      <td>Multi bupyong</td>\n",
       "      <td>SH1005403</td>\n",
       "      <td>2</td>\n",
       "      <td>Shoote</td>\n",
       "      <td>100000</td>\n",
       "      <td>2019</td>\n",
       "      <td>AS</td>\n",
       "      <td>바지</td>\n",
       "      <td>78</td>\n",
       "      <td>여성캐주얼</td>\n",
       "      <td>66</td>\n",
       "      <td>navy</td>\n",
       "      <td>103</td>\n",
       "      <td>200000</td>\n",
       "      <td>NaN</td>\n",
       "      <td>2020-08-14</td>\n",
       "      <td>2020-08-14 14:32:17.213466</td>\n",
       "    </tr>\n",
       "    <tr>\n",
       "      <th>20444</th>\n",
       "      <td>300245724</td>\n",
       "      <td>1</td>\n",
       "      <td>Shoote city</td>\n",
       "      <td>SH1005703</td>\n",
       "      <td>1</td>\n",
       "      <td>Shoote</td>\n",
       "      <td>100000</td>\n",
       "      <td>2019</td>\n",
       "      <td>AS</td>\n",
       "      <td>셔츠</td>\n",
       "      <td>82</td>\n",
       "      <td>여성캐주얼</td>\n",
       "      <td>90</td>\n",
       "      <td>pink</td>\n",
       "      <td>103</td>\n",
       "      <td>100000</td>\n",
       "      <td>NaN</td>\n",
       "      <td>2019-10-25</td>\n",
       "      <td>2019-10-25 11:35:15.362074</td>\n",
       "    </tr>\n",
       "    <tr>\n",
       "      <th>11181</th>\n",
       "      <td>300132072</td>\n",
       "      <td>1</td>\n",
       "      <td>ONL</td>\n",
       "      <td>SH1002603</td>\n",
       "      <td>1</td>\n",
       "      <td>Shoote</td>\n",
       "      <td>185000</td>\n",
       "      <td>2018</td>\n",
       "      <td>FW</td>\n",
       "      <td>코트</td>\n",
       "      <td>114</td>\n",
       "      <td>코트</td>\n",
       "      <td>95</td>\n",
       "      <td>black</td>\n",
       "      <td>103</td>\n",
       "      <td>185000</td>\n",
       "      <td>NaN</td>\n",
       "      <td>2019-03-11</td>\n",
       "      <td>2019-03-11 18:14:48.551269</td>\n",
       "    </tr>\n",
       "    <tr>\n",
       "      <th>33866</th>\n",
       "      <td>300436872</td>\n",
       "      <td>1</td>\n",
       "      <td>ONL</td>\n",
       "      <td>SH1001504</td>\n",
       "      <td>1</td>\n",
       "      <td>Shoote</td>\n",
       "      <td>70000</td>\n",
       "      <td>2018</td>\n",
       "      <td>FW</td>\n",
       "      <td>셔츠</td>\n",
       "      <td>25</td>\n",
       "      <td>남성캐주얼</td>\n",
       "      <td>105</td>\n",
       "      <td>white</td>\n",
       "      <td>104</td>\n",
       "      <td>70000</td>\n",
       "      <td>B100076471</td>\n",
       "      <td>2020-10-13</td>\n",
       "      <td>2020-10-13 15:41:13.683047</td>\n",
       "    </tr>\n",
       "    <tr>\n",
       "      <th>17101</th>\n",
       "      <td>300204006</td>\n",
       "      <td>1</td>\n",
       "      <td>Multi bupyong</td>\n",
       "      <td>SH1004005</td>\n",
       "      <td>1</td>\n",
       "      <td>Shoote</td>\n",
       "      <td>145000</td>\n",
       "      <td>2019</td>\n",
       "      <td>SS</td>\n",
       "      <td>바지</td>\n",
       "      <td>104</td>\n",
       "      <td>여성캐주얼</td>\n",
       "      <td>77</td>\n",
       "      <td>black</td>\n",
       "      <td>105</td>\n",
       "      <td>145000</td>\n",
       "      <td>B100030831</td>\n",
       "      <td>2020-06-30</td>\n",
       "      <td>2020-06-30 16:29:39.428860</td>\n",
       "    </tr>\n",
       "  </tbody>\n",
       "</table>\n",
       "</div>"
      ],
      "text/plain": [
       "          ord_id  ord_dtid          store    item_id  qty brand_nm  unit_prc  \\\n",
       "39977  300560316         1  Multi bupyong  SH1005403    2   Shoote    100000   \n",
       "20444  300245724         1    Shoote city  SH1005703    1   Shoote    100000   \n",
       "11181  300132072         1            ONL  SH1002603    1   Shoote    185000   \n",
       "33866  300436872         1            ONL  SH1001504    1   Shoote     70000   \n",
       "17101  300204006         1  Multi bupyong  SH1004005    1   Shoote    145000   \n",
       "\n",
       "       itemyr season scat  ranseq   lcat  size  color  item_id_detcode  \\\n",
       "39977    2019     AS   바지      78  여성캐주얼    66   navy              103   \n",
       "20444    2019     AS   셔츠      82  여성캐주얼    90   pink              103   \n",
       "11181    2018     FW   코트     114     코트    95  black              103   \n",
       "33866    2018     FW   셔츠      25  남성캐주얼   105  white              104   \n",
       "17101    2019     SS   바지     104  여성캐주얼    77  black              105   \n",
       "\n",
       "          amt     cust_id       datea                        date  \n",
       "39977  200000         NaN  2020-08-14  2020-08-14 14:32:17.213466  \n",
       "20444  100000         NaN  2019-10-25  2019-10-25 11:35:15.362074  \n",
       "11181  185000         NaN  2019-03-11  2019-03-11 18:14:48.551269  \n",
       "33866   70000  B100076471  2020-10-13  2020-10-13 15:41:13.683047  \n",
       "17101  145000  B100030831  2020-06-30  2020-06-30 16:29:39.428860  "
      ]
     },
     "execution_count": 29,
     "metadata": {},
     "output_type": "execute_result"
    }
   ],
   "source": [
    "# 판매 테이블 보기\n",
    "\n",
    "print(sales.shape)\n",
    "sales.sample(5)"
   ]
  },
  {
   "cell_type": "code",
   "execution_count": 30,
   "metadata": {
    "scrolled": false
   },
   "outputs": [
    {
     "name": "stdout",
     "output_type": "stream",
     "text": [
      "<class 'pandas.core.frame.DataFrame'>\n",
      "RangeIndex: 41936 entries, 0 to 41935\n",
      "Data columns (total 19 columns):\n",
      " #   Column           Non-Null Count  Dtype \n",
      "---  ------           --------------  ----- \n",
      " 0   ord_id           41936 non-null  int64 \n",
      " 1   ord_dtid         41936 non-null  int64 \n",
      " 2   store            41936 non-null  object\n",
      " 3   item_id          41936 non-null  object\n",
      " 4   qty              41936 non-null  int64 \n",
      " 5   brand_nm         41936 non-null  object\n",
      " 6   unit_prc         41936 non-null  int64 \n",
      " 7   itemyr           41936 non-null  int64 \n",
      " 8   season           41936 non-null  object\n",
      " 9   scat             41936 non-null  object\n",
      " 10  ranseq           41936 non-null  int64 \n",
      " 11  lcat             41936 non-null  object\n",
      " 12  size             41936 non-null  int64 \n",
      " 13  color            41936 non-null  object\n",
      " 14  item_id_detcode  41936 non-null  int64 \n",
      " 15  amt              41936 non-null  int64 \n",
      " 16  cust_id          28586 non-null  object\n",
      " 17  datea            41936 non-null  object\n",
      " 18  date             41936 non-null  object\n",
      "dtypes: int64(9), object(10)\n",
      "memory usage: 6.1+ MB\n"
     ]
    }
   ],
   "source": [
    "# 판매 테이블 컬럼명 확인\n",
    "\n",
    "sales.info()"
   ]
  },
  {
   "cell_type": "code",
   "execution_count": 31,
   "metadata": {},
   "outputs": [
    {
     "data": {
      "text/plain": [
       "array(['ord_id', 'ord_dtid', 'store', 'item_id', 'qty', 'brand_nm',\n",
       "       'unit_prc', 'itemyr', 'season', 'scat', 'ranseq', 'lcat', 'size',\n",
       "       'color', 'item_id_detcode', 'amt', 'cust_id', 'datea', 'date'],\n",
       "      dtype=object)"
      ]
     },
     "execution_count": 31,
     "metadata": {},
     "output_type": "execute_result"
    }
   ],
   "source": [
    "#  컬럼명만 보기\n",
    "\n",
    "np.array(sales.columns)"
   ]
  },
  {
   "cell_type": "code",
   "execution_count": 32,
   "metadata": {},
   "outputs": [
    {
     "name": "stdout",
     "output_type": "stream",
     "text": [
      "(26000, 9)\n"
     ]
    },
    {
     "data": {
      "text/html": [
       "<div>\n",
       "<style scoped>\n",
       "    .dataframe tbody tr th:only-of-type {\n",
       "        vertical-align: middle;\n",
       "    }\n",
       "\n",
       "    .dataframe tbody tr th {\n",
       "        vertical-align: top;\n",
       "    }\n",
       "\n",
       "    .dataframe thead th {\n",
       "        text-align: right;\n",
       "    }\n",
       "</style>\n",
       "<table border=\"1\" class=\"dataframe\">\n",
       "  <thead>\n",
       "    <tr style=\"text-align: right;\">\n",
       "      <th></th>\n",
       "      <th>cust_id</th>\n",
       "      <th>sex</th>\n",
       "      <th>area</th>\n",
       "      <th>birthyr</th>\n",
       "      <th>hh_income</th>\n",
       "      <th>age</th>\n",
       "      <th>marital</th>\n",
       "      <th>ranseq</th>\n",
       "      <th>signup_date</th>\n",
       "    </tr>\n",
       "  </thead>\n",
       "  <tbody>\n",
       "    <tr>\n",
       "      <th>21538</th>\n",
       "      <td>B100065326</td>\n",
       "      <td>M</td>\n",
       "      <td>seoul</td>\n",
       "      <td>1965</td>\n",
       "      <td>73000</td>\n",
       "      <td>56</td>\n",
       "      <td>기혼</td>\n",
       "      <td>21538</td>\n",
       "      <td>2017-12-06 11:11:27.243860</td>\n",
       "    </tr>\n",
       "    <tr>\n",
       "      <th>16214</th>\n",
       "      <td>B100046155</td>\n",
       "      <td>M</td>\n",
       "      <td>inchon</td>\n",
       "      <td>1990</td>\n",
       "      <td>20000</td>\n",
       "      <td>31</td>\n",
       "      <td>미혼</td>\n",
       "      <td>16214</td>\n",
       "      <td>2018-04-02 11:11:27.243860</td>\n",
       "    </tr>\n",
       "    <tr>\n",
       "      <th>20820</th>\n",
       "      <td>B100051526</td>\n",
       "      <td>M</td>\n",
       "      <td>seoul</td>\n",
       "      <td>1993</td>\n",
       "      <td>83000</td>\n",
       "      <td>28</td>\n",
       "      <td>미혼</td>\n",
       "      <td>20820</td>\n",
       "      <td>2017-04-13 11:11:27.243860</td>\n",
       "    </tr>\n",
       "    <tr>\n",
       "      <th>13561</th>\n",
       "      <td>B100029596</td>\n",
       "      <td>F</td>\n",
       "      <td>gyunggi</td>\n",
       "      <td>1980</td>\n",
       "      <td>73000</td>\n",
       "      <td>41</td>\n",
       "      <td>미혼</td>\n",
       "      <td>13561</td>\n",
       "      <td>2016-02-27 11:11:27.243860</td>\n",
       "    </tr>\n",
       "    <tr>\n",
       "      <th>17594</th>\n",
       "      <td>B100093556</td>\n",
       "      <td>M</td>\n",
       "      <td>gyunggi</td>\n",
       "      <td>1988</td>\n",
       "      <td>50000</td>\n",
       "      <td>33</td>\n",
       "      <td>미혼</td>\n",
       "      <td>17594</td>\n",
       "      <td>2019-04-21 11:11:27.243860</td>\n",
       "    </tr>\n",
       "  </tbody>\n",
       "</table>\n",
       "</div>"
      ],
      "text/plain": [
       "          cust_id sex     area  birthyr  hh_income  age marital  ranseq  \\\n",
       "21538  B100065326   M    seoul     1965      73000   56      기혼   21538   \n",
       "16214  B100046155   M   inchon     1990      20000   31      미혼   16214   \n",
       "20820  B100051526   M    seoul     1993      83000   28      미혼   20820   \n",
       "13561  B100029596   F  gyunggi     1980      73000   41      미혼   13561   \n",
       "17594  B100093556   M  gyunggi     1988      50000   33      미혼   17594   \n",
       "\n",
       "                      signup_date  \n",
       "21538  2017-12-06 11:11:27.243860  \n",
       "16214  2018-04-02 11:11:27.243860  \n",
       "20820  2017-04-13 11:11:27.243860  \n",
       "13561  2016-02-27 11:11:27.243860  \n",
       "17594  2019-04-21 11:11:27.243860  "
      ]
     },
     "execution_count": 32,
     "metadata": {},
     "output_type": "execute_result"
    }
   ],
   "source": [
    "# 고객 테이블 데이터 확인\n",
    "\n",
    "print(custmast.shape) # 행과 열의 순서 --> 행렬 (RC == row and column)\n",
    "custmast.sample(5)"
   ]
  },
  {
   "cell_type": "code",
   "execution_count": null,
   "metadata": {},
   "outputs": [],
   "source": []
  },
  {
   "cell_type": "markdown",
   "metadata": {},
   "source": [
    "## 상품군별 매출 시각화 응용\n",
    "- 각 상품과 상품군별로 매출이 어떠했는가에 대한 집계데이터를 만든 후\n",
    "- 집계된 데이터 (dataframe 테이블)을 챠트로 시각적으로 나타냄 (visualization)\n"
   ]
  },
  {
   "cell_type": "markdown",
   "metadata": {},
   "source": [
    "### 상품구성 확인"
   ]
  },
  {
   "cell_type": "code",
   "execution_count": 33,
   "metadata": {},
   "outputs": [
    {
     "data": {
      "text/plain": [
       "(958, 958)"
      ]
     },
     "execution_count": 33,
     "metadata": {},
     "output_type": "execute_result"
    }
   ],
   "source": [
    "# 상품의 수 확인\n",
    "# 등록된 상품은 몇개인가?\n",
    "\n",
    "len(itemmast.item_id), len(itemmast.item_id.unique()) \n"
   ]
  },
  {
   "cell_type": "markdown",
   "metadata": {},
   "source": [
    "- unique() 함수 사용은 혹시라도 **중복해서 등록되어있는 상품** 이 있는 것은 아닌가 확인을 위해 추가해 본 것\n",
    "- unique() 함수가 있든 없든 같은 수가 나온다면 상품 테이블에 중복된 행은 없다는 의미(상품코드)"
   ]
  },
  {
   "cell_type": "code",
   "execution_count": 34,
   "metadata": {},
   "outputs": [
    {
     "data": {
      "text/html": [
       "<div>\n",
       "<style scoped>\n",
       "    .dataframe tbody tr th:only-of-type {\n",
       "        vertical-align: middle;\n",
       "    }\n",
       "\n",
       "    .dataframe tbody tr th {\n",
       "        vertical-align: top;\n",
       "    }\n",
       "\n",
       "    .dataframe thead th {\n",
       "        text-align: right;\n",
       "    }\n",
       "</style>\n",
       "<table border=\"1\" class=\"dataframe\">\n",
       "  <thead>\n",
       "    <tr style=\"text-align: right;\">\n",
       "      <th></th>\n",
       "      <th>item_id</th>\n",
       "    </tr>\n",
       "  </thead>\n",
       "  <tbody>\n",
       "    <tr>\n",
       "      <th>0</th>\n",
       "      <td>ES2000501</td>\n",
       "    </tr>\n",
       "    <tr>\n",
       "      <th>1</th>\n",
       "      <td>ES2000502</td>\n",
       "    </tr>\n",
       "    <tr>\n",
       "      <th>2</th>\n",
       "      <td>ES2000503</td>\n",
       "    </tr>\n",
       "    <tr>\n",
       "      <th>3</th>\n",
       "      <td>ES2000504</td>\n",
       "    </tr>\n",
       "    <tr>\n",
       "      <th>4</th>\n",
       "      <td>ES2000505</td>\n",
       "    </tr>\n",
       "    <tr>\n",
       "      <th>5</th>\n",
       "      <td>ES2000506</td>\n",
       "    </tr>\n",
       "    <tr>\n",
       "      <th>6</th>\n",
       "      <td>ES2000601</td>\n",
       "    </tr>\n",
       "    <tr>\n",
       "      <th>7</th>\n",
       "      <td>ES2000602</td>\n",
       "    </tr>\n",
       "    <tr>\n",
       "      <th>8</th>\n",
       "      <td>ES2000603</td>\n",
       "    </tr>\n",
       "    <tr>\n",
       "      <th>9</th>\n",
       "      <td>ES2000604</td>\n",
       "    </tr>\n",
       "  </tbody>\n",
       "</table>\n",
       "</div>"
      ],
      "text/plain": [
       "     item_id\n",
       "0  ES2000501\n",
       "1  ES2000502\n",
       "2  ES2000503\n",
       "3  ES2000504\n",
       "4  ES2000505\n",
       "5  ES2000506\n",
       "6  ES2000601\n",
       "7  ES2000602\n",
       "8  ES2000603\n",
       "9  ES2000604"
      ]
     },
     "execution_count": 34,
     "metadata": {},
     "output_type": "execute_result"
    }
   ],
   "source": [
    "# item_id 로 정렬 (알파벳순) 한 후 맨 앞부터 10개 행을 조회\n",
    "\n",
    "itemmast[['item_id']].drop_duplicates().sort_values(['item_id']).head(10)"
   ]
  },
  {
   "cell_type": "code",
   "execution_count": 35,
   "metadata": {},
   "outputs": [
    {
     "data": {
      "text/html": [
       "<div>\n",
       "<style scoped>\n",
       "    .dataframe tbody tr th:only-of-type {\n",
       "        vertical-align: middle;\n",
       "    }\n",
       "\n",
       "    .dataframe tbody tr th {\n",
       "        vertical-align: top;\n",
       "    }\n",
       "\n",
       "    .dataframe thead th {\n",
       "        text-align: right;\n",
       "    }\n",
       "</style>\n",
       "<table border=\"1\" class=\"dataframe\">\n",
       "  <thead>\n",
       "    <tr style=\"text-align: right;\">\n",
       "      <th></th>\n",
       "      <th>item_id</th>\n",
       "    </tr>\n",
       "  </thead>\n",
       "  <tbody>\n",
       "    <tr>\n",
       "      <th>0</th>\n",
       "      <td>ES2000501</td>\n",
       "    </tr>\n",
       "    <tr>\n",
       "      <th>1</th>\n",
       "      <td>ES2000502</td>\n",
       "    </tr>\n",
       "    <tr>\n",
       "      <th>2</th>\n",
       "      <td>ES2000503</td>\n",
       "    </tr>\n",
       "    <tr>\n",
       "      <th>3</th>\n",
       "      <td>ES2000504</td>\n",
       "    </tr>\n",
       "    <tr>\n",
       "      <th>4</th>\n",
       "      <td>ES2000505</td>\n",
       "    </tr>\n",
       "  </tbody>\n",
       "</table>\n",
       "</div>"
      ],
      "text/plain": [
       "     item_id\n",
       "0  ES2000501\n",
       "1  ES2000502\n",
       "2  ES2000503\n",
       "3  ES2000504\n",
       "4  ES2000505"
      ]
     },
     "execution_count": 35,
     "metadata": {},
     "output_type": "execute_result"
    }
   ],
   "source": [
    "# head() 에 인수(parameter) 를 지정하지 않으면 5개 행 조회\n",
    "\n",
    "itemmast[['item_id']].drop_duplicates().sort_values(['item_id']).head()"
   ]
  },
  {
   "cell_type": "code",
   "execution_count": 36,
   "metadata": {},
   "outputs": [
    {
     "data": {
      "text/html": [
       "<div>\n",
       "<style scoped>\n",
       "    .dataframe tbody tr th:only-of-type {\n",
       "        vertical-align: middle;\n",
       "    }\n",
       "\n",
       "    .dataframe tbody tr th {\n",
       "        vertical-align: top;\n",
       "    }\n",
       "\n",
       "    .dataframe thead th {\n",
       "        text-align: right;\n",
       "    }\n",
       "</style>\n",
       "<table border=\"1\" class=\"dataframe\">\n",
       "  <thead>\n",
       "    <tr style=\"text-align: right;\">\n",
       "      <th></th>\n",
       "      <th>item_id</th>\n",
       "    </tr>\n",
       "  </thead>\n",
       "  <tbody>\n",
       "    <tr>\n",
       "      <th>953</th>\n",
       "      <td>SH1009002</td>\n",
       "    </tr>\n",
       "    <tr>\n",
       "      <th>954</th>\n",
       "      <td>SH1009003</td>\n",
       "    </tr>\n",
       "    <tr>\n",
       "      <th>955</th>\n",
       "      <td>SH1009004</td>\n",
       "    </tr>\n",
       "    <tr>\n",
       "      <th>956</th>\n",
       "      <td>SH1009005</td>\n",
       "    </tr>\n",
       "    <tr>\n",
       "      <th>957</th>\n",
       "      <td>SH1009006</td>\n",
       "    </tr>\n",
       "  </tbody>\n",
       "</table>\n",
       "</div>"
      ],
      "text/plain": [
       "       item_id\n",
       "953  SH1009002\n",
       "954  SH1009003\n",
       "955  SH1009004\n",
       "956  SH1009005\n",
       "957  SH1009006"
      ]
     },
     "execution_count": 36,
     "metadata": {},
     "output_type": "execute_result"
    }
   ],
   "source": [
    "# tail() 은 가장 마지막 5개 행을 조회 (subset)\n",
    "\n",
    "itemmast[['item_id']].drop_duplicates().sort_values(['item_id']).tail()"
   ]
  },
  {
   "cell_type": "code",
   "execution_count": 37,
   "metadata": {},
   "outputs": [
    {
     "data": {
      "text/plain": [
       "array(['Esteeme', 'Shoote'], dtype=object)"
      ]
     },
     "execution_count": 37,
     "metadata": {},
     "output_type": "execute_result"
    }
   ],
   "source": [
    "# 브랜드 목록 보기\n",
    "\n",
    "itemmast.brand_nm.unique()"
   ]
  },
  {
   "cell_type": "markdown",
   "metadata": {},
   "source": [
    "- 가상의 패션기업 <㈜브루클린>은 <슈떼 Shoote>와 <에스뗌므 Esteeme> 두 개 브랜드를 운영\n",
    "- 슈떼는 전령대 대상 유니섹스 캐주얼 브랜드\n",
    "- 에스뗌므는 3년전 런칭한 여성 세미 정장 스타일의 브랜드"
   ]
  },
  {
   "cell_type": "markdown",
   "metadata": {},
   "source": [
    " "
   ]
  },
  {
   "attachments": {
    "image.png": {
     "image/png": "[encoded data removed]"
    }
   },
   "cell_type": "markdown",
   "metadata": {},
   "source": [
    "![image.png](attachment:image.png)"
   ]
  },
  {
   "cell_type": "code",
   "execution_count": 38,
   "metadata": {},
   "outputs": [
    {
     "data": {
      "text/plain": [
       "Shoote     621\n",
       "Esteeme    337\n",
       "Name: brand_nm, dtype: int64"
      ]
     },
     "execution_count": 38,
     "metadata": {},
     "output_type": "execute_result"
    }
   ],
   "source": [
    "# 브랜드별 상품 건수 -- 상품마스터 등록 기준\n",
    "\n",
    "itemmast.brand_nm.value_counts()"
   ]
  },
  {
   "cell_type": "markdown",
   "metadata": {},
   "source": [
    "- value_counts() 함수는 지정한 컬럼에 들어있는 값들이 해당 테이블에서 **몇 번씩 등장하는가**를 집계해서 보여 줌"
   ]
  },
  {
   "cell_type": "code",
   "execution_count": 39,
   "metadata": {},
   "outputs": [
    {
     "data": {
      "text/html": [
       "<div>\n",
       "<style scoped>\n",
       "    .dataframe tbody tr th:only-of-type {\n",
       "        vertical-align: middle;\n",
       "    }\n",
       "\n",
       "    .dataframe tbody tr th {\n",
       "        vertical-align: top;\n",
       "    }\n",
       "\n",
       "    .dataframe thead th {\n",
       "        text-align: right;\n",
       "    }\n",
       "</style>\n",
       "<table border=\"1\" class=\"dataframe\">\n",
       "  <thead>\n",
       "    <tr style=\"text-align: right;\">\n",
       "      <th></th>\n",
       "      <th>brand_nm</th>\n",
       "      <th>lcat</th>\n",
       "    </tr>\n",
       "  </thead>\n",
       "  <tbody>\n",
       "    <tr>\n",
       "      <th>0</th>\n",
       "      <td>Esteeme</td>\n",
       "      <td>여성캐주얼</td>\n",
       "    </tr>\n",
       "    <tr>\n",
       "      <th>84</th>\n",
       "      <td>Shoote</td>\n",
       "      <td>여성캐주얼</td>\n",
       "    </tr>\n",
       "    <tr>\n",
       "      <th>93</th>\n",
       "      <td>Shoote</td>\n",
       "      <td>남성캐주얼</td>\n",
       "    </tr>\n",
       "    <tr>\n",
       "      <th>99</th>\n",
       "      <td>Shoote</td>\n",
       "      <td>코트</td>\n",
       "    </tr>\n",
       "    <tr>\n",
       "      <th>719</th>\n",
       "      <td>Esteeme</td>\n",
       "      <td>코트</td>\n",
       "    </tr>\n",
       "  </tbody>\n",
       "</table>\n",
       "</div>"
      ],
      "text/plain": [
       "    brand_nm   lcat\n",
       "0    Esteeme  여성캐주얼\n",
       "84    Shoote  여성캐주얼\n",
       "93    Shoote  남성캐주얼\n",
       "99    Shoote     코트\n",
       "719  Esteeme     코트"
      ]
     },
     "execution_count": 39,
     "metadata": {},
     "output_type": "execute_result"
    }
   ],
   "source": [
    "# 브랜드별 대분류 목록 보기\n",
    "\n",
    "itemmast[['brand_nm', 'lcat']].drop_duplicates() # 중복 제거"
   ]
  },
  {
   "cell_type": "code",
   "execution_count": 40,
   "metadata": {},
   "outputs": [
    {
     "data": {
      "text/html": [
       "<div>\n",
       "<style scoped>\n",
       "    .dataframe tbody tr th:only-of-type {\n",
       "        vertical-align: middle;\n",
       "    }\n",
       "\n",
       "    .dataframe tbody tr th {\n",
       "        vertical-align: top;\n",
       "    }\n",
       "\n",
       "    .dataframe thead th {\n",
       "        text-align: right;\n",
       "    }\n",
       "</style>\n",
       "<table border=\"1\" class=\"dataframe\">\n",
       "  <thead>\n",
       "    <tr style=\"text-align: right;\">\n",
       "      <th></th>\n",
       "      <th>brand_nm</th>\n",
       "      <th>lcat</th>\n",
       "    </tr>\n",
       "  </thead>\n",
       "  <tbody>\n",
       "    <tr>\n",
       "      <th>0</th>\n",
       "      <td>Esteeme</td>\n",
       "      <td>여성캐주얼</td>\n",
       "    </tr>\n",
       "    <tr>\n",
       "      <th>719</th>\n",
       "      <td>Esteeme</td>\n",
       "      <td>코트</td>\n",
       "    </tr>\n",
       "    <tr>\n",
       "      <th>93</th>\n",
       "      <td>Shoote</td>\n",
       "      <td>남성캐주얼</td>\n",
       "    </tr>\n",
       "    <tr>\n",
       "      <th>84</th>\n",
       "      <td>Shoote</td>\n",
       "      <td>여성캐주얼</td>\n",
       "    </tr>\n",
       "    <tr>\n",
       "      <th>99</th>\n",
       "      <td>Shoote</td>\n",
       "      <td>코트</td>\n",
       "    </tr>\n",
       "  </tbody>\n",
       "</table>\n",
       "</div>"
      ],
      "text/plain": [
       "    brand_nm   lcat\n",
       "0    Esteeme  여성캐주얼\n",
       "719  Esteeme     코트\n",
       "93    Shoote  남성캐주얼\n",
       "84    Shoote  여성캐주얼\n",
       "99    Shoote     코트"
      ]
     },
     "execution_count": 40,
     "metadata": {},
     "output_type": "execute_result"
    }
   ],
   "source": [
    "# 브랜드별 대분류 순으로 정렬\n",
    "\n",
    "itemmast[['brand_nm', 'lcat']].drop_duplicates().sort_values(['brand_nm', 'lcat'])"
   ]
  },
  {
   "cell_type": "markdown",
   "metadata": {},
   "source": [
    "- ['brand_nm', 'lcat'] 형식은 brand_nm 과 lcat 이라는 두 가지 요소를 가진 list\n",
    "- [] 형식의 괄호는 영어로 square brackets 또는 brackets 라고 부름\n",
    "- list 는 여러 개 값으로 구성된 일종의 집합<br><br>\n",
    "- 정렬할 때 list를 사용한다는 것은 그 안의 값들을 모두 사용해서 정렬한다는 것\n",
    "- 단, **순서 중요**함. 여기서는 brand_nm 알파벳순, 그리고 그 안에서 lcat 알파벳 순서로 정렬"
   ]
  },
  {
   "cell_type": "code",
   "execution_count": 41,
   "metadata": {},
   "outputs": [
    {
     "data": {
      "text/html": [
       "<div>\n",
       "<style scoped>\n",
       "    .dataframe tbody tr th:only-of-type {\n",
       "        vertical-align: middle;\n",
       "    }\n",
       "\n",
       "    .dataframe tbody tr th {\n",
       "        vertical-align: top;\n",
       "    }\n",
       "\n",
       "    .dataframe thead th {\n",
       "        text-align: right;\n",
       "    }\n",
       "</style>\n",
       "<table border=\"1\" class=\"dataframe\">\n",
       "  <thead>\n",
       "    <tr style=\"text-align: right;\">\n",
       "      <th></th>\n",
       "      <th>brand_nm</th>\n",
       "      <th>lcat</th>\n",
       "    </tr>\n",
       "  </thead>\n",
       "  <tbody>\n",
       "    <tr>\n",
       "      <th>93</th>\n",
       "      <td>Shoote</td>\n",
       "      <td>남성캐주얼</td>\n",
       "    </tr>\n",
       "    <tr>\n",
       "      <th>0</th>\n",
       "      <td>Esteeme</td>\n",
       "      <td>여성캐주얼</td>\n",
       "    </tr>\n",
       "    <tr>\n",
       "      <th>84</th>\n",
       "      <td>Shoote</td>\n",
       "      <td>여성캐주얼</td>\n",
       "    </tr>\n",
       "    <tr>\n",
       "      <th>99</th>\n",
       "      <td>Shoote</td>\n",
       "      <td>코트</td>\n",
       "    </tr>\n",
       "    <tr>\n",
       "      <th>719</th>\n",
       "      <td>Esteeme</td>\n",
       "      <td>코트</td>\n",
       "    </tr>\n",
       "  </tbody>\n",
       "</table>\n",
       "</div>"
      ],
      "text/plain": [
       "    brand_nm   lcat\n",
       "93    Shoote  남성캐주얼\n",
       "0    Esteeme  여성캐주얼\n",
       "84    Shoote  여성캐주얼\n",
       "99    Shoote     코트\n",
       "719  Esteeme     코트"
      ]
     },
     "execution_count": 41,
     "metadata": {},
     "output_type": "execute_result"
    }
   ],
   "source": [
    "# 브랜드 상관없이 대분류 순으로 정렬\n",
    "\n",
    "itemmast[['brand_nm', 'lcat']].drop_duplicates().sort_values('lcat')"
   ]
  },
  {
   "cell_type": "code",
   "execution_count": 42,
   "metadata": {},
   "outputs": [
    {
     "data": {
      "text/html": [
       "<div>\n",
       "<style scoped>\n",
       "    .dataframe tbody tr th:only-of-type {\n",
       "        vertical-align: middle;\n",
       "    }\n",
       "\n",
       "    .dataframe tbody tr th {\n",
       "        vertical-align: top;\n",
       "    }\n",
       "\n",
       "    .dataframe thead th {\n",
       "        text-align: right;\n",
       "    }\n",
       "</style>\n",
       "<table border=\"1\" class=\"dataframe\">\n",
       "  <thead>\n",
       "    <tr style=\"text-align: right;\">\n",
       "      <th></th>\n",
       "      <th>brand_nm</th>\n",
       "      <th>lcat</th>\n",
       "      <th>scat</th>\n",
       "    </tr>\n",
       "  </thead>\n",
       "  <tbody>\n",
       "    <tr>\n",
       "      <th>0</th>\n",
       "      <td>Esteeme</td>\n",
       "      <td>여성캐주얼</td>\n",
       "      <td>재킷</td>\n",
       "    </tr>\n",
       "    <tr>\n",
       "      <th>6</th>\n",
       "      <td>Esteeme</td>\n",
       "      <td>여성캐주얼</td>\n",
       "      <td>바지</td>\n",
       "    </tr>\n",
       "    <tr>\n",
       "      <th>24</th>\n",
       "      <td>Esteeme</td>\n",
       "      <td>여성캐주얼</td>\n",
       "      <td>셔츠</td>\n",
       "    </tr>\n",
       "    <tr>\n",
       "      <th>84</th>\n",
       "      <td>Shoote</td>\n",
       "      <td>여성캐주얼</td>\n",
       "      <td>바지</td>\n",
       "    </tr>\n",
       "    <tr>\n",
       "      <th>93</th>\n",
       "      <td>Shoote</td>\n",
       "      <td>남성캐주얼</td>\n",
       "      <td>바지</td>\n",
       "    </tr>\n",
       "    <tr>\n",
       "      <th>99</th>\n",
       "      <td>Shoote</td>\n",
       "      <td>코트</td>\n",
       "      <td>코트</td>\n",
       "    </tr>\n",
       "    <tr>\n",
       "      <th>103</th>\n",
       "      <td>Shoote</td>\n",
       "      <td>여성캐주얼</td>\n",
       "      <td>셔츠</td>\n",
       "    </tr>\n",
       "    <tr>\n",
       "      <th>127</th>\n",
       "      <td>Shoote</td>\n",
       "      <td>여성캐주얼</td>\n",
       "      <td>재킷</td>\n",
       "    </tr>\n",
       "    <tr>\n",
       "      <th>133</th>\n",
       "      <td>Shoote</td>\n",
       "      <td>여성캐주얼</td>\n",
       "      <td>치마</td>\n",
       "    </tr>\n",
       "    <tr>\n",
       "      <th>172</th>\n",
       "      <td>Shoote</td>\n",
       "      <td>남성캐주얼</td>\n",
       "      <td>셔츠</td>\n",
       "    </tr>\n",
       "    <tr>\n",
       "      <th>218</th>\n",
       "      <td>Shoote</td>\n",
       "      <td>남성캐주얼</td>\n",
       "      <td>재킷</td>\n",
       "    </tr>\n",
       "    <tr>\n",
       "      <th>355</th>\n",
       "      <td>Esteeme</td>\n",
       "      <td>여성캐주얼</td>\n",
       "      <td>치마</td>\n",
       "    </tr>\n",
       "    <tr>\n",
       "      <th>719</th>\n",
       "      <td>Esteeme</td>\n",
       "      <td>코트</td>\n",
       "      <td>코트</td>\n",
       "    </tr>\n",
       "  </tbody>\n",
       "</table>\n",
       "</div>"
      ],
      "text/plain": [
       "    brand_nm   lcat scat\n",
       "0    Esteeme  여성캐주얼   재킷\n",
       "6    Esteeme  여성캐주얼   바지\n",
       "24   Esteeme  여성캐주얼   셔츠\n",
       "84    Shoote  여성캐주얼   바지\n",
       "93    Shoote  남성캐주얼   바지\n",
       "99    Shoote     코트   코트\n",
       "103   Shoote  여성캐주얼   셔츠\n",
       "127   Shoote  여성캐주얼   재킷\n",
       "133   Shoote  여성캐주얼   치마\n",
       "172   Shoote  남성캐주얼   셔츠\n",
       "218   Shoote  남성캐주얼   재킷\n",
       "355  Esteeme  여성캐주얼   치마\n",
       "719  Esteeme     코트   코트"
      ]
     },
     "execution_count": 42,
     "metadata": {},
     "output_type": "execute_result"
    }
   ],
   "source": [
    "# 브랜드별 대분류별, 소분류 목록 보기\n",
    "\n",
    "itemmast[['brand_nm', 'lcat','scat']].drop_duplicates() # 중복 제거"
   ]
  },
  {
   "cell_type": "markdown",
   "metadata": {},
   "source": [
    "#### 상품군별 상품수 집계"
   ]
  },
  {
   "cell_type": "code",
   "execution_count": 43,
   "metadata": {},
   "outputs": [
    {
     "data": {
      "text/html": [
       "<div>\n",
       "<style scoped>\n",
       "    .dataframe tbody tr th:only-of-type {\n",
       "        vertical-align: middle;\n",
       "    }\n",
       "\n",
       "    .dataframe tbody tr th {\n",
       "        vertical-align: top;\n",
       "    }\n",
       "\n",
       "    .dataframe thead th {\n",
       "        text-align: right;\n",
       "    }\n",
       "</style>\n",
       "<table border=\"1\" class=\"dataframe\">\n",
       "  <thead>\n",
       "    <tr style=\"text-align: right;\">\n",
       "      <th></th>\n",
       "      <th></th>\n",
       "      <th>item_id</th>\n",
       "    </tr>\n",
       "    <tr>\n",
       "      <th>brand_nm</th>\n",
       "      <th>lcat</th>\n",
       "      <th></th>\n",
       "    </tr>\n",
       "  </thead>\n",
       "  <tbody>\n",
       "    <tr>\n",
       "      <th rowspan=\"2\" valign=\"top\">Esteeme</th>\n",
       "      <th>여성캐주얼</th>\n",
       "      <td>333</td>\n",
       "    </tr>\n",
       "    <tr>\n",
       "      <th>코트</th>\n",
       "      <td>4</td>\n",
       "    </tr>\n",
       "    <tr>\n",
       "      <th rowspan=\"3\" valign=\"top\">Shoote</th>\n",
       "      <th>남성캐주얼</th>\n",
       "      <td>142</td>\n",
       "    </tr>\n",
       "    <tr>\n",
       "      <th>여성캐주얼</th>\n",
       "      <td>447</td>\n",
       "    </tr>\n",
       "    <tr>\n",
       "      <th>코트</th>\n",
       "      <td>32</td>\n",
       "    </tr>\n",
       "  </tbody>\n",
       "</table>\n",
       "</div>"
      ],
      "text/plain": [
       "                item_id\n",
       "brand_nm lcat          \n",
       "Esteeme  여성캐주얼      333\n",
       "         코트           4\n",
       "Shoote   남성캐주얼      142\n",
       "         여성캐주얼      447\n",
       "         코트          32"
      ]
     },
     "execution_count": 43,
     "metadata": {},
     "output_type": "execute_result"
    }
   ],
   "source": [
    "# 브랜드별 대분류별 상품수 집계\n",
    "\n",
    "itemmast[['brand_nm', 'lcat', 'item_id']].groupby(['brand_nm', 'lcat']).count()"
   ]
  },
  {
   "cell_type": "code",
   "execution_count": 44,
   "metadata": {},
   "outputs": [
    {
     "data": {
      "text/html": [
       "<div>\n",
       "<style scoped>\n",
       "    .dataframe tbody tr th:only-of-type {\n",
       "        vertical-align: middle;\n",
       "    }\n",
       "\n",
       "    .dataframe tbody tr th {\n",
       "        vertical-align: top;\n",
       "    }\n",
       "\n",
       "    .dataframe thead th {\n",
       "        text-align: right;\n",
       "    }\n",
       "</style>\n",
       "<table border=\"1\" class=\"dataframe\">\n",
       "  <thead>\n",
       "    <tr style=\"text-align: right;\">\n",
       "      <th></th>\n",
       "      <th>brand_nm</th>\n",
       "      <th>lcat</th>\n",
       "      <th>item_id</th>\n",
       "    </tr>\n",
       "  </thead>\n",
       "  <tbody>\n",
       "    <tr>\n",
       "      <th>0</th>\n",
       "      <td>Esteeme</td>\n",
       "      <td>여성캐주얼</td>\n",
       "      <td>333</td>\n",
       "    </tr>\n",
       "    <tr>\n",
       "      <th>1</th>\n",
       "      <td>Esteeme</td>\n",
       "      <td>코트</td>\n",
       "      <td>4</td>\n",
       "    </tr>\n",
       "    <tr>\n",
       "      <th>2</th>\n",
       "      <td>Shoote</td>\n",
       "      <td>남성캐주얼</td>\n",
       "      <td>142</td>\n",
       "    </tr>\n",
       "    <tr>\n",
       "      <th>3</th>\n",
       "      <td>Shoote</td>\n",
       "      <td>여성캐주얼</td>\n",
       "      <td>447</td>\n",
       "    </tr>\n",
       "    <tr>\n",
       "      <th>4</th>\n",
       "      <td>Shoote</td>\n",
       "      <td>코트</td>\n",
       "      <td>32</td>\n",
       "    </tr>\n",
       "  </tbody>\n",
       "</table>\n",
       "</div>"
      ],
      "text/plain": [
       "  brand_nm   lcat  item_id\n",
       "0  Esteeme  여성캐주얼      333\n",
       "1  Esteeme     코트        4\n",
       "2   Shoote  남성캐주얼      142\n",
       "3   Shoote  여성캐주얼      447\n",
       "4   Shoote     코트       32"
      ]
     },
     "execution_count": 44,
     "metadata": {},
     "output_type": "execute_result"
    }
   ],
   "source": [
    "# index를 컬럼으로 변경\n",
    "\n",
    "itemmast[['brand_nm', 'lcat', 'item_id']].groupby(['brand_nm', 'lcat']).count().reset_index()"
   ]
  },
  {
   "cell_type": "code",
   "execution_count": 45,
   "metadata": {},
   "outputs": [
    {
     "name": "stdout",
     "output_type": "stream",
     "text": [
      "Index(['brand_nm', 'lcat', 'item_id'], dtype='object')\n"
     ]
    },
    {
     "data": {
      "text/html": [
       "<div>\n",
       "<style scoped>\n",
       "    .dataframe tbody tr th:only-of-type {\n",
       "        vertical-align: middle;\n",
       "    }\n",
       "\n",
       "    .dataframe tbody tr th {\n",
       "        vertical-align: top;\n",
       "    }\n",
       "\n",
       "    .dataframe thead th {\n",
       "        text-align: right;\n",
       "    }\n",
       "</style>\n",
       "<table border=\"1\" class=\"dataframe\">\n",
       "  <thead>\n",
       "    <tr style=\"text-align: right;\">\n",
       "      <th></th>\n",
       "      <th>brand_nm</th>\n",
       "      <th>lcat</th>\n",
       "      <th>nitem</th>\n",
       "    </tr>\n",
       "  </thead>\n",
       "  <tbody>\n",
       "    <tr>\n",
       "      <th>0</th>\n",
       "      <td>Esteeme</td>\n",
       "      <td>여성캐주얼</td>\n",
       "      <td>333</td>\n",
       "    </tr>\n",
       "    <tr>\n",
       "      <th>1</th>\n",
       "      <td>Esteeme</td>\n",
       "      <td>코트</td>\n",
       "      <td>4</td>\n",
       "    </tr>\n",
       "    <tr>\n",
       "      <th>2</th>\n",
       "      <td>Shoote</td>\n",
       "      <td>남성캐주얼</td>\n",
       "      <td>142</td>\n",
       "    </tr>\n",
       "    <tr>\n",
       "      <th>3</th>\n",
       "      <td>Shoote</td>\n",
       "      <td>여성캐주얼</td>\n",
       "      <td>447</td>\n",
       "    </tr>\n",
       "    <tr>\n",
       "      <th>4</th>\n",
       "      <td>Shoote</td>\n",
       "      <td>코트</td>\n",
       "      <td>32</td>\n",
       "    </tr>\n",
       "  </tbody>\n",
       "</table>\n",
       "</div>"
      ],
      "text/plain": [
       "  brand_nm   lcat  nitem\n",
       "0  Esteeme  여성캐주얼    333\n",
       "1  Esteeme     코트      4\n",
       "2   Shoote  남성캐주얼    142\n",
       "3   Shoote  여성캐주얼    447\n",
       "4   Shoote     코트     32"
      ]
     },
     "execution_count": 45,
     "metadata": {},
     "output_type": "execute_result"
    }
   ],
   "source": [
    "# 상품수를 나타내는 컬럼명으로 변경\n",
    "\n",
    "itemmast_agg1 = itemmast[['brand_nm', 'lcat', 'item_id']].groupby(['brand_nm', 'lcat']).count().reset_index()\n",
    "print(itemmast_agg1.columns)\n",
    "\n",
    "# 새로운 컬럼명을 가진 리스트로 컬럼명을 변경\n",
    "\n",
    "itemmast_agg1.columns = ['brand_nm', 'lcat', 'nitem']\n",
    "\n",
    "# 변경할 컬럼명을 지정해서 각각 변경하는 방식 사용도 가능\n",
    "# itemmast_agg1 = itemmast_agg1.rename({'item_id': 'nitem'}, axis=1)\n",
    "\n",
    "itemmast_agg1"
   ]
  },
  {
   "cell_type": "code",
   "execution_count": 46,
   "metadata": {},
   "outputs": [
    {
     "data": {
      "image/png": "[encoded data removed]",
      "text/plain": [
       "<Figure size 432x288 with 1 Axes>"
      ]
     },
     "metadata": {
      "needs_background": "light"
     },
     "output_type": "display_data"
    }
   ],
   "source": [
    "# 브랜드별 대분류별 상품수 챠트로 확인\n",
    "\n",
    "# 조건에 따라 다른 색상을 지정 (색상리스트 생성)\n",
    "colors1 = np.where(itemmast_agg1.brand_nm=='Esteeme','pink', 'blue')\n",
    "\n",
    "#  브랜드명과 대분류명을 결합해 xticks X축 항목 값으로 사용\n",
    "plt.bar(itemmast_agg1.brand_nm + '_' + itemmast_agg1.lcat, itemmast_agg1.nitem,\n",
    "        color=colors1, \n",
    "        alpha=0.7)\n",
    "plt.xticks(rotation=90)\n",
    "plt.ylabel('상품군별 상품수')\n",
    "plt.show()"
   ]
  },
  {
   "cell_type": "code",
   "execution_count": 47,
   "metadata": {},
   "outputs": [
    {
     "data": {
      "text/html": [
       "<div>\n",
       "<style scoped>\n",
       "    .dataframe tbody tr th:only-of-type {\n",
       "        vertical-align: middle;\n",
       "    }\n",
       "\n",
       "    .dataframe tbody tr th {\n",
       "        vertical-align: top;\n",
       "    }\n",
       "\n",
       "    .dataframe thead th {\n",
       "        text-align: right;\n",
       "    }\n",
       "</style>\n",
       "<table border=\"1\" class=\"dataframe\">\n",
       "  <thead>\n",
       "    <tr style=\"text-align: right;\">\n",
       "      <th></th>\n",
       "      <th>item_id</th>\n",
       "      <th>brand_nm</th>\n",
       "      <th>unit_prc</th>\n",
       "      <th>itemyr</th>\n",
       "      <th>season</th>\n",
       "      <th>scat</th>\n",
       "      <th>ranseq</th>\n",
       "      <th>lcat</th>\n",
       "      <th>size</th>\n",
       "      <th>color</th>\n",
       "      <th>item_id_detcode</th>\n",
       "    </tr>\n",
       "  </thead>\n",
       "  <tbody>\n",
       "    <tr>\n",
       "      <th>0</th>\n",
       "      <td>ES2000501</td>\n",
       "      <td>Esteeme</td>\n",
       "      <td>155000</td>\n",
       "      <td>2018</td>\n",
       "      <td>AS</td>\n",
       "      <td>재킷</td>\n",
       "      <td>107</td>\n",
       "      <td>여성캐주얼</td>\n",
       "      <td>95</td>\n",
       "      <td>navy</td>\n",
       "      <td>101</td>\n",
       "    </tr>\n",
       "    <tr>\n",
       "      <th>1</th>\n",
       "      <td>ES2000502</td>\n",
       "      <td>Esteeme</td>\n",
       "      <td>155000</td>\n",
       "      <td>2018</td>\n",
       "      <td>AS</td>\n",
       "      <td>재킷</td>\n",
       "      <td>107</td>\n",
       "      <td>여성캐주얼</td>\n",
       "      <td>95</td>\n",
       "      <td>light grey</td>\n",
       "      <td>102</td>\n",
       "    </tr>\n",
       "    <tr>\n",
       "      <th>2</th>\n",
       "      <td>ES2000503</td>\n",
       "      <td>Esteeme</td>\n",
       "      <td>155000</td>\n",
       "      <td>2018</td>\n",
       "      <td>AS</td>\n",
       "      <td>재킷</td>\n",
       "      <td>107</td>\n",
       "      <td>여성캐주얼</td>\n",
       "      <td>100</td>\n",
       "      <td>navy</td>\n",
       "      <td>103</td>\n",
       "    </tr>\n",
       "    <tr>\n",
       "      <th>3</th>\n",
       "      <td>ES2000504</td>\n",
       "      <td>Esteeme</td>\n",
       "      <td>155000</td>\n",
       "      <td>2018</td>\n",
       "      <td>AS</td>\n",
       "      <td>재킷</td>\n",
       "      <td>107</td>\n",
       "      <td>여성캐주얼</td>\n",
       "      <td>100</td>\n",
       "      <td>light grey</td>\n",
       "      <td>104</td>\n",
       "    </tr>\n",
       "    <tr>\n",
       "      <th>4</th>\n",
       "      <td>ES2000505</td>\n",
       "      <td>Esteeme</td>\n",
       "      <td>155000</td>\n",
       "      <td>2018</td>\n",
       "      <td>AS</td>\n",
       "      <td>재킷</td>\n",
       "      <td>107</td>\n",
       "      <td>여성캐주얼</td>\n",
       "      <td>105</td>\n",
       "      <td>navy</td>\n",
       "      <td>105</td>\n",
       "    </tr>\n",
       "    <tr>\n",
       "      <th>...</th>\n",
       "      <td>...</td>\n",
       "      <td>...</td>\n",
       "      <td>...</td>\n",
       "      <td>...</td>\n",
       "      <td>...</td>\n",
       "      <td>...</td>\n",
       "      <td>...</td>\n",
       "      <td>...</td>\n",
       "      <td>...</td>\n",
       "      <td>...</td>\n",
       "      <td>...</td>\n",
       "    </tr>\n",
       "    <tr>\n",
       "      <th>748</th>\n",
       "      <td>ES2004602</td>\n",
       "      <td>Esteeme</td>\n",
       "      <td>135000</td>\n",
       "      <td>2020</td>\n",
       "      <td>AS</td>\n",
       "      <td>재킷</td>\n",
       "      <td>99</td>\n",
       "      <td>여성캐주얼</td>\n",
       "      <td>95</td>\n",
       "      <td>light grey</td>\n",
       "      <td>102</td>\n",
       "    </tr>\n",
       "    <tr>\n",
       "      <th>749</th>\n",
       "      <td>ES2004603</td>\n",
       "      <td>Esteeme</td>\n",
       "      <td>135000</td>\n",
       "      <td>2020</td>\n",
       "      <td>AS</td>\n",
       "      <td>재킷</td>\n",
       "      <td>99</td>\n",
       "      <td>여성캐주얼</td>\n",
       "      <td>100</td>\n",
       "      <td>navy</td>\n",
       "      <td>103</td>\n",
       "    </tr>\n",
       "    <tr>\n",
       "      <th>750</th>\n",
       "      <td>ES2004604</td>\n",
       "      <td>Esteeme</td>\n",
       "      <td>135000</td>\n",
       "      <td>2020</td>\n",
       "      <td>AS</td>\n",
       "      <td>재킷</td>\n",
       "      <td>99</td>\n",
       "      <td>여성캐주얼</td>\n",
       "      <td>100</td>\n",
       "      <td>light grey</td>\n",
       "      <td>104</td>\n",
       "    </tr>\n",
       "    <tr>\n",
       "      <th>751</th>\n",
       "      <td>ES2004605</td>\n",
       "      <td>Esteeme</td>\n",
       "      <td>135000</td>\n",
       "      <td>2020</td>\n",
       "      <td>AS</td>\n",
       "      <td>재킷</td>\n",
       "      <td>99</td>\n",
       "      <td>여성캐주얼</td>\n",
       "      <td>105</td>\n",
       "      <td>navy</td>\n",
       "      <td>105</td>\n",
       "    </tr>\n",
       "    <tr>\n",
       "      <th>752</th>\n",
       "      <td>ES2004606</td>\n",
       "      <td>Esteeme</td>\n",
       "      <td>135000</td>\n",
       "      <td>2020</td>\n",
       "      <td>AS</td>\n",
       "      <td>재킷</td>\n",
       "      <td>99</td>\n",
       "      <td>여성캐주얼</td>\n",
       "      <td>105</td>\n",
       "      <td>light grey</td>\n",
       "      <td>106</td>\n",
       "    </tr>\n",
       "  </tbody>\n",
       "</table>\n",
       "<p>337 rows × 11 columns</p>\n",
       "</div>"
      ],
      "text/plain": [
       "       item_id brand_nm  unit_prc  itemyr season scat  ranseq   lcat  size  \\\n",
       "0    ES2000501  Esteeme    155000    2018     AS   재킷     107  여성캐주얼    95   \n",
       "1    ES2000502  Esteeme    155000    2018     AS   재킷     107  여성캐주얼    95   \n",
       "2    ES2000503  Esteeme    155000    2018     AS   재킷     107  여성캐주얼   100   \n",
       "3    ES2000504  Esteeme    155000    2018     AS   재킷     107  여성캐주얼   100   \n",
       "4    ES2000505  Esteeme    155000    2018     AS   재킷     107  여성캐주얼   105   \n",
       "..         ...      ...       ...     ...    ...  ...     ...    ...   ...   \n",
       "748  ES2004602  Esteeme    135000    2020     AS   재킷      99  여성캐주얼    95   \n",
       "749  ES2004603  Esteeme    135000    2020     AS   재킷      99  여성캐주얼   100   \n",
       "750  ES2004604  Esteeme    135000    2020     AS   재킷      99  여성캐주얼   100   \n",
       "751  ES2004605  Esteeme    135000    2020     AS   재킷      99  여성캐주얼   105   \n",
       "752  ES2004606  Esteeme    135000    2020     AS   재킷      99  여성캐주얼   105   \n",
       "\n",
       "          color  item_id_detcode  \n",
       "0          navy              101  \n",
       "1    light grey              102  \n",
       "2          navy              103  \n",
       "3    light grey              104  \n",
       "4          navy              105  \n",
       "..          ...              ...  \n",
       "748  light grey              102  \n",
       "749        navy              103  \n",
       "750  light grey              104  \n",
       "751        navy              105  \n",
       "752  light grey              106  \n",
       "\n",
       "[337 rows x 11 columns]"
      ]
     },
     "execution_count": 47,
     "metadata": {},
     "output_type": "execute_result"
    }
   ],
   "source": [
    "# Esteeme 브랜드의 코트 대분류 목록만 추출해 보기 \n",
    "# -- subset 부분 집합 추출 (조건에 맞는 일부 행만을 추출)\n",
    "\n",
    "itemmast[itemmast.brand_nm=='Esteeme'] # 한 가지 조건만 적용하는 경우"
   ]
  },
  {
   "cell_type": "markdown",
   "metadata": {},
   "source": [
    "- 참고 : season 컬럼의 값 중 **AS** 는 전시즌 (all season)"
   ]
  },
  {
   "cell_type": "code",
   "execution_count": 48,
   "metadata": {},
   "outputs": [
    {
     "data": {
      "text/html": [
       "<div>\n",
       "<style scoped>\n",
       "    .dataframe tbody tr th:only-of-type {\n",
       "        vertical-align: middle;\n",
       "    }\n",
       "\n",
       "    .dataframe tbody tr th {\n",
       "        vertical-align: top;\n",
       "    }\n",
       "\n",
       "    .dataframe thead th {\n",
       "        text-align: right;\n",
       "    }\n",
       "</style>\n",
       "<table border=\"1\" class=\"dataframe\">\n",
       "  <thead>\n",
       "    <tr style=\"text-align: right;\">\n",
       "      <th></th>\n",
       "      <th>item_id</th>\n",
       "      <th>brand_nm</th>\n",
       "      <th>unit_prc</th>\n",
       "      <th>itemyr</th>\n",
       "      <th>season</th>\n",
       "      <th>scat</th>\n",
       "      <th>ranseq</th>\n",
       "      <th>lcat</th>\n",
       "      <th>size</th>\n",
       "      <th>color</th>\n",
       "      <th>item_id_detcode</th>\n",
       "    </tr>\n",
       "  </thead>\n",
       "  <tbody>\n",
       "    <tr>\n",
       "      <th>719</th>\n",
       "      <td>ES2004201</td>\n",
       "      <td>Esteeme</td>\n",
       "      <td>165000</td>\n",
       "      <td>2020</td>\n",
       "      <td>FW</td>\n",
       "      <td>코트</td>\n",
       "      <td>110</td>\n",
       "      <td>코트</td>\n",
       "      <td>90</td>\n",
       "      <td>black</td>\n",
       "      <td>101</td>\n",
       "    </tr>\n",
       "    <tr>\n",
       "      <th>720</th>\n",
       "      <td>ES2004202</td>\n",
       "      <td>Esteeme</td>\n",
       "      <td>165000</td>\n",
       "      <td>2020</td>\n",
       "      <td>FW</td>\n",
       "      <td>코트</td>\n",
       "      <td>110</td>\n",
       "      <td>코트</td>\n",
       "      <td>90</td>\n",
       "      <td>navy</td>\n",
       "      <td>102</td>\n",
       "    </tr>\n",
       "    <tr>\n",
       "      <th>721</th>\n",
       "      <td>ES2004203</td>\n",
       "      <td>Esteeme</td>\n",
       "      <td>165000</td>\n",
       "      <td>2020</td>\n",
       "      <td>FW</td>\n",
       "      <td>코트</td>\n",
       "      <td>110</td>\n",
       "      <td>코트</td>\n",
       "      <td>95</td>\n",
       "      <td>black</td>\n",
       "      <td>103</td>\n",
       "    </tr>\n",
       "    <tr>\n",
       "      <th>722</th>\n",
       "      <td>ES2004204</td>\n",
       "      <td>Esteeme</td>\n",
       "      <td>165000</td>\n",
       "      <td>2020</td>\n",
       "      <td>FW</td>\n",
       "      <td>코트</td>\n",
       "      <td>110</td>\n",
       "      <td>코트</td>\n",
       "      <td>95</td>\n",
       "      <td>navy</td>\n",
       "      <td>104</td>\n",
       "    </tr>\n",
       "  </tbody>\n",
       "</table>\n",
       "</div>"
      ],
      "text/plain": [
       "       item_id brand_nm  unit_prc  itemyr season scat  ranseq lcat  size  \\\n",
       "719  ES2004201  Esteeme    165000    2020     FW   코트     110   코트    90   \n",
       "720  ES2004202  Esteeme    165000    2020     FW   코트     110   코트    90   \n",
       "721  ES2004203  Esteeme    165000    2020     FW   코트     110   코트    95   \n",
       "722  ES2004204  Esteeme    165000    2020     FW   코트     110   코트    95   \n",
       "\n",
       "     color  item_id_detcode  \n",
       "719  black              101  \n",
       "720   navy              102  \n",
       "721  black              103  \n",
       "722   navy              104  "
      ]
     },
     "execution_count": 48,
     "metadata": {},
     "output_type": "execute_result"
    }
   ],
   "source": [
    "itemmast[(itemmast.brand_nm=='Esteeme') & (itemmast.lcat=='코트')]\n",
    "\n",
    "# 두 가지 조건을 동시 적용하는 경우\n",
    "# 각 조건에 괄호 () 를 주고 & (and) 또는 | (or) 로 연결"
   ]
  },
  {
   "cell_type": "code",
   "execution_count": 49,
   "metadata": {},
   "outputs": [
    {
     "data": {
      "text/html": [
       "<div>\n",
       "<style scoped>\n",
       "    .dataframe tbody tr th:only-of-type {\n",
       "        vertical-align: middle;\n",
       "    }\n",
       "\n",
       "    .dataframe tbody tr th {\n",
       "        vertical-align: top;\n",
       "    }\n",
       "\n",
       "    .dataframe thead th {\n",
       "        text-align: right;\n",
       "    }\n",
       "</style>\n",
       "<table border=\"1\" class=\"dataframe\">\n",
       "  <thead>\n",
       "    <tr style=\"text-align: right;\">\n",
       "      <th></th>\n",
       "      <th>item_id</th>\n",
       "      <th>brand_nm</th>\n",
       "      <th>unit_prc</th>\n",
       "      <th>itemyr</th>\n",
       "      <th>season</th>\n",
       "      <th>scat</th>\n",
       "      <th>ranseq</th>\n",
       "      <th>lcat</th>\n",
       "      <th>size</th>\n",
       "      <th>color</th>\n",
       "      <th>item_id_detcode</th>\n",
       "    </tr>\n",
       "  </thead>\n",
       "  <tbody>\n",
       "    <tr>\n",
       "      <th>641</th>\n",
       "      <td>ES2003201</td>\n",
       "      <td>Esteeme</td>\n",
       "      <td>65000</td>\n",
       "      <td>2020</td>\n",
       "      <td>AS</td>\n",
       "      <td>셔츠</td>\n",
       "      <td>28</td>\n",
       "      <td>여성캐주얼</td>\n",
       "      <td>90</td>\n",
       "      <td>white</td>\n",
       "      <td>101</td>\n",
       "    </tr>\n",
       "    <tr>\n",
       "      <th>642</th>\n",
       "      <td>ES2003202</td>\n",
       "      <td>Esteeme</td>\n",
       "      <td>65000</td>\n",
       "      <td>2020</td>\n",
       "      <td>AS</td>\n",
       "      <td>셔츠</td>\n",
       "      <td>28</td>\n",
       "      <td>여성캐주얼</td>\n",
       "      <td>90</td>\n",
       "      <td>blue</td>\n",
       "      <td>102</td>\n",
       "    </tr>\n",
       "    <tr>\n",
       "      <th>643</th>\n",
       "      <td>ES2003203</td>\n",
       "      <td>Esteeme</td>\n",
       "      <td>65000</td>\n",
       "      <td>2020</td>\n",
       "      <td>AS</td>\n",
       "      <td>셔츠</td>\n",
       "      <td>28</td>\n",
       "      <td>여성캐주얼</td>\n",
       "      <td>90</td>\n",
       "      <td>pink</td>\n",
       "      <td>103</td>\n",
       "    </tr>\n",
       "    <tr>\n",
       "      <th>644</th>\n",
       "      <td>ES2003204</td>\n",
       "      <td>Esteeme</td>\n",
       "      <td>65000</td>\n",
       "      <td>2020</td>\n",
       "      <td>AS</td>\n",
       "      <td>셔츠</td>\n",
       "      <td>28</td>\n",
       "      <td>여성캐주얼</td>\n",
       "      <td>95</td>\n",
       "      <td>white</td>\n",
       "      <td>104</td>\n",
       "    </tr>\n",
       "    <tr>\n",
       "      <th>645</th>\n",
       "      <td>ES2003205</td>\n",
       "      <td>Esteeme</td>\n",
       "      <td>65000</td>\n",
       "      <td>2020</td>\n",
       "      <td>AS</td>\n",
       "      <td>셔츠</td>\n",
       "      <td>28</td>\n",
       "      <td>여성캐주얼</td>\n",
       "      <td>95</td>\n",
       "      <td>blue</td>\n",
       "      <td>105</td>\n",
       "    </tr>\n",
       "    <tr>\n",
       "      <th>...</th>\n",
       "      <td>...</td>\n",
       "      <td>...</td>\n",
       "      <td>...</td>\n",
       "      <td>...</td>\n",
       "      <td>...</td>\n",
       "      <td>...</td>\n",
       "      <td>...</td>\n",
       "      <td>...</td>\n",
       "      <td>...</td>\n",
       "      <td>...</td>\n",
       "      <td>...</td>\n",
       "    </tr>\n",
       "    <tr>\n",
       "      <th>953</th>\n",
       "      <td>SH1009002</td>\n",
       "      <td>Shoote</td>\n",
       "      <td>60000</td>\n",
       "      <td>2020</td>\n",
       "      <td>FW</td>\n",
       "      <td>치마</td>\n",
       "      <td>9</td>\n",
       "      <td>여성캐주얼</td>\n",
       "      <td>66</td>\n",
       "      <td>black</td>\n",
       "      <td>102</td>\n",
       "    </tr>\n",
       "    <tr>\n",
       "      <th>954</th>\n",
       "      <td>SH1009003</td>\n",
       "      <td>Shoote</td>\n",
       "      <td>60000</td>\n",
       "      <td>2020</td>\n",
       "      <td>FW</td>\n",
       "      <td>치마</td>\n",
       "      <td>9</td>\n",
       "      <td>여성캐주얼</td>\n",
       "      <td>77</td>\n",
       "      <td>grey</td>\n",
       "      <td>103</td>\n",
       "    </tr>\n",
       "    <tr>\n",
       "      <th>955</th>\n",
       "      <td>SH1009004</td>\n",
       "      <td>Shoote</td>\n",
       "      <td>60000</td>\n",
       "      <td>2020</td>\n",
       "      <td>FW</td>\n",
       "      <td>치마</td>\n",
       "      <td>9</td>\n",
       "      <td>여성캐주얼</td>\n",
       "      <td>77</td>\n",
       "      <td>black</td>\n",
       "      <td>104</td>\n",
       "    </tr>\n",
       "    <tr>\n",
       "      <th>956</th>\n",
       "      <td>SH1009005</td>\n",
       "      <td>Shoote</td>\n",
       "      <td>60000</td>\n",
       "      <td>2020</td>\n",
       "      <td>FW</td>\n",
       "      <td>치마</td>\n",
       "      <td>9</td>\n",
       "      <td>여성캐주얼</td>\n",
       "      <td>88</td>\n",
       "      <td>grey</td>\n",
       "      <td>105</td>\n",
       "    </tr>\n",
       "    <tr>\n",
       "      <th>957</th>\n",
       "      <td>SH1009006</td>\n",
       "      <td>Shoote</td>\n",
       "      <td>60000</td>\n",
       "      <td>2020</td>\n",
       "      <td>FW</td>\n",
       "      <td>치마</td>\n",
       "      <td>9</td>\n",
       "      <td>여성캐주얼</td>\n",
       "      <td>88</td>\n",
       "      <td>black</td>\n",
       "      <td>106</td>\n",
       "    </tr>\n",
       "  </tbody>\n",
       "</table>\n",
       "<p>317 rows × 11 columns</p>\n",
       "</div>"
      ],
      "text/plain": [
       "       item_id brand_nm  unit_prc  itemyr season scat  ranseq   lcat  size  \\\n",
       "641  ES2003201  Esteeme     65000    2020     AS   셔츠      28  여성캐주얼    90   \n",
       "642  ES2003202  Esteeme     65000    2020     AS   셔츠      28  여성캐주얼    90   \n",
       "643  ES2003203  Esteeme     65000    2020     AS   셔츠      28  여성캐주얼    90   \n",
       "644  ES2003204  Esteeme     65000    2020     AS   셔츠      28  여성캐주얼    95   \n",
       "645  ES2003205  Esteeme     65000    2020     AS   셔츠      28  여성캐주얼    95   \n",
       "..         ...      ...       ...     ...    ...  ...     ...    ...   ...   \n",
       "953  SH1009002   Shoote     60000    2020     FW   치마       9  여성캐주얼    66   \n",
       "954  SH1009003   Shoote     60000    2020     FW   치마       9  여성캐주얼    77   \n",
       "955  SH1009004   Shoote     60000    2020     FW   치마       9  여성캐주얼    77   \n",
       "956  SH1009005   Shoote     60000    2020     FW   치마       9  여성캐주얼    88   \n",
       "957  SH1009006   Shoote     60000    2020     FW   치마       9  여성캐주얼    88   \n",
       "\n",
       "     color  item_id_detcode  \n",
       "641  white              101  \n",
       "642   blue              102  \n",
       "643   pink              103  \n",
       "644  white              104  \n",
       "645   blue              105  \n",
       "..     ...              ...  \n",
       "953  black              102  \n",
       "954   grey              103  \n",
       "955  black              104  \n",
       "956   grey              105  \n",
       "957  black              106  \n",
       "\n",
       "[317 rows x 11 columns]"
      ]
     },
     "execution_count": 49,
     "metadata": {},
     "output_type": "execute_result"
    }
   ],
   "source": [
    "# 출시년도가 2020년인 상품만 추출\n",
    "\n",
    "itemmast[itemmast.itemyr==2020]"
   ]
  },
  {
   "cell_type": "code",
   "execution_count": 50,
   "metadata": {},
   "outputs": [
    {
     "data": {
      "text/html": [
       "<div>\n",
       "<style scoped>\n",
       "    .dataframe tbody tr th:only-of-type {\n",
       "        vertical-align: middle;\n",
       "    }\n",
       "\n",
       "    .dataframe tbody tr th {\n",
       "        vertical-align: top;\n",
       "    }\n",
       "\n",
       "    .dataframe thead th {\n",
       "        text-align: right;\n",
       "    }\n",
       "</style>\n",
       "<table border=\"1\" class=\"dataframe\">\n",
       "  <thead>\n",
       "    <tr style=\"text-align: right;\">\n",
       "      <th></th>\n",
       "      <th>item_id</th>\n",
       "      <th>brand_nm</th>\n",
       "      <th>unit_prc</th>\n",
       "      <th>itemyr</th>\n",
       "      <th>season</th>\n",
       "      <th>scat</th>\n",
       "      <th>ranseq</th>\n",
       "      <th>lcat</th>\n",
       "      <th>size</th>\n",
       "      <th>color</th>\n",
       "      <th>item_id_detcode</th>\n",
       "    </tr>\n",
       "  </thead>\n",
       "  <tbody>\n",
       "    <tr>\n",
       "      <th>0</th>\n",
       "      <td>ES2000501</td>\n",
       "      <td>Esteeme</td>\n",
       "      <td>155000</td>\n",
       "      <td>2018</td>\n",
       "      <td>AS</td>\n",
       "      <td>재킷</td>\n",
       "      <td>107</td>\n",
       "      <td>여성캐주얼</td>\n",
       "      <td>95</td>\n",
       "      <td>navy</td>\n",
       "      <td>101</td>\n",
       "    </tr>\n",
       "    <tr>\n",
       "      <th>1</th>\n",
       "      <td>ES2000502</td>\n",
       "      <td>Esteeme</td>\n",
       "      <td>155000</td>\n",
       "      <td>2018</td>\n",
       "      <td>AS</td>\n",
       "      <td>재킷</td>\n",
       "      <td>107</td>\n",
       "      <td>여성캐주얼</td>\n",
       "      <td>95</td>\n",
       "      <td>light grey</td>\n",
       "      <td>102</td>\n",
       "    </tr>\n",
       "    <tr>\n",
       "      <th>2</th>\n",
       "      <td>ES2000503</td>\n",
       "      <td>Esteeme</td>\n",
       "      <td>155000</td>\n",
       "      <td>2018</td>\n",
       "      <td>AS</td>\n",
       "      <td>재킷</td>\n",
       "      <td>107</td>\n",
       "      <td>여성캐주얼</td>\n",
       "      <td>100</td>\n",
       "      <td>navy</td>\n",
       "      <td>103</td>\n",
       "    </tr>\n",
       "    <tr>\n",
       "      <th>3</th>\n",
       "      <td>ES2000504</td>\n",
       "      <td>Esteeme</td>\n",
       "      <td>155000</td>\n",
       "      <td>2018</td>\n",
       "      <td>AS</td>\n",
       "      <td>재킷</td>\n",
       "      <td>107</td>\n",
       "      <td>여성캐주얼</td>\n",
       "      <td>100</td>\n",
       "      <td>light grey</td>\n",
       "      <td>104</td>\n",
       "    </tr>\n",
       "    <tr>\n",
       "      <th>4</th>\n",
       "      <td>ES2000505</td>\n",
       "      <td>Esteeme</td>\n",
       "      <td>155000</td>\n",
       "      <td>2018</td>\n",
       "      <td>AS</td>\n",
       "      <td>재킷</td>\n",
       "      <td>107</td>\n",
       "      <td>여성캐주얼</td>\n",
       "      <td>105</td>\n",
       "      <td>navy</td>\n",
       "      <td>105</td>\n",
       "    </tr>\n",
       "    <tr>\n",
       "      <th>...</th>\n",
       "      <td>...</td>\n",
       "      <td>...</td>\n",
       "      <td>...</td>\n",
       "      <td>...</td>\n",
       "      <td>...</td>\n",
       "      <td>...</td>\n",
       "      <td>...</td>\n",
       "      <td>...</td>\n",
       "      <td>...</td>\n",
       "      <td>...</td>\n",
       "      <td>...</td>\n",
       "    </tr>\n",
       "    <tr>\n",
       "      <th>950</th>\n",
       "      <td>SH1008905</td>\n",
       "      <td>Shoote</td>\n",
       "      <td>80000</td>\n",
       "      <td>2020</td>\n",
       "      <td>AS</td>\n",
       "      <td>셔츠</td>\n",
       "      <td>43</td>\n",
       "      <td>남성캐주얼</td>\n",
       "      <td>105</td>\n",
       "      <td>blue</td>\n",
       "      <td>105</td>\n",
       "    </tr>\n",
       "    <tr>\n",
       "      <th>951</th>\n",
       "      <td>SH1008906</td>\n",
       "      <td>Shoote</td>\n",
       "      <td>80000</td>\n",
       "      <td>2020</td>\n",
       "      <td>AS</td>\n",
       "      <td>셔츠</td>\n",
       "      <td>43</td>\n",
       "      <td>남성캐주얼</td>\n",
       "      <td>105</td>\n",
       "      <td>check</td>\n",
       "      <td>106</td>\n",
       "    </tr>\n",
       "    <tr>\n",
       "      <th>952</th>\n",
       "      <td>SH1009001</td>\n",
       "      <td>Shoote</td>\n",
       "      <td>60000</td>\n",
       "      <td>2020</td>\n",
       "      <td>FW</td>\n",
       "      <td>치마</td>\n",
       "      <td>9</td>\n",
       "      <td>여성캐주얼</td>\n",
       "      <td>66</td>\n",
       "      <td>grey</td>\n",
       "      <td>101</td>\n",
       "    </tr>\n",
       "    <tr>\n",
       "      <th>954</th>\n",
       "      <td>SH1009003</td>\n",
       "      <td>Shoote</td>\n",
       "      <td>60000</td>\n",
       "      <td>2020</td>\n",
       "      <td>FW</td>\n",
       "      <td>치마</td>\n",
       "      <td>9</td>\n",
       "      <td>여성캐주얼</td>\n",
       "      <td>77</td>\n",
       "      <td>grey</td>\n",
       "      <td>103</td>\n",
       "    </tr>\n",
       "    <tr>\n",
       "      <th>956</th>\n",
       "      <td>SH1009005</td>\n",
       "      <td>Shoote</td>\n",
       "      <td>60000</td>\n",
       "      <td>2020</td>\n",
       "      <td>FW</td>\n",
       "      <td>치마</td>\n",
       "      <td>9</td>\n",
       "      <td>여성캐주얼</td>\n",
       "      <td>88</td>\n",
       "      <td>grey</td>\n",
       "      <td>105</td>\n",
       "    </tr>\n",
       "  </tbody>\n",
       "</table>\n",
       "<p>769 rows × 11 columns</p>\n",
       "</div>"
      ],
      "text/plain": [
       "       item_id brand_nm  unit_prc  itemyr season scat  ranseq   lcat  size  \\\n",
       "0    ES2000501  Esteeme    155000    2018     AS   재킷     107  여성캐주얼    95   \n",
       "1    ES2000502  Esteeme    155000    2018     AS   재킷     107  여성캐주얼    95   \n",
       "2    ES2000503  Esteeme    155000    2018     AS   재킷     107  여성캐주얼   100   \n",
       "3    ES2000504  Esteeme    155000    2018     AS   재킷     107  여성캐주얼   100   \n",
       "4    ES2000505  Esteeme    155000    2018     AS   재킷     107  여성캐주얼   105   \n",
       "..         ...      ...       ...     ...    ...  ...     ...    ...   ...   \n",
       "950  SH1008905   Shoote     80000    2020     AS   셔츠      43  남성캐주얼   105   \n",
       "951  SH1008906   Shoote     80000    2020     AS   셔츠      43  남성캐주얼   105   \n",
       "952  SH1009001   Shoote     60000    2020     FW   치마       9  여성캐주얼    66   \n",
       "954  SH1009003   Shoote     60000    2020     FW   치마       9  여성캐주얼    77   \n",
       "956  SH1009005   Shoote     60000    2020     FW   치마       9  여성캐주얼    88   \n",
       "\n",
       "          color  item_id_detcode  \n",
       "0          navy              101  \n",
       "1    light grey              102  \n",
       "2          navy              103  \n",
       "3    light grey              104  \n",
       "4          navy              105  \n",
       "..          ...              ...  \n",
       "950        blue              105  \n",
       "951       check              106  \n",
       "952        grey              101  \n",
       "954        grey              103  \n",
       "956        grey              105  \n",
       "\n",
       "[769 rows x 11 columns]"
      ]
     },
     "execution_count": 50,
     "metadata": {},
     "output_type": "execute_result"
    }
   ],
   "source": [
    "# 색상이 black이 아닌 상품만 추출\n",
    "\n",
    "itemmast[itemmast.color!='black']\n",
    "\n",
    "# itemmast[~(itemmast.color=='black')]\n",
    "# ~ 표시는 부정 not 의미"
   ]
  },
  {
   "cell_type": "code",
   "execution_count": null,
   "metadata": {},
   "outputs": [],
   "source": []
  },
  {
   "cell_type": "markdown",
   "metadata": {},
   "source": [
    "## 연습문제"
   ]
  },
  {
   "cell_type": "code",
   "execution_count": 51,
   "metadata": {},
   "outputs": [
    {
     "data": {
      "text/plain": [
       "2      ES2000503\n",
       "80     ES2001406\n",
       "463    SH1003608\n",
       "557    SH1004909\n",
       "160    SH1001304\n",
       "232    SH1002402\n",
       "122    SH1000802\n",
       "375    ES2002906\n",
       "853    SH1007506\n",
       "648    ES2003208\n",
       "Name: item_id, dtype: object"
      ]
     },
     "execution_count": 51,
     "metadata": {},
     "output_type": "execute_result"
    }
   ],
   "source": [
    "# item_id에서 브랜드 코드명을 추출해 브랜드명 컬럼 생성\n",
    "\n",
    "# item_id의 구조 확인\n",
    "itemmast.sample(10).item_id"
   ]
  },
  {
   "cell_type": "code",
   "execution_count": 52,
   "metadata": {},
   "outputs": [
    {
     "data": {
      "text/html": [
       "<div>\n",
       "<style scoped>\n",
       "    .dataframe tbody tr th:only-of-type {\n",
       "        vertical-align: middle;\n",
       "    }\n",
       "\n",
       "    .dataframe tbody tr th {\n",
       "        vertical-align: top;\n",
       "    }\n",
       "\n",
       "    .dataframe thead th {\n",
       "        text-align: right;\n",
       "    }\n",
       "</style>\n",
       "<table border=\"1\" class=\"dataframe\">\n",
       "  <thead>\n",
       "    <tr style=\"text-align: right;\">\n",
       "      <th></th>\n",
       "      <th>item_id</th>\n",
       "      <th>brand_nm</th>\n",
       "      <th>unit_prc</th>\n",
       "      <th>itemyr</th>\n",
       "      <th>season</th>\n",
       "      <th>scat</th>\n",
       "      <th>ranseq</th>\n",
       "      <th>lcat</th>\n",
       "      <th>size</th>\n",
       "      <th>color</th>\n",
       "      <th>item_id_detcode</th>\n",
       "    </tr>\n",
       "  </thead>\n",
       "  <tbody>\n",
       "    <tr>\n",
       "      <th>933</th>\n",
       "      <td>SH1008706</td>\n",
       "      <td>Shoote</td>\n",
       "      <td>35000</td>\n",
       "      <td>2020</td>\n",
       "      <td>SS</td>\n",
       "      <td>바지</td>\n",
       "      <td>5</td>\n",
       "      <td>여성캐주얼</td>\n",
       "      <td>77</td>\n",
       "      <td>navy</td>\n",
       "      <td>106</td>\n",
       "    </tr>\n",
       "    <tr>\n",
       "      <th>168</th>\n",
       "      <td>SH1001403</td>\n",
       "      <td>Shoote</td>\n",
       "      <td>70000</td>\n",
       "      <td>2018</td>\n",
       "      <td>FW</td>\n",
       "      <td>치마</td>\n",
       "      <td>45</td>\n",
       "      <td>여성캐주얼</td>\n",
       "      <td>77</td>\n",
       "      <td>grey</td>\n",
       "      <td>103</td>\n",
       "    </tr>\n",
       "    <tr>\n",
       "      <th>520</th>\n",
       "      <td>SH1004401</td>\n",
       "      <td>Shoote</td>\n",
       "      <td>80000</td>\n",
       "      <td>2019</td>\n",
       "      <td>FW</td>\n",
       "      <td>셔츠</td>\n",
       "      <td>55</td>\n",
       "      <td>남성캐주얼</td>\n",
       "      <td>95</td>\n",
       "      <td>white</td>\n",
       "      <td>101</td>\n",
       "    </tr>\n",
       "    <tr>\n",
       "      <th>710</th>\n",
       "      <td>ES2004007</td>\n",
       "      <td>Esteeme</td>\n",
       "      <td>100000</td>\n",
       "      <td>2020</td>\n",
       "      <td>FW</td>\n",
       "      <td>바지</td>\n",
       "      <td>66</td>\n",
       "      <td>여성캐주얼</td>\n",
       "      <td>88</td>\n",
       "      <td>grey</td>\n",
       "      <td>107</td>\n",
       "    </tr>\n",
       "    <tr>\n",
       "      <th>270</th>\n",
       "      <td>ES2001703</td>\n",
       "      <td>Esteeme</td>\n",
       "      <td>100000</td>\n",
       "      <td>2019</td>\n",
       "      <td>FW</td>\n",
       "      <td>바지</td>\n",
       "      <td>68</td>\n",
       "      <td>여성캐주얼</td>\n",
       "      <td>66</td>\n",
       "      <td>navy</td>\n",
       "      <td>103</td>\n",
       "    </tr>\n",
       "  </tbody>\n",
       "</table>\n",
       "</div>"
      ],
      "text/plain": [
       "       item_id brand_nm  unit_prc  itemyr season scat  ranseq   lcat  size  \\\n",
       "933  SH1008706   Shoote     35000    2020     SS   바지       5  여성캐주얼    77   \n",
       "168  SH1001403   Shoote     70000    2018     FW   치마      45  여성캐주얼    77   \n",
       "520  SH1004401   Shoote     80000    2019     FW   셔츠      55  남성캐주얼    95   \n",
       "710  ES2004007  Esteeme    100000    2020     FW   바지      66  여성캐주얼    88   \n",
       "270  ES2001703  Esteeme    100000    2019     FW   바지      68  여성캐주얼    66   \n",
       "\n",
       "     color  item_id_detcode  \n",
       "933   navy              106  \n",
       "168   grey              103  \n",
       "520  white              101  \n",
       "710   grey              107  \n",
       "270   navy              103  "
      ]
     },
     "execution_count": 52,
     "metadata": {},
     "output_type": "execute_result"
    }
   ],
   "source": [
    "itemmast.sample(5)"
   ]
  },
  {
   "cell_type": "code",
   "execution_count": 53,
   "metadata": {},
   "outputs": [
    {
     "data": {
      "text/html": [
       "<div>\n",
       "<style scoped>\n",
       "    .dataframe tbody tr th:only-of-type {\n",
       "        vertical-align: middle;\n",
       "    }\n",
       "\n",
       "    .dataframe tbody tr th {\n",
       "        vertical-align: top;\n",
       "    }\n",
       "\n",
       "    .dataframe thead th {\n",
       "        text-align: right;\n",
       "    }\n",
       "</style>\n",
       "<table border=\"1\" class=\"dataframe\">\n",
       "  <thead>\n",
       "    <tr style=\"text-align: right;\">\n",
       "      <th></th>\n",
       "      <th>item_id</th>\n",
       "      <th>season</th>\n",
       "      <th>scat</th>\n",
       "      <th>color</th>\n",
       "    </tr>\n",
       "  </thead>\n",
       "  <tbody>\n",
       "    <tr>\n",
       "      <th>275</th>\n",
       "      <td>ES2001708</td>\n",
       "      <td>FW</td>\n",
       "      <td>바지</td>\n",
       "      <td>black</td>\n",
       "    </tr>\n",
       "    <tr>\n",
       "      <th>617</th>\n",
       "      <td>SH1005802</td>\n",
       "      <td>AS</td>\n",
       "      <td>바지</td>\n",
       "      <td>black</td>\n",
       "    </tr>\n",
       "    <tr>\n",
       "      <th>716</th>\n",
       "      <td>ES2004104</td>\n",
       "      <td>SS</td>\n",
       "      <td>치마</td>\n",
       "      <td>black</td>\n",
       "    </tr>\n",
       "    <tr>\n",
       "      <th>938</th>\n",
       "      <td>SH1008802</td>\n",
       "      <td>FW</td>\n",
       "      <td>바지</td>\n",
       "      <td>black</td>\n",
       "    </tr>\n",
       "    <tr>\n",
       "      <th>808</th>\n",
       "      <td>SH1006808</td>\n",
       "      <td>FW</td>\n",
       "      <td>바지</td>\n",
       "      <td>black</td>\n",
       "    </tr>\n",
       "  </tbody>\n",
       "</table>\n",
       "</div>"
      ],
      "text/plain": [
       "       item_id season scat  color\n",
       "275  ES2001708     FW   바지  black\n",
       "617  SH1005802     AS   바지  black\n",
       "716  ES2004104     SS   치마  black\n",
       "938  SH1008802     FW   바지  black\n",
       "808  SH1006808     FW   바지  black"
      ]
     },
     "execution_count": 53,
     "metadata": {},
     "output_type": "execute_result"
    }
   ],
   "source": [
    "df_itemsTmp = itemmast.sample(5)[['item_id', 'season', 'scat', 'color']]\n",
    "\n",
    "# 만일 item에 대해서 모든 속성이 아니라 시즌, 소분류, 색상만 포함된 테이블을 가지고 있는 경우\n",
    "df_itemsTmp"
   ]
  },
  {
   "cell_type": "code",
   "execution_count": 54,
   "metadata": {},
   "outputs": [
    {
     "name": "stdout",
     "output_type": "stream",
     "text": [
      "<class 'pandas.core.frame.DataFrame'>\n",
      "Int64Index: 5 entries, 275 to 808\n",
      "Data columns (total 4 columns):\n",
      " #   Column   Non-Null Count  Dtype \n",
      "---  ------   --------------  ----- \n",
      " 0   item_id  5 non-null      object\n",
      " 1   season   5 non-null      object\n",
      " 2   scat     5 non-null      object\n",
      " 3   color    5 non-null      object\n",
      "dtypes: object(4)\n",
      "memory usage: 200.0+ bytes\n"
     ]
    }
   ],
   "source": [
    "# df_itemsTmp 테이블에서 브랜드를 파악하고 싶다면?\n",
    "\n",
    "df_itemsTmp.info()"
   ]
  },
  {
   "cell_type": "code",
   "execution_count": 55,
   "metadata": {},
   "outputs": [
    {
     "data": {
      "text/plain": [
       "275    ES\n",
       "617    SH\n",
       "716    ES\n",
       "938    SH\n",
       "808    SH\n",
       "Name: item_id, dtype: object"
      ]
     },
     "execution_count": 55,
     "metadata": {},
     "output_type": "execute_result"
    }
   ],
   "source": [
    "# item_id 의 첫 두글자가 브랜드를 나타내는 코드이므로\n",
    "\n",
    "df_itemsTmp.item_id.str.slice(0,2)"
   ]
  },
  {
   "cell_type": "code",
   "execution_count": 95,
   "metadata": {},
   "outputs": [
    {
     "name": "stdout",
     "output_type": "stream",
     "text": [
      "[1, 3, 4, 7, 2]\n",
      "[1 3 4 7 2]\n"
     ]
    }
   ],
   "source": [
    "# numpy array 넘파이 어레이 배열\n",
    "\n",
    "A = [1,3,4,7,2]\n",
    "print(A)\n",
    "\n",
    "# np.array 함수를 적용하면 값이나 순서가 달라지지는 않지만 형식이 np.array로 바뀜\n",
    "print(np.array(A))"
   ]
  },
  {
   "cell_type": "code",
   "execution_count": 97,
   "metadata": {},
   "outputs": [
    {
     "data": {
      "text/plain": [
       "array(['esteeme', 'shoote', 'esteeme', 'shoote', 'shoote'], dtype='<U7')"
      ]
     },
     "execution_count": 97,
     "metadata": {},
     "output_type": "execute_result"
    }
   ],
   "source": [
    "# np.where 는 각 값별로 조건에 일치하는지를 확인한 후 \n",
    "# 조건에 일치할 경우, 아닐 경우에 각각 지정된 값을 \n",
    "# np.array 형식으로 출력\n",
    "\n",
    "np.where(df_itemsTmp.item_id.str.slice(0,2)=='ES', 'esteeme', 'shoote')"
   ]
  },
  {
   "cell_type": "code",
   "execution_count": 98,
   "metadata": {},
   "outputs": [
    {
     "data": {
      "text/html": [
       "<div>\n",
       "<style scoped>\n",
       "    .dataframe tbody tr th:only-of-type {\n",
       "        vertical-align: middle;\n",
       "    }\n",
       "\n",
       "    .dataframe tbody tr th {\n",
       "        vertical-align: top;\n",
       "    }\n",
       "\n",
       "    .dataframe thead th {\n",
       "        text-align: right;\n",
       "    }\n",
       "</style>\n",
       "<table border=\"1\" class=\"dataframe\">\n",
       "  <thead>\n",
       "    <tr style=\"text-align: right;\">\n",
       "      <th></th>\n",
       "      <th>item_id</th>\n",
       "      <th>season</th>\n",
       "      <th>scat</th>\n",
       "      <th>color</th>\n",
       "      <th>brand_nm</th>\n",
       "      <th>색상분류</th>\n",
       "    </tr>\n",
       "  </thead>\n",
       "  <tbody>\n",
       "    <tr>\n",
       "      <th>275</th>\n",
       "      <td>ES2001708</td>\n",
       "      <td>FW</td>\n",
       "      <td>바지</td>\n",
       "      <td>black</td>\n",
       "      <td>esteeme</td>\n",
       "      <td>MonoTone</td>\n",
       "    </tr>\n",
       "    <tr>\n",
       "      <th>617</th>\n",
       "      <td>SH1005802</td>\n",
       "      <td>AS</td>\n",
       "      <td>바지</td>\n",
       "      <td>black</td>\n",
       "      <td>shoote</td>\n",
       "      <td>MonoTone</td>\n",
       "    </tr>\n",
       "    <tr>\n",
       "      <th>716</th>\n",
       "      <td>ES2004104</td>\n",
       "      <td>SS</td>\n",
       "      <td>치마</td>\n",
       "      <td>black</td>\n",
       "      <td>esteeme</td>\n",
       "      <td>MonoTone</td>\n",
       "    </tr>\n",
       "    <tr>\n",
       "      <th>938</th>\n",
       "      <td>SH1008802</td>\n",
       "      <td>FW</td>\n",
       "      <td>바지</td>\n",
       "      <td>black</td>\n",
       "      <td>shoote</td>\n",
       "      <td>MonoTone</td>\n",
       "    </tr>\n",
       "    <tr>\n",
       "      <th>808</th>\n",
       "      <td>SH1006808</td>\n",
       "      <td>FW</td>\n",
       "      <td>바지</td>\n",
       "      <td>black</td>\n",
       "      <td>shoote</td>\n",
       "      <td>MonoTone</td>\n",
       "    </tr>\n",
       "  </tbody>\n",
       "</table>\n",
       "</div>"
      ],
      "text/plain": [
       "       item_id season scat  color brand_nm      색상분류\n",
       "275  ES2001708     FW   바지  black  esteeme  MonoTone\n",
       "617  SH1005802     AS   바지  black   shoote  MonoTone\n",
       "716  ES2004104     SS   치마  black  esteeme  MonoTone\n",
       "938  SH1008802     FW   바지  black   shoote  MonoTone\n",
       "808  SH1006808     FW   바지  black   shoote  MonoTone"
      ]
     },
     "execution_count": 98,
     "metadata": {},
     "output_type": "execute_result"
    }
   ],
   "source": [
    "# 테이블에 item_id에서 추출한 코드를 기준으로 각 행별 브랜드명을 나타내는 값들을 컬럼으로 추가\n",
    "\n",
    "df_itemsTmp['brand_nm'] = np.where(df_itemsTmp.item_id.str.slice(0,2)=='ES', 'esteeme', 'shoote')\n",
    "\n",
    "df_itemsTmp"
   ]
  },
  {
   "cell_type": "code",
   "execution_count": 58,
   "metadata": {},
   "outputs": [
    {
     "data": {
      "text/plain": [
       "array(['MonoTone', 'MonoTone', 'MonoTone', 'MonoTone', 'MonoTone'],\n",
       "      dtype='<U8')"
      ]
     },
     "execution_count": 58,
     "metadata": {},
     "output_type": "execute_result"
    }
   ],
   "source": [
    "# 색상이 grey, white, black 인 경우를 monotone 이라고 구분하는 컬럼을 추가\n",
    "\n",
    "monoColorList = ['grey', 'white', 'black']\n",
    "\n",
    "\n",
    "np.where(df_itemsTmp.color.isin(monoColorList), 'MonoTone', '기타색상' )"
   ]
  },
  {
   "cell_type": "code",
   "execution_count": 59,
   "metadata": {},
   "outputs": [
    {
     "data": {
      "text/html": [
       "<div>\n",
       "<style scoped>\n",
       "    .dataframe tbody tr th:only-of-type {\n",
       "        vertical-align: middle;\n",
       "    }\n",
       "\n",
       "    .dataframe tbody tr th {\n",
       "        vertical-align: top;\n",
       "    }\n",
       "\n",
       "    .dataframe thead th {\n",
       "        text-align: right;\n",
       "    }\n",
       "</style>\n",
       "<table border=\"1\" class=\"dataframe\">\n",
       "  <thead>\n",
       "    <tr style=\"text-align: right;\">\n",
       "      <th></th>\n",
       "      <th>item_id</th>\n",
       "      <th>season</th>\n",
       "      <th>scat</th>\n",
       "      <th>color</th>\n",
       "      <th>brand_nm</th>\n",
       "      <th>색상분류</th>\n",
       "    </tr>\n",
       "  </thead>\n",
       "  <tbody>\n",
       "    <tr>\n",
       "      <th>275</th>\n",
       "      <td>ES2001708</td>\n",
       "      <td>FW</td>\n",
       "      <td>바지</td>\n",
       "      <td>black</td>\n",
       "      <td>esteeme</td>\n",
       "      <td>MonoTone</td>\n",
       "    </tr>\n",
       "    <tr>\n",
       "      <th>617</th>\n",
       "      <td>SH1005802</td>\n",
       "      <td>AS</td>\n",
       "      <td>바지</td>\n",
       "      <td>black</td>\n",
       "      <td>shoote</td>\n",
       "      <td>MonoTone</td>\n",
       "    </tr>\n",
       "    <tr>\n",
       "      <th>716</th>\n",
       "      <td>ES2004104</td>\n",
       "      <td>SS</td>\n",
       "      <td>치마</td>\n",
       "      <td>black</td>\n",
       "      <td>esteeme</td>\n",
       "      <td>MonoTone</td>\n",
       "    </tr>\n",
       "    <tr>\n",
       "      <th>938</th>\n",
       "      <td>SH1008802</td>\n",
       "      <td>FW</td>\n",
       "      <td>바지</td>\n",
       "      <td>black</td>\n",
       "      <td>shoote</td>\n",
       "      <td>MonoTone</td>\n",
       "    </tr>\n",
       "    <tr>\n",
       "      <th>808</th>\n",
       "      <td>SH1006808</td>\n",
       "      <td>FW</td>\n",
       "      <td>바지</td>\n",
       "      <td>black</td>\n",
       "      <td>shoote</td>\n",
       "      <td>MonoTone</td>\n",
       "    </tr>\n",
       "  </tbody>\n",
       "</table>\n",
       "</div>"
      ],
      "text/plain": [
       "       item_id season scat  color brand_nm      색상분류\n",
       "275  ES2001708     FW   바지  black  esteeme  MonoTone\n",
       "617  SH1005802     AS   바지  black   shoote  MonoTone\n",
       "716  ES2004104     SS   치마  black  esteeme  MonoTone\n",
       "938  SH1008802     FW   바지  black   shoote  MonoTone\n",
       "808  SH1006808     FW   바지  black   shoote  MonoTone"
      ]
     },
     "execution_count": 59,
     "metadata": {},
     "output_type": "execute_result"
    }
   ],
   "source": [
    "df_itemsTmp['색상분류'] = np.where(df_itemsTmp.color.isin(monoColorList), 'MonoTone', '기타색상' )\n",
    "\n",
    "df_itemsTmp"
   ]
  },
  {
   "cell_type": "code",
   "execution_count": 60,
   "metadata": {},
   "outputs": [
    {
     "data": {
      "text/html": [
       "<div>\n",
       "<style scoped>\n",
       "    .dataframe tbody tr th:only-of-type {\n",
       "        vertical-align: middle;\n",
       "    }\n",
       "\n",
       "    .dataframe tbody tr th {\n",
       "        vertical-align: top;\n",
       "    }\n",
       "\n",
       "    .dataframe thead th {\n",
       "        text-align: right;\n",
       "    }\n",
       "</style>\n",
       "<table border=\"1\" class=\"dataframe\">\n",
       "  <thead>\n",
       "    <tr style=\"text-align: right;\">\n",
       "      <th>색상분류</th>\n",
       "      <th>MonoTone</th>\n",
       "    </tr>\n",
       "    <tr>\n",
       "      <th>season</th>\n",
       "      <th></th>\n",
       "    </tr>\n",
       "  </thead>\n",
       "  <tbody>\n",
       "    <tr>\n",
       "      <th>AS</th>\n",
       "      <td>1</td>\n",
       "    </tr>\n",
       "    <tr>\n",
       "      <th>FW</th>\n",
       "      <td>3</td>\n",
       "    </tr>\n",
       "    <tr>\n",
       "      <th>SS</th>\n",
       "      <td>1</td>\n",
       "    </tr>\n",
       "  </tbody>\n",
       "</table>\n",
       "</div>"
      ],
      "text/plain": [
       "색상분류    MonoTone\n",
       "season          \n",
       "AS             1\n",
       "FW             3\n",
       "SS             1"
      ]
     },
     "execution_count": 60,
     "metadata": {},
     "output_type": "execute_result"
    }
   ],
   "source": [
    "# 계절별 색상분류별 상품수 확인\n",
    "\n",
    "# 교차표 생성 (비교를 위한 컬럼들을 지정)\n",
    "pd.crosstab(df_itemsTmp.season, df_itemsTmp.색상분류)"
   ]
  },
  {
   "cell_type": "markdown",
   "metadata": {},
   "source": [
    "- [ 참고 ] pd.crosstab 은 행, 렬 양쪽에 각각 복수 컬럼을 지정해서 다차원 테이블 형태의 테이블 생성 가능\n",
    "- [ 참고 ] 단순 count 아닌 집계도 가능하지만 여기서는 skip"
   ]
  },
  {
   "cell_type": "code",
   "execution_count": 61,
   "metadata": {},
   "outputs": [
    {
     "data": {
      "text/html": [
       "<div>\n",
       "<style scoped>\n",
       "    .dataframe tbody tr th:only-of-type {\n",
       "        vertical-align: middle;\n",
       "    }\n",
       "\n",
       "    .dataframe tbody tr th {\n",
       "        vertical-align: top;\n",
       "    }\n",
       "\n",
       "    .dataframe thead th {\n",
       "        text-align: right;\n",
       "    }\n",
       "</style>\n",
       "<table border=\"1\" class=\"dataframe\">\n",
       "  <thead>\n",
       "    <tr style=\"text-align: right;\">\n",
       "      <th></th>\n",
       "      <th>cust_id</th>\n",
       "      <th>sex</th>\n",
       "      <th>area</th>\n",
       "      <th>birthyr</th>\n",
       "      <th>hh_income</th>\n",
       "      <th>age</th>\n",
       "      <th>marital</th>\n",
       "      <th>ranseq</th>\n",
       "      <th>signup_date</th>\n",
       "    </tr>\n",
       "  </thead>\n",
       "  <tbody>\n",
       "  </tbody>\n",
       "</table>\n",
       "</div>"
      ],
      "text/plain": [
       "Empty DataFrame\n",
       "Columns: [cust_id, sex, area, birthyr, hh_income, age, marital, ranseq, signup_date]\n",
       "Index: []"
      ]
     },
     "execution_count": 61,
     "metadata": {},
     "output_type": "execute_result"
    }
   ],
   "source": [
    "# 연령이 100세 이상인 고객이 있는지 확인\n",
    "\n",
    "custmast[custmast.age>=100]"
   ]
  },
  {
   "cell_type": "code",
   "execution_count": null,
   "metadata": {},
   "outputs": [],
   "source": []
  },
  {
   "cell_type": "code",
   "execution_count": 62,
   "metadata": {},
   "outputs": [
    {
     "data": {
      "text/html": [
       "<div>\n",
       "<style scoped>\n",
       "    .dataframe tbody tr th:only-of-type {\n",
       "        vertical-align: middle;\n",
       "    }\n",
       "\n",
       "    .dataframe tbody tr th {\n",
       "        vertical-align: top;\n",
       "    }\n",
       "\n",
       "    .dataframe thead th {\n",
       "        text-align: right;\n",
       "    }\n",
       "</style>\n",
       "<table border=\"1\" class=\"dataframe\">\n",
       "  <thead>\n",
       "    <tr style=\"text-align: right;\">\n",
       "      <th></th>\n",
       "      <th>cust_id</th>\n",
       "      <th>sex</th>\n",
       "      <th>area</th>\n",
       "      <th>birthyr</th>\n",
       "      <th>hh_income</th>\n",
       "      <th>age</th>\n",
       "      <th>marital</th>\n",
       "      <th>ranseq</th>\n",
       "      <th>signup_date</th>\n",
       "    </tr>\n",
       "  </thead>\n",
       "  <tbody>\n",
       "    <tr>\n",
       "      <th>3152</th>\n",
       "      <td>B100044306</td>\n",
       "      <td>F</td>\n",
       "      <td>gyunggi</td>\n",
       "      <td>1956</td>\n",
       "      <td>83000</td>\n",
       "      <td>65</td>\n",
       "      <td>기혼</td>\n",
       "      <td>3152</td>\n",
       "      <td>2017-08-16 11:11:27.243860</td>\n",
       "    </tr>\n",
       "    <tr>\n",
       "      <th>24152</th>\n",
       "      <td>B100001423</td>\n",
       "      <td>F</td>\n",
       "      <td>gyunggi</td>\n",
       "      <td>1955</td>\n",
       "      <td>68000</td>\n",
       "      <td>66</td>\n",
       "      <td>미혼</td>\n",
       "      <td>24152</td>\n",
       "      <td>2019-07-27 11:11:27.243860</td>\n",
       "    </tr>\n",
       "    <tr>\n",
       "      <th>25151</th>\n",
       "      <td>B100068961</td>\n",
       "      <td>F</td>\n",
       "      <td>gyunggi</td>\n",
       "      <td>1955</td>\n",
       "      <td>51000</td>\n",
       "      <td>66</td>\n",
       "      <td>기혼</td>\n",
       "      <td>25151</td>\n",
       "      <td>2019-08-21 11:11:27.243860</td>\n",
       "    </tr>\n",
       "    <tr>\n",
       "      <th>25335</th>\n",
       "      <td>B100043700</td>\n",
       "      <td>F</td>\n",
       "      <td>gyunggi</td>\n",
       "      <td>1954</td>\n",
       "      <td>23000</td>\n",
       "      <td>67</td>\n",
       "      <td>미혼</td>\n",
       "      <td>25335</td>\n",
       "      <td>2018-09-24 11:11:27.243860</td>\n",
       "    </tr>\n",
       "  </tbody>\n",
       "</table>\n",
       "</div>"
      ],
      "text/plain": [
       "          cust_id sex     area  birthyr  hh_income  age marital  ranseq  \\\n",
       "3152   B100044306   F  gyunggi     1956      83000   65      기혼    3152   \n",
       "24152  B100001423   F  gyunggi     1955      68000   66      미혼   24152   \n",
       "25151  B100068961   F  gyunggi     1955      51000   66      기혼   25151   \n",
       "25335  B100043700   F  gyunggi     1954      23000   67      미혼   25335   \n",
       "\n",
       "                      signup_date  \n",
       "3152   2017-08-16 11:11:27.243860  \n",
       "24152  2019-07-27 11:11:27.243860  \n",
       "25151  2019-08-21 11:11:27.243860  \n",
       "25335  2018-09-24 11:11:27.243860  "
      ]
     },
     "metadata": {},
     "output_type": "display_data"
    },
    {
     "name": "stdout",
     "output_type": "stream",
     "text": [
      "65 세 이상 고객  4 명 존재\n"
     ]
    },
    {
     "data": {
      "text/html": [
       "<div>\n",
       "<style scoped>\n",
       "    .dataframe tbody tr th:only-of-type {\n",
       "        vertical-align: middle;\n",
       "    }\n",
       "\n",
       "    .dataframe tbody tr th {\n",
       "        vertical-align: top;\n",
       "    }\n",
       "\n",
       "    .dataframe thead th {\n",
       "        text-align: right;\n",
       "    }\n",
       "</style>\n",
       "<table border=\"1\" class=\"dataframe\">\n",
       "  <thead>\n",
       "    <tr style=\"text-align: right;\">\n",
       "      <th></th>\n",
       "      <th>cust_id</th>\n",
       "      <th>sex</th>\n",
       "      <th>area</th>\n",
       "      <th>birthyr</th>\n",
       "      <th>hh_income</th>\n",
       "      <th>age</th>\n",
       "      <th>marital</th>\n",
       "      <th>ranseq</th>\n",
       "      <th>signup_date</th>\n",
       "    </tr>\n",
       "  </thead>\n",
       "  <tbody>\n",
       "  </tbody>\n",
       "</table>\n",
       "</div>"
      ],
      "text/plain": [
       "Empty DataFrame\n",
       "Columns: [cust_id, sex, area, birthyr, hh_income, age, marital, ranseq, signup_date]\n",
       "Index: []"
      ]
     },
     "metadata": {},
     "output_type": "display_data"
    },
    {
     "name": "stdout",
     "output_type": "stream",
     "text": [
      "80 세 이상 고객  0 명 존재\n"
     ]
    },
    {
     "data": {
      "text/html": [
       "<div>\n",
       "<style scoped>\n",
       "    .dataframe tbody tr th:only-of-type {\n",
       "        vertical-align: middle;\n",
       "    }\n",
       "\n",
       "    .dataframe tbody tr th {\n",
       "        vertical-align: top;\n",
       "    }\n",
       "\n",
       "    .dataframe thead th {\n",
       "        text-align: right;\n",
       "    }\n",
       "</style>\n",
       "<table border=\"1\" class=\"dataframe\">\n",
       "  <thead>\n",
       "    <tr style=\"text-align: right;\">\n",
       "      <th></th>\n",
       "      <th>cust_id</th>\n",
       "      <th>sex</th>\n",
       "      <th>area</th>\n",
       "      <th>birthyr</th>\n",
       "      <th>hh_income</th>\n",
       "      <th>age</th>\n",
       "      <th>marital</th>\n",
       "      <th>ranseq</th>\n",
       "      <th>signup_date</th>\n",
       "    </tr>\n",
       "  </thead>\n",
       "  <tbody>\n",
       "  </tbody>\n",
       "</table>\n",
       "</div>"
      ],
      "text/plain": [
       "Empty DataFrame\n",
       "Columns: [cust_id, sex, area, birthyr, hh_income, age, marital, ranseq, signup_date]\n",
       "Index: []"
      ]
     },
     "metadata": {},
     "output_type": "display_data"
    },
    {
     "name": "stdout",
     "output_type": "stream",
     "text": [
      "100 세 이상 고객  0 명 존재\n"
     ]
    }
   ],
   "source": [
    "# 연령이 65, 90, 100 이상인 고객이 있는지 기준을 변경하면서 비교\n",
    "\n",
    "# 연령 구분 기준점 리스트 정의\n",
    "ageCutoffList = [65, 80, 100]\n",
    "\n",
    "# for 반복문 활용\n",
    "for x in ageCutoffList:\n",
    "    # 조건 해당 데이터 부분집합 화면 출력\n",
    "    display(custmast[custmast.age>=x])\n",
    "    print(x, '세 이상 고객 ', len(custmast[custmast.age>=x]), '명 존재')"
   ]
  },
  {
   "cell_type": "code",
   "execution_count": 99,
   "metadata": {},
   "outputs": [
    {
     "data": {
      "text/plain": [
       "67"
      ]
     },
     "execution_count": 99,
     "metadata": {},
     "output_type": "execute_result"
    }
   ],
   "source": [
    "# 단순히 가장 큰 값을 파악하는 것으로 충분하다면?\n",
    "\n",
    "custmast.age.max()"
   ]
  },
  {
   "cell_type": "code",
   "execution_count": null,
   "metadata": {},
   "outputs": [],
   "source": []
  },
  {
   "cell_type": "markdown",
   "metadata": {},
   "source": [
    "[mini 연습문제] \n",
    "고객별로 회원가입시점에서의 연령을 계산하라\n",
    "<br><br>\n",
    "**hint ::** 회원가입시점에서 연도 해당하는 문자열만 추출해 출생년도와 비교\n"
   ]
  },
  {
   "cell_type": "code",
   "execution_count": null,
   "metadata": {},
   "outputs": [],
   "source": []
  },
  {
   "cell_type": "code",
   "execution_count": 64,
   "metadata": {},
   "outputs": [
    {
     "data": {
      "text/html": [
       "<div>\n",
       "<style scoped>\n",
       "    .dataframe tbody tr th:only-of-type {\n",
       "        vertical-align: middle;\n",
       "    }\n",
       "\n",
       "    .dataframe tbody tr th {\n",
       "        vertical-align: top;\n",
       "    }\n",
       "\n",
       "    .dataframe thead th {\n",
       "        text-align: right;\n",
       "    }\n",
       "</style>\n",
       "<table border=\"1\" class=\"dataframe\">\n",
       "  <thead>\n",
       "    <tr style=\"text-align: right;\">\n",
       "      <th></th>\n",
       "      <th>date</th>\n",
       "      <th>unit_prc</th>\n",
       "      <th>qty</th>\n",
       "      <th>amt</th>\n",
       "      <th>store</th>\n",
       "    </tr>\n",
       "  </thead>\n",
       "  <tbody>\n",
       "    <tr>\n",
       "      <th>3101</th>\n",
       "      <td>2020-09-08 11:34:47.413401</td>\n",
       "      <td>145000</td>\n",
       "      <td>1</td>\n",
       "      <td>145000</td>\n",
       "      <td>Shoote gasan</td>\n",
       "    </tr>\n",
       "    <tr>\n",
       "      <th>17601</th>\n",
       "      <td>2019-06-14 16:27:31.405645</td>\n",
       "      <td>135000</td>\n",
       "      <td>2</td>\n",
       "      <td>270000</td>\n",
       "      <td>ONL</td>\n",
       "    </tr>\n",
       "    <tr>\n",
       "      <th>2931</th>\n",
       "      <td>2019-12-11 18:01:34.087356</td>\n",
       "      <td>100000</td>\n",
       "      <td>1</td>\n",
       "      <td>100000</td>\n",
       "      <td>Multi bupyong</td>\n",
       "    </tr>\n",
       "    <tr>\n",
       "      <th>7016</th>\n",
       "      <td>2020-11-15 11:25:09.996842</td>\n",
       "      <td>100000</td>\n",
       "      <td>1</td>\n",
       "      <td>100000</td>\n",
       "      <td>Multi bupyong</td>\n",
       "    </tr>\n",
       "    <tr>\n",
       "      <th>2546</th>\n",
       "      <td>2019-11-02 13:26:56.011618</td>\n",
       "      <td>70000</td>\n",
       "      <td>1</td>\n",
       "      <td>70000</td>\n",
       "      <td>Shoote gasan</td>\n",
       "    </tr>\n",
       "  </tbody>\n",
       "</table>\n",
       "</div>"
      ],
      "text/plain": [
       "                             date  unit_prc  qty     amt          store\n",
       "3101   2020-09-08 11:34:47.413401    145000    1  145000   Shoote gasan\n",
       "17601  2019-06-14 16:27:31.405645    135000    2  270000            ONL\n",
       "2931   2019-12-11 18:01:34.087356    100000    1  100000  Multi bupyong\n",
       "7016   2020-11-15 11:25:09.996842    100000    1  100000  Multi bupyong\n",
       "2546   2019-11-02 13:26:56.011618     70000    1   70000   Shoote gasan"
      ]
     },
     "execution_count": 64,
     "metadata": {},
     "output_type": "execute_result"
    }
   ],
   "source": [
    "# sales의 주요 항목들 (판매내역)\n",
    "\n",
    "sales[['date','unit_prc', 'qty', 'amt', 'store']].sample(5)"
   ]
  },
  {
   "cell_type": "code",
   "execution_count": 65,
   "metadata": {},
   "outputs": [
    {
     "data": {
      "text/plain": [
       " 1    31888\n",
       " 2     9358\n",
       " 3      432\n",
       "-1      162\n",
       " 4       77\n",
       "-2       17\n",
       " 0        2\n",
       "Name: qty, dtype: int64"
      ]
     },
     "execution_count": 65,
     "metadata": {},
     "output_type": "execute_result"
    }
   ],
   "source": [
    "# 각 건에서 수량의 분포 집계\n",
    "\n",
    "sales.qty.value_counts()"
   ]
  },
  {
   "cell_type": "code",
   "execution_count": 66,
   "metadata": {},
   "outputs": [
    {
     "data": {
      "text/html": [
       "<div>\n",
       "<style scoped>\n",
       "    .dataframe tbody tr th:only-of-type {\n",
       "        vertical-align: middle;\n",
       "    }\n",
       "\n",
       "    .dataframe tbody tr th {\n",
       "        vertical-align: top;\n",
       "    }\n",
       "\n",
       "    .dataframe thead th {\n",
       "        text-align: right;\n",
       "    }\n",
       "</style>\n",
       "<table border=\"1\" class=\"dataframe\">\n",
       "  <thead>\n",
       "    <tr style=\"text-align: right;\">\n",
       "      <th></th>\n",
       "      <th>index</th>\n",
       "      <th>qty</th>\n",
       "    </tr>\n",
       "  </thead>\n",
       "  <tbody>\n",
       "    <tr>\n",
       "      <th>0</th>\n",
       "      <td>1</td>\n",
       "      <td>31888</td>\n",
       "    </tr>\n",
       "    <tr>\n",
       "      <th>1</th>\n",
       "      <td>2</td>\n",
       "      <td>9358</td>\n",
       "    </tr>\n",
       "    <tr>\n",
       "      <th>2</th>\n",
       "      <td>3</td>\n",
       "      <td>432</td>\n",
       "    </tr>\n",
       "    <tr>\n",
       "      <th>3</th>\n",
       "      <td>-1</td>\n",
       "      <td>162</td>\n",
       "    </tr>\n",
       "    <tr>\n",
       "      <th>4</th>\n",
       "      <td>4</td>\n",
       "      <td>77</td>\n",
       "    </tr>\n",
       "    <tr>\n",
       "      <th>5</th>\n",
       "      <td>-2</td>\n",
       "      <td>17</td>\n",
       "    </tr>\n",
       "    <tr>\n",
       "      <th>6</th>\n",
       "      <td>0</td>\n",
       "      <td>2</td>\n",
       "    </tr>\n",
       "  </tbody>\n",
       "</table>\n",
       "</div>"
      ],
      "text/plain": [
       "   index    qty\n",
       "0      1  31888\n",
       "1      2   9358\n",
       "2      3    432\n",
       "3     -1    162\n",
       "4      4     77\n",
       "5     -2     17\n",
       "6      0      2"
      ]
     },
     "execution_count": 66,
     "metadata": {},
     "output_type": "execute_result"
    }
   ],
   "source": [
    "# 인덱스를 컬럼으로 변경하고 전체를 데이터프레임 형식으로 변환해 표시\n",
    "\n",
    "pd.DataFrame(sales.qty.value_counts().reset_index())"
   ]
  },
  {
   "cell_type": "code",
   "execution_count": 67,
   "metadata": {},
   "outputs": [
    {
     "data": {
      "text/plain": [
       "<AxesSubplot:>"
      ]
     },
     "execution_count": 67,
     "metadata": {},
     "output_type": "execute_result"
    },
    {
     "data": {
      "image/png": "[encoded data removed]",
      "text/plain": [
       "<Figure size 432x288 with 1 Axes>"
      ]
     },
     "metadata": {
      "needs_background": "light"
     },
     "output_type": "display_data"
    }
   ],
   "source": [
    "# 분포 챠트 생성\n",
    "\n",
    "pd.DataFrame(sales.qty.value_counts()).plot(kind='bar')"
   ]
  },
  {
   "cell_type": "code",
   "execution_count": 68,
   "metadata": {},
   "outputs": [
    {
     "data": {
      "text/html": [
       "<div>\n",
       "<style scoped>\n",
       "    .dataframe tbody tr th:only-of-type {\n",
       "        vertical-align: middle;\n",
       "    }\n",
       "\n",
       "    .dataframe tbody tr th {\n",
       "        vertical-align: top;\n",
       "    }\n",
       "\n",
       "    .dataframe thead th {\n",
       "        text-align: right;\n",
       "    }\n",
       "</style>\n",
       "<table border=\"1\" class=\"dataframe\">\n",
       "  <thead>\n",
       "    <tr style=\"text-align: right;\">\n",
       "      <th></th>\n",
       "      <th>qty</th>\n",
       "    </tr>\n",
       "  </thead>\n",
       "  <tbody>\n",
       "    <tr>\n",
       "      <th>1</th>\n",
       "      <td>31888</td>\n",
       "    </tr>\n",
       "    <tr>\n",
       "      <th>2</th>\n",
       "      <td>9358</td>\n",
       "    </tr>\n",
       "    <tr>\n",
       "      <th>3</th>\n",
       "      <td>432</td>\n",
       "    </tr>\n",
       "    <tr>\n",
       "      <th>-1</th>\n",
       "      <td>162</td>\n",
       "    </tr>\n",
       "    <tr>\n",
       "      <th>4</th>\n",
       "      <td>77</td>\n",
       "    </tr>\n",
       "    <tr>\n",
       "      <th>-2</th>\n",
       "      <td>17</td>\n",
       "    </tr>\n",
       "    <tr>\n",
       "      <th>0</th>\n",
       "      <td>2</td>\n",
       "    </tr>\n",
       "  </tbody>\n",
       "</table>\n",
       "</div>"
      ],
      "text/plain": [
       "      qty\n",
       " 1  31888\n",
       " 2   9358\n",
       " 3    432\n",
       "-1    162\n",
       " 4     77\n",
       "-2     17\n",
       " 0      2"
      ]
     },
     "metadata": {},
     "output_type": "display_data"
    },
    {
     "data": {
      "text/plain": [
       "<AxesSubplot:>"
      ]
     },
     "execution_count": 68,
     "metadata": {},
     "output_type": "execute_result"
    },
    {
     "data": {
      "image/png": "[encoded data removed]",
      "text/plain": [
       "<Figure size 432x288 with 1 Axes>"
      ]
     },
     "metadata": {
      "needs_background": "light"
     },
     "output_type": "display_data"
    }
   ],
   "source": [
    "# 수량은 index에 들어있고 정렬은 qty 순서임\n",
    "display(pd.DataFrame(sales.qty.value_counts()))\n",
    "\n",
    "# 수량 순서로 정렬한 후 시각화\n",
    "pd.DataFrame(sales.qty.value_counts()).sort_index().qty.plot(kind='bar')"
   ]
  },
  {
   "cell_type": "code",
   "execution_count": 100,
   "metadata": {},
   "outputs": [
    {
     "data": {
      "image/png": "[encoded data removed]",
      "text/plain": [
       "<Figure size 432x288 with 1 Axes>"
      ]
     },
     "metadata": {
      "needs_background": "light"
     },
     "output_type": "display_data"
    }
   ],
   "source": [
    "# 단가 구간별 판매수량 합계 산출 (2020년)\n",
    "\n",
    "# 먼저 단가 구간을 결정하는 것이 필요하므로\n",
    "# 단가의 분포를 확인\n",
    "plt.plot(np.sort(sales.unit_prc))\n",
    "plt.show()"
   ]
  },
  {
   "cell_type": "code",
   "execution_count": 70,
   "metadata": {},
   "outputs": [
    {
     "data": {
      "text/plain": [
       "[130000.0, 70000.0, 51000.0]"
      ]
     },
     "execution_count": 70,
     "metadata": {},
     "output_type": "execute_result"
    }
   ],
   "source": [
    "# 단가의 20%, 50%, 90% 해당 값 파악\n",
    "\n",
    "priceCutoffList = [sales.unit_prc.quantile(0.8), sales.unit_prc.quantile(0.5), sales.unit_prc.quantile(0.1)]\n",
    "priceCutoffList "
   ]
  },
  {
   "cell_type": "code",
   "execution_count": 103,
   "metadata": {},
   "outputs": [
    {
     "data": {
      "text/plain": [
       "0.8    130000.0\n",
       "0.5     70000.0\n",
       "0.1     51000.0\n",
       "Name: unit_prc, dtype: float64"
      ]
     },
     "execution_count": 103,
     "metadata": {},
     "output_type": "execute_result"
    }
   ],
   "source": [
    "# 한번에 세 가지 값을 얻으려면\n",
    "\n",
    "sales.unit_prc.quantile([0.8, 0.5, 0.1])"
   ]
  },
  {
   "cell_type": "code",
   "execution_count": 71,
   "metadata": {},
   "outputs": [
    {
     "data": {
      "text/plain": [
       "(70000.0, 95032.26344906524)"
      ]
     },
     "execution_count": 71,
     "metadata": {},
     "output_type": "execute_result"
    }
   ],
   "source": [
    "# 중간값은 50% 지점과 동일\n",
    "\n",
    "sales.unit_prc.median(), sales.unit_prc.mean()"
   ]
  },
  {
   "cell_type": "code",
   "execution_count": 72,
   "metadata": {},
   "outputs": [
    {
     "data": {
      "image/png": "[encoded data removed]",
      "text/plain": [
       "<Figure size 432x288 with 1 Axes>"
      ]
     },
     "metadata": {
      "needs_background": "light"
     },
     "output_type": "display_data"
    }
   ],
   "source": [
    "# 단가 구간 확인 - 시각화\n",
    "plt.plot(np.sort(sales.unit_prc))\n",
    "\n",
    "# 각 구분점을 기준으로 수평선 추가\n",
    "for z in priceCutoffList:\n",
    "    plt.axhline(z, color='grey', linestyle=':')\n",
    "\n",
    "plt.show()"
   ]
  },
  {
   "cell_type": "code",
   "execution_count": 104,
   "metadata": {},
   "outputs": [
    {
     "name": "stdout",
     "output_type": "stream",
     "text": [
      "[35000, 265000, 130000.0, 70000.0, 51000.0]\n"
     ]
    },
    {
     "data": {
      "text/html": [
       "<div>\n",
       "<style scoped>\n",
       "    .dataframe tbody tr th:only-of-type {\n",
       "        vertical-align: middle;\n",
       "    }\n",
       "\n",
       "    .dataframe tbody tr th {\n",
       "        vertical-align: top;\n",
       "    }\n",
       "\n",
       "    .dataframe thead th {\n",
       "        text-align: right;\n",
       "    }\n",
       "</style>\n",
       "<table border=\"1\" class=\"dataframe\">\n",
       "  <thead>\n",
       "    <tr style=\"text-align: right;\">\n",
       "      <th></th>\n",
       "      <th>unit_prc</th>\n",
       "      <th>qty</th>\n",
       "      <th>rangeGrp</th>\n",
       "    </tr>\n",
       "  </thead>\n",
       "  <tbody>\n",
       "    <tr>\n",
       "      <th>0</th>\n",
       "      <td>80000</td>\n",
       "      <td>1</td>\n",
       "      <td>(70000.0, 130000.0]</td>\n",
       "    </tr>\n",
       "    <tr>\n",
       "      <th>1</th>\n",
       "      <td>60000</td>\n",
       "      <td>2</td>\n",
       "      <td>(51000.0, 70000.0]</td>\n",
       "    </tr>\n",
       "    <tr>\n",
       "      <th>2</th>\n",
       "      <td>70000</td>\n",
       "      <td>1</td>\n",
       "      <td>(51000.0, 70000.0]</td>\n",
       "    </tr>\n",
       "    <tr>\n",
       "      <th>3</th>\n",
       "      <td>60000</td>\n",
       "      <td>1</td>\n",
       "      <td>(51000.0, 70000.0]</td>\n",
       "    </tr>\n",
       "    <tr>\n",
       "      <th>4</th>\n",
       "      <td>100000</td>\n",
       "      <td>1</td>\n",
       "      <td>(70000.0, 130000.0]</td>\n",
       "    </tr>\n",
       "    <tr>\n",
       "      <th>...</th>\n",
       "      <td>...</td>\n",
       "      <td>...</td>\n",
       "      <td>...</td>\n",
       "    </tr>\n",
       "    <tr>\n",
       "      <th>41931</th>\n",
       "      <td>70000</td>\n",
       "      <td>1</td>\n",
       "      <td>(51000.0, 70000.0]</td>\n",
       "    </tr>\n",
       "    <tr>\n",
       "      <th>41932</th>\n",
       "      <td>70000</td>\n",
       "      <td>1</td>\n",
       "      <td>(51000.0, 70000.0]</td>\n",
       "    </tr>\n",
       "    <tr>\n",
       "      <th>41933</th>\n",
       "      <td>100000</td>\n",
       "      <td>1</td>\n",
       "      <td>(70000.0, 130000.0]</td>\n",
       "    </tr>\n",
       "    <tr>\n",
       "      <th>41934</th>\n",
       "      <td>70000</td>\n",
       "      <td>1</td>\n",
       "      <td>(51000.0, 70000.0]</td>\n",
       "    </tr>\n",
       "    <tr>\n",
       "      <th>41935</th>\n",
       "      <td>60000</td>\n",
       "      <td>1</td>\n",
       "      <td>(51000.0, 70000.0]</td>\n",
       "    </tr>\n",
       "  </tbody>\n",
       "</table>\n",
       "<p>41936 rows × 3 columns</p>\n",
       "</div>"
      ],
      "text/plain": [
       "       unit_prc  qty             rangeGrp\n",
       "0         80000    1  (70000.0, 130000.0]\n",
       "1         60000    2   (51000.0, 70000.0]\n",
       "2         70000    1   (51000.0, 70000.0]\n",
       "3         60000    1   (51000.0, 70000.0]\n",
       "4        100000    1  (70000.0, 130000.0]\n",
       "...         ...  ...                  ...\n",
       "41931     70000    1   (51000.0, 70000.0]\n",
       "41932     70000    1   (51000.0, 70000.0]\n",
       "41933    100000    1  (70000.0, 130000.0]\n",
       "41934     70000    1   (51000.0, 70000.0]\n",
       "41935     60000    1   (51000.0, 70000.0]\n",
       "\n",
       "[41936 rows x 3 columns]"
      ]
     },
     "execution_count": 104,
     "metadata": {},
     "output_type": "execute_result"
    }
   ],
   "source": [
    "# 단가 구간별 판매수량 합계 산출 (2020년)\n",
    "\n",
    "salestmp301 = sales[['unit_prc','qty']]\n",
    "\n",
    "# 구분점 두 개 단위의 구간을 코드로 표시하는 컬럼 생성 (interval 형식 -- category type)\n",
    "priceCutoffList1 = [salestmp301.unit_prc.min(),salestmp301.unit_prc.max()] + priceCutoffList \n",
    "\n",
    "# 가장 작은 값과 큰 값 사이에 구분점인 세 값이 들어있는 리스트\n",
    "print(priceCutoffList1)\n",
    "\n",
    "salestmp301['rangeGrp'] = pd.cut(salestmp301.unit_prc, np.sort(priceCutoffList1))\n",
    "salestmp301"
   ]
  },
  {
   "cell_type": "code",
   "execution_count": 74,
   "metadata": {},
   "outputs": [
    {
     "data": {
      "text/html": [
       "<div>\n",
       "<style scoped>\n",
       "    .dataframe tbody tr th:only-of-type {\n",
       "        vertical-align: middle;\n",
       "    }\n",
       "\n",
       "    .dataframe tbody tr th {\n",
       "        vertical-align: top;\n",
       "    }\n",
       "\n",
       "    .dataframe thead th {\n",
       "        text-align: right;\n",
       "    }\n",
       "</style>\n",
       "<table border=\"1\" class=\"dataframe\">\n",
       "  <thead>\n",
       "    <tr style=\"text-align: right;\">\n",
       "      <th></th>\n",
       "      <th>rangeGrp</th>\n",
       "      <th>qty</th>\n",
       "    </tr>\n",
       "  </thead>\n",
       "  <tbody>\n",
       "    <tr>\n",
       "      <th>0</th>\n",
       "      <td>(35000.0, 51000.0]</td>\n",
       "      <td>82</td>\n",
       "    </tr>\n",
       "    <tr>\n",
       "      <th>1</th>\n",
       "      <td>(51000.0, 70000.0]</td>\n",
       "      <td>21475</td>\n",
       "    </tr>\n",
       "    <tr>\n",
       "      <th>2</th>\n",
       "      <td>(70000.0, 130000.0]</td>\n",
       "      <td>15982</td>\n",
       "    </tr>\n",
       "    <tr>\n",
       "      <th>3</th>\n",
       "      <td>(130000.0, 265000.0]</td>\n",
       "      <td>9304</td>\n",
       "    </tr>\n",
       "  </tbody>\n",
       "</table>\n",
       "</div>"
      ],
      "text/plain": [
       "               rangeGrp    qty\n",
       "0    (35000.0, 51000.0]     82\n",
       "1    (51000.0, 70000.0]  21475\n",
       "2   (70000.0, 130000.0]  15982\n",
       "3  (130000.0, 265000.0]   9304"
      ]
     },
     "execution_count": 74,
     "metadata": {},
     "output_type": "execute_result"
    }
   ],
   "source": [
    "salestmp301[['rangeGrp', 'qty']].groupby('rangeGrp').sum().reset_index()"
   ]
  },
  {
   "cell_type": "code",
   "execution_count": 75,
   "metadata": {},
   "outputs": [
    {
     "data": {
      "text/plain": [
       "rangeGrp    category\n",
       "qty            int64\n",
       "dtype: object"
      ]
     },
     "execution_count": 75,
     "metadata": {},
     "output_type": "execute_result"
    }
   ],
   "source": [
    "# 컬럼별 데이터 타입 확인\n",
    "\n",
    "salestmp301[['rangeGrp', 'qty']].groupby('rangeGrp').sum().reset_index().dtypes"
   ]
  },
  {
   "cell_type": "code",
   "execution_count": 107,
   "metadata": {},
   "outputs": [
    {
     "data": {
      "text/html": [
       "<div>\n",
       "<style scoped>\n",
       "    .dataframe tbody tr th:only-of-type {\n",
       "        vertical-align: middle;\n",
       "    }\n",
       "\n",
       "    .dataframe tbody tr th {\n",
       "        vertical-align: top;\n",
       "    }\n",
       "\n",
       "    .dataframe thead th {\n",
       "        text-align: right;\n",
       "    }\n",
       "</style>\n",
       "<table border=\"1\" class=\"dataframe\">\n",
       "  <thead>\n",
       "    <tr style=\"text-align: right;\">\n",
       "      <th></th>\n",
       "      <th>rangeGrp</th>\n",
       "      <th>qty</th>\n",
       "    </tr>\n",
       "  </thead>\n",
       "  <tbody>\n",
       "    <tr>\n",
       "      <th>0</th>\n",
       "      <td>(35000.0, 51000.0]</td>\n",
       "      <td>82</td>\n",
       "    </tr>\n",
       "    <tr>\n",
       "      <th>1</th>\n",
       "      <td>(51000.0, 70000.0]</td>\n",
       "      <td>21475</td>\n",
       "    </tr>\n",
       "    <tr>\n",
       "      <th>2</th>\n",
       "      <td>(70000.0, 130000.0]</td>\n",
       "      <td>15982</td>\n",
       "    </tr>\n",
       "    <tr>\n",
       "      <th>3</th>\n",
       "      <td>(130000.0, 265000.0]</td>\n",
       "      <td>9304</td>\n",
       "    </tr>\n",
       "  </tbody>\n",
       "</table>\n",
       "</div>"
      ],
      "text/plain": [
       "               rangeGrp    qty\n",
       "0    (35000.0, 51000.0]     82\n",
       "1    (51000.0, 70000.0]  21475\n",
       "2   (70000.0, 130000.0]  15982\n",
       "3  (130000.0, 265000.0]   9304"
      ]
     },
     "metadata": {},
     "output_type": "display_data"
    },
    {
     "data": {
      "text/plain": [
       "[[35000.0, 51000.0],\n",
       " [51000.0, 70000.0],\n",
       " [70000.0, 130000.0],\n",
       " [130000.0, 265000.0]]"
      ]
     },
     "execution_count": 107,
     "metadata": {},
     "output_type": "execute_result"
    }
   ],
   "source": [
    "# 구간의 기준점들을 추출해야할 필요가 있는 경우\n",
    "\n",
    "dfQtyByRangeGrp = salestmp301[['rangeGrp', 'qty']].groupby('rangeGrp').sum().reset_index()\n",
    "display(dfQtyByRangeGrp)\n",
    "\n",
    "# .left .right 로 추출\n",
    "[[i.left, i.right] for i in dfQtyByRangeGrp.rangeGrp]"
   ]
  },
  {
   "cell_type": "code",
   "execution_count": 110,
   "metadata": {},
   "outputs": [
    {
     "data": {
      "text/html": [
       "<div>\n",
       "<style scoped>\n",
       "    .dataframe tbody tr th:only-of-type {\n",
       "        vertical-align: middle;\n",
       "    }\n",
       "\n",
       "    .dataframe tbody tr th {\n",
       "        vertical-align: top;\n",
       "    }\n",
       "\n",
       "    .dataframe thead th {\n",
       "        text-align: right;\n",
       "    }\n",
       "</style>\n",
       "<table border=\"1\" class=\"dataframe\">\n",
       "  <thead>\n",
       "    <tr style=\"text-align: right;\">\n",
       "      <th></th>\n",
       "      <th>rangeGrp</th>\n",
       "      <th>qty</th>\n",
       "      <th>grpUpper</th>\n",
       "    </tr>\n",
       "  </thead>\n",
       "  <tbody>\n",
       "    <tr>\n",
       "      <th>0</th>\n",
       "      <td>(35000.0, 51000.0]</td>\n",
       "      <td>82</td>\n",
       "      <td>~51000</td>\n",
       "    </tr>\n",
       "    <tr>\n",
       "      <th>1</th>\n",
       "      <td>(51000.0, 70000.0]</td>\n",
       "      <td>21475</td>\n",
       "      <td>~70000</td>\n",
       "    </tr>\n",
       "    <tr>\n",
       "      <th>2</th>\n",
       "      <td>(70000.0, 130000.0]</td>\n",
       "      <td>15982</td>\n",
       "      <td>~130000</td>\n",
       "    </tr>\n",
       "    <tr>\n",
       "      <th>3</th>\n",
       "      <td>(130000.0, 265000.0]</td>\n",
       "      <td>9304</td>\n",
       "      <td>~265000</td>\n",
       "    </tr>\n",
       "  </tbody>\n",
       "</table>\n",
       "</div>"
      ],
      "text/plain": [
       "               rangeGrp    qty grpUpper\n",
       "0    (35000.0, 51000.0]     82   ~51000\n",
       "1    (51000.0, 70000.0]  21475   ~70000\n",
       "2   (70000.0, 130000.0]  15982  ~130000\n",
       "3  (130000.0, 265000.0]   9304  ~265000"
      ]
     },
     "metadata": {},
     "output_type": "display_data"
    }
   ],
   "source": [
    "# 구간의 큰 쪽 구분점만 컬럼으로 저장 후\n",
    "dfQtyByRangeGrp['grpUpper'] = [i.right for i in dfQtyByRangeGrp.rangeGrp.to_list()]\n",
    "# up to 의 의미로 물결 character 추가\n",
    "dfQtyByRangeGrp['grpUpper'] = '~' + dfQtyByRangeGrp['grpUpper'].astype(int).astype(str)\n",
    " \n",
    "display(dfQtyByRangeGrp)"
   ]
  },
  {
   "cell_type": "code",
   "execution_count": 111,
   "metadata": {},
   "outputs": [
    {
     "data": {
      "image/png": "[encoded data removed]",
      "text/plain": [
       "<Figure size 432x288 with 1 Axes>"
      ]
     },
     "metadata": {
      "needs_background": "light"
     },
     "output_type": "display_data"
    }
   ],
   "source": [
    "# 챠트 작성\n",
    "\n",
    "plt.bar(dfQtyByRangeGrp.grpUpper, dfQtyByRangeGrp.qty)\n",
    "plt.xlabel('가격구간')\n",
    "plt.ylabel('판매수량합계')\n",
    "plt.title('가격구간별 판매수량 합계')\n",
    "plt.show()"
   ]
  },
  {
   "cell_type": "code",
   "execution_count": null,
   "metadata": {},
   "outputs": [],
   "source": []
  },
  {
   "cell_type": "markdown",
   "metadata": {},
   "source": [
    "### 병합 (merge or JOIN)"
   ]
  },
  {
   "cell_type": "code",
   "execution_count": 79,
   "metadata": {},
   "outputs": [
    {
     "data": {
      "text/html": [
       "<div>\n",
       "<style scoped>\n",
       "    .dataframe tbody tr th:only-of-type {\n",
       "        vertical-align: middle;\n",
       "    }\n",
       "\n",
       "    .dataframe tbody tr th {\n",
       "        vertical-align: top;\n",
       "    }\n",
       "\n",
       "    .dataframe thead th {\n",
       "        text-align: right;\n",
       "    }\n",
       "</style>\n",
       "<table border=\"1\" class=\"dataframe\">\n",
       "  <thead>\n",
       "    <tr style=\"text-align: right;\">\n",
       "      <th></th>\n",
       "      <th>cust_id</th>\n",
       "      <th>age</th>\n",
       "      <th>signup_date</th>\n",
       "    </tr>\n",
       "  </thead>\n",
       "  <tbody>\n",
       "    <tr>\n",
       "      <th>25056</th>\n",
       "      <td>B100033141</td>\n",
       "      <td>59</td>\n",
       "      <td>2016-04-02 11:11:27.243860</td>\n",
       "    </tr>\n",
       "    <tr>\n",
       "      <th>4458</th>\n",
       "      <td>B100094647</td>\n",
       "      <td>34</td>\n",
       "      <td>2019-03-21 11:11:27.243860</td>\n",
       "    </tr>\n",
       "    <tr>\n",
       "      <th>11411</th>\n",
       "      <td>B100033505</td>\n",
       "      <td>37</td>\n",
       "      <td>2016-06-10 11:11:27.243860</td>\n",
       "    </tr>\n",
       "    <tr>\n",
       "      <th>13264</th>\n",
       "      <td>B100094476</td>\n",
       "      <td>53</td>\n",
       "      <td>2016-04-15 11:11:27.243860</td>\n",
       "    </tr>\n",
       "    <tr>\n",
       "      <th>17537</th>\n",
       "      <td>B100029857</td>\n",
       "      <td>30</td>\n",
       "      <td>2017-12-10 11:11:27.243860</td>\n",
       "    </tr>\n",
       "    <tr>\n",
       "      <th>14313</th>\n",
       "      <td>B100029368</td>\n",
       "      <td>48</td>\n",
       "      <td>2019-05-16 11:11:27.243860</td>\n",
       "    </tr>\n",
       "    <tr>\n",
       "      <th>11266</th>\n",
       "      <td>B100069655</td>\n",
       "      <td>30</td>\n",
       "      <td>2017-03-10 11:11:27.243860</td>\n",
       "    </tr>\n",
       "  </tbody>\n",
       "</table>\n",
       "</div>"
      ],
      "text/plain": [
       "          cust_id  age                 signup_date\n",
       "25056  B100033141   59  2016-04-02 11:11:27.243860\n",
       "4458   B100094647   34  2019-03-21 11:11:27.243860\n",
       "11411  B100033505   37  2016-06-10 11:11:27.243860\n",
       "13264  B100094476   53  2016-04-15 11:11:27.243860\n",
       "17537  B100029857   30  2017-12-10 11:11:27.243860\n",
       "14313  B100029368   48  2019-05-16 11:11:27.243860\n",
       "11266  B100069655   30  2017-03-10 11:11:27.243860"
      ]
     },
     "metadata": {},
     "output_type": "display_data"
    },
    {
     "data": {
      "text/html": [
       "<div>\n",
       "<style scoped>\n",
       "    .dataframe tbody tr th:only-of-type {\n",
       "        vertical-align: middle;\n",
       "    }\n",
       "\n",
       "    .dataframe tbody tr th {\n",
       "        vertical-align: top;\n",
       "    }\n",
       "\n",
       "    .dataframe thead th {\n",
       "        text-align: right;\n",
       "    }\n",
       "</style>\n",
       "<table border=\"1\" class=\"dataframe\">\n",
       "  <thead>\n",
       "    <tr style=\"text-align: right;\">\n",
       "      <th></th>\n",
       "      <th>cust_id</th>\n",
       "      <th>qty</th>\n",
       "    </tr>\n",
       "  </thead>\n",
       "  <tbody>\n",
       "    <tr>\n",
       "      <th>0</th>\n",
       "      <td>B100029857</td>\n",
       "      <td>1</td>\n",
       "    </tr>\n",
       "    <tr>\n",
       "      <th>1</th>\n",
       "      <td>B100033505</td>\n",
       "      <td>1</td>\n",
       "    </tr>\n",
       "    <tr>\n",
       "      <th>2</th>\n",
       "      <td>B100069655</td>\n",
       "      <td>1</td>\n",
       "    </tr>\n",
       "    <tr>\n",
       "      <th>3</th>\n",
       "      <td>B100094647</td>\n",
       "      <td>1</td>\n",
       "    </tr>\n",
       "  </tbody>\n",
       "</table>\n",
       "</div>"
      ],
      "text/plain": [
       "      cust_id  qty\n",
       "0  B100029857    1\n",
       "1  B100033505    1\n",
       "2  B100069655    1\n",
       "3  B100094647    1"
      ]
     },
     "metadata": {},
     "output_type": "display_data"
    },
    {
     "data": {
      "text/html": [
       "<div>\n",
       "<style scoped>\n",
       "    .dataframe tbody tr th:only-of-type {\n",
       "        vertical-align: middle;\n",
       "    }\n",
       "\n",
       "    .dataframe tbody tr th {\n",
       "        vertical-align: top;\n",
       "    }\n",
       "\n",
       "    .dataframe thead th {\n",
       "        text-align: right;\n",
       "    }\n",
       "</style>\n",
       "<table border=\"1\" class=\"dataframe\">\n",
       "  <thead>\n",
       "    <tr style=\"text-align: right;\">\n",
       "      <th></th>\n",
       "      <th>cust_id</th>\n",
       "      <th>qty</th>\n",
       "    </tr>\n",
       "  </thead>\n",
       "  <tbody>\n",
       "    <tr>\n",
       "      <th>0</th>\n",
       "      <td>B100033141</td>\n",
       "      <td>2</td>\n",
       "    </tr>\n",
       "    <tr>\n",
       "      <th>1</th>\n",
       "      <td>B100094647</td>\n",
       "      <td>1</td>\n",
       "    </tr>\n",
       "  </tbody>\n",
       "</table>\n",
       "</div>"
      ],
      "text/plain": [
       "      cust_id  qty\n",
       "0  B100033141    2\n",
       "1  B100094647    1"
      ]
     },
     "metadata": {},
     "output_type": "display_data"
    }
   ],
   "source": [
    "# merge - left, outer, right, inner \n",
    "\n",
    "# 7명의 임의 고객 추출\n",
    "smplCusts = custmast.sample(7)[['cust_id','age','signup_date']]\n",
    "display(smplCusts)\n",
    "\n",
    "# 7명 중 2019 거래내역\n",
    "sales19smpl = sales[(sales.cust_id.isin(smplCusts.cust_id)) & (sales.date.str.slice(0,4)=='2019')][['cust_id','ord_id', 'date', 'item_id','scat','qty']]\n",
    "# 고객별 건수 집계\n",
    "custSalesSum19smpl = sales19smpl[['cust_id','qty']].groupby('cust_id').count().reset_index()\n",
    "display(custSalesSum19smpl)\n",
    "\n",
    "# 7명 중 2020 거래내역\n",
    "sales20smpl = sales[(sales.cust_id.isin(smplCusts.cust_id)) & (sales.date.str.slice(0,4)=='2020')][['cust_id','ord_id', 'date', 'item_id','scat','qty']]\n",
    "custSalesSum20smpl = sales20smpl[['cust_id','qty']].groupby('cust_id').count().reset_index()\n",
    "display(custSalesSum20smpl)"
   ]
  },
  {
   "attachments": {
    "image.png": {
     "image/png": "[encoded data removed]"
    }
   },
   "cell_type": "markdown",
   "metadata": {},
   "source": [
    "#### pd.merge\n",
    "\n",
    "![image.png](attachment:image.png)"
   ]
  },
  {
   "cell_type": "code",
   "execution_count": 80,
   "metadata": {},
   "outputs": [
    {
     "data": {
      "text/html": [
       "<div>\n",
       "<style scoped>\n",
       "    .dataframe tbody tr th:only-of-type {\n",
       "        vertical-align: middle;\n",
       "    }\n",
       "\n",
       "    .dataframe tbody tr th {\n",
       "        vertical-align: top;\n",
       "    }\n",
       "\n",
       "    .dataframe thead th {\n",
       "        text-align: right;\n",
       "    }\n",
       "</style>\n",
       "<table border=\"1\" class=\"dataframe\">\n",
       "  <thead>\n",
       "    <tr style=\"text-align: right;\">\n",
       "      <th></th>\n",
       "      <th>cust_id</th>\n",
       "      <th>qty_x</th>\n",
       "      <th>qty_y</th>\n",
       "    </tr>\n",
       "  </thead>\n",
       "  <tbody>\n",
       "    <tr>\n",
       "      <th>0</th>\n",
       "      <td>B100029857</td>\n",
       "      <td>1</td>\n",
       "      <td>NaN</td>\n",
       "    </tr>\n",
       "    <tr>\n",
       "      <th>1</th>\n",
       "      <td>B100033505</td>\n",
       "      <td>1</td>\n",
       "      <td>NaN</td>\n",
       "    </tr>\n",
       "    <tr>\n",
       "      <th>2</th>\n",
       "      <td>B100069655</td>\n",
       "      <td>1</td>\n",
       "      <td>NaN</td>\n",
       "    </tr>\n",
       "    <tr>\n",
       "      <th>3</th>\n",
       "      <td>B100094647</td>\n",
       "      <td>1</td>\n",
       "      <td>1.0</td>\n",
       "    </tr>\n",
       "  </tbody>\n",
       "</table>\n",
       "</div>"
      ],
      "text/plain": [
       "      cust_id  qty_x  qty_y\n",
       "0  B100029857      1    NaN\n",
       "1  B100033505      1    NaN\n",
       "2  B100069655      1    NaN\n",
       "3  B100094647      1    1.0"
      ]
     },
     "execution_count": 80,
     "metadata": {},
     "output_type": "execute_result"
    }
   ],
   "source": [
    "# left join\n",
    "pd.merge(custSalesSum19smpl, custSalesSum20smpl, how='left', on='cust_id')"
   ]
  },
  {
   "cell_type": "code",
   "execution_count": 81,
   "metadata": {},
   "outputs": [
    {
     "data": {
      "text/html": [
       "<div>\n",
       "<style scoped>\n",
       "    .dataframe tbody tr th:only-of-type {\n",
       "        vertical-align: middle;\n",
       "    }\n",
       "\n",
       "    .dataframe tbody tr th {\n",
       "        vertical-align: top;\n",
       "    }\n",
       "\n",
       "    .dataframe thead th {\n",
       "        text-align: right;\n",
       "    }\n",
       "</style>\n",
       "<table border=\"1\" class=\"dataframe\">\n",
       "  <thead>\n",
       "    <tr style=\"text-align: right;\">\n",
       "      <th></th>\n",
       "      <th>cust_id</th>\n",
       "      <th>qty_x</th>\n",
       "      <th>qty_y</th>\n",
       "    </tr>\n",
       "  </thead>\n",
       "  <tbody>\n",
       "    <tr>\n",
       "      <th>0</th>\n",
       "      <td>B100029857</td>\n",
       "      <td>1.0</td>\n",
       "      <td>NaN</td>\n",
       "    </tr>\n",
       "    <tr>\n",
       "      <th>1</th>\n",
       "      <td>B100033505</td>\n",
       "      <td>1.0</td>\n",
       "      <td>NaN</td>\n",
       "    </tr>\n",
       "    <tr>\n",
       "      <th>2</th>\n",
       "      <td>B100069655</td>\n",
       "      <td>1.0</td>\n",
       "      <td>NaN</td>\n",
       "    </tr>\n",
       "    <tr>\n",
       "      <th>3</th>\n",
       "      <td>B100094647</td>\n",
       "      <td>1.0</td>\n",
       "      <td>1.0</td>\n",
       "    </tr>\n",
       "    <tr>\n",
       "      <th>4</th>\n",
       "      <td>B100033141</td>\n",
       "      <td>NaN</td>\n",
       "      <td>2.0</td>\n",
       "    </tr>\n",
       "  </tbody>\n",
       "</table>\n",
       "</div>"
      ],
      "text/plain": [
       "      cust_id  qty_x  qty_y\n",
       "0  B100029857    1.0    NaN\n",
       "1  B100033505    1.0    NaN\n",
       "2  B100069655    1.0    NaN\n",
       "3  B100094647    1.0    1.0\n",
       "4  B100033141    NaN    2.0"
      ]
     },
     "execution_count": 81,
     "metadata": {},
     "output_type": "execute_result"
    }
   ],
   "source": [
    "# outer join\n",
    "pd.merge(custSalesSum19smpl, custSalesSum20smpl, how='outer', on='cust_id')"
   ]
  },
  {
   "cell_type": "code",
   "execution_count": 82,
   "metadata": {},
   "outputs": [
    {
     "data": {
      "text/html": [
       "<div>\n",
       "<style scoped>\n",
       "    .dataframe tbody tr th:only-of-type {\n",
       "        vertical-align: middle;\n",
       "    }\n",
       "\n",
       "    .dataframe tbody tr th {\n",
       "        vertical-align: top;\n",
       "    }\n",
       "\n",
       "    .dataframe thead th {\n",
       "        text-align: right;\n",
       "    }\n",
       "</style>\n",
       "<table border=\"1\" class=\"dataframe\">\n",
       "  <thead>\n",
       "    <tr style=\"text-align: right;\">\n",
       "      <th></th>\n",
       "      <th>cust_id</th>\n",
       "      <th>cntTrx2020</th>\n",
       "      <th>cntTrx2019</th>\n",
       "    </tr>\n",
       "  </thead>\n",
       "  <tbody>\n",
       "    <tr>\n",
       "      <th>0</th>\n",
       "      <td>B100033141</td>\n",
       "      <td>2</td>\n",
       "      <td>0.0</td>\n",
       "    </tr>\n",
       "    <tr>\n",
       "      <th>1</th>\n",
       "      <td>B100094647</td>\n",
       "      <td>1</td>\n",
       "      <td>1.0</td>\n",
       "    </tr>\n",
       "  </tbody>\n",
       "</table>\n",
       "</div>"
      ],
      "text/plain": [
       "      cust_id  cntTrx2020  cntTrx2019\n",
       "0  B100033141           2         0.0\n",
       "1  B100094647           1         1.0"
      ]
     },
     "execution_count": 82,
     "metadata": {},
     "output_type": "execute_result"
    }
   ],
   "source": [
    "# left join 시 순서 중요\n",
    "\n",
    "# 20년 데이터를 먼저 표시해 기준으로 사용하는 경우\n",
    "custSalesSum20n19smpl = custSalesSum20smpl.merge(custSalesSum19smpl, how='left', on='cust_id')\n",
    "\n",
    "# 동일한 컬럼명이 조인후 자동으로 _x, _y 로 구분 표시되므로 새로운 이름 부여\n",
    "custSalesSum20n19smpl.columns = ['cust_id', 'cntTrx2020', 'cntTrx2019']\n",
    "\n",
    "# 조인으로 발생된 빈 셀 채워주기\n",
    "custSalesSum20n19smpl.fillna(0, inplace=True)\n",
    "\n",
    "custSalesSum20n19smpl"
   ]
  },
  {
   "cell_type": "code",
   "execution_count": null,
   "metadata": {},
   "outputs": [],
   "source": []
  },
  {
   "cell_type": "markdown",
   "metadata": {},
   "source": [
    "[mini연습문제]\n",
    "\n",
    "1. itemmast 에서 scat 상품분류별 상품수를 집계해 데이터프레임을 생성하라\n",
    "2. itemmast 에서 scat 상품분류별 size의 중위수를 데이터프레임을 생성하라\n",
    "3. 상품분류별 상품수 데이터프레임과 size 중위수 데이터프레임을 결합하여 하나의 데이터프레임을 생성하라\n",
    "4. 생성된 데이터프레임의 컬럼명을 의미있는 것들로 변경하라\n",
    "5. 데이터프레임을 사이즈의 중위수가 큰 순으로 정렬하라"
   ]
  },
  {
   "cell_type": "code",
   "execution_count": null,
   "metadata": {},
   "outputs": [],
   "source": []
  },
  {
   "cell_type": "code",
   "execution_count": null,
   "metadata": {},
   "outputs": [],
   "source": []
  },
  {
   "cell_type": "markdown",
   "metadata": {},
   "source": [
    "### 단순병합 (concat)"
   ]
  },
  {
   "cell_type": "code",
   "execution_count": 112,
   "metadata": {},
   "outputs": [
    {
     "data": {
      "text/plain": [
       "(4, 8)"
      ]
     },
     "execution_count": 112,
     "metadata": {},
     "output_type": "execute_result"
    }
   ],
   "source": [
    "# 동일 구조일 경우 복수의 데이터프레임을 아래위로 단순 병합\n",
    "# 결합에서 연결 키(key) 컬럼을 사용하지 않음\n",
    "\n",
    "len(sales19smpl), len(pd.concat([sales19smpl, sales19smpl]))"
   ]
  },
  {
   "cell_type": "code",
   "execution_count": 113,
   "metadata": {},
   "outputs": [
    {
     "data": {
      "text/html": [
       "<div>\n",
       "<style scoped>\n",
       "    .dataframe tbody tr th:only-of-type {\n",
       "        vertical-align: middle;\n",
       "    }\n",
       "\n",
       "    .dataframe tbody tr th {\n",
       "        vertical-align: top;\n",
       "    }\n",
       "\n",
       "    .dataframe thead th {\n",
       "        text-align: right;\n",
       "    }\n",
       "</style>\n",
       "<table border=\"1\" class=\"dataframe\">\n",
       "  <thead>\n",
       "    <tr style=\"text-align: right;\">\n",
       "      <th></th>\n",
       "      <th>cust_id</th>\n",
       "      <th>ord_id</th>\n",
       "      <th>date</th>\n",
       "      <th>item_id</th>\n",
       "      <th>scat</th>\n",
       "      <th>qty</th>\n",
       "    </tr>\n",
       "  </thead>\n",
       "  <tbody>\n",
       "    <tr>\n",
       "      <th>4391</th>\n",
       "      <td>B100033505</td>\n",
       "      <td>300054459</td>\n",
       "      <td>2019-12-01 15:22:39.377034</td>\n",
       "      <td>SH1008903</td>\n",
       "      <td>셔츠</td>\n",
       "      <td>1</td>\n",
       "    </tr>\n",
       "    <tr>\n",
       "      <th>10926</th>\n",
       "      <td>B100069655</td>\n",
       "      <td>300129288</td>\n",
       "      <td>2019-06-06 15:31:58.124992</td>\n",
       "      <td>SH1002906</td>\n",
       "      <td>셔츠</td>\n",
       "      <td>1</td>\n",
       "    </tr>\n",
       "    <tr>\n",
       "      <th>13465</th>\n",
       "      <td>B100094647</td>\n",
       "      <td>300159018</td>\n",
       "      <td>2019-04-13 12:26:06.120983</td>\n",
       "      <td>ES2000503</td>\n",
       "      <td>재킷</td>\n",
       "      <td>1</td>\n",
       "    </tr>\n",
       "    <tr>\n",
       "      <th>17903</th>\n",
       "      <td>B100029857</td>\n",
       "      <td>300213744</td>\n",
       "      <td>2019-09-16 16:39:43.662158</td>\n",
       "      <td>SH1004608</td>\n",
       "      <td>바지</td>\n",
       "      <td>1</td>\n",
       "    </tr>\n",
       "    <tr>\n",
       "      <th>29022</th>\n",
       "      <td>B100033141</td>\n",
       "      <td>300359214</td>\n",
       "      <td>2020-03-12 11:23:40.882465</td>\n",
       "      <td>SH1007803</td>\n",
       "      <td>셔츠</td>\n",
       "      <td>1</td>\n",
       "    </tr>\n",
       "    <tr>\n",
       "      <th>31950</th>\n",
       "      <td>B100094647</td>\n",
       "      <td>300403206</td>\n",
       "      <td>2020-02-05 19:24:00.026031</td>\n",
       "      <td>SH1001109</td>\n",
       "      <td>셔츠</td>\n",
       "      <td>1</td>\n",
       "    </tr>\n",
       "    <tr>\n",
       "      <th>38707</th>\n",
       "      <td>B100033141</td>\n",
       "      <td>300533643</td>\n",
       "      <td>2020-12-10 07:05:35.342493</td>\n",
       "      <td>SH1008001</td>\n",
       "      <td>치마</td>\n",
       "      <td>1</td>\n",
       "    </tr>\n",
       "  </tbody>\n",
       "</table>\n",
       "</div>"
      ],
      "text/plain": [
       "          cust_id     ord_id                        date    item_id scat  qty\n",
       "4391   B100033505  300054459  2019-12-01 15:22:39.377034  SH1008903   셔츠    1\n",
       "10926  B100069655  300129288  2019-06-06 15:31:58.124992  SH1002906   셔츠    1\n",
       "13465  B100094647  300159018  2019-04-13 12:26:06.120983  ES2000503   재킷    1\n",
       "17903  B100029857  300213744  2019-09-16 16:39:43.662158  SH1004608   바지    1\n",
       "29022  B100033141  300359214  2020-03-12 11:23:40.882465  SH1007803   셔츠    1\n",
       "31950  B100094647  300403206  2020-02-05 19:24:00.026031  SH1001109   셔츠    1\n",
       "38707  B100033141  300533643  2020-12-10 07:05:35.342493  SH1008001   치마    1"
      ]
     },
     "execution_count": 113,
     "metadata": {},
     "output_type": "execute_result"
    }
   ],
   "source": [
    "pd.concat([sales19smpl, sales20smpl])"
   ]
  },
  {
   "cell_type": "code",
   "execution_count": 114,
   "metadata": {},
   "outputs": [
    {
     "data": {
      "text/html": [
       "<div>\n",
       "<style scoped>\n",
       "    .dataframe tbody tr th:only-of-type {\n",
       "        vertical-align: middle;\n",
       "    }\n",
       "\n",
       "    .dataframe tbody tr th {\n",
       "        vertical-align: top;\n",
       "    }\n",
       "\n",
       "    .dataframe thead th {\n",
       "        text-align: right;\n",
       "    }\n",
       "</style>\n",
       "<table border=\"1\" class=\"dataframe\">\n",
       "  <thead>\n",
       "    <tr style=\"text-align: right;\">\n",
       "      <th></th>\n",
       "      <th>cust_id</th>\n",
       "      <th>ord_id</th>\n",
       "      <th>date</th>\n",
       "      <th>item_id</th>\n",
       "      <th>scat</th>\n",
       "      <th>qty</th>\n",
       "      <th>cust_id</th>\n",
       "      <th>ord_id</th>\n",
       "      <th>date</th>\n",
       "      <th>item_id</th>\n",
       "      <th>scat</th>\n",
       "      <th>qty</th>\n",
       "    </tr>\n",
       "  </thead>\n",
       "  <tbody>\n",
       "    <tr>\n",
       "      <th>4391</th>\n",
       "      <td>B100033505</td>\n",
       "      <td>300054459.0</td>\n",
       "      <td>2019-12-01 15:22:39.377034</td>\n",
       "      <td>SH1008903</td>\n",
       "      <td>셔츠</td>\n",
       "      <td>1.0</td>\n",
       "      <td>NaN</td>\n",
       "      <td>NaN</td>\n",
       "      <td>NaN</td>\n",
       "      <td>NaN</td>\n",
       "      <td>NaN</td>\n",
       "      <td>NaN</td>\n",
       "    </tr>\n",
       "    <tr>\n",
       "      <th>10926</th>\n",
       "      <td>B100069655</td>\n",
       "      <td>300129288.0</td>\n",
       "      <td>2019-06-06 15:31:58.124992</td>\n",
       "      <td>SH1002906</td>\n",
       "      <td>셔츠</td>\n",
       "      <td>1.0</td>\n",
       "      <td>NaN</td>\n",
       "      <td>NaN</td>\n",
       "      <td>NaN</td>\n",
       "      <td>NaN</td>\n",
       "      <td>NaN</td>\n",
       "      <td>NaN</td>\n",
       "    </tr>\n",
       "    <tr>\n",
       "      <th>13465</th>\n",
       "      <td>B100094647</td>\n",
       "      <td>300159018.0</td>\n",
       "      <td>2019-04-13 12:26:06.120983</td>\n",
       "      <td>ES2000503</td>\n",
       "      <td>재킷</td>\n",
       "      <td>1.0</td>\n",
       "      <td>NaN</td>\n",
       "      <td>NaN</td>\n",
       "      <td>NaN</td>\n",
       "      <td>NaN</td>\n",
       "      <td>NaN</td>\n",
       "      <td>NaN</td>\n",
       "    </tr>\n",
       "    <tr>\n",
       "      <th>17903</th>\n",
       "      <td>B100029857</td>\n",
       "      <td>300213744.0</td>\n",
       "      <td>2019-09-16 16:39:43.662158</td>\n",
       "      <td>SH1004608</td>\n",
       "      <td>바지</td>\n",
       "      <td>1.0</td>\n",
       "      <td>NaN</td>\n",
       "      <td>NaN</td>\n",
       "      <td>NaN</td>\n",
       "      <td>NaN</td>\n",
       "      <td>NaN</td>\n",
       "      <td>NaN</td>\n",
       "    </tr>\n",
       "    <tr>\n",
       "      <th>29022</th>\n",
       "      <td>NaN</td>\n",
       "      <td>NaN</td>\n",
       "      <td>NaN</td>\n",
       "      <td>NaN</td>\n",
       "      <td>NaN</td>\n",
       "      <td>NaN</td>\n",
       "      <td>B100033141</td>\n",
       "      <td>300359214.0</td>\n",
       "      <td>2020-03-12 11:23:40.882465</td>\n",
       "      <td>SH1007803</td>\n",
       "      <td>셔츠</td>\n",
       "      <td>1.0</td>\n",
       "    </tr>\n",
       "    <tr>\n",
       "      <th>31950</th>\n",
       "      <td>NaN</td>\n",
       "      <td>NaN</td>\n",
       "      <td>NaN</td>\n",
       "      <td>NaN</td>\n",
       "      <td>NaN</td>\n",
       "      <td>NaN</td>\n",
       "      <td>B100094647</td>\n",
       "      <td>300403206.0</td>\n",
       "      <td>2020-02-05 19:24:00.026031</td>\n",
       "      <td>SH1001109</td>\n",
       "      <td>셔츠</td>\n",
       "      <td>1.0</td>\n",
       "    </tr>\n",
       "    <tr>\n",
       "      <th>38707</th>\n",
       "      <td>NaN</td>\n",
       "      <td>NaN</td>\n",
       "      <td>NaN</td>\n",
       "      <td>NaN</td>\n",
       "      <td>NaN</td>\n",
       "      <td>NaN</td>\n",
       "      <td>B100033141</td>\n",
       "      <td>300533643.0</td>\n",
       "      <td>2020-12-10 07:05:35.342493</td>\n",
       "      <td>SH1008001</td>\n",
       "      <td>치마</td>\n",
       "      <td>1.0</td>\n",
       "    </tr>\n",
       "  </tbody>\n",
       "</table>\n",
       "</div>"
      ],
      "text/plain": [
       "          cust_id       ord_id                        date    item_id scat  \\\n",
       "4391   B100033505  300054459.0  2019-12-01 15:22:39.377034  SH1008903   셔츠   \n",
       "10926  B100069655  300129288.0  2019-06-06 15:31:58.124992  SH1002906   셔츠   \n",
       "13465  B100094647  300159018.0  2019-04-13 12:26:06.120983  ES2000503   재킷   \n",
       "17903  B100029857  300213744.0  2019-09-16 16:39:43.662158  SH1004608   바지   \n",
       "29022         NaN          NaN                         NaN        NaN  NaN   \n",
       "31950         NaN          NaN                         NaN        NaN  NaN   \n",
       "38707         NaN          NaN                         NaN        NaN  NaN   \n",
       "\n",
       "       qty     cust_id       ord_id                        date    item_id  \\\n",
       "4391   1.0         NaN          NaN                         NaN        NaN   \n",
       "10926  1.0         NaN          NaN                         NaN        NaN   \n",
       "13465  1.0         NaN          NaN                         NaN        NaN   \n",
       "17903  1.0         NaN          NaN                         NaN        NaN   \n",
       "29022  NaN  B100033141  300359214.0  2020-03-12 11:23:40.882465  SH1007803   \n",
       "31950  NaN  B100094647  300403206.0  2020-02-05 19:24:00.026031  SH1001109   \n",
       "38707  NaN  B100033141  300533643.0  2020-12-10 07:05:35.342493  SH1008001   \n",
       "\n",
       "      scat  qty  \n",
       "4391   NaN  NaN  \n",
       "10926  NaN  NaN  \n",
       "13465  NaN  NaN  \n",
       "17903  NaN  NaN  \n",
       "29022   셔츠  1.0  \n",
       "31950   셔츠  1.0  \n",
       "38707   치마  1.0  "
      ]
     },
     "execution_count": 114,
     "metadata": {},
     "output_type": "execute_result"
    }
   ],
   "source": [
    "# 좌우 방향으로 결합하는 경우\n",
    "\n",
    "pd.concat([sales19smpl, sales20smpl], axis=1)\n",
    "\n",
    "# 각 행의 index가 다르기 때문에 행의 수가 증가한 것 ( ==> merge를 사용하는 것이 편리하고 안전)"
   ]
  },
  {
   "cell_type": "code",
   "execution_count": null,
   "metadata": {},
   "outputs": [],
   "source": []
  },
  {
   "cell_type": "markdown",
   "metadata": {},
   "source": [
    "## DB 연결 및 SQL 사용"
   ]
  },
  {
   "cell_type": "markdown",
   "metadata": {},
   "source": [
    "- DB 연결 예제<br><br>\n",
    "https://www.w3schools.com/python/python_mysql_getstarted.asp\n",
    "<br><br> \n",
    "- SQL을 사용한 조회 예제<br><br>\n",
    "https://www.w3schools.com/python/python_mysql_select.asp    "
   ]
  },
  {
   "cell_type": "code",
   "execution_count": null,
   "metadata": {},
   "outputs": [],
   "source": []
  },
  {
   "cell_type": "code",
   "execution_count": null,
   "metadata": {},
   "outputs": [],
   "source": []
  },
  {
   "cell_type": "markdown",
   "metadata": {},
   "source": [
    "### 기타 실전적인 데이터처리 과제들 (연습 권장)"
   ]
  },
  {
   "cell_type": "code",
   "execution_count": 116,
   "metadata": {},
   "outputs": [],
   "source": [
    "# 금액이 양수가 아니면 0으로 변경\n",
    "\n"
   ]
  },
  {
   "cell_type": "code",
   "execution_count": 87,
   "metadata": {},
   "outputs": [],
   "source": [
    "# 고객정보가 존재하지 않는 (고객미식별) 판매내역의 건수는? 총판매내역 건수 중 차지하는 비율은?\n",
    "\n"
   ]
  },
  {
   "cell_type": "code",
   "execution_count": 88,
   "metadata": {},
   "outputs": [],
   "source": [
    "# 2019년 분기별로 각 주문건별 판매수량 합계에 차이가 있는가? \n",
    "\n"
   ]
  },
  {
   "cell_type": "code",
   "execution_count": 89,
   "metadata": {},
   "outputs": [],
   "source": [
    "# 2019년 보다 2020년 판매량이 더 많은 상품군 (대분류+소분류) Top 3는?\n",
    "\n"
   ]
  },
  {
   "cell_type": "code",
   "execution_count": 90,
   "metadata": {},
   "outputs": [],
   "source": [
    "# 브랜드별로 여성고객에 한정해서 2020년 여름 보다 가을에 판매수량이 더 많았던 컬러는?\n",
    "\n"
   ]
  },
  {
   "cell_type": "code",
   "execution_count": 91,
   "metadata": {},
   "outputs": [
    {
     "data": {
      "text/plain": [
       "grey          9727\n",
       "black         8773\n",
       "navy          6780\n",
       "white         4462\n",
       "blue          4364\n",
       "pink          2842\n",
       "check         1576\n",
       "khaki         1237\n",
       "light grey    1168\n",
       "dark blue     1007\n",
       "Name: color, dtype: int64"
      ]
     },
     "execution_count": 91,
     "metadata": {},
     "output_type": "execute_result"
    }
   ],
   "source": [
    "sales['color'].value_counts()"
   ]
  },
  {
   "cell_type": "code",
   "execution_count": null,
   "metadata": {},
   "outputs": [],
   "source": []
  },
  {
   "cell_type": "markdown",
   "metadata": {},
   "source": [
    "## Summary"
   ]
  },
  {
   "cell_type": "markdown",
   "metadata": {},
   "source": [
    "- 파이썬 프로그래밍 기본문법 - 자료유형별 간단한 처리 (strings and numbers)\n",
    "- 데이터프레임(테이블)과 컬럼 처리 - 추출, 정렬, 중복제거, 병합, 데이터 변환 및 정제\n",
    "<br><br>\n",
    "- 파이썬 프로그래밍 문법과 pandas, numpy 데이터 처리 라이브러리들에는 무수히 다양한 기능들과 옵션들이 존재하지만 간단한 계산과 데이터프레임 가공 기능들만 익숙해지면 대부분의 데이터 가공은 가능\n",
    "- **많이 사용되는 기본기능들**을 먼저 익히고 본인이 **자주 사용할 기능들을 정리**해두고 반복사용하는 것에서 출발하기 권장\n",
    "- 실전 데이터 분석에서는 기존에 작성해두었던 코드를 복사해서 편집해 사용하는 경우가 많음"
   ]
  }
 ],
 "metadata": {
  "kernelspec": {
   "display_name": "Python 3 (ipykernel)",
   "language": "python",
   "name": "python3"
  },
  "language_info": {
   "codemirror_mode": {
    "name": "ipython",
    "version": 3
   },
   "file_extension": ".py",
   "mimetype": "text/x-python",
   "name": "python",
   "nbconvert_exporter": "python",
   "pygments_lexer": "ipython3",
   "version": "3.9.7"
  }
 },
 "nbformat": 4,
 "nbformat_minor": 4
}

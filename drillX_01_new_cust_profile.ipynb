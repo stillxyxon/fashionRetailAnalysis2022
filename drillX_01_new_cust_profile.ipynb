{
 "cells": [
  {
   "cell_type": "markdown",
   "id": "318f4080",
   "metadata": {},
   "source": [
    "# 브루클린 판매 데이터 분석 예제 [01] -- 신규고객 분석"
   ]
  },
  {
   "cell_type": "markdown",
   "id": "f4f1d40c",
   "metadata": {},
   "source": [
    "**분석주제 :**\n",
    "- 전체 고객 중 신규고객의 특성에 어떤 특징이 있는가를 파악\n",
    "\n",
    "**분석방식 :**\n",
    "- 데이터 전체, 전체 고객의 개략적 패턴을 분석한 후 신규고객을 구분\n",
    "- 신규고객만이 가지는 특성을 프로파일링\n",
    "- 동일 항목을 신규고객이 아닌 기존고객에 대해서도 산출하여 두 집단을 비교"
   ]
  },
  {
   "cell_type": "code",
   "execution_count": 1,
   "id": "1026a69c",
   "metadata": {},
   "outputs": [],
   "source": [
    "# 공통 라이브러리 지정 및 환경설정\n",
    "\n",
    "import numpy as np\n",
    "import matplotlib.pyplot as plt\n",
    "import pandas as pd\n",
    "from numpy.polynomial.polynomial import polyfit\n",
    "\n",
    "# define random jitter\n",
    "def rjitt(arr):\n",
    "    stdev = .01*(max(arr)-min(arr))\n",
    "    return arr + np.random.randn(len(arr)) * stdev\n",
    "\n",
    "# custom min max scaler\n",
    "def mnmx_scl(vec):\n",
    "    vec = (vec-vec.min())/(vec.max()-vec.min())\n",
    "    return(vec)\n",
    "\n",
    "# custom zrmx_scler\n",
    "def zrmx_scl(vec):\n",
    "    vec = vec/vec.max()\n",
    "    return(vec)\n",
    "\n",
    "\n",
    "# matplotlib 에서 한글을 표시하기 위한 설정\n",
    "import matplotlib.font_manager\n",
    "\n",
    "font_name = matplotlib.font_manager.FontProperties(\n",
    "                fname=\"c:/Windows/Fonts/malgun.ttf\"  # 윈도우즈의 한글 폰트 위치를 지정\n",
    "            ).get_name()\n",
    "matplotlib.rc('font', family=font_name)\n",
    "\n",
    "matplotlib.rcParams['axes.unicode_minus'] = False #  음수를 나타내는 '-' 부호가 정상 표시되도록\n",
    "\n",
    "\n",
    "# local data path\n",
    "dataPath = 'D:/YONG/myPydata/' # 데이터 위치는 사용자 지정\n",
    "\n"
   ]
  },
  {
   "cell_type": "markdown",
   "id": "cfb874ed",
   "metadata": {},
   "source": [
    "### 데이터 불러오기"
   ]
  },
  {
   "cell_type": "code",
   "execution_count": 2,
   "id": "e92849af",
   "metadata": {},
   "outputs": [
    {
     "data": {
      "text/html": [
       "<div>\n",
       "<style scoped>\n",
       "    .dataframe tbody tr th:only-of-type {\n",
       "        vertical-align: middle;\n",
       "    }\n",
       "\n",
       "    .dataframe tbody tr th {\n",
       "        vertical-align: top;\n",
       "    }\n",
       "\n",
       "    .dataframe thead th {\n",
       "        text-align: right;\n",
       "    }\n",
       "</style>\n",
       "<table border=\"1\" class=\"dataframe\">\n",
       "  <thead>\n",
       "    <tr style=\"text-align: right;\">\n",
       "      <th></th>\n",
       "      <th>cust_id</th>\n",
       "      <th>sex</th>\n",
       "      <th>area</th>\n",
       "      <th>birthyr</th>\n",
       "      <th>hh_income</th>\n",
       "      <th>age</th>\n",
       "      <th>marital</th>\n",
       "      <th>ranseq</th>\n",
       "      <th>signup_date</th>\n",
       "    </tr>\n",
       "  </thead>\n",
       "  <tbody>\n",
       "    <tr>\n",
       "      <th>0</th>\n",
       "      <td>B100047771</td>\n",
       "      <td>F</td>\n",
       "      <td>inchon</td>\n",
       "      <td>1997</td>\n",
       "      <td>43000</td>\n",
       "      <td>24</td>\n",
       "      <td>미혼</td>\n",
       "      <td>0</td>\n",
       "      <td>2018-02-17 11:11:27.243860</td>\n",
       "    </tr>\n",
       "    <tr>\n",
       "      <th>1</th>\n",
       "      <td>B100060077</td>\n",
       "      <td>F</td>\n",
       "      <td>seoul</td>\n",
       "      <td>1996</td>\n",
       "      <td>26000</td>\n",
       "      <td>25</td>\n",
       "      <td>미혼</td>\n",
       "      <td>1</td>\n",
       "      <td>2018-05-14 11:11:27.243860</td>\n",
       "    </tr>\n",
       "  </tbody>\n",
       "</table>\n",
       "</div>"
      ],
      "text/plain": [
       "      cust_id sex    area  birthyr  hh_income  age marital  ranseq  \\\n",
       "0  B100047771   F  inchon     1997      43000   24      미혼       0   \n",
       "1  B100060077   F   seoul     1996      26000   25      미혼       1   \n",
       "\n",
       "                  signup_date  \n",
       "0  2018-02-17 11:11:27.243860  \n",
       "1  2018-05-14 11:11:27.243860  "
      ]
     },
     "execution_count": 2,
     "metadata": {},
     "output_type": "execute_result"
    }
   ],
   "source": [
    "# 판매데이터 불러오기\n",
    "sales = pd.read_csv(dataPath + 'brk_salesmast01.csv', encoding='euc-kr')\n",
    "sales = sales.drop(sales.columns[0], axis=1)\n",
    "\n",
    "#고객데이터 불러오기\n",
    "custmast = pd.read_csv(dataPath + 'brk_custmast01.csv', encoding='euc-kr')\n",
    "custmast = custmast.drop(custmast.columns[0], axis=1)\n",
    "\n",
    "# 상품데이터 불러오기\n",
    "itemmast = pd.read_csv(dataPath + 'brk_itemmast01.csv', encoding='euc-kr')\n",
    "itemmast = itemmast.drop(itemmast.columns[0], axis=1)\n",
    "\n",
    "custmast.head(2)\n",
    "#itemmast.head(2)"
   ]
  },
  {
   "cell_type": "markdown",
   "id": "843259b8",
   "metadata": {},
   "source": [
    "## 신규고객 정의하기"
   ]
  },
  {
   "cell_type": "code",
   "execution_count": 3,
   "id": "f31d8024",
   "metadata": {},
   "outputs": [
    {
     "data": {
      "text/plain": [
       "0        2018-02-17 11:11:27.243860\n",
       "1        2018-05-14 11:11:27.243860\n",
       "2        2016-09-30 11:11:27.243860\n",
       "3        2016-05-30 11:11:27.243860\n",
       "4        2017-04-08 11:11:27.243860\n",
       "                    ...            \n",
       "25995    2018-04-06 11:11:27.243860\n",
       "25996    2019-11-03 11:11:27.243860\n",
       "25997    2017-03-30 11:11:27.243860\n",
       "25998    2016-06-11 11:11:27.243860\n",
       "25999    2016-05-18 11:11:27.243860\n",
       "Name: signup_date, Length: 26000, dtype: object"
      ]
     },
     "execution_count": 3,
     "metadata": {},
     "output_type": "execute_result"
    }
   ],
   "source": [
    "# 고객별 가입일자 분포 확인\n",
    "\n",
    "# 회원가입일자 컬럼 확인\n",
    "custmast.signup_date"
   ]
  },
  {
   "cell_type": "markdown",
   "id": "5867c943",
   "metadata": {},
   "source": [
    "- 데이터셋은 2020년 까지의 데이터를 포함\n",
    "- 데이터셋 기준 현재 시점은 2021년 1월 1일"
   ]
  },
  {
   "cell_type": "code",
   "execution_count": 4,
   "id": "47365206",
   "metadata": {},
   "outputs": [
    {
     "data": {
      "text/plain": [
       "dtype('O')"
      ]
     },
     "execution_count": 4,
     "metadata": {},
     "output_type": "execute_result"
    }
   ],
   "source": [
    "custmast.signup_date.dtype"
   ]
  },
  {
   "cell_type": "code",
   "execution_count": 5,
   "id": "9141d45d",
   "metadata": {},
   "outputs": [],
   "source": [
    "# 가입일자의 데이터 타입은 Object 문자열"
   ]
  },
  {
   "cell_type": "code",
   "execution_count": 6,
   "id": "251e5f5d",
   "metadata": {},
   "outputs": [
    {
     "data": {
      "text/plain": [
       "0        2018-02-17\n",
       "1        2018-05-14\n",
       "2        2016-09-30\n",
       "3        2016-05-30\n",
       "4        2017-04-08\n",
       "            ...    \n",
       "25995    2018-04-06\n",
       "25996    2019-11-03\n",
       "25997    2017-03-30\n",
       "25998    2016-06-11\n",
       "25999    2016-05-18\n",
       "Name: signup_date, Length: 26000, dtype: object"
      ]
     },
     "execution_count": 6,
     "metadata": {},
     "output_type": "execute_result"
    }
   ],
   "source": [
    "# 시간 까지는 필요없고 날짜(day)만 필요\n",
    "\n",
    "# 날짜까지를 나타내는 10개 자리 추출\n",
    "custmast.signup_date.str.slice(0,10)"
   ]
  },
  {
   "cell_type": "code",
   "execution_count": 7,
   "id": "76b61d89",
   "metadata": {},
   "outputs": [
    {
     "data": {
      "text/html": [
       "<div>\n",
       "<style scoped>\n",
       "    .dataframe tbody tr th:only-of-type {\n",
       "        vertical-align: middle;\n",
       "    }\n",
       "\n",
       "    .dataframe tbody tr th {\n",
       "        vertical-align: top;\n",
       "    }\n",
       "\n",
       "    .dataframe thead th {\n",
       "        text-align: right;\n",
       "    }\n",
       "</style>\n",
       "<table border=\"1\" class=\"dataframe\">\n",
       "  <thead>\n",
       "    <tr style=\"text-align: right;\">\n",
       "      <th></th>\n",
       "      <th>signupDate</th>\n",
       "      <th>cust_id</th>\n",
       "    </tr>\n",
       "  </thead>\n",
       "  <tbody>\n",
       "    <tr>\n",
       "      <th>0</th>\n",
       "      <td>2016-01-03</td>\n",
       "      <td>10</td>\n",
       "    </tr>\n",
       "    <tr>\n",
       "      <th>1</th>\n",
       "      <td>2016-01-04</td>\n",
       "      <td>17</td>\n",
       "    </tr>\n",
       "    <tr>\n",
       "      <th>2</th>\n",
       "      <td>2016-01-05</td>\n",
       "      <td>12</td>\n",
       "    </tr>\n",
       "    <tr>\n",
       "      <th>3</th>\n",
       "      <td>2016-01-06</td>\n",
       "      <td>13</td>\n",
       "    </tr>\n",
       "    <tr>\n",
       "      <th>4</th>\n",
       "      <td>2016-01-07</td>\n",
       "      <td>13</td>\n",
       "    </tr>\n",
       "    <tr>\n",
       "      <th>...</th>\n",
       "      <td>...</td>\n",
       "      <td>...</td>\n",
       "    </tr>\n",
       "    <tr>\n",
       "      <th>1811</th>\n",
       "      <td>2020-12-26</td>\n",
       "      <td>3</td>\n",
       "    </tr>\n",
       "    <tr>\n",
       "      <th>1812</th>\n",
       "      <td>2020-12-27</td>\n",
       "      <td>3</td>\n",
       "    </tr>\n",
       "    <tr>\n",
       "      <th>1813</th>\n",
       "      <td>2020-12-28</td>\n",
       "      <td>2</td>\n",
       "    </tr>\n",
       "    <tr>\n",
       "      <th>1814</th>\n",
       "      <td>2020-12-29</td>\n",
       "      <td>1</td>\n",
       "    </tr>\n",
       "    <tr>\n",
       "      <th>1815</th>\n",
       "      <td>2020-12-30</td>\n",
       "      <td>1</td>\n",
       "    </tr>\n",
       "  </tbody>\n",
       "</table>\n",
       "<p>1816 rows × 2 columns</p>\n",
       "</div>"
      ],
      "text/plain": [
       "      signupDate  cust_id\n",
       "0     2016-01-03       10\n",
       "1     2016-01-04       17\n",
       "2     2016-01-05       12\n",
       "3     2016-01-06       13\n",
       "4     2016-01-07       13\n",
       "...          ...      ...\n",
       "1811  2020-12-26        3\n",
       "1812  2020-12-27        3\n",
       "1813  2020-12-28        2\n",
       "1814  2020-12-29        1\n",
       "1815  2020-12-30        1\n",
       "\n",
       "[1816 rows x 2 columns]"
      ]
     },
     "execution_count": 7,
     "metadata": {},
     "output_type": "execute_result"
    }
   ],
   "source": [
    "# 필요한 컬럼들만 복제 -- 고객번호와 회원가입일시\n",
    "custSignup = custmast[['cust_id', 'signup_date']].copy()\n",
    "\n",
    "# 날짜 까지만 추출해서 새로운 컬럼으로 추가\n",
    "custSignup['signupDate'] = custmast.signup_date.str.slice(0,10)\n",
    "\n",
    "# 일자별 가입 고객수 집계\n",
    "custSignupAgg = custSignup[['cust_id','signupDate']].groupby('signupDate').count().reset_index() \n",
    "\n",
    "custSignupAgg"
   ]
  },
  {
   "cell_type": "code",
   "execution_count": 8,
   "id": "eef952a8",
   "metadata": {},
   "outputs": [
    {
     "data": {
      "image/png": "[encoded data removed]",
      "text/plain": [
       "<Figure size 1152x216 with 1 Axes>"
      ]
     },
     "metadata": {
      "needs_background": "light"
     },
     "output_type": "display_data"
    }
   ],
   "source": [
    "# 일자별 가입회원수 분포 확인\n",
    "\n",
    "# 일자의 수가 많으므로 가로가 긴 형태로 출력\n",
    "plt.figure(figsize=(16,3))\n",
    "# 막대챠트 사용\n",
    "plt.bar(custSignupAgg.signupDate, custSignupAgg.cust_id)\n",
    "plt.xticks(rotation=90)\n",
    "plt.show()"
   ]
  },
  {
   "cell_type": "code",
   "execution_count": 9,
   "id": "6194823b",
   "metadata": {},
   "outputs": [
    {
     "data": {
      "image/png": "[encoded data removed]",
      "text/plain": [
       "<Figure size 1152x216 with 1 Axes>"
      ]
     },
     "metadata": {
      "needs_background": "light"
     },
     "output_type": "display_data"
    }
   ],
   "source": [
    "# datetime 형식으로 날짜 값을 변경\n",
    "dateTexts = pd.to_datetime(custSignupAgg.signupDate, format='%Y-%m-%d')\n",
    "\n",
    "# 2019년 이후 즉, 데이터셋 기간 이후인 기간 구분하는 색상 지정\n",
    "colors1 = np.where(custSignupAgg.signupDate>='2019-01-01 00:00:00.0000', 'steelblue', 'grey')\n",
    "\n",
    "plt.figure(figsize=(16,3))\n",
    "# 막대챠트의 X축을 날짜 형식으로 표시\n",
    "plt.bar(dateTexts, custSignupAgg.cust_id,\n",
    "       color=colors1)\n",
    "plt.xticks(rotation=90)\n",
    "plt.xlabel('고객회원가입일자')\n",
    "plt.ylabel('일자별 가입회원수')\n",
    "plt.title('일자별 회원가입 회원수 추이')\n",
    "plt.show()"
   ]
  },
  {
   "cell_type": "markdown",
   "id": "2b646020",
   "metadata": {},
   "source": [
    "- 2019년 초반 회원가입이 많이 증가했으나 2019년 후반 감소. 2020년 회원가입은 매우 적었고 감소 패턴이었음\n",
    "- 2019년 이전에 가입한 회원이 다수 존재함"
   ]
  },
  {
   "cell_type": "code",
   "execution_count": 10,
   "id": "dcede356",
   "metadata": {},
   "outputs": [],
   "source": [
    "# 판매내역으로부터 고객별 최초 구매일자 분포 확인"
   ]
  },
  {
   "cell_type": "code",
   "execution_count": 11,
   "id": "cc632998",
   "metadata": {},
   "outputs": [
    {
     "data": {
      "text/html": [
       "<div>\n",
       "<style scoped>\n",
       "    .dataframe tbody tr th:only-of-type {\n",
       "        vertical-align: middle;\n",
       "    }\n",
       "\n",
       "    .dataframe tbody tr th {\n",
       "        vertical-align: top;\n",
       "    }\n",
       "\n",
       "    .dataframe thead th {\n",
       "        text-align: right;\n",
       "    }\n",
       "</style>\n",
       "<table border=\"1\" class=\"dataframe\">\n",
       "  <thead>\n",
       "    <tr style=\"text-align: right;\">\n",
       "      <th></th>\n",
       "      <th>cust_id</th>\n",
       "      <th>date</th>\n",
       "    </tr>\n",
       "  </thead>\n",
       "  <tbody>\n",
       "    <tr>\n",
       "      <th>41931</th>\n",
       "      <td>B100044469</td>\n",
       "      <td>2020-10-01 15:19:12.205728</td>\n",
       "    </tr>\n",
       "    <tr>\n",
       "      <th>41932</th>\n",
       "      <td>B100044469</td>\n",
       "      <td>2020-10-01 15:19:12.205728</td>\n",
       "    </tr>\n",
       "    <tr>\n",
       "      <th>41933</th>\n",
       "      <td>B100044222</td>\n",
       "      <td>2020-10-01 16:22:21.065439</td>\n",
       "    </tr>\n",
       "    <tr>\n",
       "      <th>41934</th>\n",
       "      <td>B100013999</td>\n",
       "      <td>2020-12-30 17:14:00.524636</td>\n",
       "    </tr>\n",
       "    <tr>\n",
       "      <th>41935</th>\n",
       "      <td>B100025084</td>\n",
       "      <td>2020-11-30 11:37:36.875571</td>\n",
       "    </tr>\n",
       "  </tbody>\n",
       "</table>\n",
       "</div>"
      ],
      "text/plain": [
       "          cust_id                        date\n",
       "41931  B100044469  2020-10-01 15:19:12.205728\n",
       "41932  B100044469  2020-10-01 15:19:12.205728\n",
       "41933  B100044222  2020-10-01 16:22:21.065439\n",
       "41934  B100013999  2020-12-30 17:14:00.524636\n",
       "41935  B100025084  2020-11-30 11:37:36.875571"
      ]
     },
     "execution_count": 11,
     "metadata": {},
     "output_type": "execute_result"
    }
   ],
   "source": [
    "# 판매내역에서 판매일자 컬럼 확인\n",
    "\n",
    "sales[['cust_id', 'date']].tail()"
   ]
  },
  {
   "cell_type": "code",
   "execution_count": 12,
   "id": "7143435a",
   "metadata": {},
   "outputs": [
    {
     "data": {
      "text/plain": [
       "('2019-01-01 08:29:29.039055', '2020-12-30 22:40:11.831680')"
      ]
     },
     "execution_count": 12,
     "metadata": {},
     "output_type": "execute_result"
    }
   ],
   "source": [
    "# 판매내역의 판매일자 최솟값과 최댓값 확인\n",
    "sales.date.min(), sales.date.max()"
   ]
  },
  {
   "cell_type": "code",
   "execution_count": 13,
   "id": "d4209ceb",
   "metadata": {},
   "outputs": [
    {
     "data": {
      "text/html": [
       "<div>\n",
       "<style scoped>\n",
       "    .dataframe tbody tr th:only-of-type {\n",
       "        vertical-align: middle;\n",
       "    }\n",
       "\n",
       "    .dataframe tbody tr th {\n",
       "        vertical-align: top;\n",
       "    }\n",
       "\n",
       "    .dataframe thead th {\n",
       "        text-align: right;\n",
       "    }\n",
       "</style>\n",
       "<table border=\"1\" class=\"dataframe\">\n",
       "  <thead>\n",
       "    <tr style=\"text-align: right;\">\n",
       "      <th></th>\n",
       "      <th>cust_id</th>\n",
       "      <th>date</th>\n",
       "    </tr>\n",
       "  </thead>\n",
       "  <tbody>\n",
       "    <tr>\n",
       "      <th>15560</th>\n",
       "      <td>B100099964</td>\n",
       "      <td>2019-02-10 19:27:30.820349</td>\n",
       "    </tr>\n",
       "    <tr>\n",
       "      <th>15561</th>\n",
       "      <td>B100099970</td>\n",
       "      <td>2019-10-26 14:53:56.313021</td>\n",
       "    </tr>\n",
       "    <tr>\n",
       "      <th>15562</th>\n",
       "      <td>B100099976</td>\n",
       "      <td>2020-11-02 19:06:31.587138</td>\n",
       "    </tr>\n",
       "    <tr>\n",
       "      <th>15563</th>\n",
       "      <td>B100099981</td>\n",
       "      <td>2020-09-26 22:30:32.905320</td>\n",
       "    </tr>\n",
       "    <tr>\n",
       "      <th>15564</th>\n",
       "      <td>B100099990</td>\n",
       "      <td>2019-04-12 12:46:35.024161</td>\n",
       "    </tr>\n",
       "  </tbody>\n",
       "</table>\n",
       "</div>"
      ],
      "text/plain": [
       "          cust_id                        date\n",
       "15560  B100099964  2019-02-10 19:27:30.820349\n",
       "15561  B100099970  2019-10-26 14:53:56.313021\n",
       "15562  B100099976  2020-11-02 19:06:31.587138\n",
       "15563  B100099981  2020-09-26 22:30:32.905320\n",
       "15564  B100099990  2019-04-12 12:46:35.024161"
      ]
     },
     "execution_count": 13,
     "metadata": {},
     "output_type": "execute_result"
    }
   ],
   "source": [
    "# 고객별 최초 구매일자 파악\n",
    "\n",
    "# 날짜 중 가장 작은 값이 최초 구매일자\n",
    "dfcust1stSaledate = sales[['cust_id', 'date']].groupby('cust_id').min().reset_index()\n",
    "dfcust1stSaledate.tail()"
   ]
  },
  {
   "cell_type": "code",
   "execution_count": 14,
   "id": "e3d5f99a",
   "metadata": {},
   "outputs": [
    {
     "data": {
      "text/plain": [
       "0"
      ]
     },
     "execution_count": 14,
     "metadata": {},
     "output_type": "execute_result"
    }
   ],
   "source": [
    "# 집계한 테이블에 고객번호가 없는 경우가 있는가 확인\n",
    "\n",
    "dfcust1stSaledate.cust_id.isna().sum()"
   ]
  },
  {
   "cell_type": "code",
   "execution_count": 15,
   "id": "cf0bb528",
   "metadata": {},
   "outputs": [
    {
     "data": {
      "text/html": [
       "<div>\n",
       "<style scoped>\n",
       "    .dataframe tbody tr th:only-of-type {\n",
       "        vertical-align: middle;\n",
       "    }\n",
       "\n",
       "    .dataframe tbody tr th {\n",
       "        vertical-align: top;\n",
       "    }\n",
       "\n",
       "    .dataframe thead th {\n",
       "        text-align: right;\n",
       "    }\n",
       "</style>\n",
       "<table border=\"1\" class=\"dataframe\">\n",
       "  <thead>\n",
       "    <tr style=\"text-align: right;\">\n",
       "      <th></th>\n",
       "      <th>minDate</th>\n",
       "      <th>cust_id</th>\n",
       "    </tr>\n",
       "  </thead>\n",
       "  <tbody>\n",
       "    <tr>\n",
       "      <th>0</th>\n",
       "      <td>2019-01-01</td>\n",
       "      <td>16</td>\n",
       "    </tr>\n",
       "    <tr>\n",
       "      <th>1</th>\n",
       "      <td>2019-01-02</td>\n",
       "      <td>21</td>\n",
       "    </tr>\n",
       "    <tr>\n",
       "      <th>2</th>\n",
       "      <td>2019-01-03</td>\n",
       "      <td>19</td>\n",
       "    </tr>\n",
       "    <tr>\n",
       "      <th>3</th>\n",
       "      <td>2019-01-04</td>\n",
       "      <td>21</td>\n",
       "    </tr>\n",
       "    <tr>\n",
       "      <th>4</th>\n",
       "      <td>2019-01-05</td>\n",
       "      <td>31</td>\n",
       "    </tr>\n",
       "    <tr>\n",
       "      <th>...</th>\n",
       "      <td>...</td>\n",
       "      <td>...</td>\n",
       "    </tr>\n",
       "    <tr>\n",
       "      <th>725</th>\n",
       "      <td>2020-12-26</td>\n",
       "      <td>24</td>\n",
       "    </tr>\n",
       "    <tr>\n",
       "      <th>726</th>\n",
       "      <td>2020-12-27</td>\n",
       "      <td>42</td>\n",
       "    </tr>\n",
       "    <tr>\n",
       "      <th>727</th>\n",
       "      <td>2020-12-28</td>\n",
       "      <td>13</td>\n",
       "    </tr>\n",
       "    <tr>\n",
       "      <th>728</th>\n",
       "      <td>2020-12-29</td>\n",
       "      <td>11</td>\n",
       "    </tr>\n",
       "    <tr>\n",
       "      <th>729</th>\n",
       "      <td>2020-12-30</td>\n",
       "      <td>19</td>\n",
       "    </tr>\n",
       "  </tbody>\n",
       "</table>\n",
       "<p>730 rows × 2 columns</p>\n",
       "</div>"
      ],
      "text/plain": [
       "        minDate  cust_id\n",
       "0    2019-01-01       16\n",
       "1    2019-01-02       21\n",
       "2    2019-01-03       19\n",
       "3    2019-01-04       21\n",
       "4    2019-01-05       31\n",
       "..          ...      ...\n",
       "725  2020-12-26       24\n",
       "726  2020-12-27       42\n",
       "727  2020-12-28       13\n",
       "728  2020-12-29       11\n",
       "729  2020-12-30       19\n",
       "\n",
       "[730 rows x 2 columns]"
      ]
     },
     "execution_count": 15,
     "metadata": {},
     "output_type": "execute_result"
    }
   ],
   "source": [
    "# 날짜 까지만 추출해서 새로운 컬럼으로 추가\n",
    "dfcust1stSaledate['minDate'] = dfcust1stSaledate.date.str.slice(0,10)\n",
    "\n",
    "# 일자별 해당일자 최초 (2년중) 고객수 집계\n",
    "cust1stSaleAgg = dfcust1stSaledate[['cust_id','minDate']].groupby('minDate').count().reset_index() \n",
    "\n",
    "cust1stSaleAgg"
   ]
  },
  {
   "cell_type": "code",
   "execution_count": 16,
   "id": "14ed7509",
   "metadata": {},
   "outputs": [
    {
     "data": {
      "image/png": "[encoded data removed]",
      "text/plain": [
       "<Figure size 1152x216 with 1 Axes>"
      ]
     },
     "metadata": {
      "needs_background": "light"
     },
     "output_type": "display_data"
    }
   ],
   "source": [
    "# datetime 형식으로 날짜 값을 변경\n",
    "dateTexts = pd.to_datetime(cust1stSaleAgg.minDate, format='%Y-%m-%d')\n",
    "\n",
    "plt.figure(figsize=(16,3))\n",
    "\n",
    "# 막대챠트의 X축을 날짜 형식으로 표시\n",
    "plt.bar(dateTexts, cust1stSaleAgg.cust_id)\n",
    "plt.xticks(rotation=90)\n",
    "plt.xlabel('고객별 최초 구매일자')\n",
    "plt.ylabel('일자별 최초구매 고객수')\n",
    "plt.title('일자별 2년기간내 최초구매일자 추이')\n",
    "plt.show()"
   ]
  },
  {
   "cell_type": "markdown",
   "id": "b590817e",
   "metadata": {},
   "source": [
    "- 2019~2020 기간 중에서 고객별로 가장 빠른 구매일자는 2019 10월 ~2020 2월 사이에 집중"
   ]
  },
  {
   "cell_type": "code",
   "execution_count": 17,
   "id": "337f4bc4",
   "metadata": {},
   "outputs": [],
   "source": [
    "#신규고객 기준 설정\n",
    "\n",
    "# 대안 1 : 회원가입 후 3개월 이내면 신규고객\n",
    "\n",
    "# 대안 2 : 최초 구매 후 3개월 이내면 신규고객\n"
   ]
  },
  {
   "cell_type": "code",
   "execution_count": 18,
   "id": "5093b140",
   "metadata": {},
   "outputs": [
    {
     "data": {
      "text/plain": [
       "(224, 15566)"
      ]
     },
     "execution_count": 18,
     "metadata": {},
     "output_type": "execute_result"
    }
   ],
   "source": [
    "# 대안 1 : 회원가입 후 3개월\n",
    "\n",
    "# 최근 3개월 이내에 가입한 회원수와 2년내 구매가 있었던 전체 고객수\n",
    "custSignupAgg[custSignupAgg.signupDate>='2020-10-01'].cust_id.sum(), len(sales.cust_id.unique())"
   ]
  },
  {
   "cell_type": "code",
   "execution_count": 19,
   "id": "1ff9e640",
   "metadata": {},
   "outputs": [
    {
     "data": {
      "text/plain": [
       "1.44"
      ]
     },
     "execution_count": 19,
     "metadata": {},
     "output_type": "execute_result"
    }
   ],
   "source": [
    "round(224/ 15566*100,2) # 신규회원이 차지하는 비율 pcnt"
   ]
  },
  {
   "cell_type": "code",
   "execution_count": 20,
   "id": "348c0058",
   "metadata": {},
   "outputs": [
    {
     "data": {
      "text/plain": [
       "1762"
      ]
     },
     "execution_count": 20,
     "metadata": {},
     "output_type": "execute_result"
    }
   ],
   "source": [
    "# 대안 2 : 최초 구매 후 3개월\n",
    "\n",
    "cust1stSaleAgg[cust1stSaleAgg.minDate>='2020-10-01'].cust_id.sum()"
   ]
  },
  {
   "cell_type": "code",
   "execution_count": 21,
   "id": "bae06c22",
   "metadata": {},
   "outputs": [
    {
     "data": {
      "text/plain": [
       "11.32"
      ]
     },
     "execution_count": 21,
     "metadata": {},
     "output_type": "execute_result"
    }
   ],
   "source": [
    "round(1762/ 15566*100,2) # 신규고객이 차지하는 비율 pcnt"
   ]
  },
  {
   "cell_type": "code",
   "execution_count": 22,
   "id": "aaae6225",
   "metadata": {},
   "outputs": [],
   "source": [
    "# 최초구매 여부를 정확하게 파악하기 위해서는 2년보다 긴 전체 판매내역 기간 필요\n",
    "# 3년 또는 4년전에 구매한 적 있는 고객을 신규고객으로 보기 어렵기 때문\n",
    "\n",
    "# 결정: 대안 1. 최근 3개월 기준을 적용"
   ]
  },
  {
   "cell_type": "code",
   "execution_count": null,
   "id": "498ea8ed",
   "metadata": {},
   "outputs": [],
   "source": []
  },
  {
   "cell_type": "markdown",
   "id": "ce4ee98b",
   "metadata": {},
   "source": [
    "## 신규고객 특성 프로파일링"
   ]
  },
  {
   "cell_type": "code",
   "execution_count": 23,
   "id": "5f897357",
   "metadata": {},
   "outputs": [
    {
     "data": {
      "text/html": [
       "<div>\n",
       "<style scoped>\n",
       "    .dataframe tbody tr th:only-of-type {\n",
       "        vertical-align: middle;\n",
       "    }\n",
       "\n",
       "    .dataframe tbody tr th {\n",
       "        vertical-align: top;\n",
       "    }\n",
       "\n",
       "    .dataframe thead th {\n",
       "        text-align: right;\n",
       "    }\n",
       "</style>\n",
       "<table border=\"1\" class=\"dataframe\">\n",
       "  <thead>\n",
       "    <tr style=\"text-align: right;\">\n",
       "      <th></th>\n",
       "      <th>cust_id</th>\n",
       "      <th>signup_date</th>\n",
       "      <th>signupDate</th>\n",
       "      <th>newCustFlg</th>\n",
       "    </tr>\n",
       "  </thead>\n",
       "  <tbody>\n",
       "    <tr>\n",
       "      <th>24498</th>\n",
       "      <td>B100094438</td>\n",
       "      <td>2020-12-26 11:11:27.243860</td>\n",
       "      <td>2020-12-26</td>\n",
       "      <td>Y</td>\n",
       "    </tr>\n",
       "    <tr>\n",
       "      <th>2995</th>\n",
       "      <td>B100018472</td>\n",
       "      <td>2020-12-26 11:11:27.243860</td>\n",
       "      <td>2020-12-26</td>\n",
       "      <td>Y</td>\n",
       "    </tr>\n",
       "    <tr>\n",
       "      <th>1482</th>\n",
       "      <td>B100045348</td>\n",
       "      <td>2020-12-26 11:11:27.243860</td>\n",
       "      <td>2020-12-26</td>\n",
       "      <td>Y</td>\n",
       "    </tr>\n",
       "    <tr>\n",
       "      <th>16041</th>\n",
       "      <td>B100008906</td>\n",
       "      <td>2020-12-27 11:11:27.243860</td>\n",
       "      <td>2020-12-27</td>\n",
       "      <td>Y</td>\n",
       "    </tr>\n",
       "    <tr>\n",
       "      <th>17222</th>\n",
       "      <td>B100090766</td>\n",
       "      <td>2020-12-27 11:11:27.243860</td>\n",
       "      <td>2020-12-27</td>\n",
       "      <td>Y</td>\n",
       "    </tr>\n",
       "    <tr>\n",
       "      <th>1258</th>\n",
       "      <td>B100003126</td>\n",
       "      <td>2020-12-27 11:11:27.243860</td>\n",
       "      <td>2020-12-27</td>\n",
       "      <td>Y</td>\n",
       "    </tr>\n",
       "    <tr>\n",
       "      <th>12588</th>\n",
       "      <td>B100026909</td>\n",
       "      <td>2020-12-28 11:11:27.243860</td>\n",
       "      <td>2020-12-28</td>\n",
       "      <td>Y</td>\n",
       "    </tr>\n",
       "    <tr>\n",
       "      <th>1676</th>\n",
       "      <td>B100005478</td>\n",
       "      <td>2020-12-28 11:11:27.243860</td>\n",
       "      <td>2020-12-28</td>\n",
       "      <td>Y</td>\n",
       "    </tr>\n",
       "    <tr>\n",
       "      <th>3991</th>\n",
       "      <td>B100000965</td>\n",
       "      <td>2020-12-29 11:11:27.243860</td>\n",
       "      <td>2020-12-29</td>\n",
       "      <td>Y</td>\n",
       "    </tr>\n",
       "    <tr>\n",
       "      <th>4688</th>\n",
       "      <td>B100020922</td>\n",
       "      <td>2020-12-30 11:11:27.243860</td>\n",
       "      <td>2020-12-30</td>\n",
       "      <td>Y</td>\n",
       "    </tr>\n",
       "  </tbody>\n",
       "</table>\n",
       "</div>"
      ],
      "text/plain": [
       "          cust_id                 signup_date  signupDate newCustFlg\n",
       "24498  B100094438  2020-12-26 11:11:27.243860  2020-12-26          Y\n",
       "2995   B100018472  2020-12-26 11:11:27.243860  2020-12-26          Y\n",
       "1482   B100045348  2020-12-26 11:11:27.243860  2020-12-26          Y\n",
       "16041  B100008906  2020-12-27 11:11:27.243860  2020-12-27          Y\n",
       "17222  B100090766  2020-12-27 11:11:27.243860  2020-12-27          Y\n",
       "1258   B100003126  2020-12-27 11:11:27.243860  2020-12-27          Y\n",
       "12588  B100026909  2020-12-28 11:11:27.243860  2020-12-28          Y\n",
       "1676   B100005478  2020-12-28 11:11:27.243860  2020-12-28          Y\n",
       "3991   B100000965  2020-12-29 11:11:27.243860  2020-12-29          Y\n",
       "4688   B100020922  2020-12-30 11:11:27.243860  2020-12-30          Y"
      ]
     },
     "execution_count": 23,
     "metadata": {},
     "output_type": "execute_result"
    }
   ],
   "source": [
    "# 신규고객여부를 표시하는 컬럼 추가\n",
    "\n",
    "# 10, 11, 12월 3개월 안에 가입일자가 있으면 신규회원으로 표시\n",
    "custSignup['newCustFlg'] = np.where(custSignup.signupDate >='2020-10-01', 'Y','N')\n",
    "\n",
    "custSignup.sort_values('signupDate').tail(10)"
   ]
  },
  {
   "cell_type": "code",
   "execution_count": 24,
   "id": "3e79cf01",
   "metadata": {},
   "outputs": [
    {
     "data": {
      "text/html": [
       "<div>\n",
       "<style scoped>\n",
       "    .dataframe tbody tr th:only-of-type {\n",
       "        vertical-align: middle;\n",
       "    }\n",
       "\n",
       "    .dataframe tbody tr th {\n",
       "        vertical-align: top;\n",
       "    }\n",
       "\n",
       "    .dataframe thead th {\n",
       "        text-align: right;\n",
       "    }\n",
       "</style>\n",
       "<table border=\"1\" class=\"dataframe\">\n",
       "  <thead>\n",
       "    <tr style=\"text-align: right;\">\n",
       "      <th></th>\n",
       "      <th>cust_id</th>\n",
       "      <th>signup_date</th>\n",
       "      <th>signupDate</th>\n",
       "      <th>newCustFlg</th>\n",
       "    </tr>\n",
       "  </thead>\n",
       "  <tbody>\n",
       "    <tr>\n",
       "      <th>146</th>\n",
       "      <td>B100051939</td>\n",
       "      <td>2020-10-25 11:11:27.243860</td>\n",
       "      <td>2020-10-25</td>\n",
       "      <td>Y</td>\n",
       "    </tr>\n",
       "    <tr>\n",
       "      <th>497</th>\n",
       "      <td>B100061014</td>\n",
       "      <td>2020-10-23 11:11:27.243860</td>\n",
       "      <td>2020-10-23</td>\n",
       "      <td>Y</td>\n",
       "    </tr>\n",
       "    <tr>\n",
       "      <th>738</th>\n",
       "      <td>B100028114</td>\n",
       "      <td>2020-12-05 11:11:27.243860</td>\n",
       "      <td>2020-12-05</td>\n",
       "      <td>Y</td>\n",
       "    </tr>\n",
       "    <tr>\n",
       "      <th>745</th>\n",
       "      <td>B100056080</td>\n",
       "      <td>2020-11-12 11:11:27.243860</td>\n",
       "      <td>2020-11-12</td>\n",
       "      <td>Y</td>\n",
       "    </tr>\n",
       "    <tr>\n",
       "      <th>1086</th>\n",
       "      <td>B100098165</td>\n",
       "      <td>2020-10-20 11:11:27.243860</td>\n",
       "      <td>2020-10-20</td>\n",
       "      <td>Y</td>\n",
       "    </tr>\n",
       "    <tr>\n",
       "      <th>...</th>\n",
       "      <td>...</td>\n",
       "      <td>...</td>\n",
       "      <td>...</td>\n",
       "      <td>...</td>\n",
       "    </tr>\n",
       "    <tr>\n",
       "      <th>25311</th>\n",
       "      <td>B100062391</td>\n",
       "      <td>2020-11-04 11:11:27.243860</td>\n",
       "      <td>2020-11-04</td>\n",
       "      <td>Y</td>\n",
       "    </tr>\n",
       "    <tr>\n",
       "      <th>25538</th>\n",
       "      <td>B100025356</td>\n",
       "      <td>2020-12-05 11:11:27.243860</td>\n",
       "      <td>2020-12-05</td>\n",
       "      <td>Y</td>\n",
       "    </tr>\n",
       "    <tr>\n",
       "      <th>25679</th>\n",
       "      <td>B100054098</td>\n",
       "      <td>2020-12-10 11:11:27.243860</td>\n",
       "      <td>2020-12-10</td>\n",
       "      <td>Y</td>\n",
       "    </tr>\n",
       "    <tr>\n",
       "      <th>25924</th>\n",
       "      <td>B100019548</td>\n",
       "      <td>2020-10-26 11:11:27.243860</td>\n",
       "      <td>2020-10-26</td>\n",
       "      <td>Y</td>\n",
       "    </tr>\n",
       "    <tr>\n",
       "      <th>25952</th>\n",
       "      <td>B100022619</td>\n",
       "      <td>2020-10-28 11:11:27.243860</td>\n",
       "      <td>2020-10-28</td>\n",
       "      <td>Y</td>\n",
       "    </tr>\n",
       "  </tbody>\n",
       "</table>\n",
       "<p>224 rows × 4 columns</p>\n",
       "</div>"
      ],
      "text/plain": [
       "          cust_id                 signup_date  signupDate newCustFlg\n",
       "146    B100051939  2020-10-25 11:11:27.243860  2020-10-25          Y\n",
       "497    B100061014  2020-10-23 11:11:27.243860  2020-10-23          Y\n",
       "738    B100028114  2020-12-05 11:11:27.243860  2020-12-05          Y\n",
       "745    B100056080  2020-11-12 11:11:27.243860  2020-11-12          Y\n",
       "1086   B100098165  2020-10-20 11:11:27.243860  2020-10-20          Y\n",
       "...           ...                         ...         ...        ...\n",
       "25311  B100062391  2020-11-04 11:11:27.243860  2020-11-04          Y\n",
       "25538  B100025356  2020-12-05 11:11:27.243860  2020-12-05          Y\n",
       "25679  B100054098  2020-12-10 11:11:27.243860  2020-12-10          Y\n",
       "25924  B100019548  2020-10-26 11:11:27.243860  2020-10-26          Y\n",
       "25952  B100022619  2020-10-28 11:11:27.243860  2020-10-28          Y\n",
       "\n",
       "[224 rows x 4 columns]"
      ]
     },
     "execution_count": 24,
     "metadata": {},
     "output_type": "execute_result"
    }
   ],
   "source": [
    "# 신규고객 리스트를 별도 테이블로 추출\n",
    "\n",
    "newCusts = custSignup[custSignup.newCustFlg=='Y']\n",
    "newCusts"
   ]
  },
  {
   "cell_type": "markdown",
   "id": "66d0bffe",
   "metadata": {},
   "source": [
    "#### 신규고객 집단의 지리인구통계 즉 성별, 연령, 지역적 특성을 집계"
   ]
  },
  {
   "cell_type": "code",
   "execution_count": 25,
   "id": "605f9ad4",
   "metadata": {},
   "outputs": [
    {
     "data": {
      "text/html": [
       "<div>\n",
       "<style scoped>\n",
       "    .dataframe tbody tr th:only-of-type {\n",
       "        vertical-align: middle;\n",
       "    }\n",
       "\n",
       "    .dataframe tbody tr th {\n",
       "        vertical-align: top;\n",
       "    }\n",
       "\n",
       "    .dataframe thead th {\n",
       "        text-align: right;\n",
       "    }\n",
       "</style>\n",
       "<table border=\"1\" class=\"dataframe\">\n",
       "  <thead>\n",
       "    <tr style=\"text-align: right;\">\n",
       "      <th></th>\n",
       "      <th>cust_id</th>\n",
       "      <th>sex</th>\n",
       "      <th>area</th>\n",
       "      <th>birthyr</th>\n",
       "      <th>hh_income</th>\n",
       "      <th>age</th>\n",
       "      <th>marital</th>\n",
       "      <th>ranseq</th>\n",
       "      <th>signup_date</th>\n",
       "    </tr>\n",
       "  </thead>\n",
       "  <tbody>\n",
       "    <tr>\n",
       "      <th>146</th>\n",
       "      <td>B100051939</td>\n",
       "      <td>F</td>\n",
       "      <td>gangwon</td>\n",
       "      <td>1994</td>\n",
       "      <td>53000</td>\n",
       "      <td>27</td>\n",
       "      <td>기혼</td>\n",
       "      <td>146</td>\n",
       "      <td>2020-10-25 11:11:27.243860</td>\n",
       "    </tr>\n",
       "    <tr>\n",
       "      <th>497</th>\n",
       "      <td>B100061014</td>\n",
       "      <td>F</td>\n",
       "      <td>gyunggi</td>\n",
       "      <td>1992</td>\n",
       "      <td>58000</td>\n",
       "      <td>29</td>\n",
       "      <td>기혼</td>\n",
       "      <td>497</td>\n",
       "      <td>2020-10-23 11:11:27.243860</td>\n",
       "    </tr>\n",
       "    <tr>\n",
       "      <th>738</th>\n",
       "      <td>B100028114</td>\n",
       "      <td>M</td>\n",
       "      <td>seoul</td>\n",
       "      <td>1989</td>\n",
       "      <td>53000</td>\n",
       "      <td>32</td>\n",
       "      <td>미혼</td>\n",
       "      <td>738</td>\n",
       "      <td>2020-12-05 11:11:27.243860</td>\n",
       "    </tr>\n",
       "    <tr>\n",
       "      <th>745</th>\n",
       "      <td>B100056080</td>\n",
       "      <td>F</td>\n",
       "      <td>gangwon</td>\n",
       "      <td>1975</td>\n",
       "      <td>63000</td>\n",
       "      <td>46</td>\n",
       "      <td>기혼</td>\n",
       "      <td>745</td>\n",
       "      <td>2020-11-12 11:11:27.243860</td>\n",
       "    </tr>\n",
       "    <tr>\n",
       "      <th>1086</th>\n",
       "      <td>B100098165</td>\n",
       "      <td>M</td>\n",
       "      <td>inchon</td>\n",
       "      <td>1992</td>\n",
       "      <td>50000</td>\n",
       "      <td>29</td>\n",
       "      <td>미혼</td>\n",
       "      <td>1086</td>\n",
       "      <td>2020-10-20 11:11:27.243860</td>\n",
       "    </tr>\n",
       "    <tr>\n",
       "      <th>...</th>\n",
       "      <td>...</td>\n",
       "      <td>...</td>\n",
       "      <td>...</td>\n",
       "      <td>...</td>\n",
       "      <td>...</td>\n",
       "      <td>...</td>\n",
       "      <td>...</td>\n",
       "      <td>...</td>\n",
       "      <td>...</td>\n",
       "    </tr>\n",
       "    <tr>\n",
       "      <th>25311</th>\n",
       "      <td>B100062391</td>\n",
       "      <td>M</td>\n",
       "      <td>gyunggi</td>\n",
       "      <td>1989</td>\n",
       "      <td>20000</td>\n",
       "      <td>32</td>\n",
       "      <td>미혼</td>\n",
       "      <td>25311</td>\n",
       "      <td>2020-11-04 11:11:27.243860</td>\n",
       "    </tr>\n",
       "    <tr>\n",
       "      <th>25538</th>\n",
       "      <td>B100025356</td>\n",
       "      <td>F</td>\n",
       "      <td>inchon</td>\n",
       "      <td>1982</td>\n",
       "      <td>51000</td>\n",
       "      <td>39</td>\n",
       "      <td>기혼</td>\n",
       "      <td>25538</td>\n",
       "      <td>2020-12-05 11:11:27.243860</td>\n",
       "    </tr>\n",
       "    <tr>\n",
       "      <th>25679</th>\n",
       "      <td>B100054098</td>\n",
       "      <td>M</td>\n",
       "      <td>seoul</td>\n",
       "      <td>1981</td>\n",
       "      <td>88000</td>\n",
       "      <td>40</td>\n",
       "      <td>기혼</td>\n",
       "      <td>25679</td>\n",
       "      <td>2020-12-10 11:11:27.243860</td>\n",
       "    </tr>\n",
       "    <tr>\n",
       "      <th>25924</th>\n",
       "      <td>B100019548</td>\n",
       "      <td>F</td>\n",
       "      <td>inchon</td>\n",
       "      <td>1994</td>\n",
       "      <td>51000</td>\n",
       "      <td>27</td>\n",
       "      <td>미혼</td>\n",
       "      <td>25924</td>\n",
       "      <td>2020-10-26 11:11:27.243860</td>\n",
       "    </tr>\n",
       "    <tr>\n",
       "      <th>25952</th>\n",
       "      <td>B100022619</td>\n",
       "      <td>M</td>\n",
       "      <td>seoul</td>\n",
       "      <td>1968</td>\n",
       "      <td>73000</td>\n",
       "      <td>53</td>\n",
       "      <td>기혼</td>\n",
       "      <td>25952</td>\n",
       "      <td>2020-10-28 11:11:27.243860</td>\n",
       "    </tr>\n",
       "  </tbody>\n",
       "</table>\n",
       "<p>224 rows × 9 columns</p>\n",
       "</div>"
      ],
      "text/plain": [
       "          cust_id sex     area  birthyr  hh_income  age marital  ranseq  \\\n",
       "146    B100051939   F  gangwon     1994      53000   27      기혼     146   \n",
       "497    B100061014   F  gyunggi     1992      58000   29      기혼     497   \n",
       "738    B100028114   M    seoul     1989      53000   32      미혼     738   \n",
       "745    B100056080   F  gangwon     1975      63000   46      기혼     745   \n",
       "1086   B100098165   M   inchon     1992      50000   29      미혼    1086   \n",
       "...           ...  ..      ...      ...        ...  ...     ...     ...   \n",
       "25311  B100062391   M  gyunggi     1989      20000   32      미혼   25311   \n",
       "25538  B100025356   F   inchon     1982      51000   39      기혼   25538   \n",
       "25679  B100054098   M    seoul     1981      88000   40      기혼   25679   \n",
       "25924  B100019548   F   inchon     1994      51000   27      미혼   25924   \n",
       "25952  B100022619   M    seoul     1968      73000   53      기혼   25952   \n",
       "\n",
       "                      signup_date  \n",
       "146    2020-10-25 11:11:27.243860  \n",
       "497    2020-10-23 11:11:27.243860  \n",
       "738    2020-12-05 11:11:27.243860  \n",
       "745    2020-11-12 11:11:27.243860  \n",
       "1086   2020-10-20 11:11:27.243860  \n",
       "...                           ...  \n",
       "25311  2020-11-04 11:11:27.243860  \n",
       "25538  2020-12-05 11:11:27.243860  \n",
       "25679  2020-12-10 11:11:27.243860  \n",
       "25924  2020-10-26 11:11:27.243860  \n",
       "25952  2020-10-28 11:11:27.243860  \n",
       "\n",
       "[224 rows x 9 columns]"
      ]
     },
     "execution_count": 25,
     "metadata": {},
     "output_type": "execute_result"
    }
   ],
   "source": [
    "# 신규고객 집단의 지리인구통계 즉 성별, 연령, 지역적 특성을 집계\n",
    "\n",
    "custmast[custmast.cust_id.isin(newCusts.cust_id)]"
   ]
  },
  {
   "cell_type": "code",
   "execution_count": 26,
   "id": "21b2d72c",
   "metadata": {},
   "outputs": [
    {
     "data": {
      "text/plain": [
       "<AxesSubplot:>"
      ]
     },
     "execution_count": 26,
     "metadata": {},
     "output_type": "execute_result"
    },
    {
     "data": {
      "image/png": "[encoded data removed]",
      "text/plain": [
       "<Figure size 432x288 with 1 Axes>"
      ]
     },
     "metadata": {
      "needs_background": "light"
     },
     "output_type": "display_data"
    }
   ],
   "source": [
    "custmast[custmast.cust_id.isin(newCusts.cust_id)].sex.hist()"
   ]
  },
  {
   "cell_type": "code",
   "execution_count": 27,
   "id": "549416d0",
   "metadata": {},
   "outputs": [
    {
     "data": {
      "text/plain": [
       "<AxesSubplot:>"
      ]
     },
     "execution_count": 27,
     "metadata": {},
     "output_type": "execute_result"
    },
    {
     "data": {
      "image/png": "[encoded data removed]",
      "text/plain": [
       "<Figure size 432x288 with 1 Axes>"
      ]
     },
     "metadata": {
      "needs_background": "light"
     },
     "output_type": "display_data"
    }
   ],
   "source": [
    "custmast[custmast.cust_id.isin(newCusts.cust_id)].age.hist()"
   ]
  },
  {
   "cell_type": "code",
   "execution_count": 28,
   "id": "491d23d9",
   "metadata": {},
   "outputs": [
    {
     "data": {
      "text/plain": [
       "<AxesSubplot:>"
      ]
     },
     "execution_count": 28,
     "metadata": {},
     "output_type": "execute_result"
    },
    {
     "data": {
      "image/png": "[encoded data removed]",
      "text/plain": [
       "<Figure size 432x288 with 1 Axes>"
      ]
     },
     "metadata": {
      "needs_background": "light"
     },
     "output_type": "display_data"
    }
   ],
   "source": [
    "custmast[custmast.cust_id.isin(newCusts.cust_id)].area.value_counts().plot(kind='bar')"
   ]
  },
  {
   "cell_type": "markdown",
   "id": "3066b3df",
   "metadata": {},
   "source": [
    "#### 신규고객 집단의 구매행동 특성 집계. 즉 구매액, 구매건수, 구매 상품군 특성을 집계"
   ]
  },
  {
   "cell_type": "code",
   "execution_count": 29,
   "id": "2385e094",
   "metadata": {},
   "outputs": [
    {
     "data": {
      "text/html": [
       "<div>\n",
       "<style scoped>\n",
       "    .dataframe tbody tr th:only-of-type {\n",
       "        vertical-align: middle;\n",
       "    }\n",
       "\n",
       "    .dataframe tbody tr th {\n",
       "        vertical-align: top;\n",
       "    }\n",
       "\n",
       "    .dataframe thead th {\n",
       "        text-align: right;\n",
       "    }\n",
       "</style>\n",
       "<table border=\"1\" class=\"dataframe\">\n",
       "  <thead>\n",
       "    <tr style=\"text-align: right;\">\n",
       "      <th></th>\n",
       "      <th>cust_id</th>\n",
       "      <th>amt</th>\n",
       "    </tr>\n",
       "  </thead>\n",
       "  <tbody>\n",
       "    <tr>\n",
       "      <th>36</th>\n",
       "      <td>B100083467</td>\n",
       "      <td>70000</td>\n",
       "    </tr>\n",
       "    <tr>\n",
       "      <th>37</th>\n",
       "      <td>B100084617</td>\n",
       "      <td>300000</td>\n",
       "    </tr>\n",
       "    <tr>\n",
       "      <th>38</th>\n",
       "      <td>B100085903</td>\n",
       "      <td>170000</td>\n",
       "    </tr>\n",
       "    <tr>\n",
       "      <th>39</th>\n",
       "      <td>B100090766</td>\n",
       "      <td>180000</td>\n",
       "    </tr>\n",
       "    <tr>\n",
       "      <th>40</th>\n",
       "      <td>B100094438</td>\n",
       "      <td>60000</td>\n",
       "    </tr>\n",
       "  </tbody>\n",
       "</table>\n",
       "</div>"
      ],
      "text/plain": [
       "       cust_id     amt\n",
       "36  B100083467   70000\n",
       "37  B100084617  300000\n",
       "38  B100085903  170000\n",
       "39  B100090766  180000\n",
       "40  B100094438   60000"
      ]
     },
     "execution_count": 29,
     "metadata": {},
     "output_type": "execute_result"
    }
   ],
   "source": [
    "# 신규고객 각자의 구매액 집계\n",
    "\n",
    "# 판매내역에서 신규고객 해당하는 건만 추출\n",
    "# 집계에 필요한 고객번호와 금액만 추출\n",
    "salesNewcust = sales[sales.cust_id.isin(newCusts.cust_id)][['cust_id', 'amt']]\n",
    "\n",
    "# 고객별 금액 합계 집계\n",
    "salesNewcust1 = salesNewcust.groupby('cust_id').sum().reset_index()\n",
    "salesNewcust1.tail()"
   ]
  },
  {
   "cell_type": "code",
   "execution_count": 30,
   "id": "d7ecac61",
   "metadata": {},
   "outputs": [
    {
     "data": {
      "text/plain": [
       "41"
      ]
     },
     "execution_count": 30,
     "metadata": {},
     "output_type": "execute_result"
    }
   ],
   "source": [
    "# 구매금액이 있는 신규고객의 수는?\n",
    "\n",
    "# unique 명령으로 중복된 값 제거 후 len으로 갯수 계산\n",
    "len(salesNewcust.cust_id.unique())"
   ]
  },
  {
   "cell_type": "markdown",
   "id": "d17909c0",
   "metadata": {},
   "source": [
    "- 224명의 신규고객 (최근 3개월이내에 회원가입한 고객) 중에 구매가 있었던 고객은 41명 뿐\n",
    "- 그렇다면 나머지는?\n",
    "- 회원가입만 했을 뿐 구매가 없는 고객 (=**허수 고객**?)"
   ]
  },
  {
   "cell_type": "markdown",
   "id": "f551d562",
   "metadata": {},
   "source": [
    "- 회원과 고객으로 개념을 구분하는 것이 필요하지 않은가 검토 필요\n",
    "- 예를들면 :\n",
    "- **회원**은 회원가입한 모든 사람\n",
    "- **고객**은 회원가입했으며 구매한 적이 있는 사람"
   ]
  },
  {
   "cell_type": "code",
   "execution_count": 31,
   "id": "9b44864a",
   "metadata": {},
   "outputs": [
    {
     "data": {
      "text/html": [
       "<div>\n",
       "<style scoped>\n",
       "    .dataframe tbody tr th:only-of-type {\n",
       "        vertical-align: middle;\n",
       "    }\n",
       "\n",
       "    .dataframe tbody tr th {\n",
       "        vertical-align: top;\n",
       "    }\n",
       "\n",
       "    .dataframe thead th {\n",
       "        text-align: right;\n",
       "    }\n",
       "</style>\n",
       "<table border=\"1\" class=\"dataframe\">\n",
       "  <thead>\n",
       "    <tr style=\"text-align: right;\">\n",
       "      <th></th>\n",
       "      <th>cust_id</th>\n",
       "      <th>amt</th>\n",
       "    </tr>\n",
       "  </thead>\n",
       "  <tbody>\n",
       "    <tr>\n",
       "      <th>155</th>\n",
       "      <td>B100078973</td>\n",
       "      <td>0.0</td>\n",
       "    </tr>\n",
       "    <tr>\n",
       "      <th>200</th>\n",
       "      <td>B100004945</td>\n",
       "      <td>0.0</td>\n",
       "    </tr>\n",
       "    <tr>\n",
       "      <th>41</th>\n",
       "      <td>B100085903</td>\n",
       "      <td>170000.0</td>\n",
       "    </tr>\n",
       "    <tr>\n",
       "      <th>208</th>\n",
       "      <td>B100013240</td>\n",
       "      <td>140000.0</td>\n",
       "    </tr>\n",
       "    <tr>\n",
       "      <th>49</th>\n",
       "      <td>B100052290</td>\n",
       "      <td>0.0</td>\n",
       "    </tr>\n",
       "  </tbody>\n",
       "</table>\n",
       "</div>"
      ],
      "text/plain": [
       "        cust_id       amt\n",
       "155  B100078973       0.0\n",
       "200  B100004945       0.0\n",
       "41   B100085903  170000.0\n",
       "208  B100013240  140000.0\n",
       "49   B100052290       0.0"
      ]
     },
     "metadata": {},
     "output_type": "display_data"
    }
   ],
   "source": [
    "# 구매없는 신규고객을 포함해서 금액 분포 파악\n",
    "\n",
    "salesNewcusts2 = newCusts[['cust_id']].merge(salesNewcust1, how='left', on='cust_id')\n",
    "# 대다수가 금액이 없으므로 0 값으로 채우기\n",
    "salesNewcusts2.fillna(0, inplace=True)\n",
    "\n",
    "display(salesNewcusts2.sample(5))"
   ]
  },
  {
   "cell_type": "code",
   "execution_count": 32,
   "id": "f2b7f1a8",
   "metadata": {},
   "outputs": [
    {
     "data": {
      "image/png": "[encoded data removed]",
      "text/plain": [
       "<Figure size 432x288 with 1 Axes>"
      ]
     },
     "metadata": {
      "needs_background": "light"
     },
     "output_type": "display_data"
    }
   ],
   "source": [
    "# 신규고객별 구매액 분포 확인\n",
    "\n",
    "# 금액을 정렬한 후 plot  생성\n",
    "plt.plot(-np.sort(-salesNewcusts2.amt))\n",
    "plt.ylabel('구매액')\n",
    "plt.title('신규고객별 구매액 분포 - 정렬')\n",
    "# 고객수 10% 지점에 참조선 추가\n",
    "plt.axvline(len(salesNewcusts2)/10, \n",
    "            # 구별 편의를 위해 색상 변경, 점선으로 표시\n",
    "            color='red', linestyle=\":\")\n",
    "plt.show()"
   ]
  },
  {
   "cell_type": "markdown",
   "id": "f063c04b",
   "metadata": {},
   "source": [
    "- 금액에 따른 정렬을 위해 np.sort 사용\n",
    "- default는 오름차순 (ascending) 이므로 반대로 정렬하기 위해 음수값으로 바꿔서 정렬한 후 다시 음수를 취해 원래 값으로 변경하는 방법 사용"
   ]
  },
  {
   "cell_type": "code",
   "execution_count": 33,
   "id": "b47a74cb",
   "metadata": {},
   "outputs": [
    {
     "data": {
      "text/html": [
       "<div>\n",
       "<style scoped>\n",
       "    .dataframe tbody tr th:only-of-type {\n",
       "        vertical-align: middle;\n",
       "    }\n",
       "\n",
       "    .dataframe tbody tr th {\n",
       "        vertical-align: top;\n",
       "    }\n",
       "\n",
       "    .dataframe thead th {\n",
       "        text-align: right;\n",
       "    }\n",
       "</style>\n",
       "<table border=\"1\" class=\"dataframe\">\n",
       "  <thead>\n",
       "    <tr style=\"text-align: right;\">\n",
       "      <th></th>\n",
       "      <th>cust_id</th>\n",
       "      <th>cntSale</th>\n",
       "    </tr>\n",
       "  </thead>\n",
       "  <tbody>\n",
       "    <tr>\n",
       "      <th>14</th>\n",
       "      <td>B100025356</td>\n",
       "      <td>1</td>\n",
       "    </tr>\n",
       "    <tr>\n",
       "      <th>27</th>\n",
       "      <td>B100064746</td>\n",
       "      <td>2</td>\n",
       "    </tr>\n",
       "    <tr>\n",
       "      <th>0</th>\n",
       "      <td>B100002393</td>\n",
       "      <td>1</td>\n",
       "    </tr>\n",
       "    <tr>\n",
       "      <th>4</th>\n",
       "      <td>B100010424</td>\n",
       "      <td>2</td>\n",
       "    </tr>\n",
       "    <tr>\n",
       "      <th>18</th>\n",
       "      <td>B100042432</td>\n",
       "      <td>1</td>\n",
       "    </tr>\n",
       "  </tbody>\n",
       "</table>\n",
       "</div>"
      ],
      "text/plain": [
       "       cust_id  cntSale\n",
       "14  B100025356        1\n",
       "27  B100064746        2\n",
       "0   B100002393        1\n",
       "4   B100010424        2\n",
       "18  B100042432        1"
      ]
     },
     "execution_count": 33,
     "metadata": {},
     "output_type": "execute_result"
    }
   ],
   "source": [
    "# 신규고객 각자의 구매건수 집계\n",
    "\n",
    "# 판매내역에서 신규고객 해당하는 건만 추출\n",
    "# 집계에 필요한 고객번호와 금액만 추출\n",
    "salesNewcust = sales[sales.cust_id.isin(newCusts.cust_id)][['cust_id', 'amt']]\n",
    "\n",
    "# 고객별 구매건수 집계\n",
    "salesNewcustF1 = salesNewcust.groupby('cust_id').count().reset_index()\n",
    "salesNewcustF1.columns = ['cust_id','cntSale']\n",
    "salesNewcustF1.sample(5)"
   ]
  },
  {
   "cell_type": "markdown",
   "id": "37592968",
   "metadata": {},
   "source": [
    "- 구매건수가 같은 날 같은 영수증 내의 것일 가능성이 있으므로\n",
    "- 구매건수나 구매영수증수 등 보다는 구매일수가 분석에 유용할 수 있을 것"
   ]
  },
  {
   "cell_type": "code",
   "execution_count": 34,
   "id": "4810ca0b",
   "metadata": {},
   "outputs": [
    {
     "data": {
      "text/html": [
       "<div>\n",
       "<style scoped>\n",
       "    .dataframe tbody tr th:only-of-type {\n",
       "        vertical-align: middle;\n",
       "    }\n",
       "\n",
       "    .dataframe tbody tr th {\n",
       "        vertical-align: top;\n",
       "    }\n",
       "\n",
       "    .dataframe thead th {\n",
       "        text-align: right;\n",
       "    }\n",
       "</style>\n",
       "<table border=\"1\" class=\"dataframe\">\n",
       "  <thead>\n",
       "    <tr style=\"text-align: right;\">\n",
       "      <th></th>\n",
       "      <th>cust_id</th>\n",
       "      <th>date</th>\n",
       "    </tr>\n",
       "  </thead>\n",
       "  <tbody>\n",
       "    <tr>\n",
       "      <th>36551</th>\n",
       "      <td>B100051823</td>\n",
       "      <td>2020-12-18 15:33:43.355967</td>\n",
       "    </tr>\n",
       "    <tr>\n",
       "      <th>36849</th>\n",
       "      <td>B100064746</td>\n",
       "      <td>2020-12-25 15:35:47.794938</td>\n",
       "    </tr>\n",
       "    <tr>\n",
       "      <th>36987</th>\n",
       "      <td>B100042432</td>\n",
       "      <td>2020-12-28 17:43:50.199326</td>\n",
       "    </tr>\n",
       "    <tr>\n",
       "      <th>39800</th>\n",
       "      <td>B100016174</td>\n",
       "      <td>2020-11-08 07:52:20.683038</td>\n",
       "    </tr>\n",
       "    <tr>\n",
       "      <th>41024</th>\n",
       "      <td>B100017495</td>\n",
       "      <td>2020-12-10 11:13:26.776504</td>\n",
       "    </tr>\n",
       "  </tbody>\n",
       "</table>\n",
       "</div>"
      ],
      "text/plain": [
       "          cust_id                        date\n",
       "36551  B100051823  2020-12-18 15:33:43.355967\n",
       "36849  B100064746  2020-12-25 15:35:47.794938\n",
       "36987  B100042432  2020-12-28 17:43:50.199326\n",
       "39800  B100016174  2020-11-08 07:52:20.683038\n",
       "41024  B100017495  2020-12-10 11:13:26.776504"
      ]
     },
     "metadata": {},
     "output_type": "display_data"
    }
   ],
   "source": [
    "# 신규고객 각자의 구매일수 집계\n",
    "\n",
    "# 판매내역에서 신규고객 해당하는 건만 추출\n",
    "# 집계에 필요한 고객번호와 일자를 추출\n",
    "# 고객번호와 날짜가 중복된 건은 필요없으므로 drop_duplicates() 로 제거\n",
    "salesNewcustF = sales[sales.cust_id.isin(newCusts.cust_id)][['cust_id', 'date']].drop_duplicates()\n",
    "# 추출 결과 확인\n",
    "display(salesNewcustF.tail(5))\n"
   ]
  },
  {
   "cell_type": "code",
   "execution_count": 35,
   "id": "d5501f7e",
   "metadata": {},
   "outputs": [
    {
     "data": {
      "text/html": [
       "<div>\n",
       "<style scoped>\n",
       "    .dataframe tbody tr th:only-of-type {\n",
       "        vertical-align: middle;\n",
       "    }\n",
       "\n",
       "    .dataframe tbody tr th {\n",
       "        vertical-align: top;\n",
       "    }\n",
       "\n",
       "    .dataframe thead th {\n",
       "        text-align: right;\n",
       "    }\n",
       "</style>\n",
       "<table border=\"1\" class=\"dataframe\">\n",
       "  <thead>\n",
       "    <tr style=\"text-align: right;\">\n",
       "      <th></th>\n",
       "      <th>cust_id</th>\n",
       "      <th>date</th>\n",
       "    </tr>\n",
       "  </thead>\n",
       "  <tbody>\n",
       "    <tr>\n",
       "      <th>36551</th>\n",
       "      <td>B100051823</td>\n",
       "      <td>2020-12-18</td>\n",
       "    </tr>\n",
       "    <tr>\n",
       "      <th>36849</th>\n",
       "      <td>B100064746</td>\n",
       "      <td>2020-12-25</td>\n",
       "    </tr>\n",
       "    <tr>\n",
       "      <th>36987</th>\n",
       "      <td>B100042432</td>\n",
       "      <td>2020-12-28</td>\n",
       "    </tr>\n",
       "    <tr>\n",
       "      <th>39800</th>\n",
       "      <td>B100016174</td>\n",
       "      <td>2020-11-08</td>\n",
       "    </tr>\n",
       "    <tr>\n",
       "      <th>41024</th>\n",
       "      <td>B100017495</td>\n",
       "      <td>2020-12-10</td>\n",
       "    </tr>\n",
       "  </tbody>\n",
       "</table>\n",
       "</div>"
      ],
      "text/plain": [
       "          cust_id        date\n",
       "36551  B100051823  2020-12-18\n",
       "36849  B100064746  2020-12-25\n",
       "36987  B100042432  2020-12-28\n",
       "39800  B100016174  2020-11-08\n",
       "41024  B100017495  2020-12-10"
      ]
     },
     "metadata": {},
     "output_type": "display_data"
    },
    {
     "data": {
      "text/html": [
       "<div>\n",
       "<style scoped>\n",
       "    .dataframe tbody tr th:only-of-type {\n",
       "        vertical-align: middle;\n",
       "    }\n",
       "\n",
       "    .dataframe tbody tr th {\n",
       "        vertical-align: top;\n",
       "    }\n",
       "\n",
       "    .dataframe thead th {\n",
       "        text-align: right;\n",
       "    }\n",
       "</style>\n",
       "<table border=\"1\" class=\"dataframe\">\n",
       "  <thead>\n",
       "    <tr style=\"text-align: right;\">\n",
       "      <th></th>\n",
       "      <th>cust_id</th>\n",
       "      <th>cntSaleday</th>\n",
       "    </tr>\n",
       "  </thead>\n",
       "  <tbody>\n",
       "    <tr>\n",
       "      <th>39</th>\n",
       "      <td>B100090766</td>\n",
       "      <td>1</td>\n",
       "    </tr>\n",
       "    <tr>\n",
       "      <th>33</th>\n",
       "      <td>B100080699</td>\n",
       "      <td>1</td>\n",
       "    </tr>\n",
       "    <tr>\n",
       "      <th>3</th>\n",
       "      <td>B100009399</td>\n",
       "      <td>1</td>\n",
       "    </tr>\n",
       "    <tr>\n",
       "      <th>22</th>\n",
       "      <td>B100051647</td>\n",
       "      <td>1</td>\n",
       "    </tr>\n",
       "    <tr>\n",
       "      <th>37</th>\n",
       "      <td>B100084617</td>\n",
       "      <td>2</td>\n",
       "    </tr>\n",
       "  </tbody>\n",
       "</table>\n",
       "</div>"
      ],
      "text/plain": [
       "       cust_id  cntSaleday\n",
       "39  B100090766           1\n",
       "33  B100080699           1\n",
       "3   B100009399           1\n",
       "22  B100051647           1\n",
       "37  B100084617           2"
      ]
     },
     "execution_count": 35,
     "metadata": {},
     "output_type": "execute_result"
    }
   ],
   "source": [
    "# date 컬럼에서 시간 관련 정보는 필요없는 상황이므로\n",
    "# 일자만 남기는 형식으로 변경\n",
    "\n",
    "salesNewcustF['date'] = salesNewcustF.date.str.slice(0,10)\n",
    "# 추출 결과 확인\n",
    "display(salesNewcustF.tail(5))\n",
    "\n",
    "# 날짜가 동일한 중복건 제거\n",
    "salesNewcustF = salesNewcustF.drop_duplicates()\n",
    "\n",
    "# 고객별 구매일수 집계\n",
    "salesNewcustF1 = salesNewcustF.groupby('cust_id').count().reset_index()\n",
    "salesNewcustF1.columns = ['cust_id','cntSaleday']\n",
    "salesNewcustF1.sample(5)"
   ]
  },
  {
   "cell_type": "code",
   "execution_count": 36,
   "id": "baf9cf13",
   "metadata": {},
   "outputs": [
    {
     "data": {
      "text/html": [
       "<div>\n",
       "<style scoped>\n",
       "    .dataframe tbody tr th:only-of-type {\n",
       "        vertical-align: middle;\n",
       "    }\n",
       "\n",
       "    .dataframe tbody tr th {\n",
       "        vertical-align: top;\n",
       "    }\n",
       "\n",
       "    .dataframe thead th {\n",
       "        text-align: right;\n",
       "    }\n",
       "</style>\n",
       "<table border=\"1\" class=\"dataframe\">\n",
       "  <thead>\n",
       "    <tr style=\"text-align: right;\">\n",
       "      <th></th>\n",
       "      <th>cust_id</th>\n",
       "      <th>cntSaleday</th>\n",
       "    </tr>\n",
       "  </thead>\n",
       "  <tbody>\n",
       "    <tr>\n",
       "      <th>216</th>\n",
       "      <td>B100088794</td>\n",
       "      <td>0.0</td>\n",
       "    </tr>\n",
       "    <tr>\n",
       "      <th>127</th>\n",
       "      <td>B100080771</td>\n",
       "      <td>0.0</td>\n",
       "    </tr>\n",
       "    <tr>\n",
       "      <th>141</th>\n",
       "      <td>B100097027</td>\n",
       "      <td>0.0</td>\n",
       "    </tr>\n",
       "    <tr>\n",
       "      <th>149</th>\n",
       "      <td>B100064746</td>\n",
       "      <td>2.0</td>\n",
       "    </tr>\n",
       "    <tr>\n",
       "      <th>27</th>\n",
       "      <td>B100022633</td>\n",
       "      <td>1.0</td>\n",
       "    </tr>\n",
       "  </tbody>\n",
       "</table>\n",
       "</div>"
      ],
      "text/plain": [
       "        cust_id  cntSaleday\n",
       "216  B100088794         0.0\n",
       "127  B100080771         0.0\n",
       "141  B100097027         0.0\n",
       "149  B100064746         2.0\n",
       "27   B100022633         1.0"
      ]
     },
     "metadata": {},
     "output_type": "display_data"
    }
   ],
   "source": [
    "# 구매없는 신규고객을 포함해서 구매일수 분포 파악\n",
    "\n",
    "salesNewcustsF2 = newCusts[['cust_id']].merge(salesNewcustF1, how='left', on='cust_id')\n",
    "# 대다수가 금액이 없으므로 0 값으로 채우기\n",
    "salesNewcustsF2.fillna(0, inplace=True)\n",
    "\n",
    "display(salesNewcustsF2.sample(5))"
   ]
  },
  {
   "cell_type": "code",
   "execution_count": 37,
   "id": "2b272344",
   "metadata": {},
   "outputs": [
    {
     "data": {
      "image/png": "[encoded data removed]",
      "text/plain": [
       "<Figure size 432x288 with 1 Axes>"
      ]
     },
     "metadata": {
      "needs_background": "light"
     },
     "output_type": "display_data"
    }
   ],
   "source": [
    "# 신규고객별 구매일수 분포 확인\n",
    "\n",
    "# 금액을 정렬한 후 plot  생성\n",
    "plt.plot(-np.sort(-salesNewcustsF2.cntSaleday))\n",
    "plt.ylabel('구매일수')\n",
    "plt.title('신규고객별 구매일수 분포 - 정렬')\n",
    "# 고객수 10% 지점에 참조선 추가\n",
    "plt.axvline(len(salesNewcustsF2)/10, \n",
    "            # 구별 편의를 위해 색상 변경, 점선으로 표시\n",
    "            color='red', linestyle=\":\")\n",
    "plt.show()"
   ]
  },
  {
   "cell_type": "markdown",
   "id": "d3516d42",
   "metadata": {},
   "source": [
    "- 다수의 신규고객이 구매하지 않았지만 구매한 경우에도 구매가 하루인 경우가 대다수\n",
    "- 3일이 최대이고, 2~3일 비중 크지 않음"
   ]
  },
  {
   "cell_type": "code",
   "execution_count": 38,
   "id": "a1faa2e9",
   "metadata": {},
   "outputs": [
    {
     "data": {
      "text/html": [
       "<div>\n",
       "<style scoped>\n",
       "    .dataframe tbody tr th:only-of-type {\n",
       "        vertical-align: middle;\n",
       "    }\n",
       "\n",
       "    .dataframe tbody tr th {\n",
       "        vertical-align: top;\n",
       "    }\n",
       "\n",
       "    .dataframe thead th {\n",
       "        text-align: right;\n",
       "    }\n",
       "</style>\n",
       "<table border=\"1\" class=\"dataframe\">\n",
       "  <thead>\n",
       "    <tr style=\"text-align: right;\">\n",
       "      <th></th>\n",
       "      <th>cust_id</th>\n",
       "      <th>scat</th>\n",
       "      <th>saleFlg</th>\n",
       "    </tr>\n",
       "  </thead>\n",
       "  <tbody>\n",
       "    <tr>\n",
       "      <th>41</th>\n",
       "      <td>B100084617</td>\n",
       "      <td>바지</td>\n",
       "      <td>1</td>\n",
       "    </tr>\n",
       "    <tr>\n",
       "      <th>42</th>\n",
       "      <td>B100084617</td>\n",
       "      <td>셔츠</td>\n",
       "      <td>1</td>\n",
       "    </tr>\n",
       "    <tr>\n",
       "      <th>43</th>\n",
       "      <td>B100085903</td>\n",
       "      <td>바지</td>\n",
       "      <td>1</td>\n",
       "    </tr>\n",
       "    <tr>\n",
       "      <th>44</th>\n",
       "      <td>B100090766</td>\n",
       "      <td>치마</td>\n",
       "      <td>1</td>\n",
       "    </tr>\n",
       "    <tr>\n",
       "      <th>45</th>\n",
       "      <td>B100094438</td>\n",
       "      <td>치마</td>\n",
       "      <td>1</td>\n",
       "    </tr>\n",
       "  </tbody>\n",
       "</table>\n",
       "</div>"
      ],
      "text/plain": [
       "       cust_id scat  saleFlg\n",
       "41  B100084617   바지        1\n",
       "42  B100084617   셔츠        1\n",
       "43  B100085903   바지        1\n",
       "44  B100090766   치마        1\n",
       "45  B100094438   치마        1"
      ]
     },
     "execution_count": 38,
     "metadata": {},
     "output_type": "execute_result"
    }
   ],
   "source": [
    "# 구매상품군 집계\n",
    "\n",
    "# 고객별 상품군별 구매여부 집계 필요\n",
    "# 구매여부 이므로 동일 고객이 동일 품목을 여러 번 구매한 것은 한 번으로 간주 필요\n",
    "\n",
    "salesNewcust = sales[sales.cust_id.isin(newCusts.cust_id)][['cust_id', 'scat']]\n",
    "# 중복제거\n",
    "salesNewcust = salesNewcust.drop_duplicates()\n",
    "# 구매여부를 flag로 추가 -- 집계결과를 담을 컬럼\n",
    "salesNewcust['saleFlg'] = 1\n",
    "\n",
    "# 고객별 소분류별 구매여부 집계\n",
    "salesNewcust1 = salesNewcust.groupby(['cust_id','scat']).count().reset_index()\n",
    "salesNewcust1.tail()"
   ]
  },
  {
   "cell_type": "code",
   "execution_count": 39,
   "id": "72387389",
   "metadata": {},
   "outputs": [
    {
     "data": {
      "text/plain": [
       "<AxesSubplot:>"
      ]
     },
     "execution_count": 39,
     "metadata": {},
     "output_type": "execute_result"
    },
    {
     "data": {
      "image/png": "[encoded data removed]",
      "text/plain": [
       "<Figure size 432x288 with 1 Axes>"
      ]
     },
     "metadata": {
      "needs_background": "light"
     },
     "output_type": "display_data"
    }
   ],
   "source": [
    "salesNewcust1.scat.value_counts().plot(kind='bar')"
   ]
  },
  {
   "cell_type": "markdown",
   "id": "0eb5f21b",
   "metadata": {},
   "source": [
    "### 신규고객 프로파일 요약 테이블 생성"
   ]
  },
  {
   "cell_type": "code",
   "execution_count": 40,
   "id": "986ccb0b",
   "metadata": {},
   "outputs": [
    {
     "data": {
      "text/plain": [
       "F    53.571429\n",
       "Name: sex, dtype: float64"
      ]
     },
     "execution_count": 40,
     "metadata": {},
     "output_type": "execute_result"
    }
   ],
   "source": [
    "newCusts1 = custmast[custmast.cust_id.isin(newCusts.cust_id)]\n",
    "\n",
    "# 성비 집계\n",
    "genderStat = newCusts1.sex.value_counts().head(1) / len(newCusts1) * 100\n",
    "genderStat"
   ]
  },
  {
   "cell_type": "code",
   "execution_count": 41,
   "id": "24b6afb8",
   "metadata": {},
   "outputs": [
    {
     "data": {
      "text/plain": [
       "35.558035714285715"
      ]
     },
     "execution_count": 41,
     "metadata": {},
     "output_type": "execute_result"
    }
   ],
   "source": [
    "# 연령 평균 집계\n",
    "ageStat = newCusts1.age.mean()\n",
    "ageStat"
   ]
  },
  {
   "cell_type": "code",
   "execution_count": 42,
   "id": "f58f5c8e",
   "metadata": {},
   "outputs": [
    {
     "data": {
      "text/plain": [
       "seoul    89\n",
       "Name: area, dtype: int64"
      ]
     },
     "execution_count": 42,
     "metadata": {},
     "output_type": "execute_result"
    }
   ],
   "source": [
    "# 고객수 1위 지역 파악\n",
    "newCusts1.area.value_counts().head(1) "
   ]
  },
  {
   "cell_type": "code",
   "execution_count": 43,
   "id": "7e165f00",
   "metadata": {},
   "outputs": [
    {
     "data": {
      "text/plain": [
       "seoul    39.732143\n",
       "Name: area, dtype: float64"
      ]
     },
     "execution_count": 43,
     "metadata": {},
     "output_type": "execute_result"
    }
   ],
   "source": [
    "# 고객수 1위 지역 고객수 비율 집계\n",
    "topAreaStat = newCusts1.area.value_counts().head(1) / len(newCusts1) * 100\n",
    "topAreaStat "
   ]
  },
  {
   "cell_type": "code",
   "execution_count": 44,
   "id": "8fb7a509",
   "metadata": {},
   "outputs": [
    {
     "data": {
      "text/html": [
       "<div>\n",
       "<style scoped>\n",
       "    .dataframe tbody tr th:only-of-type {\n",
       "        vertical-align: middle;\n",
       "    }\n",
       "\n",
       "    .dataframe tbody tr th {\n",
       "        vertical-align: top;\n",
       "    }\n",
       "\n",
       "    .dataframe thead th {\n",
       "        text-align: right;\n",
       "    }\n",
       "</style>\n",
       "<table border=\"1\" class=\"dataframe\">\n",
       "  <thead>\n",
       "    <tr style=\"text-align: right;\">\n",
       "      <th></th>\n",
       "      <th>0</th>\n",
       "      <th>1</th>\n",
       "    </tr>\n",
       "  </thead>\n",
       "  <tbody>\n",
       "    <tr>\n",
       "      <th>0</th>\n",
       "      <td>여성비율</td>\n",
       "      <td>53.571429</td>\n",
       "    </tr>\n",
       "    <tr>\n",
       "      <th>1</th>\n",
       "      <td>연령평균</td>\n",
       "      <td>35.558036</td>\n",
       "    </tr>\n",
       "    <tr>\n",
       "      <th>2</th>\n",
       "      <td>서울고객비율</td>\n",
       "      <td>39.732143</td>\n",
       "    </tr>\n",
       "  </tbody>\n",
       "</table>\n",
       "</div>"
      ],
      "text/plain": [
       "        0          1\n",
       "0    여성비율  53.571429\n",
       "1    연령평균  35.558036\n",
       "2  서울고객비율  39.732143"
      ]
     },
     "execution_count": 44,
     "metadata": {},
     "output_type": "execute_result"
    }
   ],
   "source": [
    "# 하나의 요약 테이블에 종합\n",
    "\n",
    "varTitles = ['여성비율', '연령평균', '서울고객비율']\n",
    "# series 형식인 값을 float 숫자로 변경\n",
    "varValues = [float(genderStat), ageStat, float(topAreaStat)]\n",
    "\n",
    "# 집계표 생성 후 행렬 바꿈 transpose (T)\n",
    "pd.DataFrame([varTitles, varValues]).T"
   ]
  },
  {
   "cell_type": "code",
   "execution_count": 45,
   "id": "6c33145e",
   "metadata": {},
   "outputs": [
    {
     "data": {
      "text/plain": [
       "22946.428571428572"
      ]
     },
     "execution_count": 45,
     "metadata": {},
     "output_type": "execute_result"
    }
   ],
   "source": [
    "# 구매금액 평균 집계\n",
    "avgSaleamt = salesNewcusts2.amt.mean()\n",
    "avgSaleamt"
   ]
  },
  {
   "cell_type": "code",
   "execution_count": 46,
   "id": "0b9a0501",
   "metadata": {},
   "outputs": [
    {
     "data": {
      "text/plain": [
       "0.21875"
      ]
     },
     "execution_count": 46,
     "metadata": {},
     "output_type": "execute_result"
    }
   ],
   "source": [
    "# 구매일수 평균 집계\n",
    "avgSaleday = salesNewcustsF2.cntSaleday.mean()\n",
    "avgSaleday"
   ]
  },
  {
   "cell_type": "code",
   "execution_count": 47,
   "id": "3878be3e",
   "metadata": {},
   "outputs": [
    {
     "data": {
      "text/html": [
       "<div>\n",
       "<style scoped>\n",
       "    .dataframe tbody tr th:only-of-type {\n",
       "        vertical-align: middle;\n",
       "    }\n",
       "\n",
       "    .dataframe tbody tr th {\n",
       "        vertical-align: top;\n",
       "    }\n",
       "\n",
       "    .dataframe thead th {\n",
       "        text-align: right;\n",
       "    }\n",
       "</style>\n",
       "<table border=\"1\" class=\"dataframe\">\n",
       "  <thead>\n",
       "    <tr style=\"text-align: right;\">\n",
       "      <th></th>\n",
       "      <th>index</th>\n",
       "      <th>scat</th>\n",
       "    </tr>\n",
       "  </thead>\n",
       "  <tbody>\n",
       "    <tr>\n",
       "      <th>0</th>\n",
       "      <td>바지</td>\n",
       "      <td>25</td>\n",
       "    </tr>\n",
       "    <tr>\n",
       "      <th>1</th>\n",
       "      <td>셔츠</td>\n",
       "      <td>15</td>\n",
       "    </tr>\n",
       "    <tr>\n",
       "      <th>2</th>\n",
       "      <td>치마</td>\n",
       "      <td>5</td>\n",
       "    </tr>\n",
       "  </tbody>\n",
       "</table>\n",
       "</div>"
      ],
      "text/plain": [
       "  index  scat\n",
       "0    바지    25\n",
       "1    셔츠    15\n",
       "2    치마     5"
      ]
     },
     "execution_count": 47,
     "metadata": {},
     "output_type": "execute_result"
    }
   ],
   "source": [
    "# 구매소분류 집계\n",
    "\n",
    "# 인덱스를 컬럼으로 변경하고 (컬럼이 복수가 되므로 자동으로 데이터프레임 형태로 바뀜)\n",
    "# Top 상품군만 추출\n",
    "frqPrds = salesNewcust1.scat.value_counts().reset_index().head(3)\n",
    "frqPrds "
   ]
  },
  {
   "cell_type": "code",
   "execution_count": 48,
   "id": "ee9db66c",
   "metadata": {},
   "outputs": [
    {
     "data": {
      "text/html": [
       "<div>\n",
       "<style scoped>\n",
       "    .dataframe tbody tr th:only-of-type {\n",
       "        vertical-align: middle;\n",
       "    }\n",
       "\n",
       "    .dataframe tbody tr th {\n",
       "        vertical-align: top;\n",
       "    }\n",
       "\n",
       "    .dataframe thead th {\n",
       "        text-align: right;\n",
       "    }\n",
       "</style>\n",
       "<table border=\"1\" class=\"dataframe\">\n",
       "  <thead>\n",
       "    <tr style=\"text-align: right;\">\n",
       "      <th></th>\n",
       "      <th>profileVar</th>\n",
       "      <th>profileValue</th>\n",
       "    </tr>\n",
       "  </thead>\n",
       "  <tbody>\n",
       "    <tr>\n",
       "      <th>0</th>\n",
       "      <td>구매금액평균</td>\n",
       "      <td>22946.428571</td>\n",
       "    </tr>\n",
       "    <tr>\n",
       "      <th>1</th>\n",
       "      <td>구매일수평균</td>\n",
       "      <td>0.21875</td>\n",
       "    </tr>\n",
       "    <tr>\n",
       "      <th>2</th>\n",
       "      <td>구매건수Top1소분류</td>\n",
       "      <td>바지</td>\n",
       "    </tr>\n",
       "    <tr>\n",
       "      <th>3</th>\n",
       "      <td>구매건수Top2소분류</td>\n",
       "      <td>셔츠</td>\n",
       "    </tr>\n",
       "    <tr>\n",
       "      <th>4</th>\n",
       "      <td>구매건수Top3소분류</td>\n",
       "      <td>치마</td>\n",
       "    </tr>\n",
       "  </tbody>\n",
       "</table>\n",
       "</div>"
      ],
      "text/plain": [
       "    profileVar  profileValue\n",
       "0       구매금액평균  22946.428571\n",
       "1       구매일수평균       0.21875\n",
       "2  구매건수Top1소분류            바지\n",
       "3  구매건수Top2소분류            셔츠\n",
       "4  구매건수Top3소분류            치마"
      ]
     },
     "execution_count": 48,
     "metadata": {},
     "output_type": "execute_result"
    }
   ],
   "source": [
    "# 하나의 요약 테이블에 구매행동 항목들 종합\n",
    "\n",
    "varTitles = ['구매금액평균', '구매일수평균', '구매건수Top1소분류','구매건수Top2소분류','구매건수Top3소분류']\n",
    "# series 형식인 값을 float 숫자로 변경\n",
    "varValues = [avgSaleamt, avgSaleday] + list(frqPrds['index'])\n",
    "\n",
    "# 집계표 생성 후 행렬 바꿈 transpose (T)\n",
    "newCustProfileSumm = pd.DataFrame([varTitles, varValues]).T\n",
    "newCustProfileSumm.columns = ['profileVar', 'profileValue']\n",
    "newCustProfileSumm"
   ]
  },
  {
   "cell_type": "code",
   "execution_count": 49,
   "id": "9cb8784d",
   "metadata": {},
   "outputs": [
    {
     "data": {
      "text/html": [
       "<div>\n",
       "<style scoped>\n",
       "    .dataframe tbody tr th:only-of-type {\n",
       "        vertical-align: middle;\n",
       "    }\n",
       "\n",
       "    .dataframe tbody tr th {\n",
       "        vertical-align: top;\n",
       "    }\n",
       "\n",
       "    .dataframe thead th {\n",
       "        text-align: right;\n",
       "    }\n",
       "</style>\n",
       "<table border=\"1\" class=\"dataframe\">\n",
       "  <thead>\n",
       "    <tr style=\"text-align: right;\">\n",
       "      <th></th>\n",
       "      <th>profileVar</th>\n",
       "      <th>profileValue</th>\n",
       "    </tr>\n",
       "  </thead>\n",
       "  <tbody>\n",
       "    <tr>\n",
       "      <th>0</th>\n",
       "      <td>여성비율</td>\n",
       "      <td>53.571429</td>\n",
       "    </tr>\n",
       "    <tr>\n",
       "      <th>1</th>\n",
       "      <td>연령평균</td>\n",
       "      <td>35.558036</td>\n",
       "    </tr>\n",
       "    <tr>\n",
       "      <th>2</th>\n",
       "      <td>서울고객비율</td>\n",
       "      <td>39.732143</td>\n",
       "    </tr>\n",
       "  </tbody>\n",
       "</table>\n",
       "</div>"
      ],
      "text/plain": [
       "  profileVar profileValue\n",
       "0       여성비율    53.571429\n",
       "1       연령평균    35.558036\n",
       "2     서울고객비율    39.732143"
      ]
     },
     "execution_count": 49,
     "metadata": {},
     "output_type": "execute_result"
    }
   ],
   "source": [
    "# 지리인구통계 요약 테이블과 결합\n",
    "\n",
    "varTitles = ['여성비율', '연령평균', '서울고객비율']\n",
    "# series 형식인 값을 float 숫자로 변경\n",
    "varValues = [float(genderStat), ageStat, float(topAreaStat)]\n",
    "\n",
    "newCustProfileGeodemo = pd.DataFrame([varTitles, varValues]).T\n",
    "newCustProfileGeodemo.columns = ['profileVar', 'profileValue']\n",
    "newCustProfileGeodemo"
   ]
  },
  {
   "cell_type": "code",
   "execution_count": 50,
   "id": "d99bfe6f",
   "metadata": {},
   "outputs": [
    {
     "data": {
      "text/html": [
       "<div>\n",
       "<style scoped>\n",
       "    .dataframe tbody tr th:only-of-type {\n",
       "        vertical-align: middle;\n",
       "    }\n",
       "\n",
       "    .dataframe tbody tr th {\n",
       "        vertical-align: top;\n",
       "    }\n",
       "\n",
       "    .dataframe thead th {\n",
       "        text-align: right;\n",
       "    }\n",
       "</style>\n",
       "<table border=\"1\" class=\"dataframe\">\n",
       "  <thead>\n",
       "    <tr style=\"text-align: right;\">\n",
       "      <th></th>\n",
       "      <th>profileVar</th>\n",
       "      <th>profileValue</th>\n",
       "    </tr>\n",
       "  </thead>\n",
       "  <tbody>\n",
       "    <tr>\n",
       "      <th>0</th>\n",
       "      <td>여성비율</td>\n",
       "      <td>53.571429</td>\n",
       "    </tr>\n",
       "    <tr>\n",
       "      <th>1</th>\n",
       "      <td>연령평균</td>\n",
       "      <td>35.558036</td>\n",
       "    </tr>\n",
       "    <tr>\n",
       "      <th>2</th>\n",
       "      <td>서울고객비율</td>\n",
       "      <td>39.732143</td>\n",
       "    </tr>\n",
       "    <tr>\n",
       "      <th>3</th>\n",
       "      <td>구매금액평균</td>\n",
       "      <td>22946.428571</td>\n",
       "    </tr>\n",
       "    <tr>\n",
       "      <th>4</th>\n",
       "      <td>구매일수평균</td>\n",
       "      <td>0.21875</td>\n",
       "    </tr>\n",
       "    <tr>\n",
       "      <th>5</th>\n",
       "      <td>구매건수Top1소분류</td>\n",
       "      <td>바지</td>\n",
       "    </tr>\n",
       "    <tr>\n",
       "      <th>6</th>\n",
       "      <td>구매건수Top2소분류</td>\n",
       "      <td>셔츠</td>\n",
       "    </tr>\n",
       "    <tr>\n",
       "      <th>7</th>\n",
       "      <td>구매건수Top3소분류</td>\n",
       "      <td>치마</td>\n",
       "    </tr>\n",
       "  </tbody>\n",
       "</table>\n",
       "</div>"
      ],
      "text/plain": [
       "    profileVar  profileValue\n",
       "0         여성비율     53.571429\n",
       "1         연령평균     35.558036\n",
       "2       서울고객비율     39.732143\n",
       "3       구매금액평균  22946.428571\n",
       "4       구매일수평균       0.21875\n",
       "5  구매건수Top1소분류            바지\n",
       "6  구매건수Top2소분류            셔츠\n",
       "7  구매건수Top3소분류            치마"
      ]
     },
     "execution_count": 50,
     "metadata": {},
     "output_type": "execute_result"
    }
   ],
   "source": [
    "# 지리인구통계 항목과 구매행동 항목 두 테이블을 하나로 결합\n",
    "\n",
    "# 인덱스가 겹치므로 새로 부여(drop=True 를 사용하여 인덱스 컬럼이 추가되지 않도록)\n",
    "pd.concat([newCustProfileGeodemo, newCustProfileSumm]).reset_index(drop=True)"
   ]
  },
  {
   "cell_type": "markdown",
   "id": "e403ef4f",
   "metadata": {},
   "source": [
    "## 기존고객과의 비교 프로파일 테이블 생성"
   ]
  },
  {
   "cell_type": "code",
   "execution_count": 51,
   "id": "23009a6a",
   "metadata": {},
   "outputs": [
    {
     "data": {
      "text/html": [
       "<div>\n",
       "<style scoped>\n",
       "    .dataframe tbody tr th:only-of-type {\n",
       "        vertical-align: middle;\n",
       "    }\n",
       "\n",
       "    .dataframe tbody tr th {\n",
       "        vertical-align: top;\n",
       "    }\n",
       "\n",
       "    .dataframe thead th {\n",
       "        text-align: right;\n",
       "    }\n",
       "</style>\n",
       "<table border=\"1\" class=\"dataframe\">\n",
       "  <thead>\n",
       "    <tr style=\"text-align: right;\">\n",
       "      <th></th>\n",
       "      <th>cust_id</th>\n",
       "      <th>sex</th>\n",
       "      <th>age</th>\n",
       "      <th>area</th>\n",
       "      <th>newCustFlg</th>\n",
       "    </tr>\n",
       "  </thead>\n",
       "  <tbody>\n",
       "    <tr>\n",
       "      <th>11757</th>\n",
       "      <td>B100008822</td>\n",
       "      <td>M</td>\n",
       "      <td>29</td>\n",
       "      <td>seoul</td>\n",
       "      <td>N</td>\n",
       "    </tr>\n",
       "    <tr>\n",
       "      <th>14750</th>\n",
       "      <td>B100027877</td>\n",
       "      <td>F</td>\n",
       "      <td>29</td>\n",
       "      <td>inchon</td>\n",
       "      <td>N</td>\n",
       "    </tr>\n",
       "    <tr>\n",
       "      <th>6831</th>\n",
       "      <td>B100090599</td>\n",
       "      <td>F</td>\n",
       "      <td>32</td>\n",
       "      <td>seoul</td>\n",
       "      <td>N</td>\n",
       "    </tr>\n",
       "    <tr>\n",
       "      <th>8200</th>\n",
       "      <td>B100073104</td>\n",
       "      <td>M</td>\n",
       "      <td>41</td>\n",
       "      <td>gangwon</td>\n",
       "      <td>N</td>\n",
       "    </tr>\n",
       "    <tr>\n",
       "      <th>18477</th>\n",
       "      <td>B100008581</td>\n",
       "      <td>F</td>\n",
       "      <td>47</td>\n",
       "      <td>seoul</td>\n",
       "      <td>N</td>\n",
       "    </tr>\n",
       "    <tr>\n",
       "      <th>19161</th>\n",
       "      <td>B100015811</td>\n",
       "      <td>M</td>\n",
       "      <td>41</td>\n",
       "      <td>seoul</td>\n",
       "      <td>N</td>\n",
       "    </tr>\n",
       "    <tr>\n",
       "      <th>18572</th>\n",
       "      <td>B100060442</td>\n",
       "      <td>M</td>\n",
       "      <td>31</td>\n",
       "      <td>gyunggi</td>\n",
       "      <td>N</td>\n",
       "    </tr>\n",
       "    <tr>\n",
       "      <th>5730</th>\n",
       "      <td>B100040796</td>\n",
       "      <td>F</td>\n",
       "      <td>27</td>\n",
       "      <td>gyunggi</td>\n",
       "      <td>N</td>\n",
       "    </tr>\n",
       "    <tr>\n",
       "      <th>8778</th>\n",
       "      <td>B100024076</td>\n",
       "      <td>F</td>\n",
       "      <td>58</td>\n",
       "      <td>seoul</td>\n",
       "      <td>N</td>\n",
       "    </tr>\n",
       "    <tr>\n",
       "      <th>5384</th>\n",
       "      <td>B100029098</td>\n",
       "      <td>M</td>\n",
       "      <td>30</td>\n",
       "      <td>gangwon</td>\n",
       "      <td>N</td>\n",
       "    </tr>\n",
       "  </tbody>\n",
       "</table>\n",
       "</div>"
      ],
      "text/plain": [
       "          cust_id sex  age     area newCustFlg\n",
       "11757  B100008822   M   29    seoul          N\n",
       "14750  B100027877   F   29   inchon          N\n",
       "6831   B100090599   F   32    seoul          N\n",
       "8200   B100073104   M   41  gangwon          N\n",
       "18477  B100008581   F   47    seoul          N\n",
       "19161  B100015811   M   41    seoul          N\n",
       "18572  B100060442   M   31  gyunggi          N\n",
       "5730   B100040796   F   27  gyunggi          N\n",
       "8778   B100024076   F   58    seoul          N\n",
       "5384   B100029098   M   30  gangwon          N"
      ]
     },
     "execution_count": 51,
     "metadata": {},
     "output_type": "execute_result"
    }
   ],
   "source": [
    "# 비교를 위한 지리인구통계 항목들 준비\n",
    "\n",
    "# 성별, 연령, 지역 항목과 신규고객여부 두 테이블을 결합\n",
    "custmastTmp1 = custmast[['cust_id', 'sex', 'age', 'area']].merge(custSignup[['cust_id', 'newCustFlg']], how='left', on='cust_id')\n",
    "custmastTmp1.sample(10)"
   ]
  },
  {
   "cell_type": "code",
   "execution_count": 52,
   "id": "a768b3be",
   "metadata": {},
   "outputs": [
    {
     "data": {
      "text/html": [
       "<div>\n",
       "<style scoped>\n",
       "    .dataframe tbody tr th:only-of-type {\n",
       "        vertical-align: middle;\n",
       "    }\n",
       "\n",
       "    .dataframe tbody tr th {\n",
       "        vertical-align: top;\n",
       "    }\n",
       "\n",
       "    .dataframe thead th {\n",
       "        text-align: right;\n",
       "    }\n",
       "</style>\n",
       "<table border=\"1\" class=\"dataframe\">\n",
       "  <thead>\n",
       "    <tr style=\"text-align: right;\">\n",
       "      <th>sex</th>\n",
       "      <th>F</th>\n",
       "      <th>M</th>\n",
       "    </tr>\n",
       "    <tr>\n",
       "      <th>newCustFlg</th>\n",
       "      <th></th>\n",
       "      <th></th>\n",
       "    </tr>\n",
       "  </thead>\n",
       "  <tbody>\n",
       "    <tr>\n",
       "      <th>N</th>\n",
       "      <td>12880</td>\n",
       "      <td>12896</td>\n",
       "    </tr>\n",
       "    <tr>\n",
       "      <th>Y</th>\n",
       "      <td>120</td>\n",
       "      <td>104</td>\n",
       "    </tr>\n",
       "  </tbody>\n",
       "</table>\n",
       "</div>"
      ],
      "text/plain": [
       "sex             F      M\n",
       "newCustFlg              \n",
       "N           12880  12896\n",
       "Y             120    104"
      ]
     },
     "metadata": {},
     "output_type": "display_data"
    },
    {
     "data": {
      "text/html": [
       "<div>\n",
       "<style scoped>\n",
       "    .dataframe tbody tr th:only-of-type {\n",
       "        vertical-align: middle;\n",
       "    }\n",
       "\n",
       "    .dataframe tbody tr th {\n",
       "        vertical-align: top;\n",
       "    }\n",
       "\n",
       "    .dataframe thead th {\n",
       "        text-align: right;\n",
       "    }\n",
       "</style>\n",
       "<table border=\"1\" class=\"dataframe\">\n",
       "  <thead>\n",
       "    <tr style=\"text-align: right;\">\n",
       "      <th>area</th>\n",
       "      <th>gangwon</th>\n",
       "      <th>gyunggi</th>\n",
       "      <th>inchon</th>\n",
       "      <th>seoul</th>\n",
       "    </tr>\n",
       "    <tr>\n",
       "      <th>newCustFlg</th>\n",
       "      <th></th>\n",
       "      <th></th>\n",
       "      <th></th>\n",
       "      <th></th>\n",
       "    </tr>\n",
       "  </thead>\n",
       "  <tbody>\n",
       "    <tr>\n",
       "      <th>N</th>\n",
       "      <td>2577</td>\n",
       "      <td>7730</td>\n",
       "      <td>5158</td>\n",
       "      <td>10311</td>\n",
       "    </tr>\n",
       "    <tr>\n",
       "      <th>Y</th>\n",
       "      <td>23</td>\n",
       "      <td>70</td>\n",
       "      <td>42</td>\n",
       "      <td>89</td>\n",
       "    </tr>\n",
       "  </tbody>\n",
       "</table>\n",
       "</div>"
      ],
      "text/plain": [
       "area        gangwon  gyunggi  inchon  seoul\n",
       "newCustFlg                                 \n",
       "N              2577     7730    5158  10311\n",
       "Y                23       70      42     89"
      ]
     },
     "metadata": {},
     "output_type": "display_data"
    }
   ],
   "source": [
    "# 범주형인 두 컬럼 성별과 지역에 대해서는\n",
    "# 반복문을 사용해서 처리\n",
    "# 신규고객여부와 항목값 간의 교차표 출력\n",
    "\n",
    "for x in [ 'sex', 'area']:\n",
    "    display(pd.crosstab(custmastTmp1.newCustFlg, custmastTmp1[x]))"
   ]
  },
  {
   "cell_type": "code",
   "execution_count": 53,
   "id": "436579ef",
   "metadata": {},
   "outputs": [
    {
     "data": {
      "text/html": [
       "<div>\n",
       "<style scoped>\n",
       "    .dataframe tbody tr th:only-of-type {\n",
       "        vertical-align: middle;\n",
       "    }\n",
       "\n",
       "    .dataframe tbody tr th {\n",
       "        vertical-align: top;\n",
       "    }\n",
       "\n",
       "    .dataframe thead tr th {\n",
       "        text-align: left;\n",
       "    }\n",
       "</style>\n",
       "<table border=\"1\" class=\"dataframe\">\n",
       "  <thead>\n",
       "    <tr>\n",
       "      <th></th>\n",
       "      <th>newCustFlg</th>\n",
       "      <th colspan=\"2\" halign=\"left\">age</th>\n",
       "    </tr>\n",
       "    <tr>\n",
       "      <th></th>\n",
       "      <th></th>\n",
       "      <th>mean</th>\n",
       "      <th>median</th>\n",
       "    </tr>\n",
       "  </thead>\n",
       "  <tbody>\n",
       "    <tr>\n",
       "      <th>0</th>\n",
       "      <td>N</td>\n",
       "      <td>35.390790</td>\n",
       "      <td>33.0</td>\n",
       "    </tr>\n",
       "    <tr>\n",
       "      <th>1</th>\n",
       "      <td>Y</td>\n",
       "      <td>35.558036</td>\n",
       "      <td>33.0</td>\n",
       "    </tr>\n",
       "  </tbody>\n",
       "</table>\n",
       "</div>"
      ],
      "text/plain": [
       "  newCustFlg        age       \n",
       "                   mean median\n",
       "0          N  35.390790   33.0\n",
       "1          Y  35.558036   33.0"
      ]
     },
     "execution_count": 53,
     "metadata": {},
     "output_type": "execute_result"
    }
   ],
   "source": [
    "# 수치형인 컬럼 연령은 평균과 중위수를 집계\n",
    "\n",
    "# agg 명령으로 한 번에 평균과 중위수 모두 집계\n",
    "custmastTmp1[['newCustFlg', 'age']].groupby('newCustFlg').agg(['mean','median']).reset_index()"
   ]
  },
  {
   "cell_type": "code",
   "execution_count": 54,
   "id": "7c4c5319",
   "metadata": {},
   "outputs": [
    {
     "data": {
      "text/html": [
       "<div>\n",
       "<style scoped>\n",
       "    .dataframe tbody tr th:only-of-type {\n",
       "        vertical-align: middle;\n",
       "    }\n",
       "\n",
       "    .dataframe tbody tr th {\n",
       "        vertical-align: top;\n",
       "    }\n",
       "\n",
       "    .dataframe thead th {\n",
       "        text-align: right;\n",
       "    }\n",
       "</style>\n",
       "<table border=\"1\" class=\"dataframe\">\n",
       "  <thead>\n",
       "    <tr style=\"text-align: right;\">\n",
       "      <th>newCustFlg</th>\n",
       "      <th>area</th>\n",
       "      <th>N</th>\n",
       "      <th>Y</th>\n",
       "    </tr>\n",
       "  </thead>\n",
       "  <tbody>\n",
       "    <tr>\n",
       "      <th>0</th>\n",
       "      <td>gangwon</td>\n",
       "      <td>2577</td>\n",
       "      <td>23</td>\n",
       "    </tr>\n",
       "    <tr>\n",
       "      <th>1</th>\n",
       "      <td>gyunggi</td>\n",
       "      <td>7730</td>\n",
       "      <td>70</td>\n",
       "    </tr>\n",
       "    <tr>\n",
       "      <th>2</th>\n",
       "      <td>inchon</td>\n",
       "      <td>5158</td>\n",
       "      <td>42</td>\n",
       "    </tr>\n",
       "    <tr>\n",
       "      <th>3</th>\n",
       "      <td>seoul</td>\n",
       "      <td>10311</td>\n",
       "      <td>89</td>\n",
       "    </tr>\n",
       "  </tbody>\n",
       "</table>\n",
       "</div>"
      ],
      "text/plain": [
       "newCustFlg     area      N   Y\n",
       "0           gangwon   2577  23\n",
       "1           gyunggi   7730  70\n",
       "2            inchon   5158  42\n",
       "3             seoul  10311  89"
      ]
     },
     "metadata": {},
     "output_type": "display_data"
    },
    {
     "data": {
      "image/png": "[encoded data removed]",
      "text/plain": [
       "<Figure size 432x288 with 1 Axes>"
      ]
     },
     "metadata": {
      "needs_background": "light"
     },
     "output_type": "display_data"
    }
   ],
   "source": [
    "# 신규고객과 기존고객의 지역 분포 비교 시각화\n",
    "\n",
    "# 신규고객여부별 지역별 고객수 집계\n",
    "areaComptmp1 = pd.crosstab(custmastTmp1.newCustFlg, custmastTmp1.area).T.reset_index()\n",
    "display(areaComptmp1)\n",
    "\n",
    "# 집계된 테이블을 사용해 시각화\n",
    "# 먼저 기존고객만 챠트 생성\n",
    "plt.bar(areaComptmp1.area, zrmx_scl(areaComptmp1.N), alpha=0.5, label='기존고객')\n",
    "# 신규고객 챠트 추가\n",
    "plt.bar(areaComptmp1.area, zrmx_scl(areaComptmp1.Y), label='신규고객', \n",
    "        # 두 막대의 구별이 용이하도록 막대 투명도 조절, 폭 조절\n",
    "        alpha=0.5, width=0.5)\n",
    "plt.legend()\n",
    "plt.title('신규여부에 따른 지역별 고객수 비교')\n",
    "plt.ylabel('고객수 지수')\n",
    "plt.show()"
   ]
  },
  {
   "cell_type": "code",
   "execution_count": 55,
   "id": "aa7f7c1a",
   "metadata": {},
   "outputs": [
    {
     "data": {
      "text/html": [
       "<div>\n",
       "<style scoped>\n",
       "    .dataframe tbody tr th:only-of-type {\n",
       "        vertical-align: middle;\n",
       "    }\n",
       "\n",
       "    .dataframe tbody tr th {\n",
       "        vertical-align: top;\n",
       "    }\n",
       "\n",
       "    .dataframe thead th {\n",
       "        text-align: right;\n",
       "    }\n",
       "</style>\n",
       "<table border=\"1\" class=\"dataframe\">\n",
       "  <thead>\n",
       "    <tr style=\"text-align: right;\">\n",
       "      <th></th>\n",
       "      <th>cust_id</th>\n",
       "      <th>store</th>\n",
       "      <th>newCustFlg</th>\n",
       "      <th>saleFlg</th>\n",
       "    </tr>\n",
       "  </thead>\n",
       "  <tbody>\n",
       "    <tr>\n",
       "      <th>0</th>\n",
       "      <td>B100000003</td>\n",
       "      <td>Multi bupyong</td>\n",
       "      <td>N</td>\n",
       "      <td>1</td>\n",
       "    </tr>\n",
       "    <tr>\n",
       "      <th>13713</th>\n",
       "      <td>B100063089</td>\n",
       "      <td>Shoote gasan</td>\n",
       "      <td>N</td>\n",
       "      <td>1</td>\n",
       "    </tr>\n",
       "    <tr>\n",
       "      <th>13712</th>\n",
       "      <td>B100063089</td>\n",
       "      <td>Multi bupyong</td>\n",
       "      <td>N</td>\n",
       "      <td>1</td>\n",
       "    </tr>\n",
       "    <tr>\n",
       "      <th>13711</th>\n",
       "      <td>B100063089</td>\n",
       "      <td>Esteeme joongang</td>\n",
       "      <td>N</td>\n",
       "      <td>1</td>\n",
       "    </tr>\n",
       "    <tr>\n",
       "      <th>13710</th>\n",
       "      <td>B100063083</td>\n",
       "      <td>Shoote gasan</td>\n",
       "      <td>N</td>\n",
       "      <td>1</td>\n",
       "    </tr>\n",
       "    <tr>\n",
       "      <th>...</th>\n",
       "      <td>...</td>\n",
       "      <td>...</td>\n",
       "      <td>...</td>\n",
       "      <td>...</td>\n",
       "    </tr>\n",
       "    <tr>\n",
       "      <th>4755</th>\n",
       "      <td>B100021660</td>\n",
       "      <td>Multi bupyong</td>\n",
       "      <td>N</td>\n",
       "      <td>8</td>\n",
       "    </tr>\n",
       "    <tr>\n",
       "      <th>5111</th>\n",
       "      <td>B100023299</td>\n",
       "      <td>ONL</td>\n",
       "      <td>N</td>\n",
       "      <td>8</td>\n",
       "    </tr>\n",
       "    <tr>\n",
       "      <th>14186</th>\n",
       "      <td>B100065222</td>\n",
       "      <td>ONL</td>\n",
       "      <td>N</td>\n",
       "      <td>9</td>\n",
       "    </tr>\n",
       "    <tr>\n",
       "      <th>7214</th>\n",
       "      <td>B100032854</td>\n",
       "      <td>ONL</td>\n",
       "      <td>N</td>\n",
       "      <td>9</td>\n",
       "    </tr>\n",
       "    <tr>\n",
       "      <th>14903</th>\n",
       "      <td>B100068429</td>\n",
       "      <td>ONL</td>\n",
       "      <td>N</td>\n",
       "      <td>9</td>\n",
       "    </tr>\n",
       "  </tbody>\n",
       "</table>\n",
       "<p>21941 rows × 4 columns</p>\n",
       "</div>"
      ],
      "text/plain": [
       "          cust_id             store newCustFlg  saleFlg\n",
       "0      B100000003     Multi bupyong          N        1\n",
       "13713  B100063089      Shoote gasan          N        1\n",
       "13712  B100063089     Multi bupyong          N        1\n",
       "13711  B100063089  Esteeme joongang          N        1\n",
       "13710  B100063083      Shoote gasan          N        1\n",
       "...           ...               ...        ...      ...\n",
       "4755   B100021660     Multi bupyong          N        8\n",
       "5111   B100023299               ONL          N        8\n",
       "14186  B100065222               ONL          N        9\n",
       "7214   B100032854               ONL          N        9\n",
       "14903  B100068429               ONL          N        9\n",
       "\n",
       "[21941 rows x 4 columns]"
      ]
     },
     "execution_count": 55,
     "metadata": {},
     "output_type": "execute_result"
    }
   ],
   "source": [
    "# 고객별 주이용점포\n",
    "\n",
    "\n",
    "custStrTmp1 = sales[['cust_id', 'store']].merge(custSignup[['cust_id', 'newCustFlg']], how='left', on='cust_id')\n",
    "custStrTmp1['saleFlg'] = 1\n",
    "custStrTmp1 = custStrTmp1.groupby(['cust_id','store','newCustFlg']).count().reset_index()\n",
    "custStrTmp1 = custStrTmp1.sort_values('saleFlg')\n",
    "custStrTmp1"
   ]
  },
  {
   "cell_type": "code",
   "execution_count": 56,
   "id": "b1c3e90f",
   "metadata": {},
   "outputs": [
    {
     "data": {
      "text/html": [
       "<div>\n",
       "<style scoped>\n",
       "    .dataframe tbody tr th:only-of-type {\n",
       "        vertical-align: middle;\n",
       "    }\n",
       "\n",
       "    .dataframe tbody tr th {\n",
       "        vertical-align: top;\n",
       "    }\n",
       "\n",
       "    .dataframe thead th {\n",
       "        text-align: right;\n",
       "    }\n",
       "</style>\n",
       "<table border=\"1\" class=\"dataframe\">\n",
       "  <thead>\n",
       "    <tr style=\"text-align: right;\">\n",
       "      <th></th>\n",
       "      <th>cust_id</th>\n",
       "      <th>store</th>\n",
       "      <th>newCustFlg</th>\n",
       "      <th>saleFlg</th>\n",
       "    </tr>\n",
       "  </thead>\n",
       "  <tbody>\n",
       "    <tr>\n",
       "      <th>13711</th>\n",
       "      <td>B100063089</td>\n",
       "      <td>Esteeme joongang</td>\n",
       "      <td>N</td>\n",
       "      <td>1</td>\n",
       "    </tr>\n",
       "    <tr>\n",
       "      <th>13709</th>\n",
       "      <td>B100063083</td>\n",
       "      <td>ONL</td>\n",
       "      <td>N</td>\n",
       "      <td>1</td>\n",
       "    </tr>\n",
       "    <tr>\n",
       "      <th>13708</th>\n",
       "      <td>B100063081</td>\n",
       "      <td>Shoote gasan</td>\n",
       "      <td>N</td>\n",
       "      <td>1</td>\n",
       "    </tr>\n",
       "    <tr>\n",
       "      <th>13714</th>\n",
       "      <td>B100063091</td>\n",
       "      <td>Shoote gasan</td>\n",
       "      <td>N</td>\n",
       "      <td>1</td>\n",
       "    </tr>\n",
       "    <tr>\n",
       "      <th>13707</th>\n",
       "      <td>B100063078</td>\n",
       "      <td>Shoote gasan</td>\n",
       "      <td>N</td>\n",
       "      <td>1</td>\n",
       "    </tr>\n",
       "    <tr>\n",
       "      <th>...</th>\n",
       "      <td>...</td>\n",
       "      <td>...</td>\n",
       "      <td>...</td>\n",
       "      <td>...</td>\n",
       "    </tr>\n",
       "    <tr>\n",
       "      <th>4755</th>\n",
       "      <td>B100021660</td>\n",
       "      <td>Multi bupyong</td>\n",
       "      <td>N</td>\n",
       "      <td>8</td>\n",
       "    </tr>\n",
       "    <tr>\n",
       "      <th>5111</th>\n",
       "      <td>B100023299</td>\n",
       "      <td>ONL</td>\n",
       "      <td>N</td>\n",
       "      <td>8</td>\n",
       "    </tr>\n",
       "    <tr>\n",
       "      <th>14186</th>\n",
       "      <td>B100065222</td>\n",
       "      <td>ONL</td>\n",
       "      <td>N</td>\n",
       "      <td>9</td>\n",
       "    </tr>\n",
       "    <tr>\n",
       "      <th>7214</th>\n",
       "      <td>B100032854</td>\n",
       "      <td>ONL</td>\n",
       "      <td>N</td>\n",
       "      <td>9</td>\n",
       "    </tr>\n",
       "    <tr>\n",
       "      <th>14903</th>\n",
       "      <td>B100068429</td>\n",
       "      <td>ONL</td>\n",
       "      <td>N</td>\n",
       "      <td>9</td>\n",
       "    </tr>\n",
       "  </tbody>\n",
       "</table>\n",
       "<p>15565 rows × 4 columns</p>\n",
       "</div>"
      ],
      "text/plain": [
       "          cust_id             store newCustFlg  saleFlg\n",
       "13711  B100063089  Esteeme joongang          N        1\n",
       "13709  B100063083               ONL          N        1\n",
       "13708  B100063081      Shoote gasan          N        1\n",
       "13714  B100063091      Shoote gasan          N        1\n",
       "13707  B100063078      Shoote gasan          N        1\n",
       "...           ...               ...        ...      ...\n",
       "4755   B100021660     Multi bupyong          N        8\n",
       "5111   B100023299               ONL          N        8\n",
       "14186  B100065222               ONL          N        9\n",
       "7214   B100032854               ONL          N        9\n",
       "14903  B100068429               ONL          N        9\n",
       "\n",
       "[15565 rows x 4 columns]"
      ]
     },
     "execution_count": 56,
     "metadata": {},
     "output_type": "execute_result"
    }
   ],
   "source": [
    "custStrTmp2 = custStrTmp1.groupby('cust_id').tail(1)\n",
    "custStrTmp2"
   ]
  },
  {
   "cell_type": "code",
   "execution_count": 57,
   "id": "17dd2d01",
   "metadata": {},
   "outputs": [
    {
     "data": {
      "text/plain": [
       "N    0.997366\n",
       "Y    0.002634\n",
       "Name: newCustFlg, dtype: float64"
      ]
     },
     "execution_count": 57,
     "metadata": {},
     "output_type": "execute_result"
    }
   ],
   "source": [
    "# 신규고객 비율 확인\n",
    "\n",
    "# 신규고객여부별 인원수 / 전체 인원수 합계\n",
    "custStrTmp2.newCustFlg.value_counts()/custStrTmp2.newCustFlg.value_counts().sum()"
   ]
  },
  {
   "cell_type": "code",
   "execution_count": 58,
   "id": "cb879e21",
   "metadata": {},
   "outputs": [
    {
     "data": {
      "text/html": [
       "<div>\n",
       "<style scoped>\n",
       "    .dataframe tbody tr th:only-of-type {\n",
       "        vertical-align: middle;\n",
       "    }\n",
       "\n",
       "    .dataframe tbody tr th {\n",
       "        vertical-align: top;\n",
       "    }\n",
       "\n",
       "    .dataframe thead th {\n",
       "        text-align: right;\n",
       "    }\n",
       "</style>\n",
       "<table border=\"1\" class=\"dataframe\">\n",
       "  <thead>\n",
       "    <tr style=\"text-align: right;\">\n",
       "      <th>newCustFlg</th>\n",
       "      <th>store</th>\n",
       "      <th>N</th>\n",
       "      <th>Y</th>\n",
       "      <th>rNewCust</th>\n",
       "    </tr>\n",
       "  </thead>\n",
       "  <tbody>\n",
       "    <tr>\n",
       "      <th>0</th>\n",
       "      <td>Esteeme joongang</td>\n",
       "      <td>531</td>\n",
       "      <td>3</td>\n",
       "      <td>0.561798</td>\n",
       "    </tr>\n",
       "    <tr>\n",
       "      <th>1</th>\n",
       "      <td>Multi bupyong</td>\n",
       "      <td>4855</td>\n",
       "      <td>11</td>\n",
       "      <td>0.226058</td>\n",
       "    </tr>\n",
       "    <tr>\n",
       "      <th>2</th>\n",
       "      <td>ONL</td>\n",
       "      <td>5832</td>\n",
       "      <td>20</td>\n",
       "      <td>0.341763</td>\n",
       "    </tr>\n",
       "    <tr>\n",
       "      <th>3</th>\n",
       "      <td>Shoote city</td>\n",
       "      <td>1507</td>\n",
       "      <td>2</td>\n",
       "      <td>0.132538</td>\n",
       "    </tr>\n",
       "    <tr>\n",
       "      <th>4</th>\n",
       "      <td>Shoote gasan</td>\n",
       "      <td>2799</td>\n",
       "      <td>5</td>\n",
       "      <td>0.178317</td>\n",
       "    </tr>\n",
       "  </tbody>\n",
       "</table>\n",
       "</div>"
      ],
      "text/plain": [
       "newCustFlg             store     N   Y  rNewCust\n",
       "0           Esteeme joongang   531   3  0.561798\n",
       "1              Multi bupyong  4855  11  0.226058\n",
       "2                        ONL  5832  20  0.341763\n",
       "3                Shoote city  1507   2  0.132538\n",
       "4               Shoote gasan  2799   5  0.178317"
      ]
     },
     "execution_count": 58,
     "metadata": {},
     "output_type": "execute_result"
    }
   ],
   "source": [
    "newCustStat1_byStore = pd.crosstab(custStrTmp2.newCustFlg, custStrTmp2.store).T.reset_index()\n",
    "newCustStat1_byStore['rNewCust'] = newCustStat1_byStore.Y / (newCustStat1_byStore.N +newCustStat1_byStore.Y) * 100\n",
    "newCustStat1_byStore"
   ]
  },
  {
   "cell_type": "code",
   "execution_count": 59,
   "id": "5bbe30ef",
   "metadata": {},
   "outputs": [
    {
     "data": {
      "image/png": "[encoded data removed]",
      "text/plain": [
       "<Figure size 432x288 with 1 Axes>"
      ]
     },
     "metadata": {
      "needs_background": "light"
     },
     "output_type": "display_data"
    }
   ],
   "source": [
    "plt.bar(newCustStat1_byStore.store, newCustStat1_byStore.rNewCust)\n",
    "plt.xlabel('점포/채널')\n",
    "plt.ylabel('신규고객비율%')\n",
    "plt.xticks(rotation=30, ha='right')\n",
    "plt.suptitle('점포/채널별 신규고객비율', weight='bold')\n",
    "plt.title('고객별 주이용점포/채널 기준', size=11)\n",
    "\n",
    "# 전체에서의 신규고객비율 산출 (참고용 보조선으로 표시)\n",
    "newcustRate = float((custStrTmp2.newCustFlg.value_counts()/custStrTmp2.newCustFlg.value_counts().sum()).tail(1).values[0])*100\n",
    "plt.axhline(newcustRate, color='grey', linewidth=5, alpha=0.5)\n",
    "\n",
    "# 신규고객수 표시\n",
    "for i in newCustStat1_byStore.index:\n",
    "    text2show = str(newCustStat1_byStore.Y[i]) + '명'\n",
    "    plt.text(i, 0.05, text2show, \n",
    "             color='white', size=15, ha='center')\n",
    "\n",
    "plt.show()"
   ]
  },
  {
   "cell_type": "markdown",
   "id": "7de6894c",
   "metadata": {},
   "source": [
    "#### 신규고객여부별 구매행동 비교"
   ]
  },
  {
   "cell_type": "code",
   "execution_count": 60,
   "id": "6f1cc769",
   "metadata": {},
   "outputs": [
    {
     "data": {
      "text/html": [
       "<div>\n",
       "<style scoped>\n",
       "    .dataframe tbody tr th:only-of-type {\n",
       "        vertical-align: middle;\n",
       "    }\n",
       "\n",
       "    .dataframe tbody tr th {\n",
       "        vertical-align: top;\n",
       "    }\n",
       "\n",
       "    .dataframe thead th {\n",
       "        text-align: right;\n",
       "    }\n",
       "</style>\n",
       "<table border=\"1\" class=\"dataframe\">\n",
       "  <thead>\n",
       "    <tr style=\"text-align: right;\">\n",
       "      <th></th>\n",
       "      <th>cust_id</th>\n",
       "      <th>amt</th>\n",
       "      <th>saleDay</th>\n",
       "      <th>newCustFlg</th>\n",
       "    </tr>\n",
       "  </thead>\n",
       "  <tbody>\n",
       "    <tr>\n",
       "      <th>0</th>\n",
       "      <td>B100000003</td>\n",
       "      <td>250000</td>\n",
       "      <td>2</td>\n",
       "      <td>N</td>\n",
       "    </tr>\n",
       "    <tr>\n",
       "      <th>1</th>\n",
       "      <td>B100000005</td>\n",
       "      <td>200000</td>\n",
       "      <td>3</td>\n",
       "      <td>N</td>\n",
       "    </tr>\n",
       "    <tr>\n",
       "      <th>2</th>\n",
       "      <td>B100000022</td>\n",
       "      <td>35000</td>\n",
       "      <td>1</td>\n",
       "      <td>N</td>\n",
       "    </tr>\n",
       "    <tr>\n",
       "      <th>3</th>\n",
       "      <td>B100000023</td>\n",
       "      <td>225000</td>\n",
       "      <td>2</td>\n",
       "      <td>N</td>\n",
       "    </tr>\n",
       "    <tr>\n",
       "      <th>4</th>\n",
       "      <td>B100000037</td>\n",
       "      <td>140000</td>\n",
       "      <td>1</td>\n",
       "      <td>N</td>\n",
       "    </tr>\n",
       "    <tr>\n",
       "      <th>...</th>\n",
       "      <td>...</td>\n",
       "      <td>...</td>\n",
       "      <td>...</td>\n",
       "      <td>...</td>\n",
       "    </tr>\n",
       "    <tr>\n",
       "      <th>15560</th>\n",
       "      <td>B100099964</td>\n",
       "      <td>210000</td>\n",
       "      <td>2</td>\n",
       "      <td>N</td>\n",
       "    </tr>\n",
       "    <tr>\n",
       "      <th>15561</th>\n",
       "      <td>B100099970</td>\n",
       "      <td>80000</td>\n",
       "      <td>1</td>\n",
       "      <td>N</td>\n",
       "    </tr>\n",
       "    <tr>\n",
       "      <th>15562</th>\n",
       "      <td>B100099976</td>\n",
       "      <td>310000</td>\n",
       "      <td>2</td>\n",
       "      <td>N</td>\n",
       "    </tr>\n",
       "    <tr>\n",
       "      <th>15563</th>\n",
       "      <td>B100099981</td>\n",
       "      <td>35000</td>\n",
       "      <td>1</td>\n",
       "      <td>N</td>\n",
       "    </tr>\n",
       "    <tr>\n",
       "      <th>15564</th>\n",
       "      <td>B100099990</td>\n",
       "      <td>240000</td>\n",
       "      <td>2</td>\n",
       "      <td>N</td>\n",
       "    </tr>\n",
       "  </tbody>\n",
       "</table>\n",
       "<p>15565 rows × 4 columns</p>\n",
       "</div>"
      ],
      "text/plain": [
       "          cust_id     amt  saleDay newCustFlg\n",
       "0      B100000003  250000        2          N\n",
       "1      B100000005  200000        3          N\n",
       "2      B100000022   35000        1          N\n",
       "3      B100000023  225000        2          N\n",
       "4      B100000037  140000        1          N\n",
       "...           ...     ...      ...        ...\n",
       "15560  B100099964  210000        2          N\n",
       "15561  B100099970   80000        1          N\n",
       "15562  B100099976  310000        2          N\n",
       "15563  B100099981   35000        1          N\n",
       "15564  B100099990  240000        2          N\n",
       "\n",
       "[15565 rows x 4 columns]"
      ]
     },
     "execution_count": 60,
     "metadata": {},
     "output_type": "execute_result"
    }
   ],
   "source": [
    "# 신규고객여부별 구매행동 비교\n",
    "\n",
    "# 고객별 구매금액과 일수 집계\n",
    "\n",
    "# 고객별 금액합계 집계 테이블 생성\n",
    "custSaleamt1 = sales[['cust_id', 'amt']].groupby('cust_id').sum().reset_index()\n",
    "\n",
    "# 고객별 구매일수 집계 테이블 생성\n",
    "salesTmp1 = sales[['cust_id', 'date']].copy()\n",
    "salesTmp1['saleDay'] = salesTmp1.date.str.slice(0,10)\n",
    "# 고객별 날짜만 추출해 중복제거\n",
    "salesTmp1 = salesTmp1[['cust_id', 'saleDay']].drop_duplicates().copy()\n",
    "# 일수 집계\n",
    "custSaledays1 = salesTmp1[['cust_id', 'saleDay']].groupby('cust_id').count().reset_index()\n",
    "\n",
    "custSalesTmp1 = custSaleamt1.merge(custSaledays1, how='left', on='cust_id')\n",
    "\n",
    "custSalesTmp1 = custSalesTmp1.merge(custSignup[['cust_id', 'newCustFlg']], how='left', on='cust_id')\n",
    "custSalesTmp1"
   ]
  },
  {
   "cell_type": "code",
   "execution_count": 61,
   "id": "67d45250",
   "metadata": {},
   "outputs": [
    {
     "data": {
      "image/png": "[encoded data removed]",
      "text/plain": [
       "<Figure size 800x600 with 1 Axes>"
      ]
     },
     "metadata": {
      "needs_background": "light"
     },
     "output_type": "display_data"
    }
   ],
   "source": [
    "# 고객별 구매일수와 금액합계를 사용한 산점도 작성\n",
    "\n",
    "\n",
    "plt.figure(figsize=(8,6), dpi=100)\n",
    "\n",
    "# 기존고객만으로 산점도 생성\n",
    "plt.scatter(rjitt(custSalesTmp1[custSalesTmp1.newCustFlg=='N'].saleDay), \n",
    "            rjitt(custSalesTmp1[custSalesTmp1.newCustFlg=='N'].amt/1000), \n",
    "           alpha=0.1, color='grey')\n",
    "\n",
    "# 신규고객만으로 (red) 산점도 추가\n",
    "plt.scatter(rjitt(custSalesTmp1[custSalesTmp1.newCustFlg=='Y'].saleDay), \n",
    "            # 금액단위를 천원으로 조절\n",
    "            rjitt(custSalesTmp1[custSalesTmp1.newCustFlg=='Y'].amt/1000), \n",
    "           alpha=0.2, color='red')\n",
    "\n",
    "plt.xlabel('구매일수')\n",
    "plt.ylabel('구매금액합계 (단위:천원)')\n",
    "plt.suptitle('신규고객과 기존고객 구매행동 비교', weight='bold')\n",
    "plt.title('red: 신규고객')\n",
    "\n",
    "# 금액 상위 20% 지점을 나타내는 보조선 추가\n",
    "plt.axhline((custSalesTmp1[custSalesTmp1.newCustFlg=='N'].amt/1000).quantile(0.8),\n",
    "            color='orange', linestyle=':', \n",
    "            # 구별이 용이하도록 보조선의 두께 조절\n",
    "            linewidth=2)\n",
    "plt.show()"
   ]
  },
  {
   "cell_type": "markdown",
   "id": "98559933",
   "metadata": {},
   "source": [
    "- 신규고객은 자동적으로 최근 3개월 기간, 기존 고객은 총 2년으로 비교하는 것은 문제있음\n",
    "- 동일하게 최대 3개월로 기간을 일치시켜 비교 필요\n",
    "- 단, 신규고객은 가입후 3개월 미만인 경우도 있으므로 여전히 완전히 공평한 비교는 아님"
   ]
  },
  {
   "cell_type": "code",
   "execution_count": 62,
   "id": "3973e797",
   "metadata": {},
   "outputs": [
    {
     "data": {
      "text/html": [
       "<div>\n",
       "<style scoped>\n",
       "    .dataframe tbody tr th:only-of-type {\n",
       "        vertical-align: middle;\n",
       "    }\n",
       "\n",
       "    .dataframe tbody tr th {\n",
       "        vertical-align: top;\n",
       "    }\n",
       "\n",
       "    .dataframe thead th {\n",
       "        text-align: right;\n",
       "    }\n",
       "</style>\n",
       "<table border=\"1\" class=\"dataframe\">\n",
       "  <thead>\n",
       "    <tr style=\"text-align: right;\">\n",
       "      <th></th>\n",
       "      <th>cust_id</th>\n",
       "      <th>amt</th>\n",
       "      <th>saleDay</th>\n",
       "      <th>newCustFlg</th>\n",
       "    </tr>\n",
       "  </thead>\n",
       "  <tbody>\n",
       "    <tr>\n",
       "      <th>0</th>\n",
       "      <td>B100000043</td>\n",
       "      <td>70000</td>\n",
       "      <td>2</td>\n",
       "      <td>N</td>\n",
       "    </tr>\n",
       "    <tr>\n",
       "      <th>1</th>\n",
       "      <td>B100000070</td>\n",
       "      <td>130000</td>\n",
       "      <td>3</td>\n",
       "      <td>N</td>\n",
       "    </tr>\n",
       "    <tr>\n",
       "      <th>2</th>\n",
       "      <td>B100000079</td>\n",
       "      <td>530000</td>\n",
       "      <td>1</td>\n",
       "      <td>N</td>\n",
       "    </tr>\n",
       "    <tr>\n",
       "      <th>3</th>\n",
       "      <td>B100000093</td>\n",
       "      <td>265000</td>\n",
       "      <td>2</td>\n",
       "      <td>N</td>\n",
       "    </tr>\n",
       "    <tr>\n",
       "      <th>4</th>\n",
       "      <td>B100000117</td>\n",
       "      <td>70000</td>\n",
       "      <td>2</td>\n",
       "      <td>N</td>\n",
       "    </tr>\n",
       "    <tr>\n",
       "      <th>...</th>\n",
       "      <td>...</td>\n",
       "      <td>...</td>\n",
       "      <td>...</td>\n",
       "      <td>...</td>\n",
       "    </tr>\n",
       "    <tr>\n",
       "      <th>3811</th>\n",
       "      <td>B100099846</td>\n",
       "      <td>100000</td>\n",
       "      <td>1</td>\n",
       "      <td>N</td>\n",
       "    </tr>\n",
       "    <tr>\n",
       "      <th>3812</th>\n",
       "      <td>B100099852</td>\n",
       "      <td>60000</td>\n",
       "      <td>3</td>\n",
       "      <td>N</td>\n",
       "    </tr>\n",
       "    <tr>\n",
       "      <th>3813</th>\n",
       "      <td>B100099910</td>\n",
       "      <td>70000</td>\n",
       "      <td>2</td>\n",
       "      <td>N</td>\n",
       "    </tr>\n",
       "    <tr>\n",
       "      <th>3814</th>\n",
       "      <td>B100099953</td>\n",
       "      <td>60000</td>\n",
       "      <td>2</td>\n",
       "      <td>N</td>\n",
       "    </tr>\n",
       "    <tr>\n",
       "      <th>3815</th>\n",
       "      <td>B100099976</td>\n",
       "      <td>310000</td>\n",
       "      <td>2</td>\n",
       "      <td>N</td>\n",
       "    </tr>\n",
       "  </tbody>\n",
       "</table>\n",
       "<p>3816 rows × 4 columns</p>\n",
       "</div>"
      ],
      "text/plain": [
       "         cust_id     amt  saleDay newCustFlg\n",
       "0     B100000043   70000        2          N\n",
       "1     B100000070  130000        3          N\n",
       "2     B100000079  530000        1          N\n",
       "3     B100000093  265000        2          N\n",
       "4     B100000117   70000        2          N\n",
       "...          ...     ...      ...        ...\n",
       "3811  B100099846  100000        1          N\n",
       "3812  B100099852   60000        3          N\n",
       "3813  B100099910   70000        2          N\n",
       "3814  B100099953   60000        2          N\n",
       "3815  B100099976  310000        2          N\n",
       "\n",
       "[3816 rows x 4 columns]"
      ]
     },
     "execution_count": 62,
     "metadata": {},
     "output_type": "execute_result"
    }
   ],
   "source": [
    "# 신규고객여부별 구매행동 비교 - 최근 3개월\n",
    "\n",
    "# 고객별 구매금액과 일수 집계\n",
    "\n",
    "# 최근 3개월만으로 고객별 금액합계 집계 테이블 생성\n",
    "custSaleamt1 = sales[sales.date.str.slice(0,10)>='2020-10-01'][['cust_id', 'amt']].groupby('cust_id').sum().reset_index()\n",
    "\n",
    "# 고객별 구매일수 집계 테이블 생성\n",
    "salesTmp1 = sales[['cust_id', 'date']].copy()\n",
    "salesTmp1['saleDay'] = salesTmp1.date.str.slice(0,10)\n",
    "# 고객별 날짜만 추출해 중복제거\n",
    "salesTmp1 = salesTmp1[['cust_id', 'saleDay']].drop_duplicates().copy()\n",
    "# 일수 집계\n",
    "custSaledays1 = salesTmp1[['cust_id', 'saleDay']].groupby('cust_id').count().reset_index()\n",
    "\n",
    "custSalesTmp1 = custSaleamt1.merge(custSaledays1, how='left', on='cust_id')\n",
    "\n",
    "custSalesTmp1 = custSalesTmp1.merge(custSignup[['cust_id', 'newCustFlg']], how='left', on='cust_id')\n",
    "custSalesTmp1"
   ]
  },
  {
   "cell_type": "code",
   "execution_count": 63,
   "id": "634ae8d9",
   "metadata": {},
   "outputs": [
    {
     "data": {
      "image/png": "[encoded data removed]",
      "text/plain": [
       "<Figure size 800x600 with 1 Axes>"
      ]
     },
     "metadata": {
      "needs_background": "light"
     },
     "output_type": "display_data"
    }
   ],
   "source": [
    "# 고객별 구매일수와 금액합계를 사용한 산점도 작성\n",
    "\n",
    "\n",
    "plt.figure(figsize=(8,6), dpi=100)\n",
    "\n",
    "# 기존고객만으로 산점도 생성\n",
    "plt.scatter(rjitt(custSalesTmp1[custSalesTmp1.newCustFlg=='N'].saleDay), \n",
    "            rjitt(custSalesTmp1[custSalesTmp1.newCustFlg=='N'].amt/1000), \n",
    "           alpha=0.1, color='grey')\n",
    "\n",
    "# 신규고객만으로 (red) 산점도 추가\n",
    "plt.scatter(rjitt(custSalesTmp1[custSalesTmp1.newCustFlg=='Y'].saleDay), \n",
    "            # 금액단위를 천원으로 조절\n",
    "            rjitt(custSalesTmp1[custSalesTmp1.newCustFlg=='Y'].amt/1000), \n",
    "           alpha=0.2, color='red')\n",
    "\n",
    "plt.xlabel('구매일수')\n",
    "plt.ylabel('구매금액합계 (단위:천원)')\n",
    "plt.suptitle('신규고객과 기존고객 구매행동 비교', weight='bold')\n",
    "plt.title('red: 신규고객 ; 비교기간: 2020-10~2020-12')\n",
    "\n",
    "# 금액 상위 20% 지점을 나타내는 보조선 추가\n",
    "plt.axhline((custSalesTmp1[custSalesTmp1.newCustFlg=='N'].amt/1000).quantile(0.8),\n",
    "            color='orange', linestyle=':', \n",
    "            # 구별이 용이하도록 보조선의 두께 조절\n",
    "            linewidth=2)\n",
    "plt.show()"
   ]
  }
 ],
 "metadata": {
  "kernelspec": {
   "display_name": "Python 3 (ipykernel)",
   "language": "python",
   "name": "python3"
  },
  "language_info": {
   "codemirror_mode": {
    "name": "ipython",
    "version": 3
   },
   "file_extension": ".py",
   "mimetype": "text/x-python",
   "name": "python",
   "nbconvert_exporter": "python",
   "pygments_lexer": "ipython3",
   "version": "3.9.7"
  }
 },
 "nbformat": 4,
 "nbformat_minor": 5
}

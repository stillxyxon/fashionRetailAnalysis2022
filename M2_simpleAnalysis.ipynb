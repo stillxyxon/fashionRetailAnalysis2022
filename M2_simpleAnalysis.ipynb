{
 "cells": [
  {
   "cell_type": "markdown",
   "metadata": {},
   "source": [
    "# M2 간단한 데이터 분석\n",
    "\n",
    "- 데이터 불러오기\n",
    "- 간단한 챠트 작성\n",
    "- 기초적인 고객데이터 분석 연습 - 성별, 연령별, 지역별 고객수와 금액 분석\n",
    "<br><br>\n",
    "- **목표** : 파이썬을 사용한 데이터 분석 기초 연습\n"
   ]
  },
  {
   "cell_type": "code",
   "execution_count": 1,
   "metadata": {},
   "outputs": [],
   "source": [
    "# 기본적으로 필요한 라이브러리 로딩\n",
    "\n",
    "import numpy as np\n",
    "import matplotlib.pyplot as plt\n",
    "import pandas as pd\n",
    "from numpy.polynomial.polynomial import polyfit\n",
    "\n",
    "\n",
    "# 자주 사용할만한 사용자 정의 함수 정의\n",
    "\n",
    "# define random jitter\n",
    "def rjitt(arr):\n",
    "    stdev = .01*(max(arr)-min(arr))\n",
    "    return arr + np.random.randn(len(arr)) * stdev\n",
    "\n",
    "# custom min max scaler\n",
    "def mnmx_scl(vec):\n",
    "    vec = (vec-vec.min())/(vec.max()-vec.min())\n",
    "    return(vec)\n",
    "\n",
    "\n",
    "import warnings\n",
    "# 경고 메시지 숨기기\n",
    "warnings.filterwarnings('ignore')\n",
    "\n",
    "\n",
    "\n",
    "# 데이터를 불러올 기본 위치 지정\n",
    "\n",
    "# local data path\n",
    "dataPath = 'D:/YONG/myPydata/' # 생성위치는 사용자 지정\n",
    "\n",
    "\n",
    "# matplotlib 에서 한글을 표시하기 위한 설정\n",
    "\n",
    "import matplotlib.font_manager\n",
    "    \n",
    "font_name = matplotlib.font_manager.FontProperties(\n",
    "                fname=\"c:/Windows/Fonts/malgun.ttf\"  # 윈도우즈의 한글 폰트 위치를 지정\n",
    "            ).get_name()\n",
    "matplotlib.rc('font', family=font_name)\n",
    "\n",
    "matplotlib.rcParams['axes.unicode_minus'] = False #  음수를 나타내는 '-' 부호가 정상 표시되도록\n"
   ]
  },
  {
   "cell_type": "code",
   "execution_count": null,
   "metadata": {},
   "outputs": [],
   "source": []
  },
  {
   "cell_type": "markdown",
   "metadata": {},
   "source": [
    "## 파이썬 프로그래밍 감잡기 연습"
   ]
  },
  {
   "cell_type": "code",
   "execution_count": 2,
   "metadata": {},
   "outputs": [
    {
     "data": {
      "text/plain": [
       "'seoul'"
      ]
     },
     "execution_count": 2,
     "metadata": {},
     "output_type": "execute_result"
    }
   ],
   "source": [
    "# 하나의 값을 가진 변수\n",
    "\n",
    "city = 'seoul'\n",
    "city"
   ]
  },
  {
   "cell_type": "code",
   "execution_count": 3,
   "metadata": {},
   "outputs": [
    {
     "data": {
      "text/plain": [
       "['서울', '여수', '부산', '대구', '제주']"
      ]
     },
     "execution_count": 3,
     "metadata": {},
     "output_type": "execute_result"
    }
   ],
   "source": [
    "# 지역명 변수\n",
    "\n",
    "cities = ['서울', '여수', '부산', '대구', '제주'] # list 리스트\n",
    "cities"
   ]
  },
  {
   "cell_type": "code",
   "execution_count": 4,
   "metadata": {},
   "outputs": [
    {
     "data": {
      "text/plain": [
       "[3, 1, 2, 4, 1]"
      ]
     },
     "execution_count": 4,
     "metadata": {},
     "output_type": "execute_result"
    }
   ],
   "source": [
    "# 도시별 점포수 변수\n",
    "\n",
    "cnt_stores = [3,1,2,4,1]\n",
    "cnt_stores"
   ]
  },
  {
   "cell_type": "code",
   "execution_count": 5,
   "metadata": {},
   "outputs": [
    {
     "data": {
      "text/plain": [
       "5"
      ]
     },
     "execution_count": 5,
     "metadata": {},
     "output_type": "execute_result"
    }
   ],
   "source": [
    "# 지역의 갯수 확인\n",
    "\n",
    "len(cities)"
   ]
  },
  {
   "cell_type": "code",
   "execution_count": 6,
   "metadata": {},
   "outputs": [
    {
     "name": "stdout",
     "output_type": "stream",
     "text": [
      "[1, 1, 2, 3, 4]\n"
     ]
    }
   ],
   "source": [
    "# 점포수 정렬 - default ascending\n",
    "\n",
    "cnt_stores.sort()\n",
    "print(cnt_stores)"
   ]
  },
  {
   "cell_type": "code",
   "execution_count": 7,
   "metadata": {},
   "outputs": [
    {
     "name": "stdout",
     "output_type": "stream",
     "text": [
      "[4, 3, 2, 1, 1]\n"
     ]
    }
   ],
   "source": [
    "# 점포수 정렬 - 내림차순\n",
    "\n",
    "cnt_stores.sort(reverse=True)\n",
    "print(cnt_stores)"
   ]
  },
  {
   "cell_type": "code",
   "execution_count": 8,
   "metadata": {},
   "outputs": [
    {
     "data": {
      "text/plain": [
       "[4, 3, 2, 1, 1, 4]"
      ]
     },
     "execution_count": 8,
     "metadata": {},
     "output_type": "execute_result"
    }
   ],
   "source": [
    "# 요소 추가\n",
    "\n",
    "cnt_stores.append(4)\n",
    "cnt_stores"
   ]
  },
  {
   "cell_type": "markdown",
   "metadata": {},
   "source": [
    "- 리스트 처리 연습"
   ]
  },
  {
   "cell_type": "code",
   "execution_count": 9,
   "metadata": {},
   "outputs": [
    {
     "name": "stdout",
     "output_type": "stream",
     "text": [
      "[]\n",
      "0\n",
      "[3]\n",
      "1\n",
      "[3, 3]\n",
      "2\n",
      "[3, 3, 3]\n",
      "3\n",
      "[3, 3, 3, 3]\n",
      "4\n",
      "[3, 3, 3, 3, 3]\n",
      "5\n",
      "[3, 3, 3, 3, 3, 3]\n",
      "6\n",
      "[3, 3, 3, 3, 3, 3, 3]\n",
      "7\n",
      "[3, 3, 3, 3, 3, 3, 3, 3]\n",
      "8\n",
      "[3, 3, 3, 3, 3, 3, 3, 3, 3]\n",
      "9\n",
      "[3, 3, 3, 3, 3, 3, 3, 3, 3, 3]\n"
     ]
    },
    {
     "data": {
      "text/plain": [
       "[3, 3, 3, 3, 3, 3, 3, 3, 3, 3]"
      ]
     },
     "execution_count": 9,
     "metadata": {},
     "output_type": "execute_result"
    }
   ],
   "source": [
    "nums = []\n",
    "print(nums) #  empty list \n",
    "\n",
    "for i in range(10):\n",
    "    print(i) # 몇번째 작업인지를 출력\n",
    "    nums.append(3)\n",
    "    print(nums) # nums의 현재 상태를 출력\n",
    "nums    "
   ]
  },
  {
   "cell_type": "markdown",
   "metadata": {},
   "source": [
    "- [mini 연습문제] 아래 주어진 리스트 priceList에서 순서대로 한 값씩을 출력하는 반복문 for loop 코드를 작성하라"
   ]
  },
  {
   "cell_type": "code",
   "execution_count": 10,
   "metadata": {},
   "outputs": [],
   "source": [
    "# 다섯개의 상품 가격이 하나의 리스트에 들어있다고 가정\n",
    "\n",
    "priceList = [27, 35, 12, 29, 47]\n",
    "\n"
   ]
  },
  {
   "cell_type": "code",
   "execution_count": 11,
   "metadata": {},
   "outputs": [
    {
     "name": "stdout",
     "output_type": "stream",
     "text": [
      "[3, 3, 3, 3, 3, 3, 3, 3, 3, 3, 3, 3, 3, 3, 3, 3, 3, 3, 3, 3]\n"
     ]
    },
    {
     "data": {
      "text/plain": [
       "[3, 3, 3, 3, 3, 3, 3, 3, 3, 3]"
      ]
     },
     "execution_count": 11,
     "metadata": {},
     "output_type": "execute_result"
    }
   ],
   "source": [
    "nums + nums\n",
    "\n",
    "# 하나의 코드셀에 여러 출력이 있으면 마지막 출력만 보여짐\n",
    "# print() display() 등의 명령은 중간에 있는 출력도 보여지도록 강제함\n",
    "\n",
    "print(nums + nums)\n",
    "nums\n"
   ]
  },
  {
   "cell_type": "markdown",
   "metadata": {},
   "source": [
    "- 리스트 끼리를 더하는 표시의 연산(+) 는 두 개의 리스트를 하나로 결합하는 기능"
   ]
  },
  {
   "cell_type": "code",
   "execution_count": 12,
   "metadata": {},
   "outputs": [
    {
     "data": {
      "text/plain": [
       "[3, 3, 3, 3, 3, 3, 3, 3, 3, 3, 3, 3, 3, 3, 3, 3, 3, 3, 3, 3]"
      ]
     },
     "execution_count": 12,
     "metadata": {},
     "output_type": "execute_result"
    }
   ],
   "source": [
    "nums.extend(nums)\n",
    "nums"
   ]
  },
  {
   "cell_type": "code",
   "execution_count": 13,
   "metadata": {
    "scrolled": false
   },
   "outputs": [
    {
     "data": {
      "text/plain": [
       "[3, 3, 3, 'y', 3, 3, 3, 3, 3, 3, 3, 3, 3, 3, 3, 3, 3, 3, 3, 3, 3]"
      ]
     },
     "execution_count": 13,
     "metadata": {},
     "output_type": "execute_result"
    }
   ],
   "source": [
    "nums.insert(3, 'y')\n",
    "\n",
    "# 3번위치, 즉 네번째 자리에 지정된 값을 원소로 추가\n",
    "\n",
    "nums"
   ]
  },
  {
   "cell_type": "code",
   "execution_count": 14,
   "metadata": {},
   "outputs": [
    {
     "data": {
      "text/plain": [
       "[3, 3, 'y', 3, 3, 3, 3, 3, 3, 3, 3, 3, 3, 3, 3, 3, 3, 3, 3, 3]"
      ]
     },
     "execution_count": 14,
     "metadata": {},
     "output_type": "execute_result"
    }
   ],
   "source": [
    "del nums[:1] # 1번 자리 까지의 원소들을 삭제\n",
    "\n",
    "nums"
   ]
  },
  {
   "cell_type": "markdown",
   "metadata": {},
   "source": [
    "- [mini 연습문제] 앞서 사용했던 priceList 리스트에서 4번째 이후의 값들을 삭제하라\n"
   ]
  },
  {
   "cell_type": "code",
   "execution_count": 15,
   "metadata": {},
   "outputs": [
    {
     "data": {
      "text/plain": [
       "[3, 3, 3, 3, 3, 3, 3, 3, 3, 3, 3, 3, 3, 3, 3, 3, 3, 3, 3]"
      ]
     },
     "execution_count": 15,
     "metadata": {},
     "output_type": "execute_result"
    }
   ],
   "source": [
    "nums.remove('y')\n",
    "nums"
   ]
  },
  {
   "cell_type": "code",
   "execution_count": 16,
   "metadata": {},
   "outputs": [
    {
     "data": {
      "text/plain": [
       "[3, 3, 'y', 3, 3, 3, 3, 3, 3, 3, 3, 3, 3, 3, 3, 3, 3, 3, 3, 3]"
      ]
     },
     "execution_count": 16,
     "metadata": {},
     "output_type": "execute_result"
    }
   ],
   "source": [
    "nums.insert(2, 'y')\n",
    "nums"
   ]
  },
  {
   "cell_type": "code",
   "execution_count": 17,
   "metadata": {},
   "outputs": [
    {
     "data": {
      "text/plain": [
       "[3, 3, 3, 3, 3, 3, 3, 3, 3, 3, 3, 3, 3, 3, 3, 3, 3, 'y', 3, 3]"
      ]
     },
     "execution_count": 17,
     "metadata": {},
     "output_type": "execute_result"
    }
   ],
   "source": [
    "nums.reverse()\n",
    "nums"
   ]
  },
  {
   "cell_type": "code",
   "execution_count": 18,
   "metadata": {},
   "outputs": [
    {
     "data": {
      "text/plain": [
       "[3, 3, 2, 3, 3, 3, 3, 3, 3, 3, 3, 3, 3, 3, 3, 3, 3, 3, 3, 3]"
      ]
     },
     "execution_count": 18,
     "metadata": {},
     "output_type": "execute_result"
    }
   ],
   "source": [
    "nums.remove('y')\n",
    "nums.insert(2, 2)\n",
    "nums"
   ]
  },
  {
   "cell_type": "code",
   "execution_count": null,
   "metadata": {},
   "outputs": [],
   "source": []
  },
  {
   "cell_type": "code",
   "execution_count": 19,
   "metadata": {
    "scrolled": true
   },
   "outputs": [
    {
     "data": {
      "text/plain": [
       "[2, 3, 3, 3, 3, 3, 3, 3, 3, 3, 3, 3, 3, 3, 3, 3, 3, 3, 3, 3]"
      ]
     },
     "execution_count": 19,
     "metadata": {},
     "output_type": "execute_result"
    }
   ],
   "source": [
    "sorted(nums)"
   ]
  },
  {
   "cell_type": "code",
   "execution_count": 20,
   "metadata": {},
   "outputs": [
    {
     "data": {
      "text/plain": [
       "[3, 3, 2, 3, 3, 3, 3, 3, 3, 3, 3, 3, 3, 3, 3, 3, 3, 3, 3, 3]"
      ]
     },
     "execution_count": 20,
     "metadata": {},
     "output_type": "execute_result"
    }
   ],
   "source": [
    "nums # sorted 명령은 원래 값과 순서를 변경시키지 않음"
   ]
  },
  {
   "cell_type": "code",
   "execution_count": 21,
   "metadata": {},
   "outputs": [
    {
     "data": {
      "text/plain": [
       "[2, 3, 3, 3, 3, 3, 3, 3, 3, 3, 3, 3, 3, 3, 3, 3, 3, 3, 3, 3]"
      ]
     },
     "execution_count": 21,
     "metadata": {},
     "output_type": "execute_result"
    }
   ],
   "source": [
    "nums.sort() # sort() 명령은 순서를 변경시킴\n",
    "nums"
   ]
  },
  {
   "cell_type": "code",
   "execution_count": 22,
   "metadata": {},
   "outputs": [
    {
     "data": {
      "text/plain": [
       "[2, 3, 3]"
      ]
     },
     "execution_count": 22,
     "metadata": {},
     "output_type": "execute_result"
    }
   ],
   "source": [
    "nums1 = nums[:3]\n",
    "nums1"
   ]
  },
  {
   "cell_type": "code",
   "execution_count": 23,
   "metadata": {},
   "outputs": [
    {
     "data": {
      "text/plain": [
       "([2, 3, 3, 2, 3, 3, 2, 3, 3], [2, 3, 3])"
      ]
     },
     "execution_count": 23,
     "metadata": {},
     "output_type": "execute_result"
    }
   ],
   "source": [
    "# replicate a list\n",
    "\n",
    "nums1 * 3, nums1"
   ]
  },
  {
   "cell_type": "code",
   "execution_count": 24,
   "metadata": {},
   "outputs": [
    {
     "data": {
      "text/plain": [
       "(2, 3)"
      ]
     },
     "execution_count": 24,
     "metadata": {},
     "output_type": "execute_result"
    }
   ],
   "source": [
    "min(nums1), max(nums1)"
   ]
  },
  {
   "cell_type": "code",
   "execution_count": 25,
   "metadata": {},
   "outputs": [
    {
     "data": {
      "text/plain": [
       "False"
      ]
     },
     "execution_count": 25,
     "metadata": {},
     "output_type": "execute_result"
    }
   ],
   "source": [
    "4 in nums1  # 리스트에 어떤 값이 들어있는지 체크한 결과를 돌려줌 (return)"
   ]
  },
  {
   "cell_type": "code",
   "execution_count": 26,
   "metadata": {},
   "outputs": [
    {
     "name": "stdout",
     "output_type": "stream",
     "text": [
      "리스트에 3 값 없음\n",
      "리스트의 내용 [4, '패션']\n"
     ]
    }
   ],
   "source": [
    "# 조건문 사용\n",
    "\n",
    "listA = [4,'패션']\n",
    "\n",
    "if 3 in listA:\n",
    "    print('리스트에 3 값 포함')\n",
    "else:\n",
    "    print('리스트에 3 값 없음')\n",
    "    \n",
    "print('리스트의 내용', listA)    "
   ]
  },
  {
   "cell_type": "code",
   "execution_count": null,
   "metadata": {},
   "outputs": [],
   "source": []
  },
  {
   "cell_type": "markdown",
   "metadata": {},
   "source": [
    "## 쉬어가기 : 파이썬을 배워야할 7가지 이유\n",
    "\n",
    "- Data Science & Machine Learning\n",
    "- Main applications & more.\n",
    "- Extensive Libraries & Framework\n",
    "- Open Source.\n",
    "- Can work with other programming languages.\n",
    "- Improving productivity.\n",
    "- Jobs & Careers.\n",
    "\n",
    "https://pythonbasics.org/7-reasons-to-learn-python/"
   ]
  },
  {
   "cell_type": "code",
   "execution_count": null,
   "metadata": {},
   "outputs": [],
   "source": []
  },
  {
   "cell_type": "markdown",
   "metadata": {},
   "source": [
    "### 데이터프레임: 테이블"
   ]
  },
  {
   "cell_type": "code",
   "execution_count": 27,
   "metadata": {},
   "outputs": [
    {
     "data": {
      "text/html": [
       "<div>\n",
       "<style scoped>\n",
       "    .dataframe tbody tr th:only-of-type {\n",
       "        vertical-align: middle;\n",
       "    }\n",
       "\n",
       "    .dataframe tbody tr th {\n",
       "        vertical-align: top;\n",
       "    }\n",
       "\n",
       "    .dataframe thead th {\n",
       "        text-align: right;\n",
       "    }\n",
       "</style>\n",
       "<table border=\"1\" class=\"dataframe\">\n",
       "  <thead>\n",
       "    <tr style=\"text-align: right;\">\n",
       "      <th></th>\n",
       "      <th>0</th>\n",
       "      <th>1</th>\n",
       "      <th>2</th>\n",
       "      <th>3</th>\n",
       "      <th>4</th>\n",
       "    </tr>\n",
       "  </thead>\n",
       "  <tbody>\n",
       "    <tr>\n",
       "      <th>0</th>\n",
       "      <td>서울</td>\n",
       "      <td>여수</td>\n",
       "      <td>부산</td>\n",
       "      <td>대구</td>\n",
       "      <td>제주</td>\n",
       "    </tr>\n",
       "    <tr>\n",
       "      <th>1</th>\n",
       "      <td>3</td>\n",
       "      <td>1</td>\n",
       "      <td>2</td>\n",
       "      <td>4</td>\n",
       "      <td>1</td>\n",
       "    </tr>\n",
       "  </tbody>\n",
       "</table>\n",
       "</div>"
      ],
      "text/plain": [
       "    0   1   2   3   4\n",
       "0  서울  여수  부산  대구  제주\n",
       "1   3   1   2   4   1"
      ]
     },
     "execution_count": 27,
     "metadata": {},
     "output_type": "execute_result"
    }
   ],
   "source": [
    "# 지역명 값\n",
    "cities = ['서울', '여수', '부산', '대구', '제주']\n",
    "# 도시별 점포수 값\n",
    "cnt_stores = [3,1,2,4,1]\n",
    "\n",
    "# 데이터프레임 테이블 생성\n",
    "dfcitynstores = pd.DataFrame([cities, cnt_stores])\n",
    "dfcitynstores"
   ]
  },
  {
   "cell_type": "code",
   "execution_count": 28,
   "metadata": {},
   "outputs": [
    {
     "data": {
      "text/html": [
       "<div>\n",
       "<style scoped>\n",
       "    .dataframe tbody tr th:only-of-type {\n",
       "        vertical-align: middle;\n",
       "    }\n",
       "\n",
       "    .dataframe tbody tr th {\n",
       "        vertical-align: top;\n",
       "    }\n",
       "\n",
       "    .dataframe thead th {\n",
       "        text-align: right;\n",
       "    }\n",
       "</style>\n",
       "<table border=\"1\" class=\"dataframe\">\n",
       "  <thead>\n",
       "    <tr style=\"text-align: right;\">\n",
       "      <th></th>\n",
       "      <th>0</th>\n",
       "      <th>1</th>\n",
       "    </tr>\n",
       "  </thead>\n",
       "  <tbody>\n",
       "    <tr>\n",
       "      <th>0</th>\n",
       "      <td>서울</td>\n",
       "      <td>3</td>\n",
       "    </tr>\n",
       "    <tr>\n",
       "      <th>1</th>\n",
       "      <td>여수</td>\n",
       "      <td>1</td>\n",
       "    </tr>\n",
       "    <tr>\n",
       "      <th>2</th>\n",
       "      <td>부산</td>\n",
       "      <td>2</td>\n",
       "    </tr>\n",
       "    <tr>\n",
       "      <th>3</th>\n",
       "      <td>대구</td>\n",
       "      <td>4</td>\n",
       "    </tr>\n",
       "    <tr>\n",
       "      <th>4</th>\n",
       "      <td>제주</td>\n",
       "      <td>1</td>\n",
       "    </tr>\n",
       "  </tbody>\n",
       "</table>\n",
       "</div>"
      ],
      "text/plain": [
       "    0  1\n",
       "0  서울  3\n",
       "1  여수  1\n",
       "2  부산  2\n",
       "3  대구  4\n",
       "4  제주  1"
      ]
     },
     "execution_count": 28,
     "metadata": {},
     "output_type": "execute_result"
    }
   ],
   "source": [
    "# 행렬 바꿈\n",
    "\n",
    "dfcitynstores = dfcitynstores.T\n",
    "dfcitynstores"
   ]
  },
  {
   "cell_type": "code",
   "execution_count": 29,
   "metadata": {},
   "outputs": [
    {
     "data": {
      "text/html": [
       "<div>\n",
       "<style scoped>\n",
       "    .dataframe tbody tr th:only-of-type {\n",
       "        vertical-align: middle;\n",
       "    }\n",
       "\n",
       "    .dataframe tbody tr th {\n",
       "        vertical-align: top;\n",
       "    }\n",
       "\n",
       "    .dataframe thead th {\n",
       "        text-align: right;\n",
       "    }\n",
       "</style>\n",
       "<table border=\"1\" class=\"dataframe\">\n",
       "  <thead>\n",
       "    <tr style=\"text-align: right;\">\n",
       "      <th></th>\n",
       "      <th>city</th>\n",
       "      <th>cntStores</th>\n",
       "    </tr>\n",
       "  </thead>\n",
       "  <tbody>\n",
       "    <tr>\n",
       "      <th>0</th>\n",
       "      <td>서울</td>\n",
       "      <td>3</td>\n",
       "    </tr>\n",
       "    <tr>\n",
       "      <th>1</th>\n",
       "      <td>여수</td>\n",
       "      <td>1</td>\n",
       "    </tr>\n",
       "    <tr>\n",
       "      <th>2</th>\n",
       "      <td>부산</td>\n",
       "      <td>2</td>\n",
       "    </tr>\n",
       "    <tr>\n",
       "      <th>3</th>\n",
       "      <td>대구</td>\n",
       "      <td>4</td>\n",
       "    </tr>\n",
       "    <tr>\n",
       "      <th>4</th>\n",
       "      <td>제주</td>\n",
       "      <td>1</td>\n",
       "    </tr>\n",
       "  </tbody>\n",
       "</table>\n",
       "</div>"
      ],
      "text/plain": [
       "  city cntStores\n",
       "0   서울         3\n",
       "1   여수         1\n",
       "2   부산         2\n",
       "3   대구         4\n",
       "4   제주         1"
      ]
     },
     "execution_count": 29,
     "metadata": {},
     "output_type": "execute_result"
    }
   ],
   "source": [
    "# 컬럼명 변경\n",
    "\n",
    "dfcitynstores.columns = ['city', 'cntStores']\n",
    "dfcitynstores"
   ]
  },
  {
   "cell_type": "code",
   "execution_count": 30,
   "metadata": {},
   "outputs": [
    {
     "data": {
      "text/plain": [
       "(5, 2)"
      ]
     },
     "execution_count": 30,
     "metadata": {},
     "output_type": "execute_result"
    }
   ],
   "source": [
    "dfcitynstores.shape # rc 순서 r and then c 행렬"
   ]
  },
  {
   "cell_type": "code",
   "execution_count": 31,
   "metadata": {},
   "outputs": [
    {
     "name": "stdout",
     "output_type": "stream",
     "text": [
      "<class 'pandas.core.frame.DataFrame'>\n",
      "RangeIndex: 5 entries, 0 to 4\n",
      "Data columns (total 2 columns):\n",
      " #   Column     Non-Null Count  Dtype \n",
      "---  ------     --------------  ----- \n",
      " 0   city       5 non-null      object\n",
      " 1   cntStores  5 non-null      object\n",
      "dtypes: object(2)\n",
      "memory usage: 208.0+ bytes\n"
     ]
    }
   ],
   "source": [
    "dfcitynstores.info()"
   ]
  },
  {
   "cell_type": "code",
   "execution_count": 32,
   "metadata": {},
   "outputs": [
    {
     "data": {
      "text/html": [
       "<div>\n",
       "<style scoped>\n",
       "    .dataframe tbody tr th:only-of-type {\n",
       "        vertical-align: middle;\n",
       "    }\n",
       "\n",
       "    .dataframe tbody tr th {\n",
       "        vertical-align: top;\n",
       "    }\n",
       "\n",
       "    .dataframe thead th {\n",
       "        text-align: right;\n",
       "    }\n",
       "</style>\n",
       "<table border=\"1\" class=\"dataframe\">\n",
       "  <thead>\n",
       "    <tr style=\"text-align: right;\">\n",
       "      <th></th>\n",
       "    </tr>\n",
       "  </thead>\n",
       "  <tbody>\n",
       "  </tbody>\n",
       "</table>\n",
       "</div>"
      ],
      "text/plain": [
       "Empty DataFrame\n",
       "Columns: []\n",
       "Index: []"
      ]
     },
     "metadata": {},
     "output_type": "display_data"
    },
    {
     "data": {
      "text/html": [
       "<div>\n",
       "<style scoped>\n",
       "    .dataframe tbody tr th:only-of-type {\n",
       "        vertical-align: middle;\n",
       "    }\n",
       "\n",
       "    .dataframe tbody tr th {\n",
       "        vertical-align: top;\n",
       "    }\n",
       "\n",
       "    .dataframe thead th {\n",
       "        text-align: right;\n",
       "    }\n",
       "</style>\n",
       "<table border=\"1\" class=\"dataframe\">\n",
       "  <thead>\n",
       "    <tr style=\"text-align: right;\">\n",
       "      <th></th>\n",
       "      <th>city</th>\n",
       "      <th>cntStores</th>\n",
       "    </tr>\n",
       "  </thead>\n",
       "  <tbody>\n",
       "    <tr>\n",
       "      <th>0</th>\n",
       "      <td>서울</td>\n",
       "      <td>3</td>\n",
       "    </tr>\n",
       "    <tr>\n",
       "      <th>1</th>\n",
       "      <td>여수</td>\n",
       "      <td>1</td>\n",
       "    </tr>\n",
       "    <tr>\n",
       "      <th>2</th>\n",
       "      <td>부산</td>\n",
       "      <td>2</td>\n",
       "    </tr>\n",
       "    <tr>\n",
       "      <th>3</th>\n",
       "      <td>대구</td>\n",
       "      <td>4</td>\n",
       "    </tr>\n",
       "    <tr>\n",
       "      <th>4</th>\n",
       "      <td>제주</td>\n",
       "      <td>1</td>\n",
       "    </tr>\n",
       "  </tbody>\n",
       "</table>\n",
       "</div>"
      ],
      "text/plain": [
       "  city  cntStores\n",
       "0   서울          3\n",
       "1   여수          1\n",
       "2   부산          2\n",
       "3   대구          4\n",
       "4   제주          1"
      ]
     },
     "execution_count": 32,
     "metadata": {},
     "output_type": "execute_result"
    }
   ],
   "source": [
    "# 데이터프레임 테이블 생성\n",
    "\n",
    "dfcitynstores = pd.DataFrame() # 빈 데이터 프레임 생성\n",
    "display(dfcitynstores)\n",
    "\n",
    "dfcitynstores['city'] = cities  # 도시 리스트를 컬럼으로 추가\n",
    "dfcitynstores['cntStores'] = cnt_stores\n",
    "\n",
    "dfcitynstores"
   ]
  },
  {
   "cell_type": "code",
   "execution_count": 33,
   "metadata": {},
   "outputs": [
    {
     "data": {
      "text/html": [
       "<div>\n",
       "<style scoped>\n",
       "    .dataframe tbody tr th:only-of-type {\n",
       "        vertical-align: middle;\n",
       "    }\n",
       "\n",
       "    .dataframe tbody tr th {\n",
       "        vertical-align: top;\n",
       "    }\n",
       "\n",
       "    .dataframe thead th {\n",
       "        text-align: right;\n",
       "    }\n",
       "</style>\n",
       "<table border=\"1\" class=\"dataframe\">\n",
       "  <thead>\n",
       "    <tr style=\"text-align: right;\">\n",
       "      <th></th>\n",
       "      <th>city</th>\n",
       "      <th>cntStores</th>\n",
       "    </tr>\n",
       "  </thead>\n",
       "  <tbody>\n",
       "    <tr>\n",
       "      <th>4</th>\n",
       "      <td>제주</td>\n",
       "      <td>1</td>\n",
       "    </tr>\n",
       "  </tbody>\n",
       "</table>\n",
       "</div>"
      ],
      "text/plain": [
       "  city  cntStores\n",
       "4   제주          1"
      ]
     },
     "execution_count": 33,
     "metadata": {},
     "output_type": "execute_result"
    }
   ],
   "source": [
    "dfcitynstores[dfcitynstores.city=='제주']"
   ]
  },
  {
   "cell_type": "code",
   "execution_count": 34,
   "metadata": {},
   "outputs": [
    {
     "data": {
      "text/html": [
       "<div>\n",
       "<style scoped>\n",
       "    .dataframe tbody tr th:only-of-type {\n",
       "        vertical-align: middle;\n",
       "    }\n",
       "\n",
       "    .dataframe tbody tr th {\n",
       "        vertical-align: top;\n",
       "    }\n",
       "\n",
       "    .dataframe thead th {\n",
       "        text-align: right;\n",
       "    }\n",
       "</style>\n",
       "<table border=\"1\" class=\"dataframe\">\n",
       "  <thead>\n",
       "    <tr style=\"text-align: right;\">\n",
       "      <th></th>\n",
       "      <th>city</th>\n",
       "      <th>cntStores</th>\n",
       "    </tr>\n",
       "  </thead>\n",
       "  <tbody>\n",
       "    <tr>\n",
       "      <th>0</th>\n",
       "      <td>서울</td>\n",
       "      <td>3</td>\n",
       "    </tr>\n",
       "    <tr>\n",
       "      <th>1</th>\n",
       "      <td>여수</td>\n",
       "      <td>1</td>\n",
       "    </tr>\n",
       "    <tr>\n",
       "      <th>2</th>\n",
       "      <td>부산</td>\n",
       "      <td>2</td>\n",
       "    </tr>\n",
       "    <tr>\n",
       "      <th>3</th>\n",
       "      <td>대구</td>\n",
       "      <td>4</td>\n",
       "    </tr>\n",
       "  </tbody>\n",
       "</table>\n",
       "</div>"
      ],
      "text/plain": [
       "  city  cntStores\n",
       "0   서울          3\n",
       "1   여수          1\n",
       "2   부산          2\n",
       "3   대구          4"
      ]
     },
     "execution_count": 34,
     "metadata": {},
     "output_type": "execute_result"
    }
   ],
   "source": [
    "dfcitynstores[dfcitynstores.city!='제주'] # 제주 이외의 도시들에 대한 레코드 (행) 들만 출력"
   ]
  },
  {
   "cell_type": "code",
   "execution_count": 35,
   "metadata": {},
   "outputs": [
    {
     "data": {
      "text/plain": [
       "<BarContainer object of 5 artists>"
      ]
     },
     "execution_count": 35,
     "metadata": {},
     "output_type": "execute_result"
    },
    {
     "data": {
      "image/png": "[encoded data removed]",
      "text/plain": [
       "<Figure size 432x288 with 1 Axes>"
      ]
     },
     "metadata": {
      "needs_background": "light"
     },
     "output_type": "display_data"
    }
   ],
   "source": [
    "# 데이터프레임의 데이터를 시각화 - 막대챠트\n",
    "\n",
    "plt.bar(dfcitynstores.city, dfcitynstores.cntStores)"
   ]
  },
  {
   "cell_type": "code",
   "execution_count": 36,
   "metadata": {},
   "outputs": [],
   "source": [
    "# 데이터프레임에 새로운 컬럼 추가 연습\n",
    "\n",
    "# 회원수 리스트 데이터\n",
    "cntMbr = [100,200,100,200,100]\n",
    "\n"
   ]
  },
  {
   "cell_type": "code",
   "execution_count": 37,
   "metadata": {},
   "outputs": [
    {
     "data": {
      "text/html": [
       "<div>\n",
       "<style scoped>\n",
       "    .dataframe tbody tr th:only-of-type {\n",
       "        vertical-align: middle;\n",
       "    }\n",
       "\n",
       "    .dataframe tbody tr th {\n",
       "        vertical-align: top;\n",
       "    }\n",
       "\n",
       "    .dataframe thead th {\n",
       "        text-align: right;\n",
       "    }\n",
       "</style>\n",
       "<table border=\"1\" class=\"dataframe\">\n",
       "  <thead>\n",
       "    <tr style=\"text-align: right;\">\n",
       "      <th></th>\n",
       "      <th>0</th>\n",
       "      <th>1</th>\n",
       "      <th>2</th>\n",
       "    </tr>\n",
       "  </thead>\n",
       "  <tbody>\n",
       "    <tr>\n",
       "      <th>0</th>\n",
       "      <td>4</td>\n",
       "      <td>2</td>\n",
       "      <td>3</td>\n",
       "    </tr>\n",
       "    <tr>\n",
       "      <th>1</th>\n",
       "      <td>4</td>\n",
       "      <td>2</td>\n",
       "      <td>3</td>\n",
       "    </tr>\n",
       "    <tr>\n",
       "      <th>2</th>\n",
       "      <td>4</td>\n",
       "      <td>2</td>\n",
       "      <td>3</td>\n",
       "    </tr>\n",
       "    <tr>\n",
       "      <th>3</th>\n",
       "      <td>4</td>\n",
       "      <td>2</td>\n",
       "      <td>3</td>\n",
       "    </tr>\n",
       "  </tbody>\n",
       "</table>\n",
       "</div>"
      ],
      "text/plain": [
       "   0  1  2\n",
       "0  4  2  3\n",
       "1  4  2  3\n",
       "2  4  2  3\n",
       "3  4  2  3"
      ]
     },
     "execution_count": 37,
     "metadata": {},
     "output_type": "execute_result"
    }
   ],
   "source": [
    "# 중첩된 다차원 리스트를 바로 데이터프레임으로 변경도 유용\n",
    "\n",
    "# 리스트\n",
    "vecA = [4,2,3]\n",
    "# 리스트의 리스트\n",
    "vecList = [vecA,vecA,vecA,vecA]\n",
    "\n",
    "# 리스트의 리스트를 데이터프레임 테이블로\n",
    "pd.DataFrame(vecList)"
   ]
  },
  {
   "cell_type": "code",
   "execution_count": null,
   "metadata": {},
   "outputs": [],
   "source": []
  },
  {
   "cell_type": "markdown",
   "metadata": {},
   "source": [
    "## 데이터 불러오기 - 판매데이터"
   ]
  },
  {
   "cell_type": "code",
   "execution_count": 38,
   "metadata": {},
   "outputs": [],
   "source": [
    "# 판매내역 테이블 불러오기\n",
    "sales = pd.read_csv(dataPath + 'brk_salesmast01.csv', encoding='euc-kr')\n",
    "sales = sales.drop(sales.columns[0], axis=1)\n",
    "\n",
    "# 상품 테이블 불러오기\n",
    "itemmast = pd.read_csv(dataPath + 'brk_itemmast01.csv', encoding='euc-kr')\n",
    "itemmast = itemmast.drop(itemmast.columns[0], axis=1)\n",
    "\n",
    "# 고객 테이블 불러오기\n",
    "custmast = pd.read_csv(dataPath + 'brk_custmast01.csv', encoding='euc-kr')\n",
    "custmast = custmast.drop(custmast.columns[0], axis=1)\n",
    "\n"
   ]
  },
  {
   "attachments": {
    "image.png": {
     "image/png": "[encoded data removed]"
    }
   },
   "cell_type": "markdown",
   "metadata": {},
   "source": [
    "![image.png](attachment:image.png)"
   ]
  },
  {
   "attachments": {
    "image.png": {
     "image/png": "[encoded data removed]"
    }
   },
   "cell_type": "markdown",
   "metadata": {},
   "source": [
    "![image.png](attachment:image.png)"
   ]
  },
  {
   "cell_type": "code",
   "execution_count": 39,
   "metadata": {},
   "outputs": [
    {
     "name": "stdout",
     "output_type": "stream",
     "text": [
      "(958, 11)\n"
     ]
    },
    {
     "data": {
      "text/html": [
       "<div>\n",
       "<style scoped>\n",
       "    .dataframe tbody tr th:only-of-type {\n",
       "        vertical-align: middle;\n",
       "    }\n",
       "\n",
       "    .dataframe tbody tr th {\n",
       "        vertical-align: top;\n",
       "    }\n",
       "\n",
       "    .dataframe thead th {\n",
       "        text-align: right;\n",
       "    }\n",
       "</style>\n",
       "<table border=\"1\" class=\"dataframe\">\n",
       "  <thead>\n",
       "    <tr style=\"text-align: right;\">\n",
       "      <th></th>\n",
       "      <th>item_id</th>\n",
       "      <th>brand_nm</th>\n",
       "      <th>unit_prc</th>\n",
       "      <th>itemyr</th>\n",
       "      <th>season</th>\n",
       "      <th>scat</th>\n",
       "      <th>ranseq</th>\n",
       "      <th>lcat</th>\n",
       "      <th>size</th>\n",
       "      <th>color</th>\n",
       "      <th>item_id_detcode</th>\n",
       "    </tr>\n",
       "  </thead>\n",
       "  <tbody>\n",
       "    <tr>\n",
       "      <th>737</th>\n",
       "      <td>ES2004406</td>\n",
       "      <td>Esteeme</td>\n",
       "      <td>100000</td>\n",
       "      <td>2020</td>\n",
       "      <td>FW</td>\n",
       "      <td>치마</td>\n",
       "      <td>69</td>\n",
       "      <td>여성캐주얼</td>\n",
       "      <td>88</td>\n",
       "      <td>black</td>\n",
       "      <td>106</td>\n",
       "    </tr>\n",
       "    <tr>\n",
       "      <th>952</th>\n",
       "      <td>SH1009001</td>\n",
       "      <td>Shoote</td>\n",
       "      <td>60000</td>\n",
       "      <td>2020</td>\n",
       "      <td>FW</td>\n",
       "      <td>치마</td>\n",
       "      <td>9</td>\n",
       "      <td>여성캐주얼</td>\n",
       "      <td>66</td>\n",
       "      <td>grey</td>\n",
       "      <td>101</td>\n",
       "    </tr>\n",
       "    <tr>\n",
       "      <th>319</th>\n",
       "      <td>ES2002301</td>\n",
       "      <td>Esteeme</td>\n",
       "      <td>100000</td>\n",
       "      <td>2019</td>\n",
       "      <td>SS</td>\n",
       "      <td>바지</td>\n",
       "      <td>84</td>\n",
       "      <td>여성캐주얼</td>\n",
       "      <td>66</td>\n",
       "      <td>grey</td>\n",
       "      <td>101</td>\n",
       "    </tr>\n",
       "    <tr>\n",
       "      <th>195</th>\n",
       "      <td>SH1001709</td>\n",
       "      <td>Shoote</td>\n",
       "      <td>70000</td>\n",
       "      <td>2018</td>\n",
       "      <td>SS</td>\n",
       "      <td>바지</td>\n",
       "      <td>50</td>\n",
       "      <td>여성캐주얼</td>\n",
       "      <td>88</td>\n",
       "      <td>navy</td>\n",
       "      <td>109</td>\n",
       "    </tr>\n",
       "    <tr>\n",
       "      <th>810</th>\n",
       "      <td>SH1006901</td>\n",
       "      <td>Shoote</td>\n",
       "      <td>70000</td>\n",
       "      <td>2020</td>\n",
       "      <td>SS</td>\n",
       "      <td>바지</td>\n",
       "      <td>38</td>\n",
       "      <td>여성캐주얼</td>\n",
       "      <td>66</td>\n",
       "      <td>grey</td>\n",
       "      <td>101</td>\n",
       "    </tr>\n",
       "  </tbody>\n",
       "</table>\n",
       "</div>"
      ],
      "text/plain": [
       "       item_id brand_nm  unit_prc  itemyr season scat  ranseq   lcat  size  \\\n",
       "737  ES2004406  Esteeme    100000    2020     FW   치마      69  여성캐주얼    88   \n",
       "952  SH1009001   Shoote     60000    2020     FW   치마       9  여성캐주얼    66   \n",
       "319  ES2002301  Esteeme    100000    2019     SS   바지      84  여성캐주얼    66   \n",
       "195  SH1001709   Shoote     70000    2018     SS   바지      50  여성캐주얼    88   \n",
       "810  SH1006901   Shoote     70000    2020     SS   바지      38  여성캐주얼    66   \n",
       "\n",
       "     color  item_id_detcode  \n",
       "737  black              106  \n",
       "952   grey              101  \n",
       "319   grey              101  \n",
       "195   navy              109  \n",
       "810   grey              101  "
      ]
     },
     "execution_count": 39,
     "metadata": {},
     "output_type": "execute_result"
    }
   ],
   "source": [
    "# 상품 테이블 보기\n",
    "\n",
    "print(itemmast.shape) # (행, 열) 의 순서\n",
    "\n",
    "itemmast.sample(5) # 무작위로 테이블(dataframe)의 5개 행만 뽑아서 (화면 출력)"
   ]
  },
  {
   "cell_type": "code",
   "execution_count": 40,
   "metadata": {},
   "outputs": [
    {
     "name": "stdout",
     "output_type": "stream",
     "text": [
      "(41936, 19)\n"
     ]
    },
    {
     "data": {
      "text/html": [
       "<div>\n",
       "<style scoped>\n",
       "    .dataframe tbody tr th:only-of-type {\n",
       "        vertical-align: middle;\n",
       "    }\n",
       "\n",
       "    .dataframe tbody tr th {\n",
       "        vertical-align: top;\n",
       "    }\n",
       "\n",
       "    .dataframe thead th {\n",
       "        text-align: right;\n",
       "    }\n",
       "</style>\n",
       "<table border=\"1\" class=\"dataframe\">\n",
       "  <thead>\n",
       "    <tr style=\"text-align: right;\">\n",
       "      <th></th>\n",
       "      <th>ord_id</th>\n",
       "      <th>ord_dtid</th>\n",
       "      <th>store</th>\n",
       "      <th>item_id</th>\n",
       "      <th>qty</th>\n",
       "      <th>brand_nm</th>\n",
       "      <th>unit_prc</th>\n",
       "      <th>itemyr</th>\n",
       "      <th>season</th>\n",
       "      <th>scat</th>\n",
       "      <th>ranseq</th>\n",
       "      <th>lcat</th>\n",
       "      <th>size</th>\n",
       "      <th>color</th>\n",
       "      <th>item_id_detcode</th>\n",
       "      <th>amt</th>\n",
       "      <th>cust_id</th>\n",
       "      <th>datea</th>\n",
       "      <th>date</th>\n",
       "    </tr>\n",
       "  </thead>\n",
       "  <tbody>\n",
       "    <tr>\n",
       "      <th>13634</th>\n",
       "      <td>300161022</td>\n",
       "      <td>1</td>\n",
       "      <td>Multi bupyong</td>\n",
       "      <td>SH1003303</td>\n",
       "      <td>1</td>\n",
       "      <td>Shoote</td>\n",
       "      <td>70000</td>\n",
       "      <td>2019</td>\n",
       "      <td>AS</td>\n",
       "      <td>셔츠</td>\n",
       "      <td>13</td>\n",
       "      <td>남성캐주얼</td>\n",
       "      <td>95</td>\n",
       "      <td>check</td>\n",
       "      <td>103</td>\n",
       "      <td>70000</td>\n",
       "      <td>NaN</td>\n",
       "      <td>2019-07-15</td>\n",
       "      <td>2019-07-15 15:35:36.054647</td>\n",
       "    </tr>\n",
       "    <tr>\n",
       "      <th>24254</th>\n",
       "      <td>300298395</td>\n",
       "      <td>1</td>\n",
       "      <td>ONL</td>\n",
       "      <td>SH1002005</td>\n",
       "      <td>2</td>\n",
       "      <td>Shoote</td>\n",
       "      <td>70000</td>\n",
       "      <td>2018</td>\n",
       "      <td>SS</td>\n",
       "      <td>셔츠</td>\n",
       "      <td>19</td>\n",
       "      <td>남성캐주얼</td>\n",
       "      <td>105</td>\n",
       "      <td>blue</td>\n",
       "      <td>105</td>\n",
       "      <td>140000</td>\n",
       "      <td>B100040399</td>\n",
       "      <td>2019-09-30</td>\n",
       "      <td>2019-09-30 16:42:24.212559</td>\n",
       "    </tr>\n",
       "    <tr>\n",
       "      <th>37180</th>\n",
       "      <td>300503274</td>\n",
       "      <td>1</td>\n",
       "      <td>Shoote gasan</td>\n",
       "      <td>SH1003304</td>\n",
       "      <td>2</td>\n",
       "      <td>Shoote</td>\n",
       "      <td>70000</td>\n",
       "      <td>2019</td>\n",
       "      <td>AS</td>\n",
       "      <td>셔츠</td>\n",
       "      <td>13</td>\n",
       "      <td>남성캐주얼</td>\n",
       "      <td>105</td>\n",
       "      <td>white</td>\n",
       "      <td>104</td>\n",
       "      <td>140000</td>\n",
       "      <td>B100092683</td>\n",
       "      <td>2020-06-06</td>\n",
       "      <td>2020-06-06 15:57:39.430893</td>\n",
       "    </tr>\n",
       "    <tr>\n",
       "      <th>20381</th>\n",
       "      <td>300244842</td>\n",
       "      <td>1</td>\n",
       "      <td>Shoote gasan</td>\n",
       "      <td>SH1004001</td>\n",
       "      <td>1</td>\n",
       "      <td>Shoote</td>\n",
       "      <td>145000</td>\n",
       "      <td>2019</td>\n",
       "      <td>SS</td>\n",
       "      <td>바지</td>\n",
       "      <td>104</td>\n",
       "      <td>여성캐주얼</td>\n",
       "      <td>66</td>\n",
       "      <td>grey</td>\n",
       "      <td>101</td>\n",
       "      <td>145000</td>\n",
       "      <td>NaN</td>\n",
       "      <td>2019-10-25</td>\n",
       "      <td>2019-10-25 18:42:56.631432</td>\n",
       "    </tr>\n",
       "    <tr>\n",
       "      <th>16676</th>\n",
       "      <td>300199044</td>\n",
       "      <td>1</td>\n",
       "      <td>Shoote city</td>\n",
       "      <td>SH1006705</td>\n",
       "      <td>1</td>\n",
       "      <td>Shoote</td>\n",
       "      <td>130000</td>\n",
       "      <td>2020</td>\n",
       "      <td>SS</td>\n",
       "      <td>바지</td>\n",
       "      <td>96</td>\n",
       "      <td>여성캐주얼</td>\n",
       "      <td>77</td>\n",
       "      <td>black</td>\n",
       "      <td>105</td>\n",
       "      <td>130000</td>\n",
       "      <td>B100038924</td>\n",
       "      <td>2020-05-23</td>\n",
       "      <td>2020-05-23 17:41:06.468981</td>\n",
       "    </tr>\n",
       "  </tbody>\n",
       "</table>\n",
       "</div>"
      ],
      "text/plain": [
       "          ord_id  ord_dtid          store    item_id  qty brand_nm  unit_prc  \\\n",
       "13634  300161022         1  Multi bupyong  SH1003303    1   Shoote     70000   \n",
       "24254  300298395         1            ONL  SH1002005    2   Shoote     70000   \n",
       "37180  300503274         1   Shoote gasan  SH1003304    2   Shoote     70000   \n",
       "20381  300244842         1   Shoote gasan  SH1004001    1   Shoote    145000   \n",
       "16676  300199044         1    Shoote city  SH1006705    1   Shoote    130000   \n",
       "\n",
       "       itemyr season scat  ranseq   lcat  size  color  item_id_detcode  \\\n",
       "13634    2019     AS   셔츠      13  남성캐주얼    95  check              103   \n",
       "24254    2018     SS   셔츠      19  남성캐주얼   105   blue              105   \n",
       "37180    2019     AS   셔츠      13  남성캐주얼   105  white              104   \n",
       "20381    2019     SS   바지     104  여성캐주얼    66   grey              101   \n",
       "16676    2020     SS   바지      96  여성캐주얼    77  black              105   \n",
       "\n",
       "          amt     cust_id       datea                        date  \n",
       "13634   70000         NaN  2019-07-15  2019-07-15 15:35:36.054647  \n",
       "24254  140000  B100040399  2019-09-30  2019-09-30 16:42:24.212559  \n",
       "37180  140000  B100092683  2020-06-06  2020-06-06 15:57:39.430893  \n",
       "20381  145000         NaN  2019-10-25  2019-10-25 18:42:56.631432  \n",
       "16676  130000  B100038924  2020-05-23  2020-05-23 17:41:06.468981  "
      ]
     },
     "execution_count": 40,
     "metadata": {},
     "output_type": "execute_result"
    }
   ],
   "source": [
    "# 판매 테이블 보기\n",
    "\n",
    "print(sales.shape)\n",
    "sales.sample(5)"
   ]
  },
  {
   "cell_type": "code",
   "execution_count": 41,
   "metadata": {
    "scrolled": false
   },
   "outputs": [
    {
     "name": "stdout",
     "output_type": "stream",
     "text": [
      "<class 'pandas.core.frame.DataFrame'>\n",
      "RangeIndex: 41936 entries, 0 to 41935\n",
      "Data columns (total 19 columns):\n",
      " #   Column           Non-Null Count  Dtype \n",
      "---  ------           --------------  ----- \n",
      " 0   ord_id           41936 non-null  int64 \n",
      " 1   ord_dtid         41936 non-null  int64 \n",
      " 2   store            41936 non-null  object\n",
      " 3   item_id          41936 non-null  object\n",
      " 4   qty              41936 non-null  int64 \n",
      " 5   brand_nm         41936 non-null  object\n",
      " 6   unit_prc         41936 non-null  int64 \n",
      " 7   itemyr           41936 non-null  int64 \n",
      " 8   season           41936 non-null  object\n",
      " 9   scat             41936 non-null  object\n",
      " 10  ranseq           41936 non-null  int64 \n",
      " 11  lcat             41936 non-null  object\n",
      " 12  size             41936 non-null  int64 \n",
      " 13  color            41936 non-null  object\n",
      " 14  item_id_detcode  41936 non-null  int64 \n",
      " 15  amt              41936 non-null  int64 \n",
      " 16  cust_id          28586 non-null  object\n",
      " 17  datea            41936 non-null  object\n",
      " 18  date             41936 non-null  object\n",
      "dtypes: int64(9), object(10)\n",
      "memory usage: 6.1+ MB\n"
     ]
    }
   ],
   "source": [
    "# 판매 테이블 컬럼명 확인\n",
    "\n",
    "sales.info()"
   ]
  },
  {
   "cell_type": "code",
   "execution_count": 42,
   "metadata": {},
   "outputs": [
    {
     "data": {
      "text/plain": [
       "Index(['ord_id', 'ord_dtid', 'store', 'item_id', 'qty', 'brand_nm', 'unit_prc',\n",
       "       'itemyr', 'season', 'scat', 'ranseq', 'lcat', 'size', 'color',\n",
       "       'item_id_detcode', 'amt', 'cust_id', 'datea', 'date'],\n",
       "      dtype='object')"
      ]
     },
     "execution_count": 42,
     "metadata": {},
     "output_type": "execute_result"
    }
   ],
   "source": [
    "#  컬럼명만 보기\n",
    "\n",
    "sales.columns\n",
    "\n",
    "# np.array(sales.columns)"
   ]
  },
  {
   "cell_type": "code",
   "execution_count": 43,
   "metadata": {},
   "outputs": [
    {
     "name": "stdout",
     "output_type": "stream",
     "text": [
      "(26000, 9)\n"
     ]
    },
    {
     "data": {
      "text/html": [
       "<div>\n",
       "<style scoped>\n",
       "    .dataframe tbody tr th:only-of-type {\n",
       "        vertical-align: middle;\n",
       "    }\n",
       "\n",
       "    .dataframe tbody tr th {\n",
       "        vertical-align: top;\n",
       "    }\n",
       "\n",
       "    .dataframe thead th {\n",
       "        text-align: right;\n",
       "    }\n",
       "</style>\n",
       "<table border=\"1\" class=\"dataframe\">\n",
       "  <thead>\n",
       "    <tr style=\"text-align: right;\">\n",
       "      <th></th>\n",
       "      <th>cust_id</th>\n",
       "      <th>sex</th>\n",
       "      <th>area</th>\n",
       "      <th>birthyr</th>\n",
       "      <th>hh_income</th>\n",
       "      <th>age</th>\n",
       "      <th>marital</th>\n",
       "      <th>ranseq</th>\n",
       "      <th>signup_date</th>\n",
       "    </tr>\n",
       "  </thead>\n",
       "  <tbody>\n",
       "    <tr>\n",
       "      <th>19208</th>\n",
       "      <td>B100019683</td>\n",
       "      <td>F</td>\n",
       "      <td>gangwon</td>\n",
       "      <td>1992</td>\n",
       "      <td>18000</td>\n",
       "      <td>29</td>\n",
       "      <td>미혼</td>\n",
       "      <td>19208</td>\n",
       "      <td>2017-04-12 11:11:27.243860</td>\n",
       "    </tr>\n",
       "    <tr>\n",
       "      <th>25722</th>\n",
       "      <td>B100007508</td>\n",
       "      <td>M</td>\n",
       "      <td>gyunggi</td>\n",
       "      <td>1990</td>\n",
       "      <td>20000</td>\n",
       "      <td>31</td>\n",
       "      <td>미혼</td>\n",
       "      <td>25722</td>\n",
       "      <td>2018-03-06 11:11:27.243860</td>\n",
       "    </tr>\n",
       "    <tr>\n",
       "      <th>18389</th>\n",
       "      <td>B100005328</td>\n",
       "      <td>F</td>\n",
       "      <td>gyunggi</td>\n",
       "      <td>1975</td>\n",
       "      <td>48000</td>\n",
       "      <td>46</td>\n",
       "      <td>기혼</td>\n",
       "      <td>18389</td>\n",
       "      <td>2019-02-12 11:11:27.243860</td>\n",
       "    </tr>\n",
       "    <tr>\n",
       "      <th>2037</th>\n",
       "      <td>B100061637</td>\n",
       "      <td>M</td>\n",
       "      <td>gyunggi</td>\n",
       "      <td>1991</td>\n",
       "      <td>70000</td>\n",
       "      <td>30</td>\n",
       "      <td>미혼</td>\n",
       "      <td>2037</td>\n",
       "      <td>2020-05-25 11:11:27.243860</td>\n",
       "    </tr>\n",
       "    <tr>\n",
       "      <th>3648</th>\n",
       "      <td>B100043227</td>\n",
       "      <td>M</td>\n",
       "      <td>gangwon</td>\n",
       "      <td>1991</td>\n",
       "      <td>60000</td>\n",
       "      <td>30</td>\n",
       "      <td>미혼</td>\n",
       "      <td>3648</td>\n",
       "      <td>2016-05-02 11:11:27.243860</td>\n",
       "    </tr>\n",
       "  </tbody>\n",
       "</table>\n",
       "</div>"
      ],
      "text/plain": [
       "          cust_id sex     area  birthyr  hh_income  age marital  ranseq  \\\n",
       "19208  B100019683   F  gangwon     1992      18000   29      미혼   19208   \n",
       "25722  B100007508   M  gyunggi     1990      20000   31      미혼   25722   \n",
       "18389  B100005328   F  gyunggi     1975      48000   46      기혼   18389   \n",
       "2037   B100061637   M  gyunggi     1991      70000   30      미혼    2037   \n",
       "3648   B100043227   M  gangwon     1991      60000   30      미혼    3648   \n",
       "\n",
       "                      signup_date  \n",
       "19208  2017-04-12 11:11:27.243860  \n",
       "25722  2018-03-06 11:11:27.243860  \n",
       "18389  2019-02-12 11:11:27.243860  \n",
       "2037   2020-05-25 11:11:27.243860  \n",
       "3648   2016-05-02 11:11:27.243860  "
      ]
     },
     "execution_count": 43,
     "metadata": {},
     "output_type": "execute_result"
    }
   ],
   "source": [
    "# 고객 테이블 데이터 확인\n",
    "\n",
    "print(custmast.shape) # 행과 열의 순서 --> 행렬 (RC == row and column)\n",
    "custmast.sample(5)"
   ]
  },
  {
   "cell_type": "code",
   "execution_count": 44,
   "metadata": {},
   "outputs": [
    {
     "name": "stdout",
     "output_type": "stream",
     "text": [
      "(26000, 9)\n",
      "(15565, 9)\n",
      "(958, 11)\n",
      "(958, 11)\n"
     ]
    }
   ],
   "source": [
    "# 고객리스트에는 2년간 판매내역에 있는 고객만 포함 (적절? 과거 고객이라면?)\n",
    "\n",
    "print(custmast.shape)\n",
    "custmast = custmast[custmast.cust_id.isin(sales.cust_id)]\n",
    "print(custmast.shape)\n",
    "\n",
    "# 상품리스트에는 2년간 판매내역에 있는 상품만 포함 (적절? 과거 상품이라면?)\n",
    "\n",
    "print(itemmast.shape)\n",
    "itemmast = itemmast[itemmast.item_id.isin(sales.item_id)]\n",
    "print(itemmast.shape)"
   ]
  },
  {
   "cell_type": "code",
   "execution_count": null,
   "metadata": {},
   "outputs": [],
   "source": []
  },
  {
   "cell_type": "code",
   "execution_count": null,
   "metadata": {},
   "outputs": [],
   "source": []
  },
  {
   "cell_type": "markdown",
   "metadata": {},
   "source": [
    "## 성별 연령별 고객수 분석 연습"
   ]
  },
  {
   "cell_type": "code",
   "execution_count": 45,
   "metadata": {},
   "outputs": [
    {
     "name": "stdout",
     "output_type": "stream",
     "text": [
      "(200, 4)\n"
     ]
    },
    {
     "data": {
      "text/html": [
       "<div>\n",
       "<style scoped>\n",
       "    .dataframe tbody tr th:only-of-type {\n",
       "        vertical-align: middle;\n",
       "    }\n",
       "\n",
       "    .dataframe tbody tr th {\n",
       "        vertical-align: top;\n",
       "    }\n",
       "\n",
       "    .dataframe thead th {\n",
       "        text-align: right;\n",
       "    }\n",
       "</style>\n",
       "<table border=\"1\" class=\"dataframe\">\n",
       "  <thead>\n",
       "    <tr style=\"text-align: right;\">\n",
       "      <th></th>\n",
       "      <th>cust_id</th>\n",
       "      <th>age</th>\n",
       "      <th>sex</th>\n",
       "      <th>area</th>\n",
       "    </tr>\n",
       "  </thead>\n",
       "  <tbody>\n",
       "    <tr>\n",
       "      <th>6360</th>\n",
       "      <td>B100083160</td>\n",
       "      <td>41</td>\n",
       "      <td>M</td>\n",
       "      <td>seoul</td>\n",
       "    </tr>\n",
       "    <tr>\n",
       "      <th>15971</th>\n",
       "      <td>B100038172</td>\n",
       "      <td>32</td>\n",
       "      <td>M</td>\n",
       "      <td>seoul</td>\n",
       "    </tr>\n",
       "    <tr>\n",
       "      <th>3416</th>\n",
       "      <td>B100010355</td>\n",
       "      <td>33</td>\n",
       "      <td>F</td>\n",
       "      <td>gyunggi</td>\n",
       "    </tr>\n",
       "    <tr>\n",
       "      <th>1980</th>\n",
       "      <td>B100058772</td>\n",
       "      <td>40</td>\n",
       "      <td>M</td>\n",
       "      <td>seoul</td>\n",
       "    </tr>\n",
       "    <tr>\n",
       "      <th>17457</th>\n",
       "      <td>B100023326</td>\n",
       "      <td>62</td>\n",
       "      <td>F</td>\n",
       "      <td>gyunggi</td>\n",
       "    </tr>\n",
       "  </tbody>\n",
       "</table>\n",
       "</div>"
      ],
      "text/plain": [
       "          cust_id  age sex     area\n",
       "6360   B100083160   41   M    seoul\n",
       "15971  B100038172   32   M    seoul\n",
       "3416   B100010355   33   F  gyunggi\n",
       "1980   B100058772   40   M    seoul\n",
       "17457  B100023326   62   F  gyunggi"
      ]
     },
     "execution_count": 45,
     "metadata": {},
     "output_type": "execute_result"
    }
   ],
   "source": [
    "# 연습용 데이터 생성 - 200명의 고객 sample\n",
    "\n",
    "cust1 = custmast[custmast.cust_id.isin(sales[['cust_id']].drop_duplicates().sample(200).cust_id)]\n",
    "cust1 = cust1[['cust_id', 'age','sex', 'area']]\n",
    "\n",
    "print(cust1.shape)\n",
    "cust1.sample(5)"
   ]
  },
  {
   "cell_type": "code",
   "execution_count": 46,
   "metadata": {},
   "outputs": [
    {
     "name": "stdout",
     "output_type": "stream",
     "text": [
      "(200, 5)\n"
     ]
    },
    {
     "data": {
      "text/html": [
       "<div>\n",
       "<style scoped>\n",
       "    .dataframe tbody tr th:only-of-type {\n",
       "        vertical-align: middle;\n",
       "    }\n",
       "\n",
       "    .dataframe tbody tr th {\n",
       "        vertical-align: top;\n",
       "    }\n",
       "\n",
       "    .dataframe thead th {\n",
       "        text-align: right;\n",
       "    }\n",
       "</style>\n",
       "<table border=\"1\" class=\"dataframe\">\n",
       "  <thead>\n",
       "    <tr style=\"text-align: right;\">\n",
       "      <th></th>\n",
       "      <th>cust_id</th>\n",
       "      <th>age</th>\n",
       "      <th>sex</th>\n",
       "      <th>area</th>\n",
       "      <th>amt</th>\n",
       "    </tr>\n",
       "  </thead>\n",
       "  <tbody>\n",
       "    <tr>\n",
       "      <th>35</th>\n",
       "      <td>B100037109</td>\n",
       "      <td>32</td>\n",
       "      <td>M</td>\n",
       "      <td>seoul</td>\n",
       "      <td>335000</td>\n",
       "    </tr>\n",
       "    <tr>\n",
       "      <th>174</th>\n",
       "      <td>B100020383</td>\n",
       "      <td>24</td>\n",
       "      <td>F</td>\n",
       "      <td>seoul</td>\n",
       "      <td>315000</td>\n",
       "    </tr>\n",
       "    <tr>\n",
       "      <th>126</th>\n",
       "      <td>B100000780</td>\n",
       "      <td>40</td>\n",
       "      <td>M</td>\n",
       "      <td>gyunggi</td>\n",
       "      <td>70000</td>\n",
       "    </tr>\n",
       "    <tr>\n",
       "      <th>148</th>\n",
       "      <td>B100098162</td>\n",
       "      <td>39</td>\n",
       "      <td>F</td>\n",
       "      <td>inchon</td>\n",
       "      <td>60000</td>\n",
       "    </tr>\n",
       "    <tr>\n",
       "      <th>80</th>\n",
       "      <td>B100063267</td>\n",
       "      <td>34</td>\n",
       "      <td>F</td>\n",
       "      <td>seoul</td>\n",
       "      <td>440000</td>\n",
       "    </tr>\n",
       "  </tbody>\n",
       "</table>\n",
       "</div>"
      ],
      "text/plain": [
       "        cust_id  age sex     area     amt\n",
       "35   B100037109   32   M    seoul  335000\n",
       "174  B100020383   24   F    seoul  315000\n",
       "126  B100000780   40   M  gyunggi   70000\n",
       "148  B100098162   39   F   inchon   60000\n",
       "80   B100063267   34   F    seoul  440000"
      ]
     },
     "execution_count": 46,
     "metadata": {},
     "output_type": "execute_result"
    }
   ],
   "source": [
    "# sample 고객리스트에 대한 구매금액 추가\n",
    "\n",
    "cust1amts = sales[sales.cust_id.isin(cust1.cust_id)][['cust_id', 'amt']].groupby('cust_id').sum().reset_index()\n",
    "cust1 = cust1.merge(cust1amts, how='left', on='cust_id')\n",
    "print(cust1.shape)\n",
    "cust1.sample(5)"
   ]
  },
  {
   "cell_type": "code",
   "execution_count": 47,
   "metadata": {},
   "outputs": [
    {
     "data": {
      "text/plain": [
       "F    143\n",
       "M     57\n",
       "Name: sex, dtype: int64"
      ]
     },
     "execution_count": 47,
     "metadata": {},
     "output_type": "execute_result"
    }
   ],
   "source": [
    "# 성별 고객수 집계\n",
    "\n",
    "cust1.sex.value_counts()"
   ]
  },
  {
   "cell_type": "code",
   "execution_count": 48,
   "metadata": {},
   "outputs": [
    {
     "data": {
      "text/html": [
       "<div>\n",
       "<style scoped>\n",
       "    .dataframe tbody tr th:only-of-type {\n",
       "        vertical-align: middle;\n",
       "    }\n",
       "\n",
       "    .dataframe tbody tr th {\n",
       "        vertical-align: top;\n",
       "    }\n",
       "\n",
       "    .dataframe thead th {\n",
       "        text-align: right;\n",
       "    }\n",
       "</style>\n",
       "<table border=\"1\" class=\"dataframe\">\n",
       "  <thead>\n",
       "    <tr style=\"text-align: right;\">\n",
       "      <th></th>\n",
       "      <th>sex</th>\n",
       "    </tr>\n",
       "  </thead>\n",
       "  <tbody>\n",
       "    <tr>\n",
       "      <th>F</th>\n",
       "      <td>143</td>\n",
       "    </tr>\n",
       "    <tr>\n",
       "      <th>M</th>\n",
       "      <td>57</td>\n",
       "    </tr>\n",
       "  </tbody>\n",
       "</table>\n",
       "</div>"
      ],
      "text/plain": [
       "   sex\n",
       "F  143\n",
       "M   57"
      ]
     },
     "execution_count": 48,
     "metadata": {},
     "output_type": "execute_result"
    }
   ],
   "source": [
    "# 데이터프레임의 형식으로 바꿔서 보기\n",
    "\n",
    "pd.DataFrame(cust1.sex.value_counts())"
   ]
  },
  {
   "cell_type": "code",
   "execution_count": 49,
   "metadata": {},
   "outputs": [
    {
     "data": {
      "text/plain": [
       "<AxesSubplot:>"
      ]
     },
     "execution_count": 49,
     "metadata": {},
     "output_type": "execute_result"
    },
    {
     "data": {
      "image/png": "[encoded data removed]",
      "text/plain": [
       "<Figure size 432x288 with 1 Axes>"
      ]
     },
     "metadata": {
      "needs_background": "light"
     },
     "output_type": "display_data"
    }
   ],
   "source": [
    "# 성별 인원수 시각화 - 막대 챠트 작성\n",
    "\n",
    "cust1.sex.value_counts().plot(kind='bar')"
   ]
  },
  {
   "cell_type": "code",
   "execution_count": 50,
   "metadata": {},
   "outputs": [
    {
     "data": {
      "text/plain": [
       "34    19\n",
       "31    17\n",
       "32    14\n",
       "29    13\n",
       "38    10\n",
       "40    10\n",
       "28     9\n",
       "26     9\n",
       "46     7\n",
       "24     6\n",
       "27     6\n",
       "43     6\n",
       "35     6\n",
       "23     5\n",
       "30     5\n",
       "36     5\n",
       "41     5\n",
       "60     5\n",
       "42     5\n",
       "56     4\n",
       "33     3\n",
       "44     3\n",
       "58     3\n",
       "57     3\n",
       "37     3\n",
       "53     2\n",
       "25     2\n",
       "22     2\n",
       "39     2\n",
       "21     2\n",
       "45     2\n",
       "62     1\n",
       "61     1\n",
       "64     1\n",
       "50     1\n",
       "48     1\n",
       "47     1\n",
       "55     1\n",
       "Name: age, dtype: int64"
      ]
     },
     "execution_count": 50,
     "metadata": {},
     "output_type": "execute_result"
    }
   ],
   "source": [
    "# 연령별 고객수 - 고객수순 정렬\n",
    "\n",
    "cust1.age.value_counts()"
   ]
  },
  {
   "cell_type": "code",
   "execution_count": 51,
   "metadata": {},
   "outputs": [
    {
     "data": {
      "text/html": [
       "<div>\n",
       "<style scoped>\n",
       "    .dataframe tbody tr th:only-of-type {\n",
       "        vertical-align: middle;\n",
       "    }\n",
       "\n",
       "    .dataframe tbody tr th {\n",
       "        vertical-align: top;\n",
       "    }\n",
       "\n",
       "    .dataframe thead th {\n",
       "        text-align: right;\n",
       "    }\n",
       "</style>\n",
       "<table border=\"1\" class=\"dataframe\">\n",
       "  <thead>\n",
       "    <tr style=\"text-align: right;\">\n",
       "      <th>area</th>\n",
       "      <th>gangwon</th>\n",
       "      <th>gyunggi</th>\n",
       "      <th>inchon</th>\n",
       "      <th>seoul</th>\n",
       "    </tr>\n",
       "    <tr>\n",
       "      <th>sex</th>\n",
       "      <th></th>\n",
       "      <th></th>\n",
       "      <th></th>\n",
       "      <th></th>\n",
       "    </tr>\n",
       "  </thead>\n",
       "  <tbody>\n",
       "    <tr>\n",
       "      <th>F</th>\n",
       "      <td>14</td>\n",
       "      <td>42</td>\n",
       "      <td>36</td>\n",
       "      <td>51</td>\n",
       "    </tr>\n",
       "    <tr>\n",
       "      <th>M</th>\n",
       "      <td>7</td>\n",
       "      <td>16</td>\n",
       "      <td>13</td>\n",
       "      <td>21</td>\n",
       "    </tr>\n",
       "  </tbody>\n",
       "</table>\n",
       "</div>"
      ],
      "text/plain": [
       "area  gangwon  gyunggi  inchon  seoul\n",
       "sex                                  \n",
       "F          14       42      36     51\n",
       "M           7       16      13     21"
      ]
     },
     "execution_count": 51,
     "metadata": {},
     "output_type": "execute_result"
    }
   ],
   "source": [
    "# 성별과 지역의 교차표 생성\n",
    "\n",
    "pd.crosstab(cust1.sex, cust1.area)"
   ]
  },
  {
   "cell_type": "code",
   "execution_count": 52,
   "metadata": {},
   "outputs": [
    {
     "data": {
      "text/plain": [
       "<AxesSubplot:xlabel='sex'>"
      ]
     },
     "execution_count": 52,
     "metadata": {},
     "output_type": "execute_result"
    },
    {
     "data": {
      "image/png": "[encoded data removed]",
      "text/plain": [
       "<Figure size 432x288 with 1 Axes>"
      ]
     },
     "metadata": {
      "needs_background": "light"
     },
     "output_type": "display_data"
    }
   ],
   "source": [
    "# 교차표 시각화\n",
    "\n",
    "pd.crosstab(cust1.sex, cust1.area).plot(kind='bar')"
   ]
  },
  {
   "cell_type": "code",
   "execution_count": 53,
   "metadata": {},
   "outputs": [
    {
     "data": {
      "text/plain": [
       "<AxesSubplot:xlabel='area'>"
      ]
     },
     "execution_count": 53,
     "metadata": {},
     "output_type": "execute_result"
    },
    {
     "data": {
      "image/png": "[encoded data removed]",
      "text/plain": [
       "<Figure size 432x288 with 1 Axes>"
      ]
     },
     "metadata": {
      "needs_background": "light"
     },
     "output_type": "display_data"
    }
   ],
   "source": [
    "# 지역과 성별 순서 변경\n",
    "\n",
    "pd.crosstab(cust1.sex, cust1.area).T.plot(kind='bar')"
   ]
  },
  {
   "cell_type": "code",
   "execution_count": null,
   "metadata": {},
   "outputs": [],
   "source": []
  },
  {
   "cell_type": "code",
   "execution_count": 54,
   "metadata": {},
   "outputs": [
    {
     "data": {
      "text/plain": [
       "21     2\n",
       "22     2\n",
       "23     5\n",
       "24     6\n",
       "25     2\n",
       "26     9\n",
       "27     6\n",
       "28     9\n",
       "29    13\n",
       "30     5\n",
       "31    17\n",
       "32    14\n",
       "33     3\n",
       "34    19\n",
       "35     6\n",
       "36     5\n",
       "37     3\n",
       "38    10\n",
       "39     2\n",
       "40    10\n",
       "41     5\n",
       "42     5\n",
       "43     6\n",
       "44     3\n",
       "45     2\n",
       "46     7\n",
       "47     1\n",
       "48     1\n",
       "50     1\n",
       "53     2\n",
       "55     1\n",
       "56     4\n",
       "57     3\n",
       "58     3\n",
       "60     5\n",
       "61     1\n",
       "62     1\n",
       "64     1\n",
       "Name: age, dtype: int64"
      ]
     },
     "execution_count": 54,
     "metadata": {},
     "output_type": "execute_result"
    }
   ],
   "source": [
    "# 연령별 고객수 - 연령순 정렬\n",
    "\n",
    "cust1.age.value_counts().sort_index()"
   ]
  },
  {
   "cell_type": "code",
   "execution_count": 55,
   "metadata": {},
   "outputs": [
    {
     "data": {
      "text/plain": [
       "<AxesSubplot:>"
      ]
     },
     "execution_count": 55,
     "metadata": {},
     "output_type": "execute_result"
    },
    {
     "data": {
      "image/png": "[encoded data removed]",
      "text/plain": [
       "<Figure size 432x288 with 1 Axes>"
      ]
     },
     "metadata": {
      "needs_background": "light"
     },
     "output_type": "display_data"
    }
   ],
   "source": [
    "# 고객 연령 분포 시각화\n",
    "\n",
    "cust1.age.value_counts().sort_index().plot(kind='bar')"
   ]
  },
  {
   "cell_type": "code",
   "execution_count": 56,
   "metadata": {},
   "outputs": [],
   "source": [
    "# [질문] 챠트를 자세히 보면 50세 막대는 없는데 잘못된 것은 아닌가?\n",
    "\n",
    "# 만일 잘못된 것이 아니라면, 챠트를 어떻게 수정해야 하는가?\n"
   ]
  },
  {
   "cell_type": "code",
   "execution_count": null,
   "metadata": {},
   "outputs": [],
   "source": []
  },
  {
   "cell_type": "code",
   "execution_count": 57,
   "metadata": {},
   "outputs": [
    {
     "data": {
      "text/html": [
       "<div>\n",
       "<style scoped>\n",
       "    .dataframe tbody tr th:only-of-type {\n",
       "        vertical-align: middle;\n",
       "    }\n",
       "\n",
       "    .dataframe tbody tr th {\n",
       "        vertical-align: top;\n",
       "    }\n",
       "\n",
       "    .dataframe thead th {\n",
       "        text-align: right;\n",
       "    }\n",
       "</style>\n",
       "<table border=\"1\" class=\"dataframe\">\n",
       "  <thead>\n",
       "    <tr style=\"text-align: right;\">\n",
       "      <th></th>\n",
       "      <th>cust_id</th>\n",
       "      <th>age</th>\n",
       "      <th>sex</th>\n",
       "      <th>area</th>\n",
       "      <th>amt</th>\n",
       "      <th>age_grp</th>\n",
       "    </tr>\n",
       "  </thead>\n",
       "  <tbody>\n",
       "    <tr>\n",
       "      <th>0</th>\n",
       "      <td>B100028570</td>\n",
       "      <td>31</td>\n",
       "      <td>M</td>\n",
       "      <td>seoul</td>\n",
       "      <td>400000</td>\n",
       "      <td>30.0</td>\n",
       "    </tr>\n",
       "    <tr>\n",
       "      <th>1</th>\n",
       "      <td>B100038272</td>\n",
       "      <td>31</td>\n",
       "      <td>F</td>\n",
       "      <td>seoul</td>\n",
       "      <td>300000</td>\n",
       "      <td>30.0</td>\n",
       "    </tr>\n",
       "    <tr>\n",
       "      <th>2</th>\n",
       "      <td>B100028694</td>\n",
       "      <td>31</td>\n",
       "      <td>F</td>\n",
       "      <td>inchon</td>\n",
       "      <td>630000</td>\n",
       "      <td>30.0</td>\n",
       "    </tr>\n",
       "    <tr>\n",
       "      <th>3</th>\n",
       "      <td>B100010230</td>\n",
       "      <td>56</td>\n",
       "      <td>F</td>\n",
       "      <td>seoul</td>\n",
       "      <td>0</td>\n",
       "      <td>55.0</td>\n",
       "    </tr>\n",
       "    <tr>\n",
       "      <th>4</th>\n",
       "      <td>B100096351</td>\n",
       "      <td>32</td>\n",
       "      <td>M</td>\n",
       "      <td>inchon</td>\n",
       "      <td>80000</td>\n",
       "      <td>30.0</td>\n",
       "    </tr>\n",
       "    <tr>\n",
       "      <th>...</th>\n",
       "      <td>...</td>\n",
       "      <td>...</td>\n",
       "      <td>...</td>\n",
       "      <td>...</td>\n",
       "      <td>...</td>\n",
       "      <td>...</td>\n",
       "    </tr>\n",
       "    <tr>\n",
       "      <th>195</th>\n",
       "      <td>B100088172</td>\n",
       "      <td>34</td>\n",
       "      <td>F</td>\n",
       "      <td>gangwon</td>\n",
       "      <td>210000</td>\n",
       "      <td>35.0</td>\n",
       "    </tr>\n",
       "    <tr>\n",
       "      <th>196</th>\n",
       "      <td>B100094064</td>\n",
       "      <td>34</td>\n",
       "      <td>F</td>\n",
       "      <td>seoul</td>\n",
       "      <td>285000</td>\n",
       "      <td>35.0</td>\n",
       "    </tr>\n",
       "    <tr>\n",
       "      <th>197</th>\n",
       "      <td>B100089696</td>\n",
       "      <td>46</td>\n",
       "      <td>F</td>\n",
       "      <td>gangwon</td>\n",
       "      <td>70000</td>\n",
       "      <td>45.0</td>\n",
       "    </tr>\n",
       "    <tr>\n",
       "      <th>198</th>\n",
       "      <td>B100087499</td>\n",
       "      <td>38</td>\n",
       "      <td>F</td>\n",
       "      <td>seoul</td>\n",
       "      <td>140000</td>\n",
       "      <td>40.0</td>\n",
       "    </tr>\n",
       "    <tr>\n",
       "      <th>199</th>\n",
       "      <td>B100069180</td>\n",
       "      <td>37</td>\n",
       "      <td>F</td>\n",
       "      <td>gyunggi</td>\n",
       "      <td>70000</td>\n",
       "      <td>35.0</td>\n",
       "    </tr>\n",
       "  </tbody>\n",
       "</table>\n",
       "<p>200 rows × 6 columns</p>\n",
       "</div>"
      ],
      "text/plain": [
       "        cust_id  age sex     area     amt  age_grp\n",
       "0    B100028570   31   M    seoul  400000     30.0\n",
       "1    B100038272   31   F    seoul  300000     30.0\n",
       "2    B100028694   31   F   inchon  630000     30.0\n",
       "3    B100010230   56   F    seoul       0     55.0\n",
       "4    B100096351   32   M   inchon   80000     30.0\n",
       "..          ...  ...  ..      ...     ...      ...\n",
       "195  B100088172   34   F  gangwon  210000     35.0\n",
       "196  B100094064   34   F    seoul  285000     35.0\n",
       "197  B100089696   46   F  gangwon   70000     45.0\n",
       "198  B100087499   38   F    seoul  140000     40.0\n",
       "199  B100069180   37   F  gyunggi   70000     35.0\n",
       "\n",
       "[200 rows x 6 columns]"
      ]
     },
     "execution_count": 57,
     "metadata": {},
     "output_type": "execute_result"
    }
   ],
   "source": [
    "# 5세 단위 연령 집단 코드 부여\n",
    "\n",
    "cust1['age_grp'] = round(cust1.age/5)*5\n",
    "cust1"
   ]
  },
  {
   "cell_type": "code",
   "execution_count": 58,
   "metadata": {},
   "outputs": [
    {
     "data": {
      "text/plain": [
       "0    31\n",
       "1    31\n",
       "2    31\n",
       "3    56\n",
       "4    32\n",
       "Name: age, dtype: int64"
      ]
     },
     "metadata": {},
     "output_type": "display_data"
    },
    {
     "data": {
      "text/plain": [
       "0     6.2\n",
       "1     6.2\n",
       "2     6.2\n",
       "3    11.2\n",
       "4     6.4\n",
       "Name: age, dtype: float64"
      ]
     },
     "metadata": {},
     "output_type": "display_data"
    },
    {
     "data": {
      "text/plain": [
       "0     6.0\n",
       "1     6.0\n",
       "2     6.0\n",
       "3    11.0\n",
       "4     6.0\n",
       "Name: age, dtype: float64"
      ]
     },
     "metadata": {},
     "output_type": "display_data"
    },
    {
     "data": {
      "text/plain": [
       "0    30.0\n",
       "1    30.0\n",
       "2    30.0\n",
       "3    55.0\n",
       "4    30.0\n",
       "Name: age, dtype: float64"
      ]
     },
     "metadata": {},
     "output_type": "display_data"
    }
   ],
   "source": [
    "# 연령구분 코드 생성 과정 step별로 살펴보기\n",
    "\n",
    "# 원래의 연령 값\n",
    "display(cust1.head(5).age)\n",
    "\n",
    "# 5세 단위로 자동 구분하기 위해 5로 나눔\n",
    "display(cust1.head(5).age/5)\n",
    "\n",
    "#  소수점을 없애기 round 반올림\n",
    "display(round(cust1.head(5).age/5))\n",
    "\n",
    "# 5로 나눴던 값을 원래로 바꾸기 위해 다시 5를 곱함\n",
    "display(round(cust1.head(5).age/5)*5)"
   ]
  },
  {
   "cell_type": "code",
   "execution_count": 59,
   "metadata": {},
   "outputs": [
    {
     "data": {
      "text/plain": [
       "<AxesSubplot:>"
      ]
     },
     "execution_count": 59,
     "metadata": {},
     "output_type": "execute_result"
    },
    {
     "data": {
      "image/png": "[encoded data removed]",
      "text/plain": [
       "<Figure size 432x288 with 1 Axes>"
      ]
     },
     "metadata": {
      "needs_background": "light"
     },
     "output_type": "display_data"
    }
   ],
   "source": [
    "# 고객 연령 분포 시각화 - 연령 집단 5세 단위 기준\n",
    "\n",
    "cust1.age_grp.value_counts().sort_index().plot(kind='bar')"
   ]
  },
  {
   "cell_type": "code",
   "execution_count": 60,
   "metadata": {},
   "outputs": [
    {
     "data": {
      "text/html": [
       "<div>\n",
       "<style scoped>\n",
       "    .dataframe tbody tr th:only-of-type {\n",
       "        vertical-align: middle;\n",
       "    }\n",
       "\n",
       "    .dataframe tbody tr th {\n",
       "        vertical-align: top;\n",
       "    }\n",
       "\n",
       "    .dataframe thead th {\n",
       "        text-align: right;\n",
       "    }\n",
       "</style>\n",
       "<table border=\"1\" class=\"dataframe\">\n",
       "  <thead>\n",
       "    <tr style=\"text-align: right;\">\n",
       "      <th></th>\n",
       "      <th>cust_id</th>\n",
       "      <th>age</th>\n",
       "      <th>sex</th>\n",
       "      <th>area</th>\n",
       "      <th>amt</th>\n",
       "      <th>age_grp</th>\n",
       "    </tr>\n",
       "  </thead>\n",
       "  <tbody>\n",
       "    <tr>\n",
       "      <th>0</th>\n",
       "      <td>B100028570</td>\n",
       "      <td>31</td>\n",
       "      <td>M</td>\n",
       "      <td>seoul</td>\n",
       "      <td>400000</td>\n",
       "      <td>30.0</td>\n",
       "    </tr>\n",
       "    <tr>\n",
       "      <th>1</th>\n",
       "      <td>B100038272</td>\n",
       "      <td>31</td>\n",
       "      <td>F</td>\n",
       "      <td>seoul</td>\n",
       "      <td>300000</td>\n",
       "      <td>30.0</td>\n",
       "    </tr>\n",
       "    <tr>\n",
       "      <th>2</th>\n",
       "      <td>B100028694</td>\n",
       "      <td>31</td>\n",
       "      <td>F</td>\n",
       "      <td>inchon</td>\n",
       "      <td>630000</td>\n",
       "      <td>30.0</td>\n",
       "    </tr>\n",
       "    <tr>\n",
       "      <th>3</th>\n",
       "      <td>B100010230</td>\n",
       "      <td>56</td>\n",
       "      <td>F</td>\n",
       "      <td>seoul</td>\n",
       "      <td>0</td>\n",
       "      <td>60.0</td>\n",
       "    </tr>\n",
       "    <tr>\n",
       "      <th>4</th>\n",
       "      <td>B100096351</td>\n",
       "      <td>32</td>\n",
       "      <td>M</td>\n",
       "      <td>inchon</td>\n",
       "      <td>80000</td>\n",
       "      <td>30.0</td>\n",
       "    </tr>\n",
       "    <tr>\n",
       "      <th>...</th>\n",
       "      <td>...</td>\n",
       "      <td>...</td>\n",
       "      <td>...</td>\n",
       "      <td>...</td>\n",
       "      <td>...</td>\n",
       "      <td>...</td>\n",
       "    </tr>\n",
       "    <tr>\n",
       "      <th>195</th>\n",
       "      <td>B100088172</td>\n",
       "      <td>34</td>\n",
       "      <td>F</td>\n",
       "      <td>gangwon</td>\n",
       "      <td>210000</td>\n",
       "      <td>30.0</td>\n",
       "    </tr>\n",
       "    <tr>\n",
       "      <th>196</th>\n",
       "      <td>B100094064</td>\n",
       "      <td>34</td>\n",
       "      <td>F</td>\n",
       "      <td>seoul</td>\n",
       "      <td>285000</td>\n",
       "      <td>30.0</td>\n",
       "    </tr>\n",
       "    <tr>\n",
       "      <th>197</th>\n",
       "      <td>B100089696</td>\n",
       "      <td>46</td>\n",
       "      <td>F</td>\n",
       "      <td>gangwon</td>\n",
       "      <td>70000</td>\n",
       "      <td>50.0</td>\n",
       "    </tr>\n",
       "    <tr>\n",
       "      <th>198</th>\n",
       "      <td>B100087499</td>\n",
       "      <td>38</td>\n",
       "      <td>F</td>\n",
       "      <td>seoul</td>\n",
       "      <td>140000</td>\n",
       "      <td>40.0</td>\n",
       "    </tr>\n",
       "    <tr>\n",
       "      <th>199</th>\n",
       "      <td>B100069180</td>\n",
       "      <td>37</td>\n",
       "      <td>F</td>\n",
       "      <td>gyunggi</td>\n",
       "      <td>70000</td>\n",
       "      <td>40.0</td>\n",
       "    </tr>\n",
       "  </tbody>\n",
       "</table>\n",
       "<p>200 rows × 6 columns</p>\n",
       "</div>"
      ],
      "text/plain": [
       "        cust_id  age sex     area     amt  age_grp\n",
       "0    B100028570   31   M    seoul  400000     30.0\n",
       "1    B100038272   31   F    seoul  300000     30.0\n",
       "2    B100028694   31   F   inchon  630000     30.0\n",
       "3    B100010230   56   F    seoul       0     60.0\n",
       "4    B100096351   32   M   inchon   80000     30.0\n",
       "..          ...  ...  ..      ...     ...      ...\n",
       "195  B100088172   34   F  gangwon  210000     30.0\n",
       "196  B100094064   34   F    seoul  285000     30.0\n",
       "197  B100089696   46   F  gangwon   70000     50.0\n",
       "198  B100087499   38   F    seoul  140000     40.0\n",
       "199  B100069180   37   F  gyunggi   70000     40.0\n",
       "\n",
       "[200 rows x 6 columns]"
      ]
     },
     "execution_count": 60,
     "metadata": {},
     "output_type": "execute_result"
    }
   ],
   "source": [
    "# 10세 단위 연령 집단 코드 부여\n",
    "\n",
    "cust1['age_grp'] = round(cust1.age/10)*10\n",
    "cust1"
   ]
  },
  {
   "cell_type": "code",
   "execution_count": 61,
   "metadata": {},
   "outputs": [
    {
     "data": {
      "text/plain": [
       "Text(0.5, 1.0, '고객 연령 분포 - 10세 단위 집단')"
      ]
     },
     "execution_count": 61,
     "metadata": {},
     "output_type": "execute_result"
    },
    {
     "data": {
      "image/png": "[encoded data removed]",
      "text/plain": [
       "<Figure size 432x288 with 1 Axes>"
      ]
     },
     "metadata": {
      "needs_background": "light"
     },
     "output_type": "display_data"
    }
   ],
   "source": [
    "# 고객 연령 분포 시각화 - 연령 집단 10세 단위 기준\n",
    "\n",
    "cust1.age_grp.value_counts().sort_index().plot(kind='bar')\n",
    "plt.title('고객 연령 분포 - 10세 단위 집단') # 챠트에 제목 달아주기"
   ]
  },
  {
   "cell_type": "code",
   "execution_count": 62,
   "metadata": {},
   "outputs": [
    {
     "data": {
      "text/html": [
       "<div>\n",
       "<style scoped>\n",
       "    .dataframe tbody tr th:only-of-type {\n",
       "        vertical-align: middle;\n",
       "    }\n",
       "\n",
       "    .dataframe tbody tr th {\n",
       "        vertical-align: top;\n",
       "    }\n",
       "\n",
       "    .dataframe thead th {\n",
       "        text-align: right;\n",
       "    }\n",
       "</style>\n",
       "<table border=\"1\" class=\"dataframe\">\n",
       "  <thead>\n",
       "    <tr style=\"text-align: right;\">\n",
       "      <th></th>\n",
       "      <th>cust_id</th>\n",
       "      <th>age</th>\n",
       "      <th>sex</th>\n",
       "      <th>area</th>\n",
       "      <th>amt</th>\n",
       "      <th>age_grp</th>\n",
       "    </tr>\n",
       "  </thead>\n",
       "  <tbody>\n",
       "    <tr>\n",
       "      <th>169</th>\n",
       "      <td>B100090327</td>\n",
       "      <td>21</td>\n",
       "      <td>F</td>\n",
       "      <td>gangwon</td>\n",
       "      <td>215000</td>\n",
       "      <td>20.0</td>\n",
       "    </tr>\n",
       "    <tr>\n",
       "      <th>6</th>\n",
       "      <td>B100063904</td>\n",
       "      <td>21</td>\n",
       "      <td>F</td>\n",
       "      <td>inchon</td>\n",
       "      <td>400000</td>\n",
       "      <td>20.0</td>\n",
       "    </tr>\n",
       "    <tr>\n",
       "      <th>145</th>\n",
       "      <td>B100034079</td>\n",
       "      <td>22</td>\n",
       "      <td>F</td>\n",
       "      <td>seoul</td>\n",
       "      <td>100000</td>\n",
       "      <td>20.0</td>\n",
       "    </tr>\n",
       "    <tr>\n",
       "      <th>157</th>\n",
       "      <td>B100065803</td>\n",
       "      <td>22</td>\n",
       "      <td>F</td>\n",
       "      <td>inchon</td>\n",
       "      <td>260000</td>\n",
       "      <td>20.0</td>\n",
       "    </tr>\n",
       "    <tr>\n",
       "      <th>159</th>\n",
       "      <td>B100096236</td>\n",
       "      <td>23</td>\n",
       "      <td>F</td>\n",
       "      <td>seoul</td>\n",
       "      <td>140000</td>\n",
       "      <td>20.0</td>\n",
       "    </tr>\n",
       "    <tr>\n",
       "      <th>137</th>\n",
       "      <td>B100030007</td>\n",
       "      <td>23</td>\n",
       "      <td>F</td>\n",
       "      <td>seoul</td>\n",
       "      <td>230000</td>\n",
       "      <td>20.0</td>\n",
       "    </tr>\n",
       "    <tr>\n",
       "      <th>131</th>\n",
       "      <td>B100056733</td>\n",
       "      <td>23</td>\n",
       "      <td>F</td>\n",
       "      <td>seoul</td>\n",
       "      <td>130000</td>\n",
       "      <td>20.0</td>\n",
       "    </tr>\n",
       "    <tr>\n",
       "      <th>97</th>\n",
       "      <td>B100060266</td>\n",
       "      <td>23</td>\n",
       "      <td>F</td>\n",
       "      <td>seoul</td>\n",
       "      <td>100000</td>\n",
       "      <td>20.0</td>\n",
       "    </tr>\n",
       "    <tr>\n",
       "      <th>87</th>\n",
       "      <td>B100002934</td>\n",
       "      <td>23</td>\n",
       "      <td>F</td>\n",
       "      <td>seoul</td>\n",
       "      <td>325000</td>\n",
       "      <td>20.0</td>\n",
       "    </tr>\n",
       "    <tr>\n",
       "      <th>104</th>\n",
       "      <td>B100050705</td>\n",
       "      <td>24</td>\n",
       "      <td>F</td>\n",
       "      <td>seoul</td>\n",
       "      <td>35000</td>\n",
       "      <td>20.0</td>\n",
       "    </tr>\n",
       "    <tr>\n",
       "      <th>170</th>\n",
       "      <td>B100034595</td>\n",
       "      <td>24</td>\n",
       "      <td>F</td>\n",
       "      <td>seoul</td>\n",
       "      <td>100000</td>\n",
       "      <td>20.0</td>\n",
       "    </tr>\n",
       "    <tr>\n",
       "      <th>74</th>\n",
       "      <td>B100047259</td>\n",
       "      <td>24</td>\n",
       "      <td>F</td>\n",
       "      <td>seoul</td>\n",
       "      <td>180000</td>\n",
       "      <td>20.0</td>\n",
       "    </tr>\n",
       "    <tr>\n",
       "      <th>129</th>\n",
       "      <td>B100098038</td>\n",
       "      <td>24</td>\n",
       "      <td>F</td>\n",
       "      <td>seoul</td>\n",
       "      <td>160000</td>\n",
       "      <td>20.0</td>\n",
       "    </tr>\n",
       "    <tr>\n",
       "      <th>174</th>\n",
       "      <td>B100020383</td>\n",
       "      <td>24</td>\n",
       "      <td>F</td>\n",
       "      <td>seoul</td>\n",
       "      <td>315000</td>\n",
       "      <td>20.0</td>\n",
       "    </tr>\n",
       "    <tr>\n",
       "      <th>102</th>\n",
       "      <td>B100005263</td>\n",
       "      <td>24</td>\n",
       "      <td>F</td>\n",
       "      <td>inchon</td>\n",
       "      <td>425000</td>\n",
       "      <td>20.0</td>\n",
       "    </tr>\n",
       "    <tr>\n",
       "      <th>49</th>\n",
       "      <td>B100068925</td>\n",
       "      <td>25</td>\n",
       "      <td>F</td>\n",
       "      <td>gyunggi</td>\n",
       "      <td>35000</td>\n",
       "      <td>20.0</td>\n",
       "    </tr>\n",
       "    <tr>\n",
       "      <th>24</th>\n",
       "      <td>B100033419</td>\n",
       "      <td>25</td>\n",
       "      <td>F</td>\n",
       "      <td>inchon</td>\n",
       "      <td>170000</td>\n",
       "      <td>20.0</td>\n",
       "    </tr>\n",
       "    <tr>\n",
       "      <th>31</th>\n",
       "      <td>B100048738</td>\n",
       "      <td>26</td>\n",
       "      <td>F</td>\n",
       "      <td>seoul</td>\n",
       "      <td>290000</td>\n",
       "      <td>30.0</td>\n",
       "    </tr>\n",
       "    <tr>\n",
       "      <th>181</th>\n",
       "      <td>B100066491</td>\n",
       "      <td>26</td>\n",
       "      <td>M</td>\n",
       "      <td>inchon</td>\n",
       "      <td>80000</td>\n",
       "      <td>30.0</td>\n",
       "    </tr>\n",
       "    <tr>\n",
       "      <th>117</th>\n",
       "      <td>B100016161</td>\n",
       "      <td>26</td>\n",
       "      <td>M</td>\n",
       "      <td>seoul</td>\n",
       "      <td>200000</td>\n",
       "      <td>30.0</td>\n",
       "    </tr>\n",
       "    <tr>\n",
       "      <th>81</th>\n",
       "      <td>B100073462</td>\n",
       "      <td>53</td>\n",
       "      <td>M</td>\n",
       "      <td>gyunggi</td>\n",
       "      <td>70000</td>\n",
       "      <td>50.0</td>\n",
       "    </tr>\n",
       "    <tr>\n",
       "      <th>177</th>\n",
       "      <td>B100051178</td>\n",
       "      <td>55</td>\n",
       "      <td>F</td>\n",
       "      <td>inchon</td>\n",
       "      <td>325000</td>\n",
       "      <td>60.0</td>\n",
       "    </tr>\n",
       "    <tr>\n",
       "      <th>18</th>\n",
       "      <td>B100064146</td>\n",
       "      <td>56</td>\n",
       "      <td>F</td>\n",
       "      <td>inchon</td>\n",
       "      <td>875000</td>\n",
       "      <td>60.0</td>\n",
       "    </tr>\n",
       "    <tr>\n",
       "      <th>187</th>\n",
       "      <td>B100045897</td>\n",
       "      <td>56</td>\n",
       "      <td>F</td>\n",
       "      <td>inchon</td>\n",
       "      <td>70000</td>\n",
       "      <td>60.0</td>\n",
       "    </tr>\n",
       "    <tr>\n",
       "      <th>9</th>\n",
       "      <td>B100060855</td>\n",
       "      <td>56</td>\n",
       "      <td>F</td>\n",
       "      <td>seoul</td>\n",
       "      <td>100000</td>\n",
       "      <td>60.0</td>\n",
       "    </tr>\n",
       "    <tr>\n",
       "      <th>3</th>\n",
       "      <td>B100010230</td>\n",
       "      <td>56</td>\n",
       "      <td>F</td>\n",
       "      <td>seoul</td>\n",
       "      <td>0</td>\n",
       "      <td>60.0</td>\n",
       "    </tr>\n",
       "    <tr>\n",
       "      <th>120</th>\n",
       "      <td>B100051241</td>\n",
       "      <td>57</td>\n",
       "      <td>F</td>\n",
       "      <td>seoul</td>\n",
       "      <td>140000</td>\n",
       "      <td>60.0</td>\n",
       "    </tr>\n",
       "    <tr>\n",
       "      <th>82</th>\n",
       "      <td>B100058948</td>\n",
       "      <td>57</td>\n",
       "      <td>M</td>\n",
       "      <td>inchon</td>\n",
       "      <td>190000</td>\n",
       "      <td>60.0</td>\n",
       "    </tr>\n",
       "    <tr>\n",
       "      <th>154</th>\n",
       "      <td>B100034902</td>\n",
       "      <td>57</td>\n",
       "      <td>F</td>\n",
       "      <td>seoul</td>\n",
       "      <td>100000</td>\n",
       "      <td>60.0</td>\n",
       "    </tr>\n",
       "    <tr>\n",
       "      <th>109</th>\n",
       "      <td>B100044288</td>\n",
       "      <td>58</td>\n",
       "      <td>F</td>\n",
       "      <td>inchon</td>\n",
       "      <td>175000</td>\n",
       "      <td>60.0</td>\n",
       "    </tr>\n",
       "    <tr>\n",
       "      <th>70</th>\n",
       "      <td>B100049003</td>\n",
       "      <td>58</td>\n",
       "      <td>F</td>\n",
       "      <td>inchon</td>\n",
       "      <td>240000</td>\n",
       "      <td>60.0</td>\n",
       "    </tr>\n",
       "    <tr>\n",
       "      <th>108</th>\n",
       "      <td>B100005839</td>\n",
       "      <td>58</td>\n",
       "      <td>F</td>\n",
       "      <td>gangwon</td>\n",
       "      <td>462000</td>\n",
       "      <td>60.0</td>\n",
       "    </tr>\n",
       "    <tr>\n",
       "      <th>71</th>\n",
       "      <td>B100061745</td>\n",
       "      <td>60</td>\n",
       "      <td>F</td>\n",
       "      <td>gyunggi</td>\n",
       "      <td>360000</td>\n",
       "      <td>60.0</td>\n",
       "    </tr>\n",
       "    <tr>\n",
       "      <th>27</th>\n",
       "      <td>B100010481</td>\n",
       "      <td>60</td>\n",
       "      <td>F</td>\n",
       "      <td>gangwon</td>\n",
       "      <td>70000</td>\n",
       "      <td>60.0</td>\n",
       "    </tr>\n",
       "    <tr>\n",
       "      <th>32</th>\n",
       "      <td>B100052811</td>\n",
       "      <td>60</td>\n",
       "      <td>F</td>\n",
       "      <td>seoul</td>\n",
       "      <td>70000</td>\n",
       "      <td>60.0</td>\n",
       "    </tr>\n",
       "    <tr>\n",
       "      <th>83</th>\n",
       "      <td>B100037180</td>\n",
       "      <td>60</td>\n",
       "      <td>F</td>\n",
       "      <td>seoul</td>\n",
       "      <td>295000</td>\n",
       "      <td>60.0</td>\n",
       "    </tr>\n",
       "    <tr>\n",
       "      <th>119</th>\n",
       "      <td>B100025384</td>\n",
       "      <td>60</td>\n",
       "      <td>F</td>\n",
       "      <td>gyunggi</td>\n",
       "      <td>100000</td>\n",
       "      <td>60.0</td>\n",
       "    </tr>\n",
       "    <tr>\n",
       "      <th>160</th>\n",
       "      <td>B100082332</td>\n",
       "      <td>61</td>\n",
       "      <td>F</td>\n",
       "      <td>inchon</td>\n",
       "      <td>240000</td>\n",
       "      <td>60.0</td>\n",
       "    </tr>\n",
       "    <tr>\n",
       "      <th>130</th>\n",
       "      <td>B100023326</td>\n",
       "      <td>62</td>\n",
       "      <td>F</td>\n",
       "      <td>gyunggi</td>\n",
       "      <td>310000</td>\n",
       "      <td>60.0</td>\n",
       "    </tr>\n",
       "    <tr>\n",
       "      <th>73</th>\n",
       "      <td>B100057571</td>\n",
       "      <td>64</td>\n",
       "      <td>F</td>\n",
       "      <td>seoul</td>\n",
       "      <td>310000</td>\n",
       "      <td>60.0</td>\n",
       "    </tr>\n",
       "  </tbody>\n",
       "</table>\n",
       "</div>"
      ],
      "text/plain": [
       "        cust_id  age sex     area     amt  age_grp\n",
       "169  B100090327   21   F  gangwon  215000     20.0\n",
       "6    B100063904   21   F   inchon  400000     20.0\n",
       "145  B100034079   22   F    seoul  100000     20.0\n",
       "157  B100065803   22   F   inchon  260000     20.0\n",
       "159  B100096236   23   F    seoul  140000     20.0\n",
       "137  B100030007   23   F    seoul  230000     20.0\n",
       "131  B100056733   23   F    seoul  130000     20.0\n",
       "97   B100060266   23   F    seoul  100000     20.0\n",
       "87   B100002934   23   F    seoul  325000     20.0\n",
       "104  B100050705   24   F    seoul   35000     20.0\n",
       "170  B100034595   24   F    seoul  100000     20.0\n",
       "74   B100047259   24   F    seoul  180000     20.0\n",
       "129  B100098038   24   F    seoul  160000     20.0\n",
       "174  B100020383   24   F    seoul  315000     20.0\n",
       "102  B100005263   24   F   inchon  425000     20.0\n",
       "49   B100068925   25   F  gyunggi   35000     20.0\n",
       "24   B100033419   25   F   inchon  170000     20.0\n",
       "31   B100048738   26   F    seoul  290000     30.0\n",
       "181  B100066491   26   M   inchon   80000     30.0\n",
       "117  B100016161   26   M    seoul  200000     30.0\n",
       "81   B100073462   53   M  gyunggi   70000     50.0\n",
       "177  B100051178   55   F   inchon  325000     60.0\n",
       "18   B100064146   56   F   inchon  875000     60.0\n",
       "187  B100045897   56   F   inchon   70000     60.0\n",
       "9    B100060855   56   F    seoul  100000     60.0\n",
       "3    B100010230   56   F    seoul       0     60.0\n",
       "120  B100051241   57   F    seoul  140000     60.0\n",
       "82   B100058948   57   M   inchon  190000     60.0\n",
       "154  B100034902   57   F    seoul  100000     60.0\n",
       "109  B100044288   58   F   inchon  175000     60.0\n",
       "70   B100049003   58   F   inchon  240000     60.0\n",
       "108  B100005839   58   F  gangwon  462000     60.0\n",
       "71   B100061745   60   F  gyunggi  360000     60.0\n",
       "27   B100010481   60   F  gangwon   70000     60.0\n",
       "32   B100052811   60   F    seoul   70000     60.0\n",
       "83   B100037180   60   F    seoul  295000     60.0\n",
       "119  B100025384   60   F  gyunggi  100000     60.0\n",
       "160  B100082332   61   F   inchon  240000     60.0\n",
       "130  B100023326   62   F  gyunggi  310000     60.0\n",
       "73   B100057571   64   F    seoul  310000     60.0"
      ]
     },
     "execution_count": 62,
     "metadata": {},
     "output_type": "execute_result"
    }
   ],
   "source": [
    "# 반올림을 사용한 연령집단 구분 부여 결과 확인\n",
    "# 연령과 연령집단 비교\n",
    "\n",
    "pd.concat([cust1.sort_values('age').head(20), cust1.sort_values('age').tail(20)])"
   ]
  },
  {
   "cell_type": "code",
   "execution_count": 63,
   "metadata": {},
   "outputs": [
    {
     "name": "stdout",
     "output_type": "stream",
     "text": [
      "[30 31 32 33]\n",
      "[6.  6.2 6.4 6.6]\n",
      "[30. 30. 30. 35.]\n",
      "[30. 30. 30. 30.]\n",
      "[30. 35. 35. 35.]\n"
     ]
    }
   ],
   "source": [
    "# 집단 나누기 연습\n",
    "\n",
    "a = np.array([30,31,32,33])\n",
    "print(a)\n",
    "print(a/5)\n",
    "\n",
    "print(np.round(a/5)*5) # 반올림\n",
    "print(np.floor(a/5)*5) # 내림\n",
    "print(np.ceil(a/5)*5)  # 올림"
   ]
  },
  {
   "cell_type": "code",
   "execution_count": null,
   "metadata": {},
   "outputs": [],
   "source": []
  },
  {
   "cell_type": "code",
   "execution_count": 64,
   "metadata": {},
   "outputs": [
    {
     "data": {
      "text/plain": [
       "(43758000, 218790.0)"
      ]
     },
     "execution_count": 64,
     "metadata": {},
     "output_type": "execute_result"
    }
   ],
   "source": [
    "# 고객별 금액에 대한 집계\n",
    "\n",
    "# 전체 고객의 합계와 # 각 고객의 평균\n",
    "cust1.amt.sum(), cust1.amt.mean()"
   ]
  },
  {
   "cell_type": "code",
   "execution_count": null,
   "metadata": {},
   "outputs": [],
   "source": []
  },
  {
   "cell_type": "code",
   "execution_count": 65,
   "metadata": {},
   "outputs": [
    {
     "data": {
      "text/html": [
       "<div>\n",
       "<style scoped>\n",
       "    .dataframe tbody tr th:only-of-type {\n",
       "        vertical-align: middle;\n",
       "    }\n",
       "\n",
       "    .dataframe tbody tr th {\n",
       "        vertical-align: top;\n",
       "    }\n",
       "\n",
       "    .dataframe thead th {\n",
       "        text-align: right;\n",
       "    }\n",
       "</style>\n",
       "<table border=\"1\" class=\"dataframe\">\n",
       "  <thead>\n",
       "    <tr style=\"text-align: right;\">\n",
       "      <th></th>\n",
       "      <th>amt</th>\n",
       "    </tr>\n",
       "    <tr>\n",
       "      <th>sex</th>\n",
       "      <th></th>\n",
       "    </tr>\n",
       "  </thead>\n",
       "  <tbody>\n",
       "    <tr>\n",
       "      <th>F</th>\n",
       "      <td>34508000</td>\n",
       "    </tr>\n",
       "    <tr>\n",
       "      <th>M</th>\n",
       "      <td>9250000</td>\n",
       "    </tr>\n",
       "  </tbody>\n",
       "</table>\n",
       "</div>"
      ],
      "text/plain": [
       "          amt\n",
       "sex          \n",
       "F    34508000\n",
       "M     9250000"
      ]
     },
     "execution_count": 65,
     "metadata": {},
     "output_type": "execute_result"
    }
   ],
   "source": [
    "# 성별 금액 집계 -- 합계\n",
    "\n",
    "cust1[['sex','amt']].groupby('sex').sum()"
   ]
  },
  {
   "cell_type": "code",
   "execution_count": 66,
   "metadata": {},
   "outputs": [
    {
     "data": {
      "text/html": [
       "<div>\n",
       "<style scoped>\n",
       "    .dataframe tbody tr th:only-of-type {\n",
       "        vertical-align: middle;\n",
       "    }\n",
       "\n",
       "    .dataframe tbody tr th {\n",
       "        vertical-align: top;\n",
       "    }\n",
       "\n",
       "    .dataframe thead th {\n",
       "        text-align: right;\n",
       "    }\n",
       "</style>\n",
       "<table border=\"1\" class=\"dataframe\">\n",
       "  <thead>\n",
       "    <tr style=\"text-align: right;\">\n",
       "      <th></th>\n",
       "      <th>sex</th>\n",
       "      <th>amt</th>\n",
       "    </tr>\n",
       "  </thead>\n",
       "  <tbody>\n",
       "    <tr>\n",
       "      <th>0</th>\n",
       "      <td>F</td>\n",
       "      <td>34508000</td>\n",
       "    </tr>\n",
       "    <tr>\n",
       "      <th>1</th>\n",
       "      <td>M</td>\n",
       "      <td>9250000</td>\n",
       "    </tr>\n",
       "  </tbody>\n",
       "</table>\n",
       "</div>"
      ],
      "text/plain": [
       "  sex       amt\n",
       "0   F  34508000\n",
       "1   M   9250000"
      ]
     },
     "execution_count": 66,
     "metadata": {},
     "output_type": "execute_result"
    }
   ],
   "source": [
    "cust1[['sex','amt']].groupby('sex').sum().reset_index() # index 값을 컬럼으로 변경"
   ]
  },
  {
   "cell_type": "code",
   "execution_count": 67,
   "metadata": {},
   "outputs": [
    {
     "data": {
      "text/html": [
       "<div>\n",
       "<style scoped>\n",
       "    .dataframe tbody tr th:only-of-type {\n",
       "        vertical-align: middle;\n",
       "    }\n",
       "\n",
       "    .dataframe tbody tr th {\n",
       "        vertical-align: top;\n",
       "    }\n",
       "\n",
       "    .dataframe thead th {\n",
       "        text-align: right;\n",
       "    }\n",
       "</style>\n",
       "<table border=\"1\" class=\"dataframe\">\n",
       "  <thead>\n",
       "    <tr style=\"text-align: right;\">\n",
       "      <th></th>\n",
       "      <th>sex</th>\n",
       "      <th>amt</th>\n",
       "    </tr>\n",
       "  </thead>\n",
       "  <tbody>\n",
       "    <tr>\n",
       "      <th>0</th>\n",
       "      <td>F</td>\n",
       "      <td>241314.685315</td>\n",
       "    </tr>\n",
       "    <tr>\n",
       "      <th>1</th>\n",
       "      <td>M</td>\n",
       "      <td>162280.701754</td>\n",
       "    </tr>\n",
       "  </tbody>\n",
       "</table>\n",
       "</div>"
      ],
      "text/plain": [
       "  sex            amt\n",
       "0   F  241314.685315\n",
       "1   M  162280.701754"
      ]
     },
     "metadata": {},
     "output_type": "display_data"
    },
    {
     "data": {
      "image/png": "[encoded data removed]",
      "text/plain": [
       "<Figure size 432x288 with 1 Axes>"
      ]
     },
     "metadata": {
      "needs_background": "light"
     },
     "output_type": "display_data"
    }
   ],
   "source": [
    "# 성별 평균 구하기\n",
    "custamts1 = cust1[['sex','amt']].groupby('sex').mean().reset_index()\n",
    "\n",
    "display(custamts1)\n",
    "\n",
    "# 성별 금액 합계 구하기\n",
    "custamts2 = custamts1.groupby('sex').sum().reset_index()\n",
    "\n",
    "# 막대 챠트 생성 -- 시각화\n",
    "plt.bar(custamts2.sex, custamts2.amt, color='dodgerblue')\n",
    "plt.title('고객 성별 구매액 합계')\n",
    "plt.show()"
   ]
  },
  {
   "cell_type": "markdown",
   "metadata": {},
   "source": [
    "[mini연습문제] \n",
    "1. 샘플 데이터인 cust1을 사용하여 지역별 금액평균을 구한 후\n",
    "2. 지역별 금액 평균을 나타내는 막대 챠트를 생성하라"
   ]
  },
  {
   "cell_type": "code",
   "execution_count": null,
   "metadata": {},
   "outputs": [],
   "source": []
  },
  {
   "cell_type": "markdown",
   "metadata": {},
   "source": [
    "[mini연습문제] \n",
    "1. 샘플 데이터인 cust1에서 남성고객만 추출한 후\n",
    "2. 지역별로 합계금액을 구한 후\n",
    "3. 지역별 합계금액을 나타내는 막대 챠트를 생성하라"
   ]
  },
  {
   "cell_type": "code",
   "execution_count": null,
   "metadata": {},
   "outputs": [],
   "source": []
  },
  {
   "cell_type": "code",
   "execution_count": null,
   "metadata": {},
   "outputs": [],
   "source": []
  },
  {
   "cell_type": "markdown",
   "metadata": {},
   "source": [
    "### 산점도를 사용한 시각화"
   ]
  },
  {
   "cell_type": "markdown",
   "metadata": {},
   "source": [
    "- 산점도 scatter plot 은 X, Y 두 개의 축에 어떤 값을 좌표로 가진 점들을 표시\n",
    "- X와 Y 두 변수 간의 관계를 파악하는데 유용\n",
    "- 예: 키와 몸무게"
   ]
  },
  {
   "cell_type": "code",
   "execution_count": 68,
   "metadata": {},
   "outputs": [
    {
     "data": {
      "image/png": "[encoded data removed]",
      "text/plain": [
       "<Figure size 432x288 with 1 Axes>"
      ]
     },
     "metadata": {
      "needs_background": "light"
     },
     "output_type": "display_data"
    }
   ],
   "source": [
    "listHeight = [160, 165, 180, 155, 168]\n",
    "listWeight = [48, 46, 71, 52, 61]\n",
    "\n",
    "# 산점도에 X, Y 두 축에 해당하는 값 리스트 지정\n",
    "plt.scatter(listHeight, listWeight)\n",
    "plt.xlabel('키')\n",
    "plt.ylabel('몸무게')\n",
    "plt.show()"
   ]
  },
  {
   "cell_type": "markdown",
   "metadata": {},
   "source": [
    "- 고객 데이터를 사용한 scatter 생성 예제"
   ]
  },
  {
   "cell_type": "code",
   "execution_count": 69,
   "metadata": {},
   "outputs": [
    {
     "data": {
      "image/png": "[encoded data removed]",
      "text/plain": [
       "<Figure size 432x288 with 1 Axes>"
      ]
     },
     "metadata": {
      "needs_background": "light"
     },
     "output_type": "display_data"
    }
   ],
   "source": [
    "# 산점도에 X, Y 두 축에 해당하는 값 리스트 지정\n",
    "\n",
    "# X는 연령, Y는 구매금액\n",
    "plt.scatter(cust1.age, cust1.amt)\n",
    "plt.xlabel('고객연령')\n",
    "plt.ylabel('구매금액')\n",
    "plt.show()"
   ]
  },
  {
   "cell_type": "markdown",
   "metadata": {},
   "source": [
    "[mini연습문제]\n",
    "\n",
    "1. X축에 구매금액을 Y축에 고객연령을 표시하는 산점도를 생성하라\n"
   ]
  },
  {
   "cell_type": "code",
   "execution_count": null,
   "metadata": {},
   "outputs": [],
   "source": []
  },
  {
   "cell_type": "code",
   "execution_count": 70,
   "metadata": {},
   "outputs": [
    {
     "data": {
      "image/png": "[encoded data removed]",
      "text/plain": [
       "<Figure size 432x288 with 1 Axes>"
      ]
     },
     "metadata": {
      "needs_background": "light"
     },
     "output_type": "display_data"
    }
   ],
   "source": [
    "# 질문: 혹시 동일한 좌표에 여러 명의 고객이 존재하는 것은 아닌가?\n",
    "\n",
    "# alpha 옵션을 사용\n",
    "plt.scatter(cust1.age, cust1.amt,\n",
    "           alpha=0.1) # 투명도를 높임\n",
    "plt.xlabel('고객연령')\n",
    "plt.ylabel('구매금액')\n",
    "plt.show()\n",
    "\n",
    "# 흐리게 표시된 점은 해당 좌표에 고객이 1명만 존재한다는 것\n",
    "# 진하게 표시된 점은 해당 좌표에 고객이 여러 명 존재한다는 것"
   ]
  },
  {
   "cell_type": "code",
   "execution_count": 71,
   "metadata": {},
   "outputs": [
    {
     "data": {
      "image/png": "[encoded data removed]",
      "text/plain": [
       "<Figure size 432x288 with 1 Axes>"
      ]
     },
     "metadata": {
      "needs_background": "light"
     },
     "output_type": "display_data"
    },
    {
     "data": {
      "image/png": "[encoded data removed]",
      "text/plain": [
       "<Figure size 432x288 with 1 Axes>"
      ]
     },
     "metadata": {
      "needs_background": "light"
     },
     "output_type": "display_data"
    },
    {
     "data": {
      "image/png": "[encoded data removed]",
      "text/plain": [
       "<Figure size 432x288 with 1 Axes>"
      ]
     },
     "metadata": {
      "needs_background": "light"
     },
     "output_type": "display_data"
    },
    {
     "data": {
      "image/png": "[encoded data removed]",
      "text/plain": [
       "<Figure size 432x288 with 1 Axes>"
      ]
     },
     "metadata": {
      "needs_background": "light"
     },
     "output_type": "display_data"
    },
    {
     "data": {
      "image/png": "[encoded data removed]",
      "text/plain": [
       "<Figure size 432x288 with 1 Axes>"
      ]
     },
     "metadata": {
      "needs_background": "light"
     },
     "output_type": "display_data"
    }
   ],
   "source": [
    "# 투명도의 의미 이해\n",
    "\n",
    "for i in [0, 0.25, 0.5, 0.75, 1]:\n",
    "    plt.scatter(cust1.age, cust1.amt,\n",
    "               alpha=i) # 투명도를 조절\n",
    "    plt.title(i)\n",
    "    plt.show()"
   ]
  },
  {
   "cell_type": "code",
   "execution_count": 72,
   "metadata": {},
   "outputs": [
    {
     "data": {
      "image/png": "[encoded data removed]",
      "text/plain": [
       "<Figure size 432x288 with 1 Axes>"
      ]
     },
     "metadata": {
      "needs_background": "light"
     },
     "output_type": "display_data"
    }
   ],
   "source": [
    "# 동일 좌표에 여러 점이 있는 문제를 피하기 위해\n",
    "# rjitt 사용자정의함수를 적용해 점을 약간 분산시킴\n",
    "\n",
    "plt.scatter(rjitt(cust1.age), rjitt(cust1.amt),\n",
    "            alpha=0.2, # 투명도를 높임\n",
    "            s=10) # 점의 크기를 줄임\n",
    "plt.xlabel('고객연령')\n",
    "plt.ylabel('구매금액')\n",
    "plt.show()"
   ]
  },
  {
   "cell_type": "markdown",
   "metadata": {},
   "source": [
    "- **jitter** (rjitt 은 사용자정의) 함수는 무작위로 약간의 값을 변경해서 점을 분산시키는 효과\n"
   ]
  },
  {
   "cell_type": "code",
   "execution_count": 73,
   "metadata": {},
   "outputs": [
    {
     "data": {
      "text/plain": [
       "array([2.00949155, 2.01001982, 1.99317021, 2.01360246, 3.01076709,\n",
       "       3.00540594, 3.0042729 , 2.99906274, 2.99908105])"
      ]
     },
     "execution_count": 73,
     "metadata": {},
     "output_type": "execute_result"
    }
   ],
   "source": [
    "# rjitt을 사용한 무작위 값 분산 예제 \n",
    "\n",
    "rjitt([2,2,2,2,3,3,3,3,3])"
   ]
  },
  {
   "cell_type": "code",
   "execution_count": 74,
   "metadata": {},
   "outputs": [
    {
     "data": {
      "text/plain": [
       "(1.5, 3.5)"
      ]
     },
     "execution_count": 74,
     "metadata": {},
     "output_type": "execute_result"
    },
    {
     "data": {
      "image/png": "[encoded data removed]",
      "text/plain": [
       "<Figure size 432x288 with 1 Axes>"
      ]
     },
     "metadata": {
      "needs_background": "light"
     },
     "output_type": "display_data"
    }
   ],
   "source": [
    "valueList = [2,2,2,2,2,2,2,2,3,3,3,3,3,3,3,3,3,3]\n",
    "\n",
    "plt.scatter(valueList, valueList, alpha=0.2, s=50)\n",
    "plt.scatter(rjitt(valueList), rjitt(valueList), alpha=0.2, s=50)\n",
    "plt.xlim(1.5,3.5)\n",
    "plt.ylim(1.5,3.5)"
   ]
  },
  {
   "cell_type": "code",
   "execution_count": null,
   "metadata": {},
   "outputs": [],
   "source": []
  },
  {
   "cell_type": "markdown",
   "metadata": {},
   "source": [
    "- **해석 측면의 질문 :** 산점도를 보면 나이가 많은 고객일수록 구매금액이 큰 관계가 존재하는가?"
   ]
  },
  {
   "cell_type": "code",
   "execution_count": null,
   "metadata": {},
   "outputs": [],
   "source": []
  },
  {
   "cell_type": "markdown",
   "metadata": {},
   "source": [
    "#### [연습문제]\n",
    "\n",
    "1. 성별X연령별 고객수와 고객당 평균 구매금액을 집계한 데이터프레임을 생성하라\n",
    "2. 집계한 데이터프레임으로 고객수와 금액을 축으로한 산점도 scatter plot을 생성하라"
   ]
  },
  {
   "cell_type": "code",
   "execution_count": 75,
   "metadata": {},
   "outputs": [
    {
     "data": {
      "text/html": [
       "<div>\n",
       "<style scoped>\n",
       "    .dataframe tbody tr th:only-of-type {\n",
       "        vertical-align: middle;\n",
       "    }\n",
       "\n",
       "    .dataframe tbody tr th {\n",
       "        vertical-align: top;\n",
       "    }\n",
       "\n",
       "    .dataframe thead tr th {\n",
       "        text-align: left;\n",
       "    }\n",
       "</style>\n",
       "<table border=\"1\" class=\"dataframe\">\n",
       "  <thead>\n",
       "    <tr>\n",
       "      <th></th>\n",
       "      <th>sex</th>\n",
       "      <th>age</th>\n",
       "      <th colspan=\"2\" halign=\"left\">amt</th>\n",
       "    </tr>\n",
       "    <tr>\n",
       "      <th></th>\n",
       "      <th></th>\n",
       "      <th></th>\n",
       "      <th>count</th>\n",
       "      <th>mean</th>\n",
       "    </tr>\n",
       "  </thead>\n",
       "  <tbody>\n",
       "    <tr>\n",
       "      <th>49</th>\n",
       "      <td>M</td>\n",
       "      <td>41</td>\n",
       "      <td>4</td>\n",
       "      <td>85000.0</td>\n",
       "    </tr>\n",
       "    <tr>\n",
       "      <th>50</th>\n",
       "      <td>M</td>\n",
       "      <td>42</td>\n",
       "      <td>2</td>\n",
       "      <td>142500.0</td>\n",
       "    </tr>\n",
       "    <tr>\n",
       "      <th>51</th>\n",
       "      <td>M</td>\n",
       "      <td>44</td>\n",
       "      <td>1</td>\n",
       "      <td>145000.0</td>\n",
       "    </tr>\n",
       "    <tr>\n",
       "      <th>52</th>\n",
       "      <td>M</td>\n",
       "      <td>53</td>\n",
       "      <td>2</td>\n",
       "      <td>70000.0</td>\n",
       "    </tr>\n",
       "    <tr>\n",
       "      <th>53</th>\n",
       "      <td>M</td>\n",
       "      <td>57</td>\n",
       "      <td>1</td>\n",
       "      <td>190000.0</td>\n",
       "    </tr>\n",
       "  </tbody>\n",
       "</table>\n",
       "</div>"
      ],
      "text/plain": [
       "   sex age   amt          \n",
       "           count      mean\n",
       "49   M  41     4   85000.0\n",
       "50   M  42     2  142500.0\n",
       "51   M  44     1  145000.0\n",
       "52   M  53     2   70000.0\n",
       "53   M  57     1  190000.0"
      ]
     },
     "execution_count": 75,
     "metadata": {},
     "output_type": "execute_result"
    }
   ],
   "source": [
    "# 1. 성별X연령별 고객수와 고객당 평균 구매금액을 집계한 데이터프레임을 생성하라\n",
    "\n",
    "\n",
    "custSumm = cust1[['sex','age', 'amt']].groupby(['sex', 'age']).agg(['count','mean']).reset_index()\n",
    "custSumm.tail()"
   ]
  },
  {
   "cell_type": "code",
   "execution_count": 76,
   "metadata": {},
   "outputs": [
    {
     "data": {
      "text/html": [
       "<div>\n",
       "<style scoped>\n",
       "    .dataframe tbody tr th:only-of-type {\n",
       "        vertical-align: middle;\n",
       "    }\n",
       "\n",
       "    .dataframe tbody tr th {\n",
       "        vertical-align: top;\n",
       "    }\n",
       "\n",
       "    .dataframe thead th {\n",
       "        text-align: right;\n",
       "    }\n",
       "</style>\n",
       "<table border=\"1\" class=\"dataframe\">\n",
       "  <thead>\n",
       "    <tr style=\"text-align: right;\">\n",
       "      <th></th>\n",
       "      <th>sex</th>\n",
       "      <th>age</th>\n",
       "      <th>cntCust</th>\n",
       "      <th>mean_sale_amt</th>\n",
       "    </tr>\n",
       "  </thead>\n",
       "  <tbody>\n",
       "    <tr>\n",
       "      <th>49</th>\n",
       "      <td>M</td>\n",
       "      <td>41</td>\n",
       "      <td>4</td>\n",
       "      <td>85000.0</td>\n",
       "    </tr>\n",
       "    <tr>\n",
       "      <th>50</th>\n",
       "      <td>M</td>\n",
       "      <td>42</td>\n",
       "      <td>2</td>\n",
       "      <td>142500.0</td>\n",
       "    </tr>\n",
       "    <tr>\n",
       "      <th>51</th>\n",
       "      <td>M</td>\n",
       "      <td>44</td>\n",
       "      <td>1</td>\n",
       "      <td>145000.0</td>\n",
       "    </tr>\n",
       "    <tr>\n",
       "      <th>52</th>\n",
       "      <td>M</td>\n",
       "      <td>53</td>\n",
       "      <td>2</td>\n",
       "      <td>70000.0</td>\n",
       "    </tr>\n",
       "    <tr>\n",
       "      <th>53</th>\n",
       "      <td>M</td>\n",
       "      <td>57</td>\n",
       "      <td>1</td>\n",
       "      <td>190000.0</td>\n",
       "    </tr>\n",
       "  </tbody>\n",
       "</table>\n",
       "</div>"
      ],
      "text/plain": [
       "   sex  age  cntCust  mean_sale_amt\n",
       "49   M   41        4        85000.0\n",
       "50   M   42        2       142500.0\n",
       "51   M   44        1       145000.0\n",
       "52   M   53        2        70000.0\n",
       "53   M   57        1       190000.0"
      ]
     },
     "execution_count": 76,
     "metadata": {},
     "output_type": "execute_result"
    }
   ],
   "source": [
    "custSumm1 = custSumm.copy() \n",
    "\n",
    "custSumm1.columns = ['sex','age', 'cntCust', 'mean_sale_amt']\n",
    "custSumm1.tail()"
   ]
  },
  {
   "cell_type": "code",
   "execution_count": 77,
   "metadata": {},
   "outputs": [
    {
     "data": {
      "image/png": "[encoded data removed]",
      "text/plain": [
       "<Figure size 432x288 with 1 Axes>"
      ]
     },
     "metadata": {
      "needs_background": "light"
     },
     "output_type": "display_data"
    }
   ],
   "source": [
    "# 2. 집계한 데이터프레임으로 고객수와 금액을 축으로한 산점도 scatter plot을 생성하라\n",
    "\n",
    "plt.scatter(custSumm1.cntCust, custSumm1.mean_sale_amt, \n",
    "            alpha=0.3)\n",
    "plt.xlabel('고객수')\n",
    "plt.ylabel('평균구매액')\n",
    "plt.show()"
   ]
  },
  {
   "cell_type": "code",
   "execution_count": 78,
   "metadata": {},
   "outputs": [
    {
     "data": {
      "image/png": "[encoded data removed]",
      "text/plain": [
       "<Figure size 864x288 with 1 Axes>"
      ]
     },
     "metadata": {
      "needs_background": "light"
     },
     "output_type": "display_data"
    }
   ],
   "source": [
    "# 해상도 높은 챠트 이미지 생성해 저장\n",
    "\n",
    "colors1 = np.where(custSumm1.age<35, 'dodgerblue', 'grey')\n",
    "plt.figure(figsize=(12,4))\n",
    "plt.scatter(custSumm1.cntCust, custSumm1.mean_sale_amt, \n",
    "            alpha=0.3, color=colors1, s=80)\n",
    "plt.title('dodgerblue color: 35세미만 고객집단')\n",
    "plt.xlabel('고객수')\n",
    "plt.ylabel('평균구매액')\n",
    "# plt.savefig(\"Higherresoltion.png\",dpi=200)\n",
    "plt.show()"
   ]
  },
  {
   "cell_type": "markdown",
   "metadata": {},
   "source": [
    "### 히스토그램을 사용한 분포 확인"
   ]
  },
  {
   "cell_type": "code",
   "execution_count": 79,
   "metadata": {},
   "outputs": [
    {
     "data": {
      "image/png": "[encoded data removed]",
      "text/plain": [
       "<Figure size 432x288 with 1 Axes>"
      ]
     },
     "metadata": {
      "needs_background": "light"
     },
     "output_type": "display_data"
    }
   ],
   "source": [
    "# 추가 분석 : X의 값 분포 확인\n",
    "\n",
    "# hist 히스토그램 histogram 사용\n",
    "plt.hist(custSumm1.cntCust)\n",
    "plt.show()"
   ]
  },
  {
   "cell_type": "markdown",
   "metadata": {},
   "source": [
    "- **histogram** 히스토그램 (도수분포 챠트) 은 값들을 일정한 수의 구간으로 나눠 각 구간에 속하는 값들을 수를 구한 후 챠트로 표시한 것 \n",
    "- histogram을 사용하면 값들의 분포를 한 눈에 파악할 수 있음"
   ]
  },
  {
   "cell_type": "code",
   "execution_count": 80,
   "metadata": {},
   "outputs": [
    {
     "data": {
      "text/plain": [
       "(array([ 8., 24., 13.,  6.,  1.,  1.,  0.,  0.,  0.,  1.]),\n",
       " array([ 35000., 126000., 217000., 308000., 399000., 490000., 581000.,\n",
       "        672000., 763000., 854000., 945000.]),\n",
       " <BarContainer object of 10 artists>)"
      ]
     },
     "execution_count": 80,
     "metadata": {},
     "output_type": "execute_result"
    },
    {
     "data": {
      "image/png": "[encoded data removed]",
      "text/plain": [
       "<Figure size 432x288 with 1 Axes>"
      ]
     },
     "metadata": {
      "needs_background": "light"
     },
     "output_type": "display_data"
    }
   ],
   "source": [
    "# 추가 분석 : Y의 값 분포 확인\n",
    "\n",
    "plt.hist(custSumm1.mean_sale_amt)"
   ]
  },
  {
   "cell_type": "code",
   "execution_count": null,
   "metadata": {},
   "outputs": [],
   "source": []
  },
  {
   "cell_type": "markdown",
   "metadata": {},
   "source": [
    "### 추가 연습문제\n",
    "- 상품마스터 테이블(itemmast)을 사용해서 브랜드별 대분류별 상품수와 평균가격을 분석하라"
   ]
  },
  {
   "cell_type": "code",
   "execution_count": null,
   "metadata": {},
   "outputs": [],
   "source": []
  },
  {
   "cell_type": "code",
   "execution_count": null,
   "metadata": {},
   "outputs": [],
   "source": []
  },
  {
   "cell_type": "markdown",
   "metadata": {},
   "source": [
    "## Summary"
   ]
  },
  {
   "cell_type": "markdown",
   "metadata": {},
   "source": [
    "- 파이썬에는 일반적인 프로그래밍 기능에 더해서 데이터 테이블의 집계, 가공, 데이터 시각화 등의 추가 기능 존재\n",
    "- 이러한 기능들을 조합하면 분포나 변수들간 관계, 추세변화 파악 등 다양한 데이터 분석 가능함\n",
    "- 단, 수많은 기능들이 존재하므로 (처음부터) 모두를 익히려고 하기 보다는 **실무에서 자주 사용될 주요 기능들을 먼저** 숙지하기를 권장"
   ]
  }
 ],
 "metadata": {
  "kernelspec": {
   "display_name": "Python 3 (ipykernel)",
   "language": "python",
   "name": "python3"
  },
  "language_info": {
   "codemirror_mode": {
    "name": "ipython",
    "version": 3
   },
   "file_extension": ".py",
   "mimetype": "text/x-python",
   "name": "python",
   "nbconvert_exporter": "python",
   "pygments_lexer": "ipython3",
   "version": "3.9.7"
  }
 },
 "nbformat": 4,
 "nbformat_minor": 4
}
